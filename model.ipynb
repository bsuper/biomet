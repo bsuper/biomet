{
 "cells": [
  {
   "cell_type": "code",
   "execution_count": 1,
   "metadata": {
    "collapsed": false
   },
   "outputs": [
    {
     "name": "stdout",
     "output_type": "stream",
     "text": [
      "Running CO2 Regression...\n",
      "Random Forests Regressor...\n",
      "Cross validation w/  10 folds - score:  0.823169503946\n",
      "Cross validation w/  10 folds - score:  0.225881738503\n",
      "Cross validation w/  10 folds - score:  -0.959599230302\n",
      "Cross validation w/  10 folds - score:  0.83944969344\n",
      "Cross validation w/  10 folds - score:  0.892773643653\n",
      "Cross validation w/  10 folds - score:  0.732504622606\n",
      "Cross validation w/  10 folds - score:  0.853402944271\n",
      "Cross validation w/  10 folds - score:  0.950410336528\n",
      "Cross validation w/  10 folds - score:  0.455434913561\n",
      "Cross validation w/  10 folds - score:  0.903018226036\n",
      "Average Cross Validation Score w/  10 folds - 0.571644639224\n",
      "Out of bag score 0.861334933063\n",
      "Train/test split:  0.9/0.1 Score:  0.965803971646\n",
      "{'max_air_temp': 0.11463444208685553, 'net_rad': 0.024829278229898812, 'avg_air_temp': 0.10242242832367911, 'max_soil_temp': 0.20945723516250137, 'min_air_temp': 0.10058293631822197, 'sol_rad': 0.018203067811049033, 'min_soil_temp': 0.223457627204974, 'avg_soil_temp': 0.19393743330686961, 'ndvi': 0.012475551555950275}\n",
      "--------------\n",
      "Gradient Boosting Regressor...\n",
      "Cross validation w/  10 folds - score:  0.133066642021\n",
      "Cross validation w/  10 folds - score:  0.929311484373\n",
      "Cross validation w/  10 folds - score:  0.868165443945\n",
      "Cross validation w/  10 folds - score:  0.920405268125\n",
      "Cross validation w/  10 folds - score:  0.715036893285\n",
      "Cross validation w/  10 folds - score:  0.830710240965\n",
      "Cross validation w/  10 folds - score:  0.768052761198\n",
      "Cross validation w/  10 folds - score:  0.82788610485\n",
      "Cross validation w/  10 folds - score:  0.969225665974\n",
      "Cross validation w/  10 folds - score:  0.201262347686\n",
      "Average Cross Validation Score w/  10 folds - 0.716312285242\n",
      "Train/test split:  0.9/0.1 Score:  0.963388083312\n",
      "{'max_air_temp': 0.10499083008575977, 'net_rad': 0.079037382876084722, 'avg_air_temp': 0.078372969048338653, 'max_soil_temp': 0.082345423622124839, 'min_air_temp': 0.11453635344371188, 'sol_rad': 0.076219413960957105, 'min_soil_temp': 0.14507116127633796, 'avg_soil_temp': 0.15579486336820531, 'ndvi': 0.16363160231847981}\n",
      "--------------\n",
      "Neural Network\n",
      "Step #1, epoch #1, avg. loss: 17766.53125\n",
      "Step #51, epoch #51, avg. loss: 10393.16797\n",
      "Step #101, epoch #101, avg. loss: 5278.74805\n",
      "Step #151, epoch #151, avg. loss: 3418.96875\n",
      "Step #201, epoch #201, avg. loss: 2195.89966\n",
      "Step #251, epoch #251, avg. loss: 1503.07959\n",
      "Step #301, epoch #301, avg. loss: 1049.44202\n",
      "Step #351, epoch #351, avg. loss: 743.11365\n",
      "Step #401, epoch #401, avg. loss: 531.37158\n",
      "Step #451, epoch #451, avg. loss: 391.58762\n",
      "Mean Squared Error for [20, 20]: 273.489965\n",
      "Train/test split:  0.9/0.1\n",
      "Hidden layer : [20, 20] 0.963150647985\n"
     ]
    }
   ],
   "source": [
    "import model\n",
    "\n",
    "print \"Running CO2 Regression...\"\n",
    "model.co2()"
   ]
  },
  {
   "cell_type": "code",
   "execution_count": 2,
   "metadata": {
    "collapsed": false
   },
   "outputs": [
    {
     "name": "stdout",
     "output_type": "stream",
     "text": [
      "Running CH4 Regression...\n",
      "Random Forests Regressor...\n",
      "Cross validation w/  10 folds - score:  0.704437874328\n",
      "Cross validation w/  10 folds - score:  0.424659782276\n",
      "Cross validation w/  10 folds - score:  0.741499386913\n",
      "Cross validation w/  10 folds - score:  -0.0988916114242\n",
      "Cross validation w/  10 folds - score:  0.809942862037\n",
      "Cross validation w/  10 folds - score:  0.868057760284\n",
      "Cross validation w/  10 folds - score:  0.181543700064\n",
      "Cross validation w/  10 folds - score:  0.709082729453\n",
      "Cross validation w/  10 folds - score:  0.891924879553\n",
      "Cross validation w/  10 folds - score:  0.689912271246\n",
      "Average Cross Validation Score w/  10 folds - 0.592216963473\n",
      "Out of bag score 0.737185934701\n",
      "Train/test split:  0.9/0.1 Score:  0.869982916043\n",
      "{'max_air_temp': 0.077482588207019976, 'net_rad': 0.034771054059799605, 'avg_air_temp': 0.10361513439090196, 'max_soil_temp': 0.14038074113047214, 'min_air_temp': 0.083889775929177846, 'sol_rad': 0.036218971045614404, 'min_soil_temp': 0.1552117734739222, 'avg_soil_temp': 0.13160409160182085, 'ndvi': 0.23682587016127102}\n",
      "--------------\n",
      "Gradient Boosting Regressor...\n",
      "Cross validation w/  10 folds - score:  0.685873985681\n",
      "Cross validation w/  10 folds - score:  -0.934107851418\n",
      "Cross validation w/  10 folds - score:  0.390770326726\n",
      "Cross validation w/  10 folds - score:  0.289273304453\n",
      "Cross validation w/  10 folds - score:  0.90043707186\n",
      "Cross validation w/  10 folds - score:  0.968248021633\n",
      "Cross validation w/  10 folds - score:  0.751345301082\n",
      "Cross validation w/  10 folds - score:  0.855439653647\n",
      "Cross validation w/  10 folds - score:  0.685640567477\n",
      "Cross validation w/  10 folds - score:  0.666464827253\n",
      "Average Cross Validation Score w/  10 folds - 0.525938520839\n",
      "Train/test split:  0.9/0.1 Score:  0.893745363547\n",
      "{'max_air_temp': 0.11628515050065762, 'net_rad': 0.071751432995650927, 'avg_air_temp': 0.1141174359080226, 'max_soil_temp': 0.10097621508159045, 'min_air_temp': 0.10329067592440502, 'sol_rad': 0.11587075620468588, 'min_soil_temp': 0.10041580793239974, 'avg_soil_temp': 0.082832886420685412, 'ndvi': 0.1944596390319023}\n",
      "--------------\n",
      "Neural Network\n",
      "Step #1, epoch #1, avg. loss: 28929432.00000\n",
      "Step #10001, epoch #10001, avg. loss: 6345995.00000\n",
      "Step #20001, epoch #20001, avg. loss: 1010389.68750\n",
      "Step #30001, epoch #30001, avg. loss: 371007.87500\n",
      "Step #40001, epoch #40001, avg. loss: 184815.15625\n",
      "Step #50001, epoch #50001, avg. loss: 116999.11719\n",
      "Step #60001, epoch #60001, avg. loss: 85233.71094\n",
      "Step #70001, epoch #70001, avg. loss: 64327.60938\n",
      "Step #80001, epoch #80001, avg. loss: 52214.51953\n",
      "Step #90001, epoch #90001, avg. loss: 43284.94531\n",
      "Mean Squared Error for [20, 20]: 38926.346003\n",
      "Train/test split:  0.9/0.1\n",
      "Hidden layer : [20, 20] 0.889107307584\n"
     ]
    }
   ],
   "source": [
    "print \"Running CH4 Regression...\"\n",
    "model.ch4()"
   ]
  },
  {
   "cell_type": "code",
   "execution_count": null,
   "metadata": {
    "collapsed": true
   },
   "outputs": [],
   "source": []
  }
 ],
 "metadata": {
  "kernelspec": {
   "display_name": "Python 2",
   "language": "python",
   "name": "python2"
  },
  "language_info": {
   "codemirror_mode": {
    "name": "ipython",
    "version": 2
   },
   "file_extension": ".py",
   "mimetype": "text/x-python",
   "name": "python",
   "nbconvert_exporter": "python",
   "pygments_lexer": "ipython2",
   "version": "2.7.11"
  }
 },
 "nbformat": 4,
 "nbformat_minor": 0
}
