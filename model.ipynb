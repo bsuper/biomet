{
 "cells": [
  {
   "cell_type": "code",
   "execution_count": 3,
   "metadata": {
    "collapsed": false
   },
   "outputs": [
    {
     "name": "stdout",
     "output_type": "stream",
     "text": [
      "Running CO2 Regression...\n",
      "Cross validation w/  3 folds - score:  0.830221393968\n",
      "Cross validation w/  3 folds - score:  0.802950846249\n",
      "Cross validation w/  3 folds - score:  0.864202909667\n",
      "Average Cross Validation Score w/  3 folds - 0.832458383294\n",
      "Out of bag score 0.85939886409\n",
      "{'max_air_temp': 0.096227342229983415, 'net_rad': 0.021087389223472815, 'avg_air_temp': 0.11037421615326885, 'max_soil_temp': 0.19928442477627015, 'min_air_temp': 0.10325030285521584, 'sol_rad': 0.019181657273597427, 'min_soil_temp': 0.21283206356743473, 'avg_soil_temp': 0.22618405779796227, 'ndvi': 0.011578546122794712}\n"
     ]
    }
   ],
   "source": [
    "import model\n",
    "\n",
    "print \"Running CO2 Regression...\"\n",
    "co2_rgr = model.co2()"
   ]
  },
  {
   "cell_type": "code",
   "execution_count": 4,
   "metadata": {
    "collapsed": false
   },
   "outputs": [
    {
     "name": "stdout",
     "output_type": "stream",
     "text": [
      "Running CH4 Regression...\n",
      "Cross validation w/  3 folds - score:  0.733223757865\n",
      "Cross validation w/  3 folds - score:  0.196617585885\n",
      "Cross validation w/  3 folds - score:  0.842099959732\n",
      "Average Cross Validation Score w/  3 folds - 0.59064710116\n",
      "Out of bag score 0.737127420576\n",
      "{'max_air_temp': 0.081079273889744868, 'net_rad': 0.028564870820507564, 'avg_air_temp': 0.086609054362261323, 'max_soil_temp': 0.15472517765589205, 'min_air_temp': 0.078383119092085576, 'sol_rad': 0.037304611348006604, 'min_soil_temp': 0.15079674681784913, 'avg_soil_temp': 0.19648871397490372, 'ndvi': 0.18604843203874921}\n"
     ]
    }
   ],
   "source": [
    "print \"Running CH4 Regression...\"\n",
    "ch4_rgr = model.ch4()"
   ]
  }
 ],
 "metadata": {
  "kernelspec": {
   "display_name": "Python 2",
   "language": "python",
   "name": "python2"
  },
  "language_info": {
   "codemirror_mode": {
    "name": "ipython",
    "version": 2
   },
   "file_extension": ".py",
   "mimetype": "text/x-python",
   "name": "python",
   "nbconvert_exporter": "python",
   "pygments_lexer": "ipython2",
   "version": "2.7.11"
  }
 },
 "nbformat": 4,
 "nbformat_minor": 0
}
