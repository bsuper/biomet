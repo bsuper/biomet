{
 "cells": [
  {
   "cell_type": "code",
   "execution_count": 1,
   "metadata": {
    "collapsed": true
   },
   "outputs": [],
   "source": [
    "import sys\n",
    "sys.path.append('../')\n",
    "import utils\n",
    "\n",
    "CIMIS_DATAFILE = \"../input/cimis.csv\"\n",
    "WESTPOND_DATAFILE = \"../input/WP_2012195to2015126_L3.mat\"\n",
    "WESTPOND_REFL_VEG_IDX = \"../input/MODIS/2016-03-25-US-Tw1-MOD13Q1.csv\"\n",
    "WESTPOND_LST_EM = \"../input/MODIS/2016-03-25-US-Tw1-MOD11A2.csv\"\n",
    "MAYBERRY_DATAFILE = \"../input/MB_2010287to2016055_L3.mat\"\n",
    "MAYBERRY_REFL_VEG_IDX = \"../input/MODIS/2016-03-25-US-Myb-MOD13Q1.csv\"\n",
    "MAYBERRY_LST_EM = \"../input/MODIS/2016-03-25-US-Myb-MOD11A2.csv\""
   ]
  },
  {
   "cell_type": "markdown",
   "metadata": {},
   "source": [
    "### CIMIS, w/ and w/o interpolation"
   ]
  },
  {
   "cell_type": "code",
   "execution_count": null,
   "metadata": {
    "collapsed": false
   },
   "outputs": [
    {
     "name": "stdout",
     "output_type": "stream",
     "text": [
      "Processing ../input/cimis.csv...\n"
     ]
    },
    {
     "data": {
      "text/html": [
       "<div>\n",
       "<table border=\"1\" class=\"dataframe\">\n",
       "  <thead>\n",
       "    <tr style=\"text-align: right;\">\n",
       "      <th></th>\n",
       "      <th>avg_air_temp</th>\n",
       "      <th>avg_soil_temp</th>\n",
       "      <th>doy</th>\n",
       "      <th>net_rad</th>\n",
       "      <th>year</th>\n",
       "    </tr>\n",
       "  </thead>\n",
       "  <tbody>\n",
       "    <tr>\n",
       "      <th>0</th>\n",
       "      <td>6.9</td>\n",
       "      <td>8.4</td>\n",
       "      <td>1</td>\n",
       "      <td>1.0</td>\n",
       "      <td>2000</td>\n",
       "    </tr>\n",
       "    <tr>\n",
       "      <th>1</th>\n",
       "      <td>7.2</td>\n",
       "      <td>8.5</td>\n",
       "      <td>2</td>\n",
       "      <td>26.0</td>\n",
       "      <td>2000</td>\n",
       "    </tr>\n",
       "    <tr>\n",
       "      <th>2</th>\n",
       "      <td>6.6</td>\n",
       "      <td>8.5</td>\n",
       "      <td>3</td>\n",
       "      <td>28.0</td>\n",
       "      <td>2000</td>\n",
       "    </tr>\n",
       "    <tr>\n",
       "      <th>3</th>\n",
       "      <td>7.0</td>\n",
       "      <td>8.4</td>\n",
       "      <td>4</td>\n",
       "      <td>13.0</td>\n",
       "      <td>2000</td>\n",
       "    </tr>\n",
       "    <tr>\n",
       "      <th>4</th>\n",
       "      <td>9.2</td>\n",
       "      <td>8.6</td>\n",
       "      <td>5</td>\n",
       "      <td>23.0</td>\n",
       "      <td>2000</td>\n",
       "    </tr>\n",
       "    <tr>\n",
       "      <th>5</th>\n",
       "      <td>4.3</td>\n",
       "      <td>8.2</td>\n",
       "      <td>6</td>\n",
       "      <td>27.0</td>\n",
       "      <td>2000</td>\n",
       "    </tr>\n",
       "    <tr>\n",
       "      <th>6</th>\n",
       "      <td>8.1</td>\n",
       "      <td>8.3</td>\n",
       "      <td>7</td>\n",
       "      <td>30.0</td>\n",
       "      <td>2000</td>\n",
       "    </tr>\n",
       "    <tr>\n",
       "      <th>7</th>\n",
       "      <td>6.5</td>\n",
       "      <td>8.6</td>\n",
       "      <td>8</td>\n",
       "      <td>15.0</td>\n",
       "      <td>2000</td>\n",
       "    </tr>\n",
       "    <tr>\n",
       "      <th>8</th>\n",
       "      <td>8.4</td>\n",
       "      <td>8.8</td>\n",
       "      <td>9</td>\n",
       "      <td>19.0</td>\n",
       "      <td>2000</td>\n",
       "    </tr>\n",
       "    <tr>\n",
       "      <th>9</th>\n",
       "      <td>9.9</td>\n",
       "      <td>9.4</td>\n",
       "      <td>10</td>\n",
       "      <td>18.0</td>\n",
       "      <td>2000</td>\n",
       "    </tr>\n",
       "    <tr>\n",
       "      <th>10</th>\n",
       "      <td>10.3</td>\n",
       "      <td>9.9</td>\n",
       "      <td>11</td>\n",
       "      <td>-10.0</td>\n",
       "      <td>2000</td>\n",
       "    </tr>\n",
       "    <tr>\n",
       "      <th>11</th>\n",
       "      <td>NaN</td>\n",
       "      <td>NaN</td>\n",
       "      <td>12</td>\n",
       "      <td>NaN</td>\n",
       "      <td>2000</td>\n",
       "    </tr>\n",
       "    <tr>\n",
       "      <th>12</th>\n",
       "      <td>NaN</td>\n",
       "      <td>NaN</td>\n",
       "      <td>13</td>\n",
       "      <td>NaN</td>\n",
       "      <td>2000</td>\n",
       "    </tr>\n",
       "    <tr>\n",
       "      <th>13</th>\n",
       "      <td>NaN</td>\n",
       "      <td>NaN</td>\n",
       "      <td>14</td>\n",
       "      <td>NaN</td>\n",
       "      <td>2000</td>\n",
       "    </tr>\n",
       "    <tr>\n",
       "      <th>14</th>\n",
       "      <td>NaN</td>\n",
       "      <td>NaN</td>\n",
       "      <td>15</td>\n",
       "      <td>NaN</td>\n",
       "      <td>2000</td>\n",
       "    </tr>\n",
       "  </tbody>\n",
       "</table>\n",
       "</div>"
      ],
      "text/plain": [
       "    avg_air_temp  avg_soil_temp  doy  net_rad  year\n",
       "0            6.9            8.4    1      1.0  2000\n",
       "1            7.2            8.5    2     26.0  2000\n",
       "2            6.6            8.5    3     28.0  2000\n",
       "3            7.0            8.4    4     13.0  2000\n",
       "4            9.2            8.6    5     23.0  2000\n",
       "5            4.3            8.2    6     27.0  2000\n",
       "6            8.1            8.3    7     30.0  2000\n",
       "7            6.5            8.6    8     15.0  2000\n",
       "8            8.4            8.8    9     19.0  2000\n",
       "9            9.9            9.4   10     18.0  2000\n",
       "10          10.3            9.9   11    -10.0  2000\n",
       "11           NaN            NaN   12      NaN  2000\n",
       "12           NaN            NaN   13      NaN  2000\n",
       "13           NaN            NaN   14      NaN  2000\n",
       "14           NaN            NaN   15      NaN  2000"
      ]
     },
     "execution_count": 2,
     "metadata": {},
     "output_type": "execute_result"
    }
   ],
   "source": [
    "cimis = utils.process_cimis(CIMIS_DATAFILE, interpolate_missing=False)\n",
    "cimis.iloc[:15]"
   ]
  },
  {
   "cell_type": "code",
   "execution_count": null,
   "metadata": {
    "collapsed": false
   },
   "outputs": [],
   "source": [
    "cimis = utils.process_cimis(CIMIS_DATAFILE, interpolate_missing=True)\n",
    "cimis.iloc[:15]"
   ]
  },
  {
   "cell_type": "markdown",
   "metadata": {},
   "source": [
    "### MODIS Surface Reflectance and Vegetation Indices"
   ]
  },
  {
   "cell_type": "code",
   "execution_count": null,
   "metadata": {
    "collapsed": false
   },
   "outputs": [],
   "source": [
    "df = utils.process_modis_reflectance_veg_index(WESTPOND_REFL_VEG_IDX, prefix=\"wp\", interpolate_missing=True)\n",
    "df.head()"
   ]
  },
  {
   "cell_type": "markdown",
   "metadata": {},
   "source": [
    "### MODIS 1km 8-day Land Surface Temperature & Emissivity"
   ]
  },
  {
   "cell_type": "code",
   "execution_count": null,
   "metadata": {
    "collapsed": false
   },
   "outputs": [],
   "source": [
    "df = utils.process_modis_lst_emissivity(WESTPOND_LST_EM, prefix=\"wp\", interpolate_missing=True)\n",
    "df.head()"
   ]
  },
  {
   "cell_type": "markdown",
   "metadata": {},
   "source": [
    "### Eddy Covariance Data"
   ]
  },
  {
   "cell_type": "code",
   "execution_count": null,
   "metadata": {
    "collapsed": false
   },
   "outputs": [],
   "source": [
    "df = utils.process_tower(WESTPOND_DATAFILE, prefix=\"wp\", interpolate_missing=True)\n",
    "df.head()"
   ]
  }
 ],
 "metadata": {
  "kernelspec": {
   "display_name": "Python 2",
   "language": "python",
   "name": "python2"
  },
  "language_info": {
   "codemirror_mode": {
    "name": "ipython",
    "version": 2
   },
   "file_extension": ".py",
   "mimetype": "text/x-python",
   "name": "python",
   "nbconvert_exporter": "python",
   "pygments_lexer": "ipython2",
   "version": "2.7.11"
  }
 },
 "nbformat": 4,
 "nbformat_minor": 0
}
