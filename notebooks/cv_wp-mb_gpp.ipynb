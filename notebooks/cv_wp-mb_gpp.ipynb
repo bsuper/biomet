{
 "cells": [
  {
   "cell_type": "markdown",
   "metadata": {},
   "source": [
    "## Mayberry GPP Regression using Westpond Data Cross Validation\n",
    "\n",
    "### Train Features\n",
    "1. land surface temp (wp_LST.day)\n",
    "2. sensible heat flux (wp_le)\n",
    "3. latent heat flux (wp_h)\n",
    "4. net radiation (net_rad)\n",
    "5. avg air temp (avg_air_temp)"
   ]
  },
  {
   "cell_type": "code",
   "execution_count": 1,
   "metadata": {
    "collapsed": false
   },
   "outputs": [],
   "source": [
    "import sys\n",
    "sys.path.append('../')\n",
    "import exp\n",
    "import regression as r"
   ]
  },
  {
   "cell_type": "code",
   "execution_count": 2,
   "metadata": {
    "collapsed": false
   },
   "outputs": [
    {
     "data": {
      "text/html": [
       "<div>\n",
       "<table border=\"1\" class=\"dataframe\">\n",
       "  <thead>\n",
       "    <tr style=\"text-align: right;\">\n",
       "      <th></th>\n",
       "      <th>avg_air_temp</th>\n",
       "      <th>avg_soil_temp</th>\n",
       "      <th>doy</th>\n",
       "      <th>net_rad</th>\n",
       "      <th>year</th>\n",
       "      <th>wp_ch4_gf</th>\n",
       "      <th>wp_co2_gf</th>\n",
       "      <th>wp_er</th>\n",
       "      <th>wp_gpp</th>\n",
       "      <th>wp_h</th>\n",
       "      <th>...</th>\n",
       "      <th>mb_bnd2</th>\n",
       "      <th>mb_bnd3</th>\n",
       "      <th>mb_bnd7</th>\n",
       "      <th>mb_evi</th>\n",
       "      <th>mb_lswi</th>\n",
       "      <th>mb_ndvi</th>\n",
       "      <th>wp_LST.day</th>\n",
       "      <th>wp_LST.night</th>\n",
       "      <th>mb_LST.day</th>\n",
       "      <th>mb_LST.night</th>\n",
       "    </tr>\n",
       "  </thead>\n",
       "  <tbody>\n",
       "    <tr>\n",
       "      <th>0</th>\n",
       "      <td>19.2</td>\n",
       "      <td>22.3</td>\n",
       "      <td>195</td>\n",
       "      <td>190.0</td>\n",
       "      <td>2012</td>\n",
       "      <td>4332.368657</td>\n",
       "      <td>-304.542172</td>\n",
       "      <td>145.072376</td>\n",
       "      <td>-449.614548</td>\n",
       "      <td>1447.549899</td>\n",
       "      <td>...</td>\n",
       "      <td>0.187575</td>\n",
       "      <td>0.025212</td>\n",
       "      <td>0.053137</td>\n",
       "      <td>0.298162</td>\n",
       "      <td>0.562370</td>\n",
       "      <td>0.6491</td>\n",
       "      <td>29.61</td>\n",
       "      <td>17.2850</td>\n",
       "      <td>26.3350</td>\n",
       "      <td>18.6450</td>\n",
       "    </tr>\n",
       "    <tr>\n",
       "      <th>1</th>\n",
       "      <td>19.3</td>\n",
       "      <td>21.8</td>\n",
       "      <td>196</td>\n",
       "      <td>189.0</td>\n",
       "      <td>2012</td>\n",
       "      <td>5305.896768</td>\n",
       "      <td>-335.648791</td>\n",
       "      <td>150.278671</td>\n",
       "      <td>-485.927462</td>\n",
       "      <td>1921.833137</td>\n",
       "      <td>...</td>\n",
       "      <td>0.186562</td>\n",
       "      <td>0.024569</td>\n",
       "      <td>0.051306</td>\n",
       "      <td>0.296544</td>\n",
       "      <td>0.574074</td>\n",
       "      <td>0.6504</td>\n",
       "      <td>29.63</td>\n",
       "      <td>17.2325</td>\n",
       "      <td>26.4075</td>\n",
       "      <td>18.5925</td>\n",
       "    </tr>\n",
       "    <tr>\n",
       "      <th>2</th>\n",
       "      <td>20.3</td>\n",
       "      <td>21.9</td>\n",
       "      <td>197</td>\n",
       "      <td>187.0</td>\n",
       "      <td>2012</td>\n",
       "      <td>6215.371936</td>\n",
       "      <td>-313.150966</td>\n",
       "      <td>158.307017</td>\n",
       "      <td>-471.457982</td>\n",
       "      <td>1176.374322</td>\n",
       "      <td>...</td>\n",
       "      <td>0.185550</td>\n",
       "      <td>0.023925</td>\n",
       "      <td>0.049475</td>\n",
       "      <td>0.294925</td>\n",
       "      <td>0.585779</td>\n",
       "      <td>0.6517</td>\n",
       "      <td>29.65</td>\n",
       "      <td>17.1800</td>\n",
       "      <td>26.4800</td>\n",
       "      <td>18.5400</td>\n",
       "    </tr>\n",
       "    <tr>\n",
       "      <th>3</th>\n",
       "      <td>16.8</td>\n",
       "      <td>22.4</td>\n",
       "      <td>198</td>\n",
       "      <td>186.0</td>\n",
       "      <td>2012</td>\n",
       "      <td>7129.353337</td>\n",
       "      <td>-339.900067</td>\n",
       "      <td>153.561669</td>\n",
       "      <td>-493.461736</td>\n",
       "      <td>2575.636175</td>\n",
       "      <td>...</td>\n",
       "      <td>0.184537</td>\n",
       "      <td>0.023281</td>\n",
       "      <td>0.047644</td>\n",
       "      <td>0.293306</td>\n",
       "      <td>0.597483</td>\n",
       "      <td>0.6530</td>\n",
       "      <td>29.67</td>\n",
       "      <td>17.1275</td>\n",
       "      <td>26.5525</td>\n",
       "      <td>18.4875</td>\n",
       "    </tr>\n",
       "    <tr>\n",
       "      <th>4</th>\n",
       "      <td>17.0</td>\n",
       "      <td>21.5</td>\n",
       "      <td>199</td>\n",
       "      <td>151.0</td>\n",
       "      <td>2012</td>\n",
       "      <td>7070.768573</td>\n",
       "      <td>-319.771564</td>\n",
       "      <td>144.053480</td>\n",
       "      <td>-463.825044</td>\n",
       "      <td>1916.081260</td>\n",
       "      <td>...</td>\n",
       "      <td>0.183525</td>\n",
       "      <td>0.022638</td>\n",
       "      <td>0.045812</td>\n",
       "      <td>0.291687</td>\n",
       "      <td>0.609188</td>\n",
       "      <td>0.6543</td>\n",
       "      <td>29.69</td>\n",
       "      <td>17.0750</td>\n",
       "      <td>26.6250</td>\n",
       "      <td>18.4350</td>\n",
       "    </tr>\n",
       "  </tbody>\n",
       "</table>\n",
       "<p>5 rows × 35 columns</p>\n",
       "</div>"
      ],
      "text/plain": [
       "   avg_air_temp  avg_soil_temp  doy  net_rad  year    wp_ch4_gf   wp_co2_gf  \\\n",
       "0          19.2           22.3  195    190.0  2012  4332.368657 -304.542172   \n",
       "1          19.3           21.8  196    189.0  2012  5305.896768 -335.648791   \n",
       "2          20.3           21.9  197    187.0  2012  6215.371936 -313.150966   \n",
       "3          16.8           22.4  198    186.0  2012  7129.353337 -339.900067   \n",
       "4          17.0           21.5  199    151.0  2012  7070.768573 -319.771564   \n",
       "\n",
       "        wp_er      wp_gpp         wp_h      ...        mb_bnd2   mb_bnd3  \\\n",
       "0  145.072376 -449.614548  1447.549899      ...       0.187575  0.025212   \n",
       "1  150.278671 -485.927462  1921.833137      ...       0.186562  0.024569   \n",
       "2  158.307017 -471.457982  1176.374322      ...       0.185550  0.023925   \n",
       "3  153.561669 -493.461736  2575.636175      ...       0.184537  0.023281   \n",
       "4  144.053480 -463.825044  1916.081260      ...       0.183525  0.022638   \n",
       "\n",
       "    mb_bnd7    mb_evi   mb_lswi  mb_ndvi  wp_LST.day  wp_LST.night  \\\n",
       "0  0.053137  0.298162  0.562370   0.6491       29.61       17.2850   \n",
       "1  0.051306  0.296544  0.574074   0.6504       29.63       17.2325   \n",
       "2  0.049475  0.294925  0.585779   0.6517       29.65       17.1800   \n",
       "3  0.047644  0.293306  0.597483   0.6530       29.67       17.1275   \n",
       "4  0.045812  0.291687  0.609188   0.6543       29.69       17.0750   \n",
       "\n",
       "   mb_LST.day  mb_LST.night  \n",
       "0     26.3350       18.6450  \n",
       "1     26.4075       18.5925  \n",
       "2     26.4800       18.5400  \n",
       "3     26.5525       18.4875  \n",
       "4     26.6250       18.4350  \n",
       "\n",
       "[5 rows x 35 columns]"
      ]
     },
     "execution_count": 2,
     "metadata": {},
     "output_type": "execute_result"
    }
   ],
   "source": [
    "df = exp.get_exp1_data()\n",
    "df.head()"
   ]
  },
  {
   "cell_type": "code",
   "execution_count": 3,
   "metadata": {
    "collapsed": false
   },
   "outputs": [
    {
     "data": {
      "text/plain": [
       "(1028, 5)"
      ]
     },
     "execution_count": 3,
     "metadata": {},
     "output_type": "execute_result"
    }
   ],
   "source": [
    "train_cols, test_col = [\"wp_LST.day\", \"wp_h\", \"wp_le\", \"net_rad\", \"avg_air_temp\"], [\"mb_gpp\"]\n",
    "X, Y = exp.featurize(df, train_cols, test_col)\n",
    "X, Y, scaler = r.preprocess(X, Y)\n",
    "X.shape"
   ]
  },
  {
   "cell_type": "code",
   "execution_count": 4,
   "metadata": {
    "collapsed": false
   },
   "outputs": [
    {
     "name": "stdout",
     "output_type": "stream",
     "text": [
      "Running Random Forests Cross Validation...\n",
      "10-fold CV Acc Mean:  0.859997689207\n",
      "CV Scores:  0.854104608063, 0.882607178299, 0.861833984627, 0.871217810771, 0.893061398507, 0.847300257134, 0.842415576594, 0.844418645768, 0.848627853407, 0.854389578897\n",
      "OOB score: 0.862598095462\n",
      "Feature Importances:\n",
      "('wp_le', 0.43979250141814324)\n",
      "('wp_LST.day', 0.22736138557216262)\n",
      "('avg_air_temp', 0.13839147566433041)\n",
      "('net_rad', 0.13300199239661781)\n",
      "('wp_h', 0.06145264494874593)\n"
     ]
    },
    {
     "data": {
      "text/plain": [
       "RandomForestRegressor(bootstrap=True, criterion='mse', max_depth=None,\n",
       "           max_features='sqrt', max_leaf_nodes=None, min_samples_leaf=1,\n",
       "           min_samples_split=2, min_weight_fraction_leaf=0.0,\n",
       "           n_estimators=200, n_jobs=1, oob_score=True, random_state=None,\n",
       "           verbose=0, warm_start=False)"
      ]
     },
     "execution_count": 4,
     "metadata": {},
     "output_type": "execute_result"
    }
   ],
   "source": [
    "r.random_forests_cross_val(X, Y, feature_names=train_cols)"
   ]
  },
  {
   "cell_type": "code",
   "execution_count": 5,
   "metadata": {
    "collapsed": false
   },
   "outputs": [
    {
     "name": "stdout",
     "output_type": "stream",
     "text": [
      "Running Gradient Boosted Trees Cross Validation...\n",
      "10-fold CV Acc Mean:  0.84391797134\n",
      "CV Scores:  0.82949684828, 0.850965756478, 0.871584476819, 0.867571405919, 0.878779542623, 0.836216026071, 0.845353124672, 0.795711931529, 0.824075044926, 0.839425556081\n",
      "Feature Importances:\n",
      "('wp_le', 0.27960652158149896)\n",
      "('wp_LST.day', 0.24690003020878962)\n",
      "('net_rad', 0.18687339256142393)\n",
      "('avg_air_temp', 0.16362414437404138)\n",
      "('wp_h', 0.12299591127424625)\n"
     ]
    },
    {
     "data": {
      "text/plain": [
       "GradientBoostingRegressor(alpha=0.9, init=None, learning_rate=0.1, loss='ls',\n",
       "             max_depth=3, max_features='sqrt', max_leaf_nodes=None,\n",
       "             min_samples_leaf=1, min_samples_split=2,\n",
       "             min_weight_fraction_leaf=0.0, n_estimators=200,\n",
       "             presort='auto', random_state=None, subsample=1.0, verbose=0,\n",
       "             warm_start=False)"
      ]
     },
     "execution_count": 5,
     "metadata": {},
     "output_type": "execute_result"
    }
   ],
   "source": [
    "r.xgb_trees_cross_val(X, Y, feature_names=train_cols)"
   ]
  },
  {
   "cell_type": "code",
   "execution_count": 6,
   "metadata": {
    "collapsed": false
   },
   "outputs": [
    {
     "name": "stdout",
     "output_type": "stream",
     "text": [
      "Running SVC Cross Validation...\n",
      "10-fold CV Acc Mean:  0.518785083133\n",
      "CV Scores:  0.550024539583, 0.5750983232, 0.456754251914, 0.559876929893, 0.584904954278, 0.513020715155, 0.56004903383, 0.4417556376, 0.416838033912, 0.529528411964\n"
     ]
    },
    {
     "data": {
      "text/plain": [
       "SVR(C=1.0, cache_size=200, coef0=0.0, degree=3, epsilon=0.1, gamma='auto',\n",
       "  kernel='rbf', max_iter=-1, shrinking=True, tol=0.001, verbose=False)"
      ]
     },
     "execution_count": 6,
     "metadata": {},
     "output_type": "execute_result"
    }
   ],
   "source": [
    "r.svc_cross_val(X, Y)"
   ]
  },
  {
   "cell_type": "code",
   "execution_count": 7,
   "metadata": {
    "collapsed": false
   },
   "outputs": [
    {
     "name": "stdout",
     "output_type": "stream",
     "text": [
      "Running Neural Network Cross Validation...\n",
      "Step #1, avg. loss: 74004.65625\n",
      "Step #501, epoch #50, avg. loss: 15053.18066\n",
      "Step #1001, epoch #100, avg. loss: 6272.86230\n",
      "Step #1501, epoch #150, avg. loss: 4687.00977\n",
      "Step #2001, epoch #200, avg. loss: 3681.34644\n",
      "Step #2501, epoch #250, avg. loss: 3087.14209\n",
      "Step #3001, epoch #300, avg. loss: 2601.05542\n",
      "Step #3501, epoch #350, avg. loss: 2351.09790\n",
      "Step #4001, epoch #400, avg. loss: 2083.46387\n",
      "Step #4501, epoch #450, avg. loss: 1874.39978\n",
      "Step #1, avg. loss: 64593.41016\n",
      "Step #501, epoch #50, avg. loss: 15650.83301\n",
      "Step #1001, epoch #100, avg. loss: 6380.18799\n",
      "Step #1501, epoch #150, avg. loss: 4644.95215\n",
      "Step #2001, epoch #200, avg. loss: 3630.39502\n",
      "Step #2501, epoch #250, avg. loss: 3075.04199\n",
      "Step #3001, epoch #300, avg. loss: 2580.29102\n",
      "Step #3501, epoch #350, avg. loss: 2318.72119\n",
      "Step #4001, epoch #400, avg. loss: 2060.11841\n",
      "Step #4501, epoch #450, avg. loss: 1907.39856\n",
      "Step #1, avg. loss: 69121.03906\n",
      "Step #501, epoch #50, avg. loss: 15651.36621\n",
      "Step #1001, epoch #100, avg. loss: 6467.13037\n",
      "Step #1501, epoch #150, avg. loss: 4811.12402\n",
      "Step #2001, epoch #200, avg. loss: 3892.88452\n",
      "Step #2501, epoch #250, avg. loss: 3272.67261\n",
      "Step #3001, epoch #300, avg. loss: 2765.26001\n",
      "Step #3501, epoch #350, avg. loss: 2431.73267\n",
      "Step #4001, epoch #400, avg. loss: 2183.36304\n",
      "Step #4501, epoch #450, avg. loss: 1961.47424\n",
      "Step #1, avg. loss: 74732.72656\n",
      "Step #501, epoch #50, avg. loss: 15123.27832\n",
      "Step #1001, epoch #100, avg. loss: 6482.22607\n",
      "Step #1501, epoch #150, avg. loss: 4786.78564\n",
      "Step #2001, epoch #200, avg. loss: 3789.41724\n",
      "Step #2501, epoch #250, avg. loss: 3159.95410\n",
      "Step #3001, epoch #300, avg. loss: 2654.40796\n",
      "Step #3501, epoch #350, avg. loss: 2313.11694\n",
      "Step #4001, epoch #400, avg. loss: 2042.68750\n",
      "Step #4501, epoch #450, avg. loss: 1874.47620\n",
      "Step #1, avg. loss: 78906.79688\n",
      "Step #501, epoch #50, avg. loss: 15550.94141\n",
      "Step #1001, epoch #100, avg. loss: 6331.17578\n",
      "Step #1501, epoch #150, avg. loss: 4736.30518\n",
      "Step #2001, epoch #200, avg. loss: 3818.99658\n",
      "Step #2501, epoch #250, avg. loss: 3175.35010\n",
      "Step #3001, epoch #300, avg. loss: 2668.08081\n",
      "Step #3501, epoch #350, avg. loss: 2416.32153\n",
      "Step #4001, epoch #400, avg. loss: 2210.46387\n",
      "Step #4501, epoch #450, avg. loss: 1992.08630\n",
      "Step #1, avg. loss: 81075.66406\n",
      "Step #501, epoch #50, avg. loss: 15480.21973\n",
      "Step #1001, epoch #100, avg. loss: 6431.83838\n",
      "Step #1501, epoch #150, avg. loss: 4748.29980\n",
      "Step #2001, epoch #200, avg. loss: 3767.00757\n",
      "Step #2501, epoch #250, avg. loss: 3122.20239\n",
      "Step #3001, epoch #300, avg. loss: 2697.18652\n",
      "Step #3501, epoch #350, avg. loss: 2461.48853\n",
      "Step #4001, epoch #400, avg. loss: 2244.05347\n",
      "Step #4501, epoch #450, avg. loss: 2087.60352\n",
      "Step #1, avg. loss: 73573.50000\n",
      "Step #501, epoch #50, avg. loss: 15309.58398\n",
      "Step #1001, epoch #100, avg. loss: 6301.74902\n",
      "Step #1501, epoch #150, avg. loss: 4797.30518\n",
      "Step #2001, epoch #200, avg. loss: 3897.03516\n",
      "Step #2501, epoch #250, avg. loss: 3167.70581\n",
      "Step #3001, epoch #300, avg. loss: 2679.09546\n",
      "Step #3501, epoch #350, avg. loss: 2388.09766\n",
      "Step #4001, epoch #400, avg. loss: 2098.46167\n",
      "Step #4501, epoch #450, avg. loss: 1887.95105\n",
      "Step #1, avg. loss: 82798.90625\n",
      "Step #501, epoch #50, avg. loss: 15313.22363\n",
      "Step #1001, epoch #100, avg. loss: 6242.02051\n",
      "Step #1501, epoch #150, avg. loss: 4765.38281\n",
      "Step #2001, epoch #200, avg. loss: 3902.08960\n",
      "Step #2501, epoch #250, avg. loss: 3246.81909\n",
      "Step #3001, epoch #300, avg. loss: 2817.88403\n",
      "Step #3501, epoch #350, avg. loss: 2506.67041\n",
      "Step #4001, epoch #400, avg. loss: 2258.06201\n",
      "Step #4501, epoch #450, avg. loss: 2054.85107\n",
      "Step #1, avg. loss: 79754.20312\n",
      "Step #501, epoch #50, avg. loss: 15266.04492\n",
      "Step #1001, epoch #100, avg. loss: 6484.62695\n",
      "Step #1501, epoch #150, avg. loss: 5011.75488\n",
      "Step #2001, epoch #200, avg. loss: 4219.70020\n",
      "Step #2501, epoch #250, avg. loss: 3492.80225\n",
      "Step #3001, epoch #300, avg. loss: 2974.32397\n",
      "Step #3501, epoch #350, avg. loss: 2583.38306\n",
      "Step #4001, epoch #400, avg. loss: 2340.11743\n",
      "Step #4501, epoch #450, avg. loss: 2087.81226\n",
      "Step #1, avg. loss: 73709.89844\n",
      "Step #501, epoch #50, avg. loss: 15517.98535\n",
      "Step #1001, epoch #100, avg. loss: 6442.73291\n",
      "Step #1501, epoch #150, avg. loss: 4744.89746\n",
      "Step #2001, epoch #200, avg. loss: 3771.64990\n",
      "Step #2501, epoch #250, avg. loss: 3096.82104\n",
      "Step #3001, epoch #300, avg. loss: 2577.48950\n",
      "Step #3501, epoch #350, avg. loss: 2246.21655\n",
      "Step #4001, epoch #400, avg. loss: 2011.32678\n",
      "Step #4501, epoch #450, avg. loss: 1800.98987\n",
      "10-fold CV Acc Mean:  0.851198512146\n",
      "CV Scores:  0.861282952929, 0.838440720009, 0.895151403478, 0.907032198114, 0.828085697608, 0.828787391303, 0.847225166635, 0.807645869771, 0.903781117165, 0.794552604452\n"
     ]
    },
    {
     "data": {
      "text/plain": [
       "TensorFlowEstimator(batch_size=100, class_weight=None,\n",
       "          continue_training=False, early_stopping_rounds=None,\n",
       "          keep_checkpoint_every_n_hours=10000, learning_rate=0.1,\n",
       "          max_to_keep=5, model_fn=<function tanh_dnn at 0x10a847b90>,\n",
       "          n_classes=0, num_cores=4, optimizer='SGD', steps=5000,\n",
       "          tf_master='', tf_random_seed=42, verbose=1)"
      ]
     },
     "execution_count": 7,
     "metadata": {},
     "output_type": "execute_result"
    }
   ],
   "source": [
    "r.dnn_cross_val(X, Y)"
   ]
  }
 ],
 "metadata": {
  "kernelspec": {
   "display_name": "Python 2",
   "language": "python",
   "name": "python2"
  },
  "language_info": {
   "codemirror_mode": {
    "name": "ipython",
    "version": 2
   },
   "file_extension": ".py",
   "mimetype": "text/x-python",
   "name": "python",
   "nbconvert_exporter": "python",
   "pygments_lexer": "ipython2",
   "version": "2.7.11"
  }
 },
 "nbformat": 4,
 "nbformat_minor": 0
}
