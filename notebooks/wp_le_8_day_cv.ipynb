{
 "cells": [
  {
   "cell_type": "code",
   "execution_count": 1,
   "metadata": {
    "collapsed": false
   },
   "outputs": [],
   "source": [
    "import sys\n",
    "sys.path.append('../')\n",
    "import exp\n",
    "import regression as r"
   ]
  },
  {
   "cell_type": "code",
   "execution_count": 2,
   "metadata": {
    "collapsed": false
   },
   "outputs": [
    {
     "data": {
      "text/html": [
       "<div>\n",
       "<table border=\"1\" class=\"dataframe\">\n",
       "  <thead>\n",
       "    <tr style=\"text-align: right;\">\n",
       "      <th></th>\n",
       "      <th>PET</th>\n",
       "      <th>VPD</th>\n",
       "      <th>air_temp</th>\n",
       "      <th>doy</th>\n",
       "      <th>precip</th>\n",
       "      <th>soil_temp</th>\n",
       "      <th>sw_in</th>\n",
       "      <th>wind_speed</th>\n",
       "      <th>year</th>\n",
       "      <th>wp_RNET</th>\n",
       "      <th>...</th>\n",
       "      <th>wp_bnd3</th>\n",
       "      <th>wp_bnd7</th>\n",
       "      <th>wp_evi</th>\n",
       "      <th>wp_lswi2</th>\n",
       "      <th>wp_ndvi</th>\n",
       "      <th>wp_LST.day</th>\n",
       "      <th>wp_LST.night</th>\n",
       "      <th>LW_IN.wp</th>\n",
       "      <th>LW_IN.si</th>\n",
       "      <th>LW_IN</th>\n",
       "    </tr>\n",
       "  </thead>\n",
       "  <tbody>\n",
       "    <tr>\n",
       "      <th>0</th>\n",
       "      <td>7.33</td>\n",
       "      <td>0.808731</td>\n",
       "      <td>19.179167</td>\n",
       "      <td>195</td>\n",
       "      <td>0.0</td>\n",
       "      <td>22.320833</td>\n",
       "      <td>30.3156</td>\n",
       "      <td>4.958333</td>\n",
       "      <td>2012</td>\n",
       "      <td>20.798342</td>\n",
       "      <td>...</td>\n",
       "      <td>0.032962</td>\n",
       "      <td>0.136763</td>\n",
       "      <td>0.396594</td>\n",
       "      <td>0.353988</td>\n",
       "      <td>0.641934</td>\n",
       "      <td>31.567899</td>\n",
       "      <td>17.204530</td>\n",
       "      <td>29.105844</td>\n",
       "      <td>24.562860</td>\n",
       "      <td>29.105844</td>\n",
       "    </tr>\n",
       "    <tr>\n",
       "      <th>1</th>\n",
       "      <td>6.52</td>\n",
       "      <td>0.755945</td>\n",
       "      <td>19.325000</td>\n",
       "      <td>196</td>\n",
       "      <td>0.0</td>\n",
       "      <td>21.770833</td>\n",
       "      <td>29.6316</td>\n",
       "      <td>3.791667</td>\n",
       "      <td>2012</td>\n",
       "      <td>20.573593</td>\n",
       "      <td>...</td>\n",
       "      <td>0.032200</td>\n",
       "      <td>0.131800</td>\n",
       "      <td>0.407211</td>\n",
       "      <td>0.376832</td>\n",
       "      <td>0.654545</td>\n",
       "      <td>29.570000</td>\n",
       "      <td>17.390000</td>\n",
       "      <td>29.760736</td>\n",
       "      <td>26.096551</td>\n",
       "      <td>29.760736</td>\n",
       "    </tr>\n",
       "    <tr>\n",
       "      <th>2</th>\n",
       "      <td>6.92</td>\n",
       "      <td>0.858993</td>\n",
       "      <td>20.262500</td>\n",
       "      <td>197</td>\n",
       "      <td>0.0</td>\n",
       "      <td>21.908333</td>\n",
       "      <td>29.3472</td>\n",
       "      <td>4.137500</td>\n",
       "      <td>2012</td>\n",
       "      <td>20.475931</td>\n",
       "      <td>...</td>\n",
       "      <td>0.031425</td>\n",
       "      <td>0.128250</td>\n",
       "      <td>0.416158</td>\n",
       "      <td>0.394189</td>\n",
       "      <td>0.664269</td>\n",
       "      <td>31.097908</td>\n",
       "      <td>17.235624</td>\n",
       "      <td>30.299442</td>\n",
       "      <td>25.986418</td>\n",
       "      <td>30.299442</td>\n",
       "    </tr>\n",
       "    <tr>\n",
       "      <th>3</th>\n",
       "      <td>6.35</td>\n",
       "      <td>0.477617</td>\n",
       "      <td>16.791667</td>\n",
       "      <td>198</td>\n",
       "      <td>0.0</td>\n",
       "      <td>22.420833</td>\n",
       "      <td>28.8180</td>\n",
       "      <td>6.033333</td>\n",
       "      <td>2012</td>\n",
       "      <td>20.571045</td>\n",
       "      <td>...</td>\n",
       "      <td>0.030650</td>\n",
       "      <td>0.124700</td>\n",
       "      <td>0.425106</td>\n",
       "      <td>0.411547</td>\n",
       "      <td>0.673993</td>\n",
       "      <td>30.868718</td>\n",
       "      <td>17.248525</td>\n",
       "      <td>28.978868</td>\n",
       "      <td>25.122209</td>\n",
       "      <td>28.978868</td>\n",
       "    </tr>\n",
       "    <tr>\n",
       "      <th>4</th>\n",
       "      <td>5.13</td>\n",
       "      <td>0.556820</td>\n",
       "      <td>17.016667</td>\n",
       "      <td>199</td>\n",
       "      <td>0.0</td>\n",
       "      <td>21.529167</td>\n",
       "      <td>23.1732</td>\n",
       "      <td>4.350000</td>\n",
       "      <td>2012</td>\n",
       "      <td>16.757401</td>\n",
       "      <td>...</td>\n",
       "      <td>0.029875</td>\n",
       "      <td>0.121150</td>\n",
       "      <td>0.434053</td>\n",
       "      <td>0.428904</td>\n",
       "      <td>0.683716</td>\n",
       "      <td>30.657792</td>\n",
       "      <td>17.259663</td>\n",
       "      <td>30.653667</td>\n",
       "      <td>27.830367</td>\n",
       "      <td>30.653667</td>\n",
       "    </tr>\n",
       "  </tbody>\n",
       "</table>\n",
       "<p>5 rows × 28 columns</p>\n",
       "</div>"
      ],
      "text/plain": [
       "    PET       VPD   air_temp  doy  precip  soil_temp    sw_in  wind_speed  \\\n",
       "0  7.33  0.808731  19.179167  195     0.0  22.320833  30.3156    4.958333   \n",
       "1  6.52  0.755945  19.325000  196     0.0  21.770833  29.6316    3.791667   \n",
       "2  6.92  0.858993  20.262500  197     0.0  21.908333  29.3472    4.137500   \n",
       "3  6.35  0.477617  16.791667  198     0.0  22.420833  28.8180    6.033333   \n",
       "4  5.13  0.556820  17.016667  199     0.0  21.529167  23.1732    4.350000   \n",
       "\n",
       "   year    wp_RNET    ...       wp_bnd3   wp_bnd7    wp_evi  wp_lswi2  \\\n",
       "0  2012  20.798342    ...      0.032962  0.136763  0.396594  0.353988   \n",
       "1  2012  20.573593    ...      0.032200  0.131800  0.407211  0.376832   \n",
       "2  2012  20.475931    ...      0.031425  0.128250  0.416158  0.394189   \n",
       "3  2012  20.571045    ...      0.030650  0.124700  0.425106  0.411547   \n",
       "4  2012  16.757401    ...      0.029875  0.121150  0.434053  0.428904   \n",
       "\n",
       "    wp_ndvi  wp_LST.day  wp_LST.night   LW_IN.wp   LW_IN.si      LW_IN  \n",
       "0  0.641934   31.567899     17.204530  29.105844  24.562860  29.105844  \n",
       "1  0.654545   29.570000     17.390000  29.760736  26.096551  29.760736  \n",
       "2  0.664269   31.097908     17.235624  30.299442  25.986418  30.299442  \n",
       "3  0.673993   30.868718     17.248525  28.978868  25.122209  28.978868  \n",
       "4  0.683716   30.657792     17.259663  30.653667  27.830367  30.653667  \n",
       "\n",
       "[5 rows x 28 columns]"
      ]
     },
     "execution_count": 2,
     "metadata": {},
     "output_type": "execute_result"
    }
   ],
   "source": [
    "df = exp.get_wp_energy_data_8_day()\n",
    "df.head()"
   ]
  },
  {
   "cell_type": "code",
   "execution_count": 3,
   "metadata": {
    "collapsed": false
   },
   "outputs": [
    {
     "name": "stdout",
     "output_type": "stream",
     "text": [
      "<class 'pandas.core.frame.DataFrame'>\n",
      "Int64Index: 1030 entries, 0 to 1029\n",
      "Data columns (total 28 columns):\n",
      "PET             1030 non-null float64\n",
      "VPD             1030 non-null float64\n",
      "air_temp        1030 non-null float64\n",
      "doy             1030 non-null int64\n",
      "precip          1030 non-null float64\n",
      "soil_temp       1030 non-null float64\n",
      "sw_in           1030 non-null float64\n",
      "wind_speed      1030 non-null float64\n",
      "year            1030 non-null int64\n",
      "wp_RNET         1030 non-null float64\n",
      "wp_ch4_gf       1030 non-null float64\n",
      "wp_co2_gf       1030 non-null float64\n",
      "wp_er           1030 non-null float64\n",
      "wp_gpp          1030 non-null float64\n",
      "wp_h            1030 non-null float64\n",
      "wp_le           1030 non-null float64\n",
      "wp_bnd1         1030 non-null float64\n",
      "wp_bnd2         1030 non-null float64\n",
      "wp_bnd3         1030 non-null float64\n",
      "wp_bnd7         1030 non-null float64\n",
      "wp_evi          1030 non-null float64\n",
      "wp_lswi2        1030 non-null float64\n",
      "wp_ndvi         1030 non-null float64\n",
      "wp_LST.day      1030 non-null float64\n",
      "wp_LST.night    1030 non-null float64\n",
      "LW_IN.wp        1030 non-null float64\n",
      "LW_IN.si        1030 non-null float64\n",
      "LW_IN           1030 non-null float64\n",
      "dtypes: float64(26), int64(2)\n",
      "memory usage: 233.4 KB\n"
     ]
    }
   ],
   "source": [
    "df.info()"
   ]
  },
  {
   "cell_type": "code",
   "execution_count": 4,
   "metadata": {
    "collapsed": false
   },
   "outputs": [
    {
     "data": {
      "text/plain": [
       "(1030, 12)"
      ]
     },
     "execution_count": 4,
     "metadata": {},
     "output_type": "execute_result"
    }
   ],
   "source": [
    "train_cols = [\"precip\", \"sw_in\", \"LW_IN.wp\", \"VPD\", \"air_temp\", \"PET\", \"wind_speed\", \"wp_LST.day\",\n",
    "             \"wp_LST.night\", \"wp_evi\", \"wp_ndvi\", \"wp_lswi2\"]\n",
    "X, Y = exp.featurize(df, train_cols, [\"wp_le\"])\n",
    "X, Y, scaler = r.preprocess(X, Y)\n",
    "X.shape"
   ]
  },
  {
   "cell_type": "code",
   "execution_count": 5,
   "metadata": {
    "collapsed": false
   },
   "outputs": [
    {
     "name": "stdout",
     "output_type": "stream",
     "text": [
      "Running Random Forests Cross Validation...\n",
      "10-fold CV Acc Mean:  0.972242943017\n",
      "CV Scores:  0.971482432189, 0.979074937486, 0.976979369682, 0.975024005679, 0.974901666434, 0.971012929208, 0.961235014157, 0.975572262557, 0.975287990391, 0.961858822385\n",
      "OOB score: 0.973995956298\n",
      "Feature Importances:\n",
      "('wp_LST.night', 0.28042171711997765)\n",
      "('air_temp', 0.20053670307748298)\n",
      "('wp_LST.day', 0.1292270428672368)\n",
      "('PET', 0.11381427311001392)\n",
      "('VPD', 0.086300438360465859)\n",
      "('sw_in', 0.058679652074425437)\n",
      "('LW_IN.wp', 0.035518488663551742)\n",
      "('wp_evi', 0.034197633775860513)\n",
      "('wp_ndvi', 0.029347472351898007)\n",
      "('wp_lswi2', 0.017655839741032939)\n",
      "('wind_speed', 0.013636574185553639)\n",
      "('precip', 0.00066416467250073941)\n"
     ]
    },
    {
     "data": {
      "text/plain": [
       "RandomForestRegressor(bootstrap=True, criterion='mse', max_depth=None,\n",
       "           max_features='sqrt', max_leaf_nodes=None, min_samples_leaf=1,\n",
       "           min_samples_split=2, min_weight_fraction_leaf=0.0,\n",
       "           n_estimators=200, n_jobs=1, oob_score=True, random_state=None,\n",
       "           verbose=0, warm_start=False)"
      ]
     },
     "execution_count": 5,
     "metadata": {},
     "output_type": "execute_result"
    }
   ],
   "source": [
    "r.random_forests_cross_val(X, Y, feature_names=train_cols)"
   ]
  },
  {
   "cell_type": "code",
   "execution_count": 6,
   "metadata": {
    "collapsed": false
   },
   "outputs": [
    {
     "name": "stdout",
     "output_type": "stream",
     "text": [
      "Running Gradient Boosted Trees Cross Validation...\n",
      "10-fold CV Acc Mean:  0.972096806054\n",
      "CV Scores:  0.971336314606, 0.975157254221, 0.973457442416, 0.97470020109, 0.974779756703, 0.973704118861, 0.960768365744, 0.978455874824, 0.975490508222, 0.963118223853\n",
      "Feature Importances:\n",
      "('wp_LST.night', 0.13932250951915914)\n",
      "('wp_lswi2', 0.12384523435851255)\n",
      "('wp_evi', 0.12257958014427059)\n",
      "('wp_LST.day', 0.11366148475934384)\n",
      "('sw_in', 0.087778538178524435)\n",
      "('wp_ndvi', 0.081251791572711715)\n",
      "('air_temp', 0.080214143362961232)\n",
      "('PET', 0.076214907079000749)\n",
      "('VPD', 0.05857619142701731)\n",
      "('wind_speed', 0.056732933318252)\n",
      "('LW_IN.wp', 0.051341983486041597)\n",
      "('precip', 0.0084807027942050313)\n"
     ]
    },
    {
     "data": {
      "text/plain": [
       "GradientBoostingRegressor(alpha=0.9, init=None, learning_rate=0.1, loss='ls',\n",
       "             max_depth=3, max_features='sqrt', max_leaf_nodes=None,\n",
       "             min_samples_leaf=1, min_samples_split=2,\n",
       "             min_weight_fraction_leaf=0.0, n_estimators=200,\n",
       "             presort='auto', random_state=None, subsample=1.0, verbose=0,\n",
       "             warm_start=False)"
      ]
     },
     "execution_count": 6,
     "metadata": {},
     "output_type": "execute_result"
    }
   ],
   "source": [
    "r.xgb_trees_cross_val(X, Y, feature_names=train_cols)"
   ]
  },
  {
   "cell_type": "code",
   "execution_count": 7,
   "metadata": {
    "collapsed": false
   },
   "outputs": [
    {
     "name": "stdout",
     "output_type": "stream",
     "text": [
      "Running SVC Cross Validation...\n",
      "10-fold CV Acc Mean:  0.955818900176\n",
      "CV Scores:  0.962257254755, 0.955321370516, 0.944693524046, 0.963532718723, 0.972001769287, 0.959859695339, 0.940180813751, 0.967520472224, 0.941092117128, 0.951729265989\n"
     ]
    },
    {
     "data": {
      "text/plain": [
       "SVR(C=1.0, cache_size=200, coef0=0.0, degree=3, epsilon=0.1, gamma='auto',\n",
       "  kernel='rbf', max_iter=-1, shrinking=True, tol=0.001, verbose=False)"
      ]
     },
     "execution_count": 7,
     "metadata": {},
     "output_type": "execute_result"
    }
   ],
   "source": [
    "r.svc_cross_val(X, Y)"
   ]
  },
  {
   "cell_type": "code",
   "execution_count": 8,
   "metadata": {
    "collapsed": false
   },
   "outputs": [
    {
     "name": "stdout",
     "output_type": "stream",
     "text": [
      "Running Neural Network Cross Validation...\n",
      "Step #1, avg. loss: 58.83918\n",
      "Step #501, epoch #50, avg. loss: 2.03326\n",
      "Step #1001, epoch #100, avg. loss: 0.68148\n",
      "Step #1501, epoch #150, avg. loss: 0.39972\n",
      "Step #2001, epoch #200, avg. loss: 0.28596\n",
      "Step #2501, epoch #250, avg. loss: 0.22820\n",
      "Step #3001, epoch #300, avg. loss: 0.17349\n",
      "Step #3501, epoch #350, avg. loss: 0.14920\n",
      "Step #4001, epoch #400, avg. loss: 0.12463\n",
      "Step #4501, epoch #450, avg. loss: 0.11161\n",
      "Step #1, avg. loss: 57.67524\n",
      "Step #501, epoch #50, avg. loss: 2.04614\n",
      "Step #1001, epoch #100, avg. loss: 0.74851\n",
      "Step #1501, epoch #150, avg. loss: 0.44488\n",
      "Step #2001, epoch #200, avg. loss: 0.33645\n",
      "Step #2501, epoch #250, avg. loss: 0.25960\n",
      "Step #3001, epoch #300, avg. loss: 0.21962\n",
      "Step #3501, epoch #350, avg. loss: 0.17604\n",
      "Step #4001, epoch #400, avg. loss: 0.15961\n",
      "Step #4501, epoch #450, avg. loss: 0.14966\n",
      "Step #1, avg. loss: 53.25545\n",
      "Step #501, epoch #50, avg. loss: 1.99268\n",
      "Step #1001, epoch #100, avg. loss: 0.65608\n",
      "Step #1501, epoch #150, avg. loss: 0.38096\n",
      "Step #2001, epoch #200, avg. loss: 0.26655\n",
      "Step #2501, epoch #250, avg. loss: 0.20294\n",
      "Step #3001, epoch #300, avg. loss: 0.18069\n",
      "Step #3501, epoch #350, avg. loss: 0.15403\n",
      "Step #4001, epoch #400, avg. loss: 0.12819\n",
      "Step #4501, epoch #450, avg. loss: 0.11831\n",
      "Step #1, avg. loss: 55.74916\n",
      "Step #501, epoch #50, avg. loss: 2.04199\n",
      "Step #1001, epoch #100, avg. loss: 0.71520\n",
      "Step #1501, epoch #150, avg. loss: 0.46185\n",
      "Step #2001, epoch #200, avg. loss: 0.31833\n",
      "Step #2501, epoch #250, avg. loss: 0.24749\n",
      "Step #3001, epoch #300, avg. loss: 0.19134\n",
      "Step #3501, epoch #350, avg. loss: 0.15089\n",
      "Step #4001, epoch #400, avg. loss: 0.14358\n",
      "Step #4501, epoch #450, avg. loss: 0.11592\n",
      "Step #1, avg. loss: 61.55190\n",
      "Step #501, epoch #50, avg. loss: 2.05923\n",
      "Step #1001, epoch #100, avg. loss: 0.69498\n",
      "Step #1501, epoch #150, avg. loss: 0.43761\n",
      "Step #2001, epoch #200, avg. loss: 0.29711\n",
      "Step #2501, epoch #250, avg. loss: 0.25015\n",
      "Step #3001, epoch #300, avg. loss: 0.21468\n",
      "Step #3501, epoch #350, avg. loss: 0.17703\n",
      "Step #4001, epoch #400, avg. loss: 0.15630\n",
      "Step #4501, epoch #450, avg. loss: 0.13640\n",
      "Step #1, avg. loss: 49.78571\n",
      "Step #501, epoch #50, avg. loss: 2.04382\n",
      "Step #1001, epoch #100, avg. loss: 0.73572\n",
      "Step #1501, epoch #150, avg. loss: 0.45159\n",
      "Step #2001, epoch #200, avg. loss: 0.33574\n",
      "Step #2501, epoch #250, avg. loss: 0.23834\n",
      "Step #3001, epoch #300, avg. loss: 0.19597\n",
      "Step #3501, epoch #350, avg. loss: 0.15859\n",
      "Step #4001, epoch #400, avg. loss: 0.14203\n",
      "Step #4501, epoch #450, avg. loss: 0.12703\n",
      "Step #1, avg. loss: 50.10167\n",
      "Step #501, epoch #50, avg. loss: 2.01016\n",
      "Step #1001, epoch #100, avg. loss: 0.65875\n",
      "Step #1501, epoch #150, avg. loss: 0.40150\n",
      "Step #2001, epoch #200, avg. loss: 0.28329\n",
      "Step #2501, epoch #250, avg. loss: 0.21322\n",
      "Step #3001, epoch #300, avg. loss: 0.16119\n",
      "Step #3501, epoch #350, avg. loss: 0.14608\n",
      "Step #4001, epoch #400, avg. loss: 0.13229\n",
      "Step #4501, epoch #450, avg. loss: 0.10880\n",
      "Step #1, avg. loss: 57.96409\n",
      "Step #501, epoch #50, avg. loss: 2.03944\n",
      "Step #1001, epoch #100, avg. loss: 0.67946\n",
      "Step #1501, epoch #150, avg. loss: 0.45123\n",
      "Step #2001, epoch #200, avg. loss: 0.32168\n",
      "Step #2501, epoch #250, avg. loss: 0.24938\n",
      "Step #3001, epoch #300, avg. loss: 0.19508\n",
      "Step #3501, epoch #350, avg. loss: 0.16937\n",
      "Step #4001, epoch #400, avg. loss: 0.15188\n",
      "Step #4501, epoch #450, avg. loss: 0.13615\n",
      "Step #1, avg. loss: 71.71729\n",
      "Step #501, epoch #50, avg. loss: 1.99707\n",
      "Step #1001, epoch #100, avg. loss: 0.66822\n",
      "Step #1501, epoch #150, avg. loss: 0.44377\n",
      "Step #2001, epoch #200, avg. loss: 0.32114\n",
      "Step #2501, epoch #250, avg. loss: 0.22672\n",
      "Step #3001, epoch #300, avg. loss: 0.20689\n",
      "Step #3501, epoch #350, avg. loss: 0.17061\n",
      "Step #4001, epoch #400, avg. loss: 0.15274\n",
      "Step #4501, epoch #450, avg. loss: 0.14601\n",
      "Step #1, avg. loss: 60.11246\n",
      "Step #501, epoch #50, avg. loss: 2.05943\n",
      "Step #1001, epoch #100, avg. loss: 0.68446\n",
      "Step #1501, epoch #150, avg. loss: 0.42537\n",
      "Step #2001, epoch #200, avg. loss: 0.31755\n",
      "Step #2501, epoch #250, avg. loss: 0.24628\n",
      "Step #3001, epoch #300, avg. loss: 0.20977\n",
      "Step #3501, epoch #350, avg. loss: 0.19550\n",
      "Step #4001, epoch #400, avg. loss: 0.16010\n",
      "Step #4501, epoch #450, avg. loss: 0.13979\n",
      "10-fold CV Acc Mean:  0.978292942724\n",
      "CV Scores:  0.981827188194, 0.977678444661, 0.977146264098, 0.982111394305, 0.975055073013, 0.97720557409, 0.966791628786, 0.984038339926, 0.981347325882, 0.979728194284\n"
     ]
    },
    {
     "data": {
      "text/plain": [
       "TensorFlowEstimator(batch_size=100, class_weight=None,\n",
       "          continue_training=False, early_stopping_rounds=None,\n",
       "          keep_checkpoint_every_n_hours=10000, learning_rate=0.1,\n",
       "          max_to_keep=5, model_fn=<function tanh_dnn at 0x115330488>,\n",
       "          n_classes=0, num_cores=4, optimizer='SGD', steps=5000,\n",
       "          tf_master='', tf_random_seed=42, verbose=1)"
      ]
     },
     "execution_count": 8,
     "metadata": {},
     "output_type": "execute_result"
    }
   ],
   "source": [
    "r.dnn_cross_val(X, Y)"
   ]
  },
  {
   "cell_type": "code",
   "execution_count": null,
   "metadata": {
    "collapsed": true
   },
   "outputs": [],
   "source": []
  }
 ],
 "metadata": {
  "kernelspec": {
   "display_name": "Python 2",
   "language": "python",
   "name": "python2"
  },
  "language_info": {
   "codemirror_mode": {
    "name": "ipython",
    "version": 2
   },
   "file_extension": ".py",
   "mimetype": "text/x-python",
   "name": "python",
   "nbconvert_exporter": "python",
   "pygments_lexer": "ipython2",
   "version": "2.7.11"
  }
 },
 "nbformat": 4,
 "nbformat_minor": 0
}
