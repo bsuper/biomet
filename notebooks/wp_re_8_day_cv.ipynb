{
 "cells": [
  {
   "cell_type": "code",
   "execution_count": 1,
   "metadata": {
    "collapsed": false
   },
   "outputs": [],
   "source": [
    "import sys\n",
    "sys.path.append('../')\n",
    "import exp\n",
    "import regression as r"
   ]
  },
  {
   "cell_type": "code",
   "execution_count": 2,
   "metadata": {
    "collapsed": false
   },
   "outputs": [
    {
     "data": {
      "text/html": [
       "<div>\n",
       "<table border=\"1\" class=\"dataframe\">\n",
       "  <thead>\n",
       "    <tr style=\"text-align: right;\">\n",
       "      <th></th>\n",
       "      <th>PET</th>\n",
       "      <th>VPD</th>\n",
       "      <th>air_temp</th>\n",
       "      <th>doy</th>\n",
       "      <th>precip</th>\n",
       "      <th>soil_temp</th>\n",
       "      <th>sw_in</th>\n",
       "      <th>wind_speed</th>\n",
       "      <th>year</th>\n",
       "      <th>wp_RNET</th>\n",
       "      <th>...</th>\n",
       "      <th>wp_bnd3</th>\n",
       "      <th>wp_bnd7</th>\n",
       "      <th>wp_evi</th>\n",
       "      <th>wp_lswi2</th>\n",
       "      <th>wp_ndvi</th>\n",
       "      <th>wp_LST.day</th>\n",
       "      <th>wp_LST.night</th>\n",
       "      <th>LW_IN.wp</th>\n",
       "      <th>LW_IN.si</th>\n",
       "      <th>LW_IN</th>\n",
       "    </tr>\n",
       "  </thead>\n",
       "  <tbody>\n",
       "    <tr>\n",
       "      <th>0</th>\n",
       "      <td>7.33</td>\n",
       "      <td>0.808731</td>\n",
       "      <td>19.179167</td>\n",
       "      <td>195</td>\n",
       "      <td>0.0</td>\n",
       "      <td>22.320833</td>\n",
       "      <td>30.3156</td>\n",
       "      <td>4.958333</td>\n",
       "      <td>2012</td>\n",
       "      <td>20.798342</td>\n",
       "      <td>...</td>\n",
       "      <td>0.032962</td>\n",
       "      <td>0.136763</td>\n",
       "      <td>0.396594</td>\n",
       "      <td>0.353988</td>\n",
       "      <td>0.641934</td>\n",
       "      <td>31.567899</td>\n",
       "      <td>17.204530</td>\n",
       "      <td>29.105844</td>\n",
       "      <td>24.562860</td>\n",
       "      <td>29.105844</td>\n",
       "    </tr>\n",
       "    <tr>\n",
       "      <th>1</th>\n",
       "      <td>6.52</td>\n",
       "      <td>0.755945</td>\n",
       "      <td>19.325000</td>\n",
       "      <td>196</td>\n",
       "      <td>0.0</td>\n",
       "      <td>21.770833</td>\n",
       "      <td>29.6316</td>\n",
       "      <td>3.791667</td>\n",
       "      <td>2012</td>\n",
       "      <td>20.573593</td>\n",
       "      <td>...</td>\n",
       "      <td>0.032200</td>\n",
       "      <td>0.131800</td>\n",
       "      <td>0.407211</td>\n",
       "      <td>0.376832</td>\n",
       "      <td>0.654545</td>\n",
       "      <td>29.570000</td>\n",
       "      <td>17.390000</td>\n",
       "      <td>29.760736</td>\n",
       "      <td>26.096551</td>\n",
       "      <td>29.760736</td>\n",
       "    </tr>\n",
       "    <tr>\n",
       "      <th>2</th>\n",
       "      <td>6.92</td>\n",
       "      <td>0.858993</td>\n",
       "      <td>20.262500</td>\n",
       "      <td>197</td>\n",
       "      <td>0.0</td>\n",
       "      <td>21.908333</td>\n",
       "      <td>29.3472</td>\n",
       "      <td>4.137500</td>\n",
       "      <td>2012</td>\n",
       "      <td>20.475931</td>\n",
       "      <td>...</td>\n",
       "      <td>0.031425</td>\n",
       "      <td>0.128250</td>\n",
       "      <td>0.416158</td>\n",
       "      <td>0.394189</td>\n",
       "      <td>0.664269</td>\n",
       "      <td>31.097908</td>\n",
       "      <td>17.235624</td>\n",
       "      <td>30.299442</td>\n",
       "      <td>25.986418</td>\n",
       "      <td>30.299442</td>\n",
       "    </tr>\n",
       "    <tr>\n",
       "      <th>3</th>\n",
       "      <td>6.35</td>\n",
       "      <td>0.477617</td>\n",
       "      <td>16.791667</td>\n",
       "      <td>198</td>\n",
       "      <td>0.0</td>\n",
       "      <td>22.420833</td>\n",
       "      <td>28.8180</td>\n",
       "      <td>6.033333</td>\n",
       "      <td>2012</td>\n",
       "      <td>20.571045</td>\n",
       "      <td>...</td>\n",
       "      <td>0.030650</td>\n",
       "      <td>0.124700</td>\n",
       "      <td>0.425106</td>\n",
       "      <td>0.411547</td>\n",
       "      <td>0.673993</td>\n",
       "      <td>30.868718</td>\n",
       "      <td>17.248525</td>\n",
       "      <td>28.978868</td>\n",
       "      <td>25.122209</td>\n",
       "      <td>28.978868</td>\n",
       "    </tr>\n",
       "    <tr>\n",
       "      <th>4</th>\n",
       "      <td>5.13</td>\n",
       "      <td>0.556820</td>\n",
       "      <td>17.016667</td>\n",
       "      <td>199</td>\n",
       "      <td>0.0</td>\n",
       "      <td>21.529167</td>\n",
       "      <td>23.1732</td>\n",
       "      <td>4.350000</td>\n",
       "      <td>2012</td>\n",
       "      <td>16.757401</td>\n",
       "      <td>...</td>\n",
       "      <td>0.029875</td>\n",
       "      <td>0.121150</td>\n",
       "      <td>0.434053</td>\n",
       "      <td>0.428904</td>\n",
       "      <td>0.683716</td>\n",
       "      <td>30.657792</td>\n",
       "      <td>17.259663</td>\n",
       "      <td>30.653667</td>\n",
       "      <td>27.830367</td>\n",
       "      <td>30.653667</td>\n",
       "    </tr>\n",
       "  </tbody>\n",
       "</table>\n",
       "<p>5 rows × 28 columns</p>\n",
       "</div>"
      ],
      "text/plain": [
       "    PET       VPD   air_temp  doy  precip  soil_temp    sw_in  wind_speed  \\\n",
       "0  7.33  0.808731  19.179167  195     0.0  22.320833  30.3156    4.958333   \n",
       "1  6.52  0.755945  19.325000  196     0.0  21.770833  29.6316    3.791667   \n",
       "2  6.92  0.858993  20.262500  197     0.0  21.908333  29.3472    4.137500   \n",
       "3  6.35  0.477617  16.791667  198     0.0  22.420833  28.8180    6.033333   \n",
       "4  5.13  0.556820  17.016667  199     0.0  21.529167  23.1732    4.350000   \n",
       "\n",
       "   year    wp_RNET    ...       wp_bnd3   wp_bnd7    wp_evi  wp_lswi2  \\\n",
       "0  2012  20.798342    ...      0.032962  0.136763  0.396594  0.353988   \n",
       "1  2012  20.573593    ...      0.032200  0.131800  0.407211  0.376832   \n",
       "2  2012  20.475931    ...      0.031425  0.128250  0.416158  0.394189   \n",
       "3  2012  20.571045    ...      0.030650  0.124700  0.425106  0.411547   \n",
       "4  2012  16.757401    ...      0.029875  0.121150  0.434053  0.428904   \n",
       "\n",
       "    wp_ndvi  wp_LST.day  wp_LST.night   LW_IN.wp   LW_IN.si      LW_IN  \n",
       "0  0.641934   31.567899     17.204530  29.105844  24.562860  29.105844  \n",
       "1  0.654545   29.570000     17.390000  29.760736  26.096551  29.760736  \n",
       "2  0.664269   31.097908     17.235624  30.299442  25.986418  30.299442  \n",
       "3  0.673993   30.868718     17.248525  28.978868  25.122209  28.978868  \n",
       "4  0.683716   30.657792     17.259663  30.653667  27.830367  30.653667  \n",
       "\n",
       "[5 rows x 28 columns]"
      ]
     },
     "execution_count": 2,
     "metadata": {},
     "output_type": "execute_result"
    }
   ],
   "source": [
    "df = exp.get_wp_energy_data_8_day()\n",
    "df.head()"
   ]
  },
  {
   "cell_type": "code",
   "execution_count": 3,
   "metadata": {
    "collapsed": false
   },
   "outputs": [
    {
     "name": "stdout",
     "output_type": "stream",
     "text": [
      "<class 'pandas.core.frame.DataFrame'>\n",
      "Int64Index: 1030 entries, 0 to 1029\n",
      "Data columns (total 28 columns):\n",
      "PET             1030 non-null float64\n",
      "VPD             1030 non-null float64\n",
      "air_temp        1030 non-null float64\n",
      "doy             1030 non-null int64\n",
      "precip          1030 non-null float64\n",
      "soil_temp       1030 non-null float64\n",
      "sw_in           1030 non-null float64\n",
      "wind_speed      1030 non-null float64\n",
      "year            1030 non-null int64\n",
      "wp_RNET         1030 non-null float64\n",
      "wp_ch4_gf       1030 non-null float64\n",
      "wp_co2_gf       1030 non-null float64\n",
      "wp_er           1030 non-null float64\n",
      "wp_gpp          1030 non-null float64\n",
      "wp_h            1030 non-null float64\n",
      "wp_le           1030 non-null float64\n",
      "wp_bnd1         1030 non-null float64\n",
      "wp_bnd2         1030 non-null float64\n",
      "wp_bnd3         1030 non-null float64\n",
      "wp_bnd7         1030 non-null float64\n",
      "wp_evi          1030 non-null float64\n",
      "wp_lswi2        1030 non-null float64\n",
      "wp_ndvi         1030 non-null float64\n",
      "wp_LST.day      1030 non-null float64\n",
      "wp_LST.night    1030 non-null float64\n",
      "LW_IN.wp        1030 non-null float64\n",
      "LW_IN.si        1030 non-null float64\n",
      "LW_IN           1030 non-null float64\n",
      "dtypes: float64(26), int64(2)\n",
      "memory usage: 233.4 KB\n"
     ]
    }
   ],
   "source": [
    "df.info()"
   ]
  },
  {
   "cell_type": "code",
   "execution_count": 4,
   "metadata": {
    "collapsed": false
   },
   "outputs": [
    {
     "data": {
      "text/plain": [
       "(1030, 12)"
      ]
     },
     "execution_count": 4,
     "metadata": {},
     "output_type": "execute_result"
    }
   ],
   "source": [
    "train_cols = [\"precip\", \"sw_in\", \"LW_IN.wp\", \"VPD\", \"air_temp\", \"PET\", \"wind_speed\", \"wp_LST.day\",\n",
    "             \"wp_LST.night\", \"wp_evi\", \"wp_ndvi\", \"wp_lswi2\"]\n",
    "X, Y = exp.featurize(df, train_cols, [\"wp_er\"])\n",
    "X, Y, scaler = r.preprocess(X, Y)\n",
    "X.shape"
   ]
  },
  {
   "cell_type": "code",
   "execution_count": 5,
   "metadata": {
    "collapsed": false
   },
   "outputs": [
    {
     "name": "stdout",
     "output_type": "stream",
     "text": [
      "Running Random Forests Cross Validation...\n",
      "10-fold CV Acc Mean:  0.94227752263\n",
      "CV Scores:  0.951939361609, 0.907887601382, 0.939449135649, 0.950728465425, 0.937319953228, 0.961075347668, 0.954862959088, 0.94766646795, 0.92317434232, 0.948671591977\n",
      "OOB score: 0.943608106988\n",
      "Feature Importances:\n",
      "('wp_LST.night', 0.26224430199444726)\n",
      "('wp_LST.day', 0.15360421655925366)\n",
      "('air_temp', 0.1453392802486449)\n",
      "('PET', 0.11808688584316457)\n",
      "('wind_speed', 0.079524738461726974)\n",
      "('sw_in', 0.069084755902904277)\n",
      "('VPD', 0.047278114338017402)\n",
      "('wp_ndvi', 0.034736207566437152)\n",
      "('wp_lswi2', 0.033031491553853674)\n",
      "('wp_evi', 0.030815928217107033)\n",
      "('LW_IN.wp', 0.025063866150946225)\n",
      "('precip', 0.0011902131634969626)\n"
     ]
    },
    {
     "data": {
      "text/plain": [
       "RandomForestRegressor(bootstrap=True, criterion='mse', max_depth=None,\n",
       "           max_features='sqrt', max_leaf_nodes=None, min_samples_leaf=1,\n",
       "           min_samples_split=2, min_weight_fraction_leaf=0.0,\n",
       "           n_estimators=200, n_jobs=1, oob_score=True, random_state=None,\n",
       "           verbose=0, warm_start=False)"
      ]
     },
     "execution_count": 5,
     "metadata": {},
     "output_type": "execute_result"
    }
   ],
   "source": [
    "r.random_forests_cross_val(X, Y, feature_names=train_cols)"
   ]
  },
  {
   "cell_type": "code",
   "execution_count": 6,
   "metadata": {
    "collapsed": false
   },
   "outputs": [
    {
     "name": "stdout",
     "output_type": "stream",
     "text": [
      "Running Gradient Boosted Trees Cross Validation...\n",
      "10-fold CV Acc Mean:  0.944514278318\n",
      "CV Scores:  0.956423469488, 0.912004330869, 0.93504832728, 0.940638495042, 0.955028481834, 0.962300505058, 0.956637288762, 0.944716177572, 0.928530547733, 0.953815159541\n",
      "Feature Importances:\n",
      "('wp_lswi2', 0.14079928613049617)\n",
      "('wp_ndvi', 0.13486530190608301)\n",
      "('wp_evi', 0.12557257646551298)\n",
      "('wp_LST.night', 0.12556529875765565)\n",
      "('wind_speed', 0.10114832371981006)\n",
      "('wp_LST.day', 0.088860886816798434)\n",
      "('sw_in', 0.067330169894142464)\n",
      "('VPD', 0.061247829552346637)\n",
      "('air_temp', 0.055052309505242265)\n",
      "('PET', 0.039733714970871518)\n",
      "('LW_IN.wp', 0.036167880401619251)\n",
      "('precip', 0.023656421879421609)\n"
     ]
    },
    {
     "data": {
      "text/plain": [
       "GradientBoostingRegressor(alpha=0.9, init=None, learning_rate=0.1, loss='ls',\n",
       "             max_depth=3, max_features='sqrt', max_leaf_nodes=None,\n",
       "             min_samples_leaf=1, min_samples_split=2,\n",
       "             min_weight_fraction_leaf=0.0, n_estimators=200,\n",
       "             presort='auto', random_state=None, subsample=1.0, verbose=0,\n",
       "             warm_start=False)"
      ]
     },
     "execution_count": 6,
     "metadata": {},
     "output_type": "execute_result"
    }
   ],
   "source": [
    "r.xgb_trees_cross_val(X, Y, feature_names=train_cols)"
   ]
  },
  {
   "cell_type": "code",
   "execution_count": 7,
   "metadata": {
    "collapsed": false
   },
   "outputs": [
    {
     "name": "stdout",
     "output_type": "stream",
     "text": [
      "Running SVC Cross Validation...\n",
      "10-fold CV Acc Mean:  0.86846683826\n",
      "CV Scores:  0.889780554708, 0.82532339553, 0.819853971042, 0.870783503928, 0.85814133888, 0.918614582952, 0.901387017421, 0.903123656251, 0.820893546629, 0.876766815257\n"
     ]
    },
    {
     "data": {
      "text/plain": [
       "SVR(C=1.0, cache_size=200, coef0=0.0, degree=3, epsilon=0.1, gamma='auto',\n",
       "  kernel='rbf', max_iter=-1, shrinking=True, tol=0.001, verbose=False)"
      ]
     },
     "execution_count": 7,
     "metadata": {},
     "output_type": "execute_result"
    }
   ],
   "source": [
    "r.svc_cross_val(X, Y)"
   ]
  },
  {
   "cell_type": "code",
   "execution_count": 8,
   "metadata": {
    "collapsed": false
   },
   "outputs": [
    {
     "name": "stdout",
     "output_type": "stream",
     "text": [
      "Running Neural Network Cross Validation...\n",
      "Step #1, avg. loss: 762.12671\n",
      "Step #501, epoch #50, avg. loss: 20.44991\n",
      "Step #1001, epoch #100, avg. loss: 5.50194\n",
      "Step #1501, epoch #150, avg. loss: 3.63673\n",
      "Step #2001, epoch #200, avg. loss: 2.79693\n",
      "Step #2501, epoch #250, avg. loss: 2.32774\n",
      "Step #3001, epoch #300, avg. loss: 2.06789\n",
      "Step #3501, epoch #350, avg. loss: 1.85985\n",
      "Step #4001, epoch #400, avg. loss: 1.74393\n",
      "Step #4501, epoch #450, avg. loss: 1.66846\n",
      "Step #1, avg. loss: 838.61639\n",
      "Step #501, epoch #50, avg. loss: 20.75419\n",
      "Step #1001, epoch #100, avg. loss: 5.37160\n",
      "Step #1501, epoch #150, avg. loss: 3.60897\n",
      "Step #2001, epoch #200, avg. loss: 2.81992\n",
      "Step #2501, epoch #250, avg. loss: 2.35575\n",
      "Step #3001, epoch #300, avg. loss: 2.01378\n",
      "Step #3501, epoch #350, avg. loss: 1.81269\n",
      "Step #4001, epoch #400, avg. loss: 1.69704\n",
      "Step #4501, epoch #450, avg. loss: 1.57168\n",
      "Step #1, avg. loss: 761.08862\n",
      "Step #501, epoch #50, avg. loss: 20.73128\n",
      "Step #1001, epoch #100, avg. loss: 5.27556\n",
      "Step #1501, epoch #150, avg. loss: 3.65221\n",
      "Step #2001, epoch #200, avg. loss: 2.93514\n",
      "Step #2501, epoch #250, avg. loss: 2.44181\n",
      "Step #3001, epoch #300, avg. loss: 2.17821\n",
      "Step #3501, epoch #350, avg. loss: 1.94542\n",
      "Step #4001, epoch #400, avg. loss: 1.80118\n",
      "Step #4501, epoch #450, avg. loss: 1.66456\n",
      "Step #1, avg. loss: 819.45123\n",
      "Step #501, epoch #50, avg. loss: 20.39347\n",
      "Step #1001, epoch #100, avg. loss: 5.07573\n",
      "Step #1501, epoch #150, avg. loss: 3.28391\n",
      "Step #2001, epoch #200, avg. loss: 2.61726\n",
      "Step #2501, epoch #250, avg. loss: 2.23573\n",
      "Step #3001, epoch #300, avg. loss: 1.97679\n",
      "Step #3501, epoch #350, avg. loss: 1.83400\n",
      "Step #4001, epoch #400, avg. loss: 1.73670\n",
      "Step #4501, epoch #450, avg. loss: 1.62476\n",
      "Step #1, avg. loss: 733.39868\n",
      "Step #501, epoch #50, avg. loss: 19.71729\n",
      "Step #1001, epoch #100, avg. loss: 4.68341\n",
      "Step #1501, epoch #150, avg. loss: 3.36003\n",
      "Step #2001, epoch #200, avg. loss: 2.66240\n",
      "Step #2501, epoch #250, avg. loss: 2.26140\n",
      "Step #3001, epoch #300, avg. loss: 2.03117\n",
      "Step #3501, epoch #350, avg. loss: 1.89311\n",
      "Step #4001, epoch #400, avg. loss: 1.79068\n",
      "Step #4501, epoch #450, avg. loss: 1.66854\n",
      "Step #1, avg. loss: 712.46362\n",
      "Step #501, epoch #50, avg. loss: 20.41641\n",
      "Step #1001, epoch #100, avg. loss: 4.68757\n",
      "Step #1501, epoch #150, avg. loss: 3.22448\n",
      "Step #2001, epoch #200, avg. loss: 2.59927\n",
      "Step #2501, epoch #250, avg. loss: 2.23400\n",
      "Step #3001, epoch #300, avg. loss: 1.98523\n",
      "Step #3501, epoch #350, avg. loss: 1.81657\n",
      "Step #4001, epoch #400, avg. loss: 1.68398\n",
      "Step #4501, epoch #450, avg. loss: 1.58340\n",
      "Step #1, avg. loss: 729.18677\n",
      "Step #501, epoch #50, avg. loss: 20.51071\n",
      "Step #1001, epoch #100, avg. loss: 5.36860\n",
      "Step #1501, epoch #150, avg. loss: 3.50570\n",
      "Step #2001, epoch #200, avg. loss: 2.77881\n",
      "Step #2501, epoch #250, avg. loss: 2.40266\n",
      "Step #3001, epoch #300, avg. loss: 2.13406\n",
      "Step #3501, epoch #350, avg. loss: 1.91582\n",
      "Step #4001, epoch #400, avg. loss: 1.77479\n",
      "Step #4501, epoch #450, avg. loss: 1.67244\n",
      "Step #1, avg. loss: 766.71344\n",
      "Step #501, epoch #50, avg. loss: 20.44278\n",
      "Step #1001, epoch #100, avg. loss: 4.90963\n",
      "Step #1501, epoch #150, avg. loss: 3.34161\n",
      "Step #2001, epoch #200, avg. loss: 2.70589\n",
      "Step #2501, epoch #250, avg. loss: 2.31885\n",
      "Step #3001, epoch #300, avg. loss: 2.07153\n",
      "Step #3501, epoch #350, avg. loss: 1.85539\n",
      "Step #4001, epoch #400, avg. loss: 1.70489\n",
      "Step #4501, epoch #450, avg. loss: 1.60160\n",
      "Step #1, avg. loss: 784.71906\n",
      "Step #501, epoch #50, avg. loss: 20.66075\n",
      "Step #1001, epoch #100, avg. loss: 5.51481\n",
      "Step #1501, epoch #150, avg. loss: 3.55993\n",
      "Step #2001, epoch #200, avg. loss: 2.81579\n",
      "Step #2501, epoch #250, avg. loss: 2.38771\n",
      "Step #3001, epoch #300, avg. loss: 2.13707\n",
      "Step #3501, epoch #350, avg. loss: 1.98619\n",
      "Step #4001, epoch #400, avg. loss: 1.85292\n",
      "Step #4501, epoch #450, avg. loss: 1.73535\n",
      "Step #1, avg. loss: 777.86700\n",
      "Step #501, epoch #50, avg. loss: 20.60867\n",
      "Step #1001, epoch #100, avg. loss: 5.33121\n",
      "Step #1501, epoch #150, avg. loss: 3.67966\n",
      "Step #2001, epoch #200, avg. loss: 2.84768\n",
      "Step #2501, epoch #250, avg. loss: 2.42989\n",
      "Step #3001, epoch #300, avg. loss: 2.20004\n",
      "Step #3501, epoch #350, avg. loss: 2.00894\n",
      "Step #4001, epoch #400, avg. loss: 1.91347\n",
      "Step #4501, epoch #450, avg. loss: 1.82426\n",
      "10-fold CV Acc Mean:  0.929019792754\n",
      "CV Scores:  0.922208266469, 0.927878201123, 0.932464640116, 0.912672084607, 0.910438327449, 0.91912177908, 0.950438965362, 0.948231467543, 0.928014520363, 0.938729675425\n"
     ]
    },
    {
     "data": {
      "text/plain": [
       "TensorFlowEstimator(batch_size=100, class_weight=None,\n",
       "          continue_training=False, early_stopping_rounds=None,\n",
       "          keep_checkpoint_every_n_hours=10000, learning_rate=0.1,\n",
       "          max_to_keep=5, model_fn=<function tanh_dnn at 0x1159b5488>,\n",
       "          n_classes=0, num_cores=4, optimizer='SGD', steps=5000,\n",
       "          tf_master='', tf_random_seed=42, verbose=1)"
      ]
     },
     "execution_count": 8,
     "metadata": {},
     "output_type": "execute_result"
    }
   ],
   "source": [
    "r.dnn_cross_val(X, Y)"
   ]
  },
  {
   "cell_type": "code",
   "execution_count": null,
   "metadata": {
    "collapsed": true
   },
   "outputs": [],
   "source": []
  }
 ],
 "metadata": {
  "kernelspec": {
   "display_name": "Python 2",
   "language": "python",
   "name": "python2"
  },
  "language_info": {
   "codemirror_mode": {
    "name": "ipython",
    "version": 2
   },
   "file_extension": ".py",
   "mimetype": "text/x-python",
   "name": "python",
   "nbconvert_exporter": "python",
   "pygments_lexer": "ipython2",
   "version": "2.7.11"
  }
 },
 "nbformat": 4,
 "nbformat_minor": 0
}
