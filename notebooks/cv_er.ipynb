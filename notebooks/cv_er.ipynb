{
 "cells": [
  {
   "cell_type": "markdown",
   "metadata": {},
   "source": [
    "## ER Cross Validation\n",
    "\n",
    "### Train Features\n",
    "1. land surface temp (wp_LST.day)\n",
    "2. sensible heat flux (wp_le)\n",
    "3. latent heat flux (wp_h)\n",
    "4. net radiation (net_rad)\n",
    "5. avg air temp (avg_air_temp)"
   ]
  },
  {
   "cell_type": "code",
   "execution_count": 1,
   "metadata": {
    "collapsed": false
   },
   "outputs": [],
   "source": [
    "import sys\n",
    "sys.path.append('../')\n",
    "import exp\n",
    "import regression as r"
   ]
  },
  {
   "cell_type": "code",
   "execution_count": 2,
   "metadata": {
    "collapsed": false
   },
   "outputs": [
    {
     "data": {
      "text/html": [
       "<div>\n",
       "<table border=\"1\" class=\"dataframe\">\n",
       "  <thead>\n",
       "    <tr style=\"text-align: right;\">\n",
       "      <th></th>\n",
       "      <th>avg_air_temp</th>\n",
       "      <th>avg_soil_temp</th>\n",
       "      <th>doy</th>\n",
       "      <th>net_rad</th>\n",
       "      <th>year</th>\n",
       "      <th>wp_ch4_gf</th>\n",
       "      <th>wp_co2_gf</th>\n",
       "      <th>wp_er</th>\n",
       "      <th>wp_gpp</th>\n",
       "      <th>wp_h</th>\n",
       "      <th>...</th>\n",
       "      <th>mb_bnd2</th>\n",
       "      <th>mb_bnd3</th>\n",
       "      <th>mb_bnd7</th>\n",
       "      <th>mb_evi</th>\n",
       "      <th>mb_lswi</th>\n",
       "      <th>mb_ndvi</th>\n",
       "      <th>wp_LST.day</th>\n",
       "      <th>wp_LST.night</th>\n",
       "      <th>mb_LST.day</th>\n",
       "      <th>mb_LST.night</th>\n",
       "    </tr>\n",
       "  </thead>\n",
       "  <tbody>\n",
       "    <tr>\n",
       "      <th>0</th>\n",
       "      <td>19.2</td>\n",
       "      <td>22.3</td>\n",
       "      <td>195</td>\n",
       "      <td>190.0</td>\n",
       "      <td>2012</td>\n",
       "      <td>4332.368657</td>\n",
       "      <td>-304.542172</td>\n",
       "      <td>145.072376</td>\n",
       "      <td>-449.614548</td>\n",
       "      <td>1447.549899</td>\n",
       "      <td>...</td>\n",
       "      <td>0.187575</td>\n",
       "      <td>0.025212</td>\n",
       "      <td>0.053137</td>\n",
       "      <td>0.298162</td>\n",
       "      <td>0.562370</td>\n",
       "      <td>0.6491</td>\n",
       "      <td>29.61</td>\n",
       "      <td>17.2850</td>\n",
       "      <td>26.3350</td>\n",
       "      <td>18.6450</td>\n",
       "    </tr>\n",
       "    <tr>\n",
       "      <th>1</th>\n",
       "      <td>19.3</td>\n",
       "      <td>21.8</td>\n",
       "      <td>196</td>\n",
       "      <td>189.0</td>\n",
       "      <td>2012</td>\n",
       "      <td>5305.896768</td>\n",
       "      <td>-335.648791</td>\n",
       "      <td>150.278671</td>\n",
       "      <td>-485.927462</td>\n",
       "      <td>1921.833137</td>\n",
       "      <td>...</td>\n",
       "      <td>0.186562</td>\n",
       "      <td>0.024569</td>\n",
       "      <td>0.051306</td>\n",
       "      <td>0.296544</td>\n",
       "      <td>0.574074</td>\n",
       "      <td>0.6504</td>\n",
       "      <td>29.63</td>\n",
       "      <td>17.2325</td>\n",
       "      <td>26.4075</td>\n",
       "      <td>18.5925</td>\n",
       "    </tr>\n",
       "    <tr>\n",
       "      <th>2</th>\n",
       "      <td>20.3</td>\n",
       "      <td>21.9</td>\n",
       "      <td>197</td>\n",
       "      <td>187.0</td>\n",
       "      <td>2012</td>\n",
       "      <td>6215.371936</td>\n",
       "      <td>-313.150966</td>\n",
       "      <td>158.307017</td>\n",
       "      <td>-471.457982</td>\n",
       "      <td>1176.374322</td>\n",
       "      <td>...</td>\n",
       "      <td>0.185550</td>\n",
       "      <td>0.023925</td>\n",
       "      <td>0.049475</td>\n",
       "      <td>0.294925</td>\n",
       "      <td>0.585779</td>\n",
       "      <td>0.6517</td>\n",
       "      <td>29.65</td>\n",
       "      <td>17.1800</td>\n",
       "      <td>26.4800</td>\n",
       "      <td>18.5400</td>\n",
       "    </tr>\n",
       "    <tr>\n",
       "      <th>3</th>\n",
       "      <td>16.8</td>\n",
       "      <td>22.4</td>\n",
       "      <td>198</td>\n",
       "      <td>186.0</td>\n",
       "      <td>2012</td>\n",
       "      <td>7129.353337</td>\n",
       "      <td>-339.900067</td>\n",
       "      <td>153.561669</td>\n",
       "      <td>-493.461736</td>\n",
       "      <td>2575.636175</td>\n",
       "      <td>...</td>\n",
       "      <td>0.184537</td>\n",
       "      <td>0.023281</td>\n",
       "      <td>0.047644</td>\n",
       "      <td>0.293306</td>\n",
       "      <td>0.597483</td>\n",
       "      <td>0.6530</td>\n",
       "      <td>29.67</td>\n",
       "      <td>17.1275</td>\n",
       "      <td>26.5525</td>\n",
       "      <td>18.4875</td>\n",
       "    </tr>\n",
       "    <tr>\n",
       "      <th>4</th>\n",
       "      <td>17.0</td>\n",
       "      <td>21.5</td>\n",
       "      <td>199</td>\n",
       "      <td>151.0</td>\n",
       "      <td>2012</td>\n",
       "      <td>7070.768573</td>\n",
       "      <td>-319.771564</td>\n",
       "      <td>144.053480</td>\n",
       "      <td>-463.825044</td>\n",
       "      <td>1916.081260</td>\n",
       "      <td>...</td>\n",
       "      <td>0.183525</td>\n",
       "      <td>0.022638</td>\n",
       "      <td>0.045812</td>\n",
       "      <td>0.291687</td>\n",
       "      <td>0.609188</td>\n",
       "      <td>0.6543</td>\n",
       "      <td>29.69</td>\n",
       "      <td>17.0750</td>\n",
       "      <td>26.6250</td>\n",
       "      <td>18.4350</td>\n",
       "    </tr>\n",
       "  </tbody>\n",
       "</table>\n",
       "<p>5 rows × 35 columns</p>\n",
       "</div>"
      ],
      "text/plain": [
       "   avg_air_temp  avg_soil_temp  doy  net_rad  year    wp_ch4_gf   wp_co2_gf  \\\n",
       "0          19.2           22.3  195    190.0  2012  4332.368657 -304.542172   \n",
       "1          19.3           21.8  196    189.0  2012  5305.896768 -335.648791   \n",
       "2          20.3           21.9  197    187.0  2012  6215.371936 -313.150966   \n",
       "3          16.8           22.4  198    186.0  2012  7129.353337 -339.900067   \n",
       "4          17.0           21.5  199    151.0  2012  7070.768573 -319.771564   \n",
       "\n",
       "        wp_er      wp_gpp         wp_h      ...        mb_bnd2   mb_bnd3  \\\n",
       "0  145.072376 -449.614548  1447.549899      ...       0.187575  0.025212   \n",
       "1  150.278671 -485.927462  1921.833137      ...       0.186562  0.024569   \n",
       "2  158.307017 -471.457982  1176.374322      ...       0.185550  0.023925   \n",
       "3  153.561669 -493.461736  2575.636175      ...       0.184537  0.023281   \n",
       "4  144.053480 -463.825044  1916.081260      ...       0.183525  0.022638   \n",
       "\n",
       "    mb_bnd7    mb_evi   mb_lswi  mb_ndvi  wp_LST.day  wp_LST.night  \\\n",
       "0  0.053137  0.298162  0.562370   0.6491       29.61       17.2850   \n",
       "1  0.051306  0.296544  0.574074   0.6504       29.63       17.2325   \n",
       "2  0.049475  0.294925  0.585779   0.6517       29.65       17.1800   \n",
       "3  0.047644  0.293306  0.597483   0.6530       29.67       17.1275   \n",
       "4  0.045812  0.291687  0.609188   0.6543       29.69       17.0750   \n",
       "\n",
       "   mb_LST.day  mb_LST.night  \n",
       "0     26.3350       18.6450  \n",
       "1     26.4075       18.5925  \n",
       "2     26.4800       18.5400  \n",
       "3     26.5525       18.4875  \n",
       "4     26.6250       18.4350  \n",
       "\n",
       "[5 rows x 35 columns]"
      ]
     },
     "execution_count": 2,
     "metadata": {},
     "output_type": "execute_result"
    }
   ],
   "source": [
    "df = exp.get_exp1_data()\n",
    "df.head()"
   ]
  },
  {
   "cell_type": "code",
   "execution_count": 3,
   "metadata": {
    "collapsed": false
   },
   "outputs": [
    {
     "data": {
      "text/plain": [
       "(1028, 5)"
      ]
     },
     "execution_count": 3,
     "metadata": {},
     "output_type": "execute_result"
    }
   ],
   "source": [
    "train_cols = [\"wp_LST.day\", \"wp_h\", \"wp_le\", \"net_rad\", \"avg_air_temp\"]\n",
    "X, Y = exp.featurize(df, train_cols, [\"wp_er\"])\n",
    "X, Y, scaler = r.preprocess(X, Y)\n",
    "X.shape"
   ]
  },
  {
   "cell_type": "code",
   "execution_count": 4,
   "metadata": {
    "collapsed": false
   },
   "outputs": [
    {
     "name": "stdout",
     "output_type": "stream",
     "text": [
      "Running Random Forests Cross Validation...\n",
      "10-fold CV Acc Mean:  0.857337985068\n",
      "CV Scores:  0.874681300328, 0.868921260455, 0.875852586341, 0.795715040219, 0.878931276735, 0.870778789434, 0.816441920564, 0.873346636766, 0.808799028991, 0.909912010852\n",
      "OOB score: 0.858987369948\n",
      "Feature Importances:\n",
      "('wp_LST.day', 0.35723829424592546)\n",
      "('wp_le', 0.27470074099284991)\n",
      "('avg_air_temp', 0.20466046289626189)\n",
      "('net_rad', 0.11232348011625294)\n",
      "('wp_h', 0.051077021748709581)\n"
     ]
    },
    {
     "data": {
      "text/plain": [
       "RandomForestRegressor(bootstrap=True, criterion='mse', max_depth=None,\n",
       "           max_features='sqrt', max_leaf_nodes=None, min_samples_leaf=1,\n",
       "           min_samples_split=2, min_weight_fraction_leaf=0.0,\n",
       "           n_estimators=200, n_jobs=1, oob_score=True, random_state=None,\n",
       "           verbose=0, warm_start=False)"
      ]
     },
     "execution_count": 4,
     "metadata": {},
     "output_type": "execute_result"
    }
   ],
   "source": [
    "r.random_forests_cross_val(X, Y, feature_names=train_cols)"
   ]
  },
  {
   "cell_type": "code",
   "execution_count": 5,
   "metadata": {
    "collapsed": false
   },
   "outputs": [
    {
     "name": "stdout",
     "output_type": "stream",
     "text": [
      "Running Gradient Boosted Trees Cross Validation...\n",
      "10-fold CV Acc Mean:  0.831542752229\n",
      "CV Scores:  0.843868738761, 0.825418826583, 0.860540668419, 0.750514668222, 0.85004821534, 0.847289841829, 0.787336934199, 0.872095866296, 0.802508547125, 0.875805215519\n",
      "Feature Importances:\n",
      "('wp_LST.day', 0.24507578703390023)\n",
      "('wp_le', 0.22793142628476207)\n",
      "('net_rad', 0.20282047142521878)\n",
      "('wp_h', 0.17519659874738891)\n",
      "('avg_air_temp', 0.14897571650872984)\n"
     ]
    },
    {
     "data": {
      "text/plain": [
       "GradientBoostingRegressor(alpha=0.9, init=None, learning_rate=0.1, loss='ls',\n",
       "             max_depth=3, max_features='sqrt', max_leaf_nodes=None,\n",
       "             min_samples_leaf=1, min_samples_split=2,\n",
       "             min_weight_fraction_leaf=0.0, n_estimators=200,\n",
       "             presort='auto', random_state=None, subsample=1.0, verbose=0,\n",
       "             warm_start=False)"
      ]
     },
     "execution_count": 5,
     "metadata": {},
     "output_type": "execute_result"
    }
   ],
   "source": [
    "r.xgb_trees_cross_val(X, Y, feature_names=train_cols)"
   ]
  },
  {
   "cell_type": "code",
   "execution_count": 6,
   "metadata": {
    "collapsed": false
   },
   "outputs": [
    {
     "name": "stdout",
     "output_type": "stream",
     "text": [
      "Running SVC Cross Validation...\n",
      "10-fold CV Acc Mean:  0.771182127639\n",
      "CV Scores:  0.814170348489, 0.762410402554, 0.731739100746, 0.71165490303, 0.811906981889, 0.745120307347, 0.767490936253, 0.830131465544, 0.778929000292, 0.758267830248\n"
     ]
    },
    {
     "data": {
      "text/plain": [
       "SVR(C=1.0, cache_size=200, coef0=0.0, degree=3, epsilon=0.1, gamma='auto',\n",
       "  kernel='rbf', max_iter=-1, shrinking=True, tol=0.001, verbose=False)"
      ]
     },
     "execution_count": 6,
     "metadata": {},
     "output_type": "execute_result"
    }
   ],
   "source": [
    "r.svc_cross_val(X, Y)"
   ]
  },
  {
   "cell_type": "code",
   "execution_count": 7,
   "metadata": {
    "collapsed": false
   },
   "outputs": [
    {
     "name": "stdout",
     "output_type": "stream",
     "text": [
      "Running Neural Network Cross Validation...\n",
      "Step #1, avg. loss: 16350.42480\n",
      "Step #501, epoch #50, avg. loss: 1104.73523\n",
      "Step #1001, epoch #100, avg. loss: 330.36124\n",
      "Step #1501, epoch #150, avg. loss: 280.13647\n",
      "Step #2001, epoch #200, avg. loss: 241.87595\n",
      "Step #2501, epoch #250, avg. loss: 212.85681\n",
      "Step #3001, epoch #300, avg. loss: 188.88225\n",
      "Step #3501, epoch #350, avg. loss: 172.81244\n",
      "Step #4001, epoch #400, avg. loss: 155.33730\n",
      "Step #4501, epoch #450, avg. loss: 141.31464\n",
      "Step #1, avg. loss: 16027.59473\n",
      "Step #501, epoch #50, avg. loss: 1125.91309\n",
      "Step #1001, epoch #100, avg. loss: 336.02170\n",
      "Step #1501, epoch #150, avg. loss: 279.05429\n",
      "Step #2001, epoch #200, avg. loss: 237.17784\n",
      "Step #2501, epoch #250, avg. loss: 200.79710\n",
      "Step #3001, epoch #300, avg. loss: 175.23323\n",
      "Step #3501, epoch #350, avg. loss: 156.59172\n",
      "Step #4001, epoch #400, avg. loss: 138.03038\n",
      "Step #4501, epoch #450, avg. loss: 118.97449\n",
      "Step #1, avg. loss: 15808.92383\n",
      "Step #501, epoch #50, avg. loss: 1081.33923\n",
      "Step #1001, epoch #100, avg. loss: 321.87589\n",
      "Step #1501, epoch #150, avg. loss: 279.25763\n",
      "Step #2001, epoch #200, avg. loss: 250.78468\n",
      "Step #2501, epoch #250, avg. loss: 221.99008\n",
      "Step #3001, epoch #300, avg. loss: 198.03218\n",
      "Step #3501, epoch #350, avg. loss: 183.05835\n",
      "Step #4001, epoch #400, avg. loss: 166.70744\n",
      "Step #4501, epoch #450, avg. loss: 150.20764\n",
      "Step #1, avg. loss: 15586.91992\n",
      "Step #501, epoch #50, avg. loss: 1120.30322\n",
      "Step #1001, epoch #100, avg. loss: 325.29138\n",
      "Step #1501, epoch #150, avg. loss: 271.23544\n",
      "Step #2001, epoch #200, avg. loss: 231.11459\n",
      "Step #2501, epoch #250, avg. loss: 201.42827\n",
      "Step #3001, epoch #300, avg. loss: 179.68703\n",
      "Step #3501, epoch #350, avg. loss: 163.42339\n",
      "Step #4001, epoch #400, avg. loss: 149.60675\n",
      "Step #4501, epoch #450, avg. loss: 139.08490\n",
      "Step #1, avg. loss: 18132.15820\n",
      "Step #501, epoch #50, avg. loss: 1112.99023\n",
      "Step #1001, epoch #100, avg. loss: 330.06351\n",
      "Step #1501, epoch #150, avg. loss: 272.07025\n",
      "Step #2001, epoch #200, avg. loss: 226.85417\n",
      "Step #2501, epoch #250, avg. loss: 199.10504\n",
      "Step #3001, epoch #300, avg. loss: 178.13625\n",
      "Step #3501, epoch #350, avg. loss: 158.97505\n",
      "Step #4001, epoch #400, avg. loss: 145.99228\n",
      "Step #4501, epoch #450, avg. loss: 133.86034\n",
      "Step #1, avg. loss: 17856.26562\n",
      "Step #501, epoch #50, avg. loss: 1110.57922\n",
      "Step #1001, epoch #100, avg. loss: 340.83044\n",
      "Step #1501, epoch #150, avg. loss: 283.79517\n",
      "Step #2001, epoch #200, avg. loss: 244.90674\n",
      "Step #2501, epoch #250, avg. loss: 213.83734\n",
      "Step #3001, epoch #300, avg. loss: 189.50313\n",
      "Step #3501, epoch #350, avg. loss: 170.87338\n",
      "Step #4001, epoch #400, avg. loss: 150.70468\n",
      "Step #4501, epoch #450, avg. loss: 139.25000\n",
      "Step #1, avg. loss: 14905.46484\n",
      "Step #501, epoch #50, avg. loss: 1083.19971\n",
      "Step #1001, epoch #100, avg. loss: 321.05765\n",
      "Step #1501, epoch #150, avg. loss: 270.97980\n",
      "Step #2001, epoch #200, avg. loss: 237.92271\n",
      "Step #2501, epoch #250, avg. loss: 209.47020\n",
      "Step #3001, epoch #300, avg. loss: 189.90752\n",
      "Step #3501, epoch #350, avg. loss: 172.88950\n",
      "Step #4001, epoch #400, avg. loss: 157.61316\n",
      "Step #4501, epoch #450, avg. loss: 143.45927\n",
      "Step #1, avg. loss: 16436.09961\n",
      "Step #501, epoch #50, avg. loss: 1130.16968\n",
      "Step #1001, epoch #100, avg. loss: 324.75604\n",
      "Step #1501, epoch #150, avg. loss: 273.26074\n",
      "Step #2001, epoch #200, avg. loss: 242.62584\n",
      "Step #2501, epoch #250, avg. loss: 216.40807\n",
      "Step #3001, epoch #300, avg. loss: 195.18794\n",
      "Step #3501, epoch #350, avg. loss: 179.63098\n",
      "Step #4001, epoch #400, avg. loss: 165.53584\n",
      "Step #4501, epoch #450, avg. loss: 155.08725\n",
      "Step #1, avg. loss: 13857.40723\n",
      "Step #501, epoch #50, avg. loss: 1095.95203\n",
      "Step #1001, epoch #100, avg. loss: 308.25989\n",
      "Step #1501, epoch #150, avg. loss: 251.01936\n",
      "Step #2001, epoch #200, avg. loss: 221.39262\n",
      "Step #2501, epoch #250, avg. loss: 197.36674\n",
      "Step #3001, epoch #300, avg. loss: 179.03218\n",
      "Step #3501, epoch #350, avg. loss: 162.87315\n",
      "Step #4001, epoch #400, avg. loss: 149.59727\n",
      "Step #4501, epoch #450, avg. loss: 142.25188\n",
      "Step #1, avg. loss: 14841.83398\n",
      "Step #501, epoch #50, avg. loss: 1127.63757\n",
      "Step #1001, epoch #100, avg. loss: 342.28149\n",
      "Step #1501, epoch #150, avg. loss: 288.38657\n",
      "Step #2001, epoch #200, avg. loss: 253.98074\n",
      "Step #2501, epoch #250, avg. loss: 219.51749\n",
      "Step #3001, epoch #300, avg. loss: 192.70050\n",
      "Step #3501, epoch #350, avg. loss: 175.25195\n",
      "Step #4001, epoch #400, avg. loss: 155.95351\n",
      "Step #4501, epoch #450, avg. loss: 137.89185\n",
      "10-fold CV Acc Mean:  0.834475189694\n",
      "CV Scores:  0.839281539462, 0.852163265897, 0.885181327003, 0.826442605501, 0.802316209209, 0.864667668418, 0.849691767404, 0.838782450267, 0.806753547626, 0.779471516155\n"
     ]
    },
    {
     "data": {
      "text/plain": [
       "TensorFlowEstimator(batch_size=100, class_weight=None,\n",
       "          continue_training=False, early_stopping_rounds=None,\n",
       "          keep_checkpoint_every_n_hours=10000, learning_rate=0.1,\n",
       "          max_to_keep=5, model_fn=<function tanh_dnn at 0x10df84b90>,\n",
       "          n_classes=0, num_cores=4, optimizer='SGD', steps=5000,\n",
       "          tf_master='', tf_random_seed=42, verbose=1)"
      ]
     },
     "execution_count": 7,
     "metadata": {},
     "output_type": "execute_result"
    }
   ],
   "source": [
    "r.dnn_cross_val(X, Y)"
   ]
  }
 ],
 "metadata": {
  "kernelspec": {
   "display_name": "Python 2",
   "language": "python",
   "name": "python2"
  },
  "language_info": {
   "codemirror_mode": {
    "name": "ipython",
    "version": 2
   },
   "file_extension": ".py",
   "mimetype": "text/x-python",
   "name": "python",
   "nbconvert_exporter": "python",
   "pygments_lexer": "ipython2",
   "version": "2.7.11"
  }
 },
 "nbformat": 4,
 "nbformat_minor": 0
}
