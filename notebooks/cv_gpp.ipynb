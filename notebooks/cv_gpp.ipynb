{
 "cells": [
  {
   "cell_type": "markdown",
   "metadata": {},
   "source": [
    "## GPP Cross Validation\n",
    "\n",
    "### Train Features\n",
    "1. land surface temp (wp_LST.day)\n",
    "2. sensible heat flux (wp_le)\n",
    "3. latent heat flux (wp_h)\n",
    "4. net radiation (net_rad)\n",
    "5. avg air temp (avg_air_temp)"
   ]
  },
  {
   "cell_type": "code",
   "execution_count": 1,
   "metadata": {
    "collapsed": false
   },
   "outputs": [],
   "source": [
    "import sys\n",
    "sys.path.append('../')\n",
    "import exp\n",
    "import regression as r"
   ]
  },
  {
   "cell_type": "code",
   "execution_count": 2,
   "metadata": {
    "collapsed": false
   },
   "outputs": [
    {
     "data": {
      "text/html": [
       "<div>\n",
       "<table border=\"1\" class=\"dataframe\">\n",
       "  <thead>\n",
       "    <tr style=\"text-align: right;\">\n",
       "      <th></th>\n",
       "      <th>avg_air_temp</th>\n",
       "      <th>avg_soil_temp</th>\n",
       "      <th>doy</th>\n",
       "      <th>net_rad</th>\n",
       "      <th>year</th>\n",
       "      <th>wp_ch4_gf</th>\n",
       "      <th>wp_co2_gf</th>\n",
       "      <th>wp_er</th>\n",
       "      <th>wp_gpp</th>\n",
       "      <th>wp_h</th>\n",
       "      <th>...</th>\n",
       "      <th>mb_bnd2</th>\n",
       "      <th>mb_bnd3</th>\n",
       "      <th>mb_bnd7</th>\n",
       "      <th>mb_evi</th>\n",
       "      <th>mb_lswi</th>\n",
       "      <th>mb_ndvi</th>\n",
       "      <th>wp_LST.day</th>\n",
       "      <th>wp_LST.night</th>\n",
       "      <th>mb_LST.day</th>\n",
       "      <th>mb_LST.night</th>\n",
       "    </tr>\n",
       "  </thead>\n",
       "  <tbody>\n",
       "    <tr>\n",
       "      <th>0</th>\n",
       "      <td>19.2</td>\n",
       "      <td>22.3</td>\n",
       "      <td>195</td>\n",
       "      <td>190.0</td>\n",
       "      <td>2012</td>\n",
       "      <td>4332.368657</td>\n",
       "      <td>-304.542172</td>\n",
       "      <td>145.072376</td>\n",
       "      <td>-449.614548</td>\n",
       "      <td>1447.549899</td>\n",
       "      <td>...</td>\n",
       "      <td>0.187575</td>\n",
       "      <td>0.025212</td>\n",
       "      <td>0.053137</td>\n",
       "      <td>0.298162</td>\n",
       "      <td>0.562370</td>\n",
       "      <td>0.6491</td>\n",
       "      <td>29.61</td>\n",
       "      <td>17.2850</td>\n",
       "      <td>26.3350</td>\n",
       "      <td>18.6450</td>\n",
       "    </tr>\n",
       "    <tr>\n",
       "      <th>1</th>\n",
       "      <td>19.3</td>\n",
       "      <td>21.8</td>\n",
       "      <td>196</td>\n",
       "      <td>189.0</td>\n",
       "      <td>2012</td>\n",
       "      <td>5305.896768</td>\n",
       "      <td>-335.648791</td>\n",
       "      <td>150.278671</td>\n",
       "      <td>-485.927462</td>\n",
       "      <td>1921.833137</td>\n",
       "      <td>...</td>\n",
       "      <td>0.186562</td>\n",
       "      <td>0.024569</td>\n",
       "      <td>0.051306</td>\n",
       "      <td>0.296544</td>\n",
       "      <td>0.574074</td>\n",
       "      <td>0.6504</td>\n",
       "      <td>29.63</td>\n",
       "      <td>17.2325</td>\n",
       "      <td>26.4075</td>\n",
       "      <td>18.5925</td>\n",
       "    </tr>\n",
       "    <tr>\n",
       "      <th>2</th>\n",
       "      <td>20.3</td>\n",
       "      <td>21.9</td>\n",
       "      <td>197</td>\n",
       "      <td>187.0</td>\n",
       "      <td>2012</td>\n",
       "      <td>6215.371936</td>\n",
       "      <td>-313.150966</td>\n",
       "      <td>158.307017</td>\n",
       "      <td>-471.457982</td>\n",
       "      <td>1176.374322</td>\n",
       "      <td>...</td>\n",
       "      <td>0.185550</td>\n",
       "      <td>0.023925</td>\n",
       "      <td>0.049475</td>\n",
       "      <td>0.294925</td>\n",
       "      <td>0.585779</td>\n",
       "      <td>0.6517</td>\n",
       "      <td>29.65</td>\n",
       "      <td>17.1800</td>\n",
       "      <td>26.4800</td>\n",
       "      <td>18.5400</td>\n",
       "    </tr>\n",
       "    <tr>\n",
       "      <th>3</th>\n",
       "      <td>16.8</td>\n",
       "      <td>22.4</td>\n",
       "      <td>198</td>\n",
       "      <td>186.0</td>\n",
       "      <td>2012</td>\n",
       "      <td>7129.353337</td>\n",
       "      <td>-339.900067</td>\n",
       "      <td>153.561669</td>\n",
       "      <td>-493.461736</td>\n",
       "      <td>2575.636175</td>\n",
       "      <td>...</td>\n",
       "      <td>0.184537</td>\n",
       "      <td>0.023281</td>\n",
       "      <td>0.047644</td>\n",
       "      <td>0.293306</td>\n",
       "      <td>0.597483</td>\n",
       "      <td>0.6530</td>\n",
       "      <td>29.67</td>\n",
       "      <td>17.1275</td>\n",
       "      <td>26.5525</td>\n",
       "      <td>18.4875</td>\n",
       "    </tr>\n",
       "    <tr>\n",
       "      <th>4</th>\n",
       "      <td>17.0</td>\n",
       "      <td>21.5</td>\n",
       "      <td>199</td>\n",
       "      <td>151.0</td>\n",
       "      <td>2012</td>\n",
       "      <td>7070.768573</td>\n",
       "      <td>-319.771564</td>\n",
       "      <td>144.053480</td>\n",
       "      <td>-463.825044</td>\n",
       "      <td>1916.081260</td>\n",
       "      <td>...</td>\n",
       "      <td>0.183525</td>\n",
       "      <td>0.022638</td>\n",
       "      <td>0.045812</td>\n",
       "      <td>0.291687</td>\n",
       "      <td>0.609188</td>\n",
       "      <td>0.6543</td>\n",
       "      <td>29.69</td>\n",
       "      <td>17.0750</td>\n",
       "      <td>26.6250</td>\n",
       "      <td>18.4350</td>\n",
       "    </tr>\n",
       "  </tbody>\n",
       "</table>\n",
       "<p>5 rows × 35 columns</p>\n",
       "</div>"
      ],
      "text/plain": [
       "   avg_air_temp  avg_soil_temp  doy  net_rad  year    wp_ch4_gf   wp_co2_gf  \\\n",
       "0          19.2           22.3  195    190.0  2012  4332.368657 -304.542172   \n",
       "1          19.3           21.8  196    189.0  2012  5305.896768 -335.648791   \n",
       "2          20.3           21.9  197    187.0  2012  6215.371936 -313.150966   \n",
       "3          16.8           22.4  198    186.0  2012  7129.353337 -339.900067   \n",
       "4          17.0           21.5  199    151.0  2012  7070.768573 -319.771564   \n",
       "\n",
       "        wp_er      wp_gpp         wp_h      ...        mb_bnd2   mb_bnd3  \\\n",
       "0  145.072376 -449.614548  1447.549899      ...       0.187575  0.025212   \n",
       "1  150.278671 -485.927462  1921.833137      ...       0.186562  0.024569   \n",
       "2  158.307017 -471.457982  1176.374322      ...       0.185550  0.023925   \n",
       "3  153.561669 -493.461736  2575.636175      ...       0.184537  0.023281   \n",
       "4  144.053480 -463.825044  1916.081260      ...       0.183525  0.022638   \n",
       "\n",
       "    mb_bnd7    mb_evi   mb_lswi  mb_ndvi  wp_LST.day  wp_LST.night  \\\n",
       "0  0.053137  0.298162  0.562370   0.6491       29.61       17.2850   \n",
       "1  0.051306  0.296544  0.574074   0.6504       29.63       17.2325   \n",
       "2  0.049475  0.294925  0.585779   0.6517       29.65       17.1800   \n",
       "3  0.047644  0.293306  0.597483   0.6530       29.67       17.1275   \n",
       "4  0.045812  0.291687  0.609188   0.6543       29.69       17.0750   \n",
       "\n",
       "   mb_LST.day  mb_LST.night  \n",
       "0     26.3350       18.6450  \n",
       "1     26.4075       18.5925  \n",
       "2     26.4800       18.5400  \n",
       "3     26.5525       18.4875  \n",
       "4     26.6250       18.4350  \n",
       "\n",
       "[5 rows x 35 columns]"
      ]
     },
     "execution_count": 2,
     "metadata": {},
     "output_type": "execute_result"
    }
   ],
   "source": [
    "df = exp.get_exp1_data()\n",
    "df.head()"
   ]
  },
  {
   "cell_type": "code",
   "execution_count": 3,
   "metadata": {
    "collapsed": false
   },
   "outputs": [
    {
     "data": {
      "text/plain": [
       "(1028, 5)"
      ]
     },
     "execution_count": 3,
     "metadata": {},
     "output_type": "execute_result"
    }
   ],
   "source": [
    "train_cols, test_col = [\"wp_LST.day\", \"wp_h\", \"wp_le\", \"net_rad\", \"avg_air_temp\"], [\"wp_gpp\"]\n",
    "X, Y = exp.featurize(df, train_cols, test_col)\n",
    "X, Y, scaler = r.preprocess(X, Y)\n",
    "X.shape"
   ]
  },
  {
   "cell_type": "code",
   "execution_count": 4,
   "metadata": {
    "collapsed": false
   },
   "outputs": [
    {
     "name": "stdout",
     "output_type": "stream",
     "text": [
      "Running Random Forests Cross Validation...\n",
      "10-fold CV Acc Mean:  0.964011367098\n",
      "CV Scores:  0.970600667244, 0.97292056026, 0.957975371701, 0.969341044856, 0.963943616533, 0.965190673189, 0.955981110189, 0.971687813858, 0.965378433929, 0.94709437922\n",
      "OOB score: 0.966359057551\n",
      "Feature Importances:\n",
      "('wp_le', 0.47292035976486047)\n",
      "('avg_air_temp', 0.19854174077415057)\n",
      "('wp_LST.day', 0.17300088081180409)\n",
      "('net_rad', 0.091350854605378423)\n",
      "('wp_h', 0.064186164043806213)\n"
     ]
    },
    {
     "data": {
      "text/plain": [
       "RandomForestRegressor(bootstrap=True, criterion='mse', max_depth=None,\n",
       "           max_features='sqrt', max_leaf_nodes=None, min_samples_leaf=1,\n",
       "           min_samples_split=2, min_weight_fraction_leaf=0.0,\n",
       "           n_estimators=200, n_jobs=1, oob_score=True, random_state=None,\n",
       "           verbose=0, warm_start=False)"
      ]
     },
     "execution_count": 4,
     "metadata": {},
     "output_type": "execute_result"
    }
   ],
   "source": [
    "r.random_forests_cross_val(X, Y, feature_names=train_cols)"
   ]
  },
  {
   "cell_type": "code",
   "execution_count": 5,
   "metadata": {
    "collapsed": false
   },
   "outputs": [
    {
     "name": "stdout",
     "output_type": "stream",
     "text": [
      "Running Gradient Boosted Trees Cross Validation...\n",
      "10-fold CV Acc Mean:  0.958020963678\n",
      "CV Scores:  0.960313445228, 0.971822962645, 0.948890007524, 0.968716947013, 0.963557501668, 0.966275027418, 0.947417333265, 0.959585920339, 0.965585499488, 0.928044992188\n",
      "Feature Importances:\n",
      "('wp_le', 0.26003105489316436)\n",
      "('wp_LST.day', 0.21898209250287359)\n",
      "('avg_air_temp', 0.18065229823965012)\n",
      "('wp_h', 0.17214776066141813)\n",
      "('net_rad', 0.16818679370289363)\n"
     ]
    },
    {
     "data": {
      "text/plain": [
       "GradientBoostingRegressor(alpha=0.9, init=None, learning_rate=0.1, loss='ls',\n",
       "             max_depth=3, max_features='sqrt', max_leaf_nodes=None,\n",
       "             min_samples_leaf=1, min_samples_split=2,\n",
       "             min_weight_fraction_leaf=0.0, n_estimators=200,\n",
       "             presort='auto', random_state=None, subsample=1.0, verbose=0,\n",
       "             warm_start=False)"
      ]
     },
     "execution_count": 5,
     "metadata": {},
     "output_type": "execute_result"
    }
   ],
   "source": [
    "r.xgb_trees_cross_val(X, Y, feature_names=train_cols)"
   ]
  },
  {
   "cell_type": "code",
   "execution_count": 6,
   "metadata": {
    "collapsed": false
   },
   "outputs": [
    {
     "name": "stdout",
     "output_type": "stream",
     "text": [
      "Running SVC Cross Validation...\n",
      "10-fold CV Acc Mean:  0.765652737339\n",
      "CV Scores:  0.791653231446, 0.782110794402, 0.735547240311, 0.762951197884, 0.799536491205, 0.720804818969, 0.743036360498, 0.801830140862, 0.729880136881, 0.789176960933\n"
     ]
    },
    {
     "data": {
      "text/plain": [
       "SVR(C=1.0, cache_size=200, coef0=0.0, degree=3, epsilon=0.1, gamma='auto',\n",
       "  kernel='rbf', max_iter=-1, shrinking=True, tol=0.001, verbose=False)"
      ]
     },
     "execution_count": 6,
     "metadata": {},
     "output_type": "execute_result"
    }
   ],
   "source": [
    "r.svc_cross_val(X, Y)"
   ]
  },
  {
   "cell_type": "code",
   "execution_count": 7,
   "metadata": {
    "collapsed": false
   },
   "outputs": [
    {
     "name": "stdout",
     "output_type": "stream",
     "text": [
      "Running Neural Network Cross Validation...\n",
      "Step #1, avg. loss: 42447.06641\n",
      "Step #501, epoch #50, avg. loss: 8013.66553\n",
      "Step #1001, epoch #100, avg. loss: 955.20636\n",
      "Step #1501, epoch #150, avg. loss: 694.03760\n",
      "Step #2001, epoch #200, avg. loss: 570.13538\n",
      "Step #2501, epoch #250, avg. loss: 487.88144\n",
      "Step #3001, epoch #300, avg. loss: 422.94794\n",
      "Step #3501, epoch #350, avg. loss: 383.09039\n",
      "Step #4001, epoch #400, avg. loss: 352.45505\n",
      "Step #4501, epoch #450, avg. loss: 325.94156\n",
      "Step #1, avg. loss: 47971.96484\n",
      "Step #501, epoch #50, avg. loss: 8121.67920\n",
      "Step #1001, epoch #100, avg. loss: 989.80200\n",
      "Step #1501, epoch #150, avg. loss: 708.66199\n",
      "Step #2001, epoch #200, avg. loss: 565.21014\n",
      "Step #2501, epoch #250, avg. loss: 463.32104\n",
      "Step #3001, epoch #300, avg. loss: 404.36319\n",
      "Step #3501, epoch #350, avg. loss: 353.23444\n",
      "Step #4001, epoch #400, avg. loss: 315.22656\n",
      "Step #4501, epoch #450, avg. loss: 285.52097\n",
      "Step #1, avg. loss: 60797.49609\n",
      "Step #501, epoch #50, avg. loss: 7937.10400\n",
      "Step #1001, epoch #100, avg. loss: 984.94434\n",
      "Step #1501, epoch #150, avg. loss: 747.38684\n",
      "Step #2001, epoch #200, avg. loss: 599.80560\n",
      "Step #2501, epoch #250, avg. loss: 513.20398\n",
      "Step #3001, epoch #300, avg. loss: 450.68759\n",
      "Step #3501, epoch #350, avg. loss: 394.92783\n",
      "Step #4001, epoch #400, avg. loss: 353.86490\n",
      "Step #4501, epoch #450, avg. loss: 316.57782\n",
      "Step #1, avg. loss: 38489.17969\n",
      "Step #501, epoch #50, avg. loss: 7946.07080\n",
      "Step #1001, epoch #100, avg. loss: 969.79761\n",
      "Step #1501, epoch #150, avg. loss: 739.27264\n",
      "Step #2001, epoch #200, avg. loss: 622.25714\n",
      "Step #2501, epoch #250, avg. loss: 543.43176\n",
      "Step #3001, epoch #300, avg. loss: 489.58176\n",
      "Step #3501, epoch #350, avg. loss: 437.75412\n",
      "Step #4001, epoch #400, avg. loss: 395.11383\n",
      "Step #4501, epoch #450, avg. loss: 348.12744\n",
      "Step #1, avg. loss: 64284.43359\n",
      "Step #501, epoch #50, avg. loss: 8190.42090\n",
      "Step #1001, epoch #100, avg. loss: 1000.46356\n",
      "Step #1501, epoch #150, avg. loss: 708.99493\n",
      "Step #2001, epoch #200, avg. loss: 564.87433\n",
      "Step #2501, epoch #250, avg. loss: 481.84946\n",
      "Step #3001, epoch #300, avg. loss: 415.83994\n",
      "Step #3501, epoch #350, avg. loss: 366.95755\n",
      "Step #4001, epoch #400, avg. loss: 331.45279\n",
      "Step #4501, epoch #450, avg. loss: 295.45477\n",
      "Step #1, avg. loss: 60146.55859\n",
      "Step #501, epoch #50, avg. loss: 8023.11670\n",
      "Step #1001, epoch #100, avg. loss: 982.14508\n",
      "Step #1501, epoch #150, avg. loss: 746.96313\n",
      "Step #2001, epoch #200, avg. loss: 618.95868\n",
      "Step #2501, epoch #250, avg. loss: 521.97046\n",
      "Step #3001, epoch #300, avg. loss: 453.32907\n",
      "Step #3501, epoch #350, avg. loss: 407.24307\n",
      "Step #4001, epoch #400, avg. loss: 364.19687\n",
      "Step #4501, epoch #450, avg. loss: 328.13614\n",
      "Step #1, avg. loss: 61401.01562\n",
      "Step #501, epoch #50, avg. loss: 7973.74707\n",
      "Step #1001, epoch #100, avg. loss: 1005.63110\n",
      "Step #1501, epoch #150, avg. loss: 720.33740\n",
      "Step #2001, epoch #200, avg. loss: 581.86823\n",
      "Step #2501, epoch #250, avg. loss: 487.52179\n",
      "Step #3001, epoch #300, avg. loss: 424.46649\n",
      "Step #3501, epoch #350, avg. loss: 383.38605\n",
      "Step #4001, epoch #400, avg. loss: 348.01855\n",
      "Step #4501, epoch #450, avg. loss: 310.25745\n",
      "Step #1, avg. loss: 54751.17969\n",
      "Step #501, epoch #50, avg. loss: 7926.29395\n",
      "Step #1001, epoch #100, avg. loss: 957.79663\n",
      "Step #1501, epoch #150, avg. loss: 710.25500\n",
      "Step #2001, epoch #200, avg. loss: 570.74335\n",
      "Step #2501, epoch #250, avg. loss: 499.84256\n",
      "Step #3001, epoch #300, avg. loss: 423.91193\n",
      "Step #3501, epoch #350, avg. loss: 374.11176\n",
      "Step #4001, epoch #400, avg. loss: 334.96570\n",
      "Step #4501, epoch #450, avg. loss: 301.44061\n",
      "Step #1, avg. loss: 47975.51562\n",
      "Step #501, epoch #50, avg. loss: 7914.35547\n",
      "Step #1001, epoch #100, avg. loss: 944.16760\n",
      "Step #1501, epoch #150, avg. loss: 711.15125\n",
      "Step #2001, epoch #200, avg. loss: 581.31189\n",
      "Step #2501, epoch #250, avg. loss: 501.35156\n",
      "Step #3001, epoch #300, avg. loss: 433.20786\n",
      "Step #3501, epoch #350, avg. loss: 388.43500\n",
      "Step #4001, epoch #400, avg. loss: 342.11359\n",
      "Step #4501, epoch #450, avg. loss: 305.33438\n",
      "Step #1, avg. loss: 45937.35156\n",
      "Step #501, epoch #50, avg. loss: 8058.71436\n",
      "Step #1001, epoch #100, avg. loss: 981.00635\n",
      "Step #1501, epoch #150, avg. loss: 706.39612\n",
      "Step #2001, epoch #200, avg. loss: 595.98364\n",
      "Step #2501, epoch #250, avg. loss: 507.61792\n",
      "Step #3001, epoch #300, avg. loss: 463.67755\n",
      "Step #3501, epoch #350, avg. loss: 412.50311\n",
      "Step #4001, epoch #400, avg. loss: 378.06216\n",
      "Step #4501, epoch #450, avg. loss: 340.77194\n",
      "10-fold CV Acc Mean:  0.966100338623\n",
      "CV Scores:  0.950913112776, 0.952261886999, 0.971859227595, 0.978049306969, 0.968530634712, 0.980188896161, 0.974570536416, 0.96964448504, 0.953607707562, 0.961377591996\n"
     ]
    },
    {
     "data": {
      "text/plain": [
       "TensorFlowEstimator(batch_size=100, class_weight=None,\n",
       "          continue_training=False, early_stopping_rounds=None,\n",
       "          keep_checkpoint_every_n_hours=10000, learning_rate=0.1,\n",
       "          max_to_keep=5, model_fn=<function tanh_dnn at 0x103e76b90>,\n",
       "          n_classes=0, num_cores=4, optimizer='SGD', steps=5000,\n",
       "          tf_master='', tf_random_seed=42, verbose=1)"
      ]
     },
     "execution_count": 7,
     "metadata": {},
     "output_type": "execute_result"
    }
   ],
   "source": [
    "r.dnn_cross_val(X, Y)"
   ]
  }
 ],
 "metadata": {
  "kernelspec": {
   "display_name": "Python 2",
   "language": "python",
   "name": "python2"
  },
  "language_info": {
   "codemirror_mode": {
    "name": "ipython",
    "version": 2
   },
   "file_extension": ".py",
   "mimetype": "text/x-python",
   "name": "python",
   "nbconvert_exporter": "python",
   "pygments_lexer": "ipython2",
   "version": "2.7.11"
  }
 },
 "nbformat": 4,
 "nbformat_minor": 0
}
