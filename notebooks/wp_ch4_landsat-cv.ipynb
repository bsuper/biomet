{
 "cells": [
  {
   "cell_type": "code",
   "execution_count": 1,
   "metadata": {
    "collapsed": false
   },
   "outputs": [],
   "source": [
    "import sys\n",
    "sys.path.append('../')\n",
    "import exp\n",
    "import regression as r"
   ]
  },
  {
   "cell_type": "code",
   "execution_count": 2,
   "metadata": {
    "collapsed": false
   },
   "outputs": [
    {
     "data": {
      "text/html": [
       "<div>\n",
       "<table border=\"1\" class=\"dataframe\">\n",
       "  <thead>\n",
       "    <tr style=\"text-align: right;\">\n",
       "      <th></th>\n",
       "      <th>PET</th>\n",
       "      <th>VPD</th>\n",
       "      <th>air_temp</th>\n",
       "      <th>doy</th>\n",
       "      <th>precip</th>\n",
       "      <th>soil_temp</th>\n",
       "      <th>sw_in</th>\n",
       "      <th>wind_speed</th>\n",
       "      <th>year</th>\n",
       "      <th>wp_RNET</th>\n",
       "      <th>...</th>\n",
       "      <th>wp_evi</th>\n",
       "      <th>wp_lswi2</th>\n",
       "      <th>wp_ndvi</th>\n",
       "      <th>wp_LST.day</th>\n",
       "      <th>wp_LST.night</th>\n",
       "      <th>LW_IN.wp</th>\n",
       "      <th>LW_IN.si</th>\n",
       "      <th>LW_IN</th>\n",
       "      <th>p-pet</th>\n",
       "      <th>p-et</th>\n",
       "    </tr>\n",
       "  </thead>\n",
       "  <tbody>\n",
       "    <tr>\n",
       "      <th>0</th>\n",
       "      <td>7.33</td>\n",
       "      <td>0.808731</td>\n",
       "      <td>19.179167</td>\n",
       "      <td>195</td>\n",
       "      <td>0.0</td>\n",
       "      <td>22.320833</td>\n",
       "      <td>30.3156</td>\n",
       "      <td>4.958333</td>\n",
       "      <td>2012</td>\n",
       "      <td>20.798342</td>\n",
       "      <td>...</td>\n",
       "      <td>0.377924</td>\n",
       "      <td>0.413754</td>\n",
       "      <td>0.594708</td>\n",
       "      <td>31.567899</td>\n",
       "      <td>17.204530</td>\n",
       "      <td>29.105844</td>\n",
       "      <td>24.562860</td>\n",
       "      <td>29.105844</td>\n",
       "      <td>-7.33</td>\n",
       "      <td>-5.566712</td>\n",
       "    </tr>\n",
       "    <tr>\n",
       "      <th>1</th>\n",
       "      <td>6.52</td>\n",
       "      <td>0.755945</td>\n",
       "      <td>19.325000</td>\n",
       "      <td>196</td>\n",
       "      <td>0.0</td>\n",
       "      <td>21.770833</td>\n",
       "      <td>29.6316</td>\n",
       "      <td>3.791667</td>\n",
       "      <td>2012</td>\n",
       "      <td>20.573593</td>\n",
       "      <td>...</td>\n",
       "      <td>0.381184</td>\n",
       "      <td>0.420529</td>\n",
       "      <td>0.597960</td>\n",
       "      <td>29.570000</td>\n",
       "      <td>17.390000</td>\n",
       "      <td>29.760736</td>\n",
       "      <td>26.096551</td>\n",
       "      <td>29.760736</td>\n",
       "      <td>-6.52</td>\n",
       "      <td>-5.507494</td>\n",
       "    </tr>\n",
       "    <tr>\n",
       "      <th>2</th>\n",
       "      <td>6.92</td>\n",
       "      <td>0.858993</td>\n",
       "      <td>20.262500</td>\n",
       "      <td>197</td>\n",
       "      <td>0.0</td>\n",
       "      <td>21.908333</td>\n",
       "      <td>29.3472</td>\n",
       "      <td>4.137500</td>\n",
       "      <td>2012</td>\n",
       "      <td>20.475931</td>\n",
       "      <td>...</td>\n",
       "      <td>0.384444</td>\n",
       "      <td>0.427304</td>\n",
       "      <td>0.601212</td>\n",
       "      <td>31.097908</td>\n",
       "      <td>17.235624</td>\n",
       "      <td>30.299442</td>\n",
       "      <td>25.986418</td>\n",
       "      <td>30.299442</td>\n",
       "      <td>-6.92</td>\n",
       "      <td>-6.115032</td>\n",
       "    </tr>\n",
       "    <tr>\n",
       "      <th>3</th>\n",
       "      <td>6.35</td>\n",
       "      <td>0.477617</td>\n",
       "      <td>16.791667</td>\n",
       "      <td>198</td>\n",
       "      <td>0.0</td>\n",
       "      <td>22.420833</td>\n",
       "      <td>28.8180</td>\n",
       "      <td>6.033333</td>\n",
       "      <td>2012</td>\n",
       "      <td>20.571045</td>\n",
       "      <td>...</td>\n",
       "      <td>0.387704</td>\n",
       "      <td>0.434079</td>\n",
       "      <td>0.604465</td>\n",
       "      <td>30.868718</td>\n",
       "      <td>17.248525</td>\n",
       "      <td>28.978868</td>\n",
       "      <td>25.122209</td>\n",
       "      <td>28.978868</td>\n",
       "      <td>-6.35</td>\n",
       "      <td>-4.633187</td>\n",
       "    </tr>\n",
       "    <tr>\n",
       "      <th>4</th>\n",
       "      <td>5.13</td>\n",
       "      <td>0.556820</td>\n",
       "      <td>17.016667</td>\n",
       "      <td>199</td>\n",
       "      <td>0.0</td>\n",
       "      <td>21.529167</td>\n",
       "      <td>23.1732</td>\n",
       "      <td>4.350000</td>\n",
       "      <td>2012</td>\n",
       "      <td>16.757401</td>\n",
       "      <td>...</td>\n",
       "      <td>0.390963</td>\n",
       "      <td>0.440854</td>\n",
       "      <td>0.607717</td>\n",
       "      <td>30.657792</td>\n",
       "      <td>17.259663</td>\n",
       "      <td>30.653667</td>\n",
       "      <td>27.830367</td>\n",
       "      <td>30.653667</td>\n",
       "      <td>-5.13</td>\n",
       "      <td>-4.464786</td>\n",
       "    </tr>\n",
       "  </tbody>\n",
       "</table>\n",
       "<p>5 rows × 26 columns</p>\n",
       "</div>"
      ],
      "text/plain": [
       "    PET       VPD   air_temp  doy  precip  soil_temp    sw_in  wind_speed  \\\n",
       "0  7.33  0.808731  19.179167  195     0.0  22.320833  30.3156    4.958333   \n",
       "1  6.52  0.755945  19.325000  196     0.0  21.770833  29.6316    3.791667   \n",
       "2  6.92  0.858993  20.262500  197     0.0  21.908333  29.3472    4.137500   \n",
       "3  6.35  0.477617  16.791667  198     0.0  22.420833  28.8180    6.033333   \n",
       "4  5.13  0.556820  17.016667  199     0.0  21.529167  23.1732    4.350000   \n",
       "\n",
       "   year    wp_RNET    ...       wp_evi  wp_lswi2   wp_ndvi  wp_LST.day  \\\n",
       "0  2012  20.798342    ...     0.377924  0.413754  0.594708   31.567899   \n",
       "1  2012  20.573593    ...     0.381184  0.420529  0.597960   29.570000   \n",
       "2  2012  20.475931    ...     0.384444  0.427304  0.601212   31.097908   \n",
       "3  2012  20.571045    ...     0.387704  0.434079  0.604465   30.868718   \n",
       "4  2012  16.757401    ...     0.390963  0.440854  0.607717   30.657792   \n",
       "\n",
       "   wp_LST.night   LW_IN.wp   LW_IN.si      LW_IN  p-pet      p-et  \n",
       "0     17.204530  29.105844  24.562860  29.105844  -7.33 -5.566712  \n",
       "1     17.390000  29.760736  26.096551  29.760736  -6.52 -5.507494  \n",
       "2     17.235624  30.299442  25.986418  30.299442  -6.92 -6.115032  \n",
       "3     17.248525  28.978868  25.122209  28.978868  -6.35 -4.633187  \n",
       "4     17.259663  30.653667  27.830367  30.653667  -5.13 -4.464786  \n",
       "\n",
       "[5 rows x 26 columns]"
      ]
     },
     "execution_count": 2,
     "metadata": {},
     "output_type": "execute_result"
    }
   ],
   "source": [
    "df = exp.get_wp_energy_data_landsat()\n",
    "df[\"p-pet\"] = df[\"precip\"] - df[\"PET\"]\n",
    "df[\"p-et\"] = df[\"precip\"] - df[\"wp_le\"] * .408\n",
    "df.head()"
   ]
  },
  {
   "cell_type": "code",
   "execution_count": 3,
   "metadata": {
    "collapsed": false
   },
   "outputs": [
    {
     "name": "stdout",
     "output_type": "stream",
     "text": [
      "<class 'pandas.core.frame.DataFrame'>\n",
      "Int64Index: 1028 entries, 0 to 1027\n",
      "Data columns (total 26 columns):\n",
      "PET             1028 non-null float64\n",
      "VPD             1028 non-null float64\n",
      "air_temp        1028 non-null float64\n",
      "doy             1028 non-null int64\n",
      "precip          1028 non-null float64\n",
      "soil_temp       1028 non-null float64\n",
      "sw_in           1028 non-null float64\n",
      "wind_speed      1028 non-null float64\n",
      "year            1028 non-null int64\n",
      "wp_RNET         1028 non-null float64\n",
      "wp_ch4_gf       1028 non-null float64\n",
      "wp_co2_gf       1028 non-null float64\n",
      "wp_er           1028 non-null float64\n",
      "wp_gpp          1028 non-null float64\n",
      "wp_h            1028 non-null float64\n",
      "wp_le           1028 non-null float64\n",
      "wp_evi          1028 non-null float64\n",
      "wp_lswi2        1028 non-null float64\n",
      "wp_ndvi         1028 non-null float64\n",
      "wp_LST.day      1028 non-null float64\n",
      "wp_LST.night    1028 non-null float64\n",
      "LW_IN.wp        1028 non-null float64\n",
      "LW_IN.si        1028 non-null float64\n",
      "LW_IN           1028 non-null float64\n",
      "p-pet           1028 non-null float64\n",
      "p-et            1028 non-null float64\n",
      "dtypes: float64(24), int64(2)\n",
      "memory usage: 216.8 KB\n"
     ]
    }
   ],
   "source": [
    "df.info()"
   ]
  },
  {
   "cell_type": "code",
   "execution_count": 4,
   "metadata": {
    "collapsed": false
   },
   "outputs": [
    {
     "data": {
      "text/plain": [
       "(1028, 16)"
      ]
     },
     "execution_count": 4,
     "metadata": {},
     "output_type": "execute_result"
    }
   ],
   "source": [
    "train_cols = [\"precip\", \"sw_in\", \"LW_IN.wp\", \"VPD\", \"air_temp\", \"PET\", \"wind_speed\", \"wp_LST.day\",\n",
    "             \"wp_LST.night\", \"wp_evi\", \"wp_ndvi\", \"wp_lswi2\", \"wp_RNET\", \"wp_gpp\", \"p-pet\", \"p-et\"]\n",
    "X, Y = exp.featurize(df, train_cols, [\"wp_ch4_gf\"])\n",
    "X, Y, scaler = r.preprocess(X, Y)\n",
    "X.shape"
   ]
  },
  {
   "cell_type": "code",
   "execution_count": 5,
   "metadata": {
    "collapsed": false
   },
   "outputs": [
    {
     "name": "stdout",
     "output_type": "stream",
     "text": [
      "Running Random Forests Cross Validation...\n",
      "10-fold CV Acc Mean:  0.901226477958\n",
      "CV Scores:  0.886893486733, 0.925187185905, 0.911905293783, 0.904943864078, 0.90743324266, 0.892069455195, 0.870209629418, 0.897718431633, 0.910829551835, 0.905074638337\n",
      "OOB score: 0.907598072792\n",
      "Feature Importances:\n",
      "('wp_lswi2', 0.2638421110850942)\n",
      "('wp_evi', 0.17010029958984721)\n",
      "('wp_ndvi', 0.13077411069354977)\n",
      "('wp_LST.night', 0.094924975335362802)\n",
      "('air_temp', 0.056821493052004672)\n",
      "('wp_gpp', 0.054842109011606278)\n",
      "('wp_LST.day', 0.045108469098115583)\n",
      "('wp_RNET', 0.03384977563412557)\n",
      "('wind_speed', 0.029248160738115505)\n",
      "('p-et', 0.026060795576417942)\n",
      "('p-pet', 0.023044886693590994)\n",
      "('sw_in', 0.022722054839707032)\n",
      "('VPD', 0.016682214735471036)\n",
      "('PET', 0.016398818064333819)\n",
      "('LW_IN.wp', 0.01431645641195043)\n",
      "('precip', 0.0012632694407071678)\n"
     ]
    },
    {
     "data": {
      "text/plain": [
       "RandomForestRegressor(bootstrap=True, criterion='mse', max_depth=None,\n",
       "           max_features='sqrt', max_leaf_nodes=None, min_samples_leaf=1,\n",
       "           min_samples_split=2, min_weight_fraction_leaf=0.0,\n",
       "           n_estimators=200, n_jobs=1, oob_score=True, random_state=None,\n",
       "           verbose=0, warm_start=False)"
      ]
     },
     "execution_count": 5,
     "metadata": {},
     "output_type": "execute_result"
    }
   ],
   "source": [
    "r.random_forests_cross_val(X, Y, feature_names=train_cols)"
   ]
  },
  {
   "cell_type": "code",
   "execution_count": 6,
   "metadata": {
    "collapsed": false
   },
   "outputs": [
    {
     "name": "stdout",
     "output_type": "stream",
     "text": [
      "Running Gradient Boosted Trees Cross Validation...\n",
      "10-fold CV Acc Mean:  0.90290314063\n",
      "CV Scores:  0.897125026137, 0.922530464759, 0.91269611665, 0.896174742765, 0.912286337297, 0.883972344916, 0.885915733252, 0.891767826041, 0.915226980568, 0.911335833918\n",
      "Feature Importances:\n",
      "('wp_lswi2', 0.17264781610841012)\n",
      "('wp_ndvi', 0.14048681629310941)\n",
      "('wp_evi', 0.09418131803255099)\n",
      "('wp_LST.night', 0.08570290374145044)\n",
      "('wind_speed', 0.067541850845044604)\n",
      "('wp_gpp', 0.066599812593064953)\n",
      "('wp_LST.day', 0.061155533557921568)\n",
      "('sw_in', 0.050035230205214568)\n",
      "('VPD', 0.045274821135169334)\n",
      "('LW_IN.wp', 0.040422435834966096)\n",
      "('air_temp', 0.039312706203261424)\n",
      "('p-et', 0.038795715437156902)\n",
      "('wp_RNET', 0.034858524270828591)\n",
      "('p-pet', 0.030573732277578303)\n",
      "('PET', 0.028201373471926652)\n",
      "('precip', 0.0042094099923458807)\n"
     ]
    },
    {
     "data": {
      "text/plain": [
       "GradientBoostingRegressor(alpha=0.9, init=None, learning_rate=0.1, loss='ls',\n",
       "             max_depth=3, max_features='sqrt', max_leaf_nodes=None,\n",
       "             min_samples_leaf=1, min_samples_split=2,\n",
       "             min_weight_fraction_leaf=0.0, n_estimators=200,\n",
       "             presort='auto', random_state=None, subsample=1.0, verbose=0,\n",
       "             warm_start=False)"
      ]
     },
     "execution_count": 6,
     "metadata": {},
     "output_type": "execute_result"
    }
   ],
   "source": [
    "r.xgb_trees_cross_val(X, Y, feature_names=train_cols)"
   ]
  },
  {
   "cell_type": "code",
   "execution_count": 7,
   "metadata": {
    "collapsed": false
   },
   "outputs": [
    {
     "name": "stdout",
     "output_type": "stream",
     "text": [
      "Running SVC Cross Validation...\n",
      "10-fold CV Acc Mean:  0.0946671806219\n",
      "CV Scores:  0.0454689006457, 0.0788591655529, 0.132166698668, 0.0946576332891, -0.0023799788313, 0.167865055238, 0.0838773342286, 0.105354704795, 0.14208909333, 0.0987131993027\n"
     ]
    },
    {
     "data": {
      "text/plain": [
       "SVR(C=1.0, cache_size=200, coef0=0.0, degree=3, epsilon=0.1, gamma='auto',\n",
       "  kernel='rbf', max_iter=-1, shrinking=True, tol=0.001, verbose=False)"
      ]
     },
     "execution_count": 7,
     "metadata": {},
     "output_type": "execute_result"
    }
   ],
   "source": [
    "r.svc_cross_val(X, Y)"
   ]
  },
  {
   "cell_type": "code",
   "execution_count": 8,
   "metadata": {
    "collapsed": false
   },
   "outputs": [
    {
     "name": "stdout",
     "output_type": "stream",
     "text": [
      "Running Neural Network Cross Validation...\n",
      "Step #1, avg. loss: 1231880.50000\n",
      "Step #1001, epoch #100, avg. loss: 353316.15625\n",
      "Step #2001, epoch #200, avg. loss: 129205.35938\n",
      "Step #3001, epoch #300, avg. loss: 74146.38281\n",
      "Step #4001, epoch #400, avg. loss: 46194.24609\n",
      "Step #5001, epoch #500, avg. loss: 29990.21680\n",
      "Step #6001, epoch #600, avg. loss: 20172.93164\n",
      "Step #7001, epoch #700, avg. loss: 14496.40430\n",
      "Step #8001, epoch #800, avg. loss: 10920.71387\n",
      "Step #9001, epoch #900, avg. loss: 8656.18652\n",
      "Step #1, avg. loss: 1267960.50000\n",
      "Step #1001, epoch #100, avg. loss: 352867.18750\n",
      "Step #2001, epoch #200, avg. loss: 129861.84375\n",
      "Step #3001, epoch #300, avg. loss: 73852.88281\n",
      "Step #4001, epoch #400, avg. loss: 45992.95312\n",
      "Step #5001, epoch #500, avg. loss: 30313.77148\n",
      "Step #6001, epoch #600, avg. loss: 21127.19141\n",
      "Step #7001, epoch #700, avg. loss: 15432.69629\n",
      "Step #8001, epoch #800, avg. loss: 11832.70801\n",
      "Step #9001, epoch #900, avg. loss: 9839.35156\n",
      "Step #1, avg. loss: 1561581.75000\n",
      "Step #1001, epoch #100, avg. loss: 354746.96875\n",
      "Step #2001, epoch #200, avg. loss: 119470.64062\n",
      "Step #3001, epoch #300, avg. loss: 64260.33594\n",
      "Step #4001, epoch #400, avg. loss: 39123.33203\n",
      "Step #5001, epoch #500, avg. loss: 26389.50977\n",
      "Step #6001, epoch #600, avg. loss: 18714.16406\n",
      "Step #7001, epoch #700, avg. loss: 14466.46582\n",
      "Step #8001, epoch #800, avg. loss: 11341.39746\n",
      "Step #9001, epoch #900, avg. loss: 9170.70215\n",
      "Step #1, avg. loss: 1474379.37500\n",
      "Step #1001, epoch #100, avg. loss: 350681.40625\n",
      "Step #2001, epoch #200, avg. loss: 118925.12500\n",
      "Step #3001, epoch #300, avg. loss: 67223.61719\n",
      "Step #4001, epoch #400, avg. loss: 42051.07812\n",
      "Step #5001, epoch #500, avg. loss: 28426.64062\n",
      "Step #6001, epoch #600, avg. loss: 20179.58789\n",
      "Step #7001, epoch #700, avg. loss: 15063.52148\n",
      "Step #8001, epoch #800, avg. loss: 12095.24609\n",
      "Step #9001, epoch #900, avg. loss: 9529.86035\n",
      "Step #1, avg. loss: 1116629.62500\n",
      "Step #1001, epoch #100, avg. loss: 351359.71875\n",
      "Step #2001, epoch #200, avg. loss: 123344.68750\n",
      "Step #3001, epoch #300, avg. loss: 68572.92188\n",
      "Step #4001, epoch #400, avg. loss: 42122.61328\n",
      "Step #5001, epoch #500, avg. loss: 28219.76172\n",
      "Step #6001, epoch #600, avg. loss: 19935.58789\n",
      "Step #7001, epoch #700, avg. loss: 14898.15723\n",
      "Step #8001, epoch #800, avg. loss: 11459.73730\n",
      "Step #9001, epoch #900, avg. loss: 9323.08984\n",
      "Step #1, avg. loss: 1392976.62500\n",
      "Step #1001, epoch #100, avg. loss: 368826.43750\n",
      "Step #2001, epoch #200, avg. loss: 122437.17188\n",
      "Step #3001, epoch #300, avg. loss: 69729.00781\n",
      "Step #4001, epoch #400, avg. loss: 44752.16797\n",
      "Step #5001, epoch #500, avg. loss: 29781.25391\n",
      "Step #6001, epoch #600, avg. loss: 21104.55273\n",
      "Step #7001, epoch #700, avg. loss: 15774.57031\n",
      "Step #8001, epoch #800, avg. loss: 11645.78027\n",
      "Step #9001, epoch #900, avg. loss: 8959.38379\n",
      "Step #1, avg. loss: 1750028.50000\n",
      "Step #1001, epoch #100, avg. loss: 360679.50000\n",
      "Step #2001, epoch #200, avg. loss: 124632.68750\n",
      "Step #3001, epoch #300, avg. loss: 69796.44531\n",
      "Step #4001, epoch #400, avg. loss: 43457.04688\n",
      "Step #5001, epoch #500, avg. loss: 29101.58203\n",
      "Step #6001, epoch #600, avg. loss: 21824.29492\n",
      "Step #7001, epoch #700, avg. loss: 16428.51758\n",
      "Step #8001, epoch #800, avg. loss: 12962.72168\n",
      "Step #9001, epoch #900, avg. loss: 10468.62402\n",
      "Step #1, avg. loss: 1237782.12500\n",
      "Step #1001, epoch #100, avg. loss: 346913.03125\n",
      "Step #2001, epoch #200, avg. loss: 126219.81250\n",
      "Step #3001, epoch #300, avg. loss: 73015.57812\n",
      "Step #4001, epoch #400, avg. loss: 48273.89062\n",
      "Step #5001, epoch #500, avg. loss: 33436.30469\n",
      "Step #6001, epoch #600, avg. loss: 23434.16016\n",
      "Step #7001, epoch #700, avg. loss: 17234.06250\n",
      "Step #8001, epoch #800, avg. loss: 13589.21191\n",
      "Step #9001, epoch #900, avg. loss: 10827.65820\n",
      "Step #1, avg. loss: 1521188.37500\n",
      "Step #1001, epoch #100, avg. loss: 356299.53125\n",
      "Step #2001, epoch #200, avg. loss: 122231.28125\n",
      "Step #3001, epoch #300, avg. loss: 71154.36719\n",
      "Step #4001, epoch #400, avg. loss: 46502.06250\n",
      "Step #5001, epoch #500, avg. loss: 32440.24414\n",
      "Step #6001, epoch #600, avg. loss: 23212.93750\n",
      "Step #7001, epoch #700, avg. loss: 17463.85352\n",
      "Step #8001, epoch #800, avg. loss: 13365.80176\n",
      "Step #9001, epoch #900, avg. loss: 10611.87012\n",
      "Step #1, avg. loss: 1276013.62500\n",
      "Step #1001, epoch #100, avg. loss: 362584.53125\n",
      "Step #2001, epoch #200, avg. loss: 129413.13281\n",
      "Step #3001, epoch #300, avg. loss: 72985.92969\n",
      "Step #4001, epoch #400, avg. loss: 45722.60156\n",
      "Step #5001, epoch #500, avg. loss: 30935.05273\n",
      "Step #6001, epoch #600, avg. loss: 21721.09375\n",
      "Step #7001, epoch #700, avg. loss: 16335.56152\n",
      "Step #8001, epoch #800, avg. loss: 12895.04395\n",
      "Step #9001, epoch #900, avg. loss: 10869.27539\n",
      "10-fold CV Acc Mean:  0.853638226401\n",
      "CV Scores:  0.885100624772, 0.853648271056, 0.864982685726, 0.833082115613, 0.769988318477, 0.869920005147, 0.829438860997, 0.923794163128, 0.875494656132, 0.830932562965\n"
     ]
    },
    {
     "data": {
      "text/plain": [
       "TensorFlowEstimator(batch_size=100, class_weight=None,\n",
       "          continue_training=False, early_stopping_rounds=None,\n",
       "          keep_checkpoint_every_n_hours=10000, learning_rate=0.2,\n",
       "          max_to_keep=5, model_fn=<function tanh_dnn at 0x118caf9b0>,\n",
       "          n_classes=0, num_cores=4, optimizer='SGD', steps=10000,\n",
       "          tf_master='', tf_random_seed=42, verbose=1)"
      ]
     },
     "execution_count": 8,
     "metadata": {},
     "output_type": "execute_result"
    }
   ],
   "source": [
    "r.dnn_cross_val(X, Y, regr=r.dnn(nn_steps=10000, nn_lr=0.2, hidden_units=[50, 50]), k=10)"
   ]
  },
  {
   "cell_type": "code",
   "execution_count": null,
   "metadata": {
    "collapsed": true
   },
   "outputs": [],
   "source": []
  }
 ],
 "metadata": {
  "kernelspec": {
   "display_name": "Python 2",
   "language": "python",
   "name": "python2"
  },
  "language_info": {
   "codemirror_mode": {
    "name": "ipython",
    "version": 2
   },
   "file_extension": ".py",
   "mimetype": "text/x-python",
   "name": "python",
   "nbconvert_exporter": "python",
   "pygments_lexer": "ipython2",
   "version": "2.7.11"
  }
 },
 "nbformat": 4,
 "nbformat_minor": 0
}
