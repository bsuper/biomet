{
 "cells": [
  {
   "cell_type": "code",
   "execution_count": 1,
   "metadata": {
    "collapsed": false
   },
   "outputs": [],
   "source": [
    "import sys\n",
    "sys.path.append('../')\n",
    "import exp\n",
    "import regression as r"
   ]
  },
  {
   "cell_type": "code",
   "execution_count": 2,
   "metadata": {
    "collapsed": false
   },
   "outputs": [
    {
     "data": {
      "text/html": [
       "<div>\n",
       "<table border=\"1\" class=\"dataframe\">\n",
       "  <thead>\n",
       "    <tr style=\"text-align: right;\">\n",
       "      <th></th>\n",
       "      <th>PET</th>\n",
       "      <th>VPD</th>\n",
       "      <th>air_temp</th>\n",
       "      <th>doy</th>\n",
       "      <th>precip</th>\n",
       "      <th>soil_temp</th>\n",
       "      <th>sw_in</th>\n",
       "      <th>wind_speed</th>\n",
       "      <th>year</th>\n",
       "      <th>wp_RNET</th>\n",
       "      <th>...</th>\n",
       "      <th>wp_bnd7</th>\n",
       "      <th>wp_evi</th>\n",
       "      <th>wp_lswi2</th>\n",
       "      <th>wp_ndvi</th>\n",
       "      <th>wp_LST.day</th>\n",
       "      <th>wp_LST.night</th>\n",
       "      <th>LW_IN.wp</th>\n",
       "      <th>LW_IN.si</th>\n",
       "      <th>LW_IN</th>\n",
       "      <th>p-pet</th>\n",
       "    </tr>\n",
       "  </thead>\n",
       "  <tbody>\n",
       "    <tr>\n",
       "      <th>0</th>\n",
       "      <td>7.33</td>\n",
       "      <td>0.808731</td>\n",
       "      <td>19.179167</td>\n",
       "      <td>195</td>\n",
       "      <td>0.0</td>\n",
       "      <td>22.320833</td>\n",
       "      <td>30.3156</td>\n",
       "      <td>4.958333</td>\n",
       "      <td>2012</td>\n",
       "      <td>20.798342</td>\n",
       "      <td>...</td>\n",
       "      <td>0.112914</td>\n",
       "      <td>0.335343</td>\n",
       "      <td>0.354057</td>\n",
       "      <td>6052.592985</td>\n",
       "      <td>31.567899</td>\n",
       "      <td>17.204530</td>\n",
       "      <td>29.105844</td>\n",
       "      <td>24.562860</td>\n",
       "      <td>29.105844</td>\n",
       "      <td>-7.33</td>\n",
       "    </tr>\n",
       "    <tr>\n",
       "      <th>1</th>\n",
       "      <td>6.52</td>\n",
       "      <td>0.755945</td>\n",
       "      <td>19.325000</td>\n",
       "      <td>196</td>\n",
       "      <td>0.0</td>\n",
       "      <td>21.770833</td>\n",
       "      <td>29.6316</td>\n",
       "      <td>3.791667</td>\n",
       "      <td>2012</td>\n",
       "      <td>20.573593</td>\n",
       "      <td>...</td>\n",
       "      <td>0.112904</td>\n",
       "      <td>0.335286</td>\n",
       "      <td>0.354033</td>\n",
       "      <td>6178.213349</td>\n",
       "      <td>29.570000</td>\n",
       "      <td>17.390000</td>\n",
       "      <td>29.760736</td>\n",
       "      <td>26.096551</td>\n",
       "      <td>29.760736</td>\n",
       "      <td>-6.52</td>\n",
       "    </tr>\n",
       "    <tr>\n",
       "      <th>2</th>\n",
       "      <td>6.92</td>\n",
       "      <td>0.858993</td>\n",
       "      <td>20.262500</td>\n",
       "      <td>197</td>\n",
       "      <td>0.0</td>\n",
       "      <td>21.908333</td>\n",
       "      <td>29.3472</td>\n",
       "      <td>4.137500</td>\n",
       "      <td>2012</td>\n",
       "      <td>20.475931</td>\n",
       "      <td>...</td>\n",
       "      <td>0.112893</td>\n",
       "      <td>0.335229</td>\n",
       "      <td>0.354008</td>\n",
       "      <td>6313.892022</td>\n",
       "      <td>31.097908</td>\n",
       "      <td>17.235624</td>\n",
       "      <td>30.299442</td>\n",
       "      <td>25.986418</td>\n",
       "      <td>30.299442</td>\n",
       "      <td>-6.92</td>\n",
       "    </tr>\n",
       "    <tr>\n",
       "      <th>3</th>\n",
       "      <td>6.35</td>\n",
       "      <td>0.477617</td>\n",
       "      <td>16.791667</td>\n",
       "      <td>198</td>\n",
       "      <td>0.0</td>\n",
       "      <td>22.420833</td>\n",
       "      <td>28.8180</td>\n",
       "      <td>6.033333</td>\n",
       "      <td>2012</td>\n",
       "      <td>20.571045</td>\n",
       "      <td>...</td>\n",
       "      <td>0.112882</td>\n",
       "      <td>0.335173</td>\n",
       "      <td>0.353984</td>\n",
       "      <td>6459.629005</td>\n",
       "      <td>30.868718</td>\n",
       "      <td>17.248525</td>\n",
       "      <td>28.978868</td>\n",
       "      <td>25.122209</td>\n",
       "      <td>28.978868</td>\n",
       "      <td>-6.35</td>\n",
       "    </tr>\n",
       "    <tr>\n",
       "      <th>4</th>\n",
       "      <td>5.13</td>\n",
       "      <td>0.556820</td>\n",
       "      <td>17.016667</td>\n",
       "      <td>199</td>\n",
       "      <td>0.0</td>\n",
       "      <td>21.529167</td>\n",
       "      <td>23.1732</td>\n",
       "      <td>4.350000</td>\n",
       "      <td>2012</td>\n",
       "      <td>16.757401</td>\n",
       "      <td>...</td>\n",
       "      <td>0.112872</td>\n",
       "      <td>0.335116</td>\n",
       "      <td>0.353960</td>\n",
       "      <td>6615.424298</td>\n",
       "      <td>30.657792</td>\n",
       "      <td>17.259663</td>\n",
       "      <td>30.653667</td>\n",
       "      <td>27.830367</td>\n",
       "      <td>30.653667</td>\n",
       "      <td>-5.13</td>\n",
       "    </tr>\n",
       "  </tbody>\n",
       "</table>\n",
       "<p>5 rows × 29 columns</p>\n",
       "</div>"
      ],
      "text/plain": [
       "    PET       VPD   air_temp  doy  precip  soil_temp    sw_in  wind_speed  \\\n",
       "0  7.33  0.808731  19.179167  195     0.0  22.320833  30.3156    4.958333   \n",
       "1  6.52  0.755945  19.325000  196     0.0  21.770833  29.6316    3.791667   \n",
       "2  6.92  0.858993  20.262500  197     0.0  21.908333  29.3472    4.137500   \n",
       "3  6.35  0.477617  16.791667  198     0.0  22.420833  28.8180    6.033333   \n",
       "4  5.13  0.556820  17.016667  199     0.0  21.529167  23.1732    4.350000   \n",
       "\n",
       "   year    wp_RNET  ...     wp_bnd7    wp_evi  wp_lswi2      wp_ndvi  \\\n",
       "0  2012  20.798342  ...    0.112914  0.335343  0.354057  6052.592985   \n",
       "1  2012  20.573593  ...    0.112904  0.335286  0.354033  6178.213349   \n",
       "2  2012  20.475931  ...    0.112893  0.335229  0.354008  6313.892022   \n",
       "3  2012  20.571045  ...    0.112882  0.335173  0.353984  6459.629005   \n",
       "4  2012  16.757401  ...    0.112872  0.335116  0.353960  6615.424298   \n",
       "\n",
       "   wp_LST.day  wp_LST.night   LW_IN.wp   LW_IN.si      LW_IN  p-pet  \n",
       "0   31.567899     17.204530  29.105844  24.562860  29.105844  -7.33  \n",
       "1   29.570000     17.390000  29.760736  26.096551  29.760736  -6.52  \n",
       "2   31.097908     17.235624  30.299442  25.986418  30.299442  -6.92  \n",
       "3   30.868718     17.248525  28.978868  25.122209  28.978868  -6.35  \n",
       "4   30.657792     17.259663  30.653667  27.830367  30.653667  -5.13  \n",
       "\n",
       "[5 rows x 29 columns]"
      ]
     },
     "execution_count": 2,
     "metadata": {},
     "output_type": "execute_result"
    }
   ],
   "source": [
    "df = exp.get_wp_energy_data()\n",
    "df[\"p-pet\"] = df[\"precip\"] - df[\"PET\"]\n",
    "df.head()"
   ]
  },
  {
   "cell_type": "code",
   "execution_count": 3,
   "metadata": {
    "collapsed": false
   },
   "outputs": [
    {
     "name": "stdout",
     "output_type": "stream",
     "text": [
      "<class 'pandas.core.frame.DataFrame'>\n",
      "Int64Index: 1028 entries, 0 to 1027\n",
      "Data columns (total 29 columns):\n",
      "PET             1028 non-null float64\n",
      "VPD             1028 non-null float64\n",
      "air_temp        1028 non-null float64\n",
      "doy             1028 non-null int64\n",
      "precip          1028 non-null float64\n",
      "soil_temp       1028 non-null float64\n",
      "sw_in           1028 non-null float64\n",
      "wind_speed      1028 non-null float64\n",
      "year            1028 non-null int64\n",
      "wp_RNET         1028 non-null float64\n",
      "wp_ch4_gf       1028 non-null float64\n",
      "wp_co2_gf       1028 non-null float64\n",
      "wp_er           1028 non-null float64\n",
      "wp_gpp          1028 non-null float64\n",
      "wp_h            1028 non-null float64\n",
      "wp_le           1028 non-null float64\n",
      "wp_bnd1         1028 non-null float64\n",
      "wp_bnd2         1028 non-null float64\n",
      "wp_bnd3         1028 non-null float64\n",
      "wp_bnd7         1028 non-null float64\n",
      "wp_evi          1028 non-null float64\n",
      "wp_lswi2        1028 non-null float64\n",
      "wp_ndvi         1028 non-null float64\n",
      "wp_LST.day      1028 non-null float64\n",
      "wp_LST.night    1028 non-null float64\n",
      "LW_IN.wp        1028 non-null float64\n",
      "LW_IN.si        1028 non-null float64\n",
      "LW_IN           1028 non-null float64\n",
      "p-pet           1028 non-null float64\n",
      "dtypes: float64(27), int64(2)\n",
      "memory usage: 240.9 KB\n"
     ]
    }
   ],
   "source": [
    "df.info()"
   ]
  },
  {
   "cell_type": "code",
   "execution_count": 4,
   "metadata": {
    "collapsed": false
   },
   "outputs": [
    {
     "data": {
      "text/plain": [
       "(1028, 15)"
      ]
     },
     "execution_count": 4,
     "metadata": {},
     "output_type": "execute_result"
    }
   ],
   "source": [
    "train_cols = [\"precip\", \"sw_in\", \"LW_IN.wp\", \"VPD\", \"air_temp\", \"PET\", \"wind_speed\", \"wp_LST.day\",\n",
    "             \"wp_LST.night\", \"wp_evi\", \"wp_ndvi\", \"wp_lswi2\", \"wp_RNET\", \"wp_gpp\", \"p-pet\"]\n",
    "X, Y = exp.featurize(df, train_cols, [\"wp_ch4_gf\"])\n",
    "X, Y, scaler = r.preprocess(X, Y)\n",
    "X.shape"
   ]
  },
  {
   "cell_type": "code",
   "execution_count": 5,
   "metadata": {
    "collapsed": false
   },
   "outputs": [
    {
     "name": "stdout",
     "output_type": "stream",
     "text": [
      "Running Random Forests Cross Validation...\n",
      "10-fold CV Acc Mean:  0.890048221562\n",
      "CV Scores:  0.887082467807, 0.915472745611, 0.919925507106, 0.880612504986, 0.885720740663, 0.870920363381, 0.876188213585, 0.861358847006, 0.884176511696, 0.919024313783\n",
      "OOB score: 0.895099908122\n",
      "Feature Importances:\n",
      "('wp_gpp', 0.14266111752006524)\n",
      "('wp_LST.night', 0.12684454476208018)\n",
      "('wp_ndvi', 0.1226382582201764)\n",
      "('air_temp', 0.091275492273427183)\n",
      "('wp_lswi2', 0.089684076921122069)\n",
      "('wp_LST.day', 0.089473320243890597)\n",
      "('wp_evi', 0.082318235436756773)\n",
      "('wp_RNET', 0.051180135449871794)\n",
      "('p-pet', 0.044496370411775177)\n",
      "('sw_in', 0.043388271284714112)\n",
      "('PET', 0.038767744169195796)\n",
      "('wind_speed', 0.029814300123966405)\n",
      "('LW_IN.wp', 0.024345788976168424)\n",
      "('VPD', 0.022256403564487531)\n",
      "('precip', 0.00085594064230230999)\n"
     ]
    },
    {
     "data": {
      "text/plain": [
       "RandomForestRegressor(bootstrap=True, criterion='mse', max_depth=None,\n",
       "           max_features='sqrt', max_leaf_nodes=None, min_samples_leaf=1,\n",
       "           min_samples_split=2, min_weight_fraction_leaf=0.0,\n",
       "           n_estimators=200, n_jobs=1, oob_score=True, random_state=None,\n",
       "           verbose=0, warm_start=False)"
      ]
     },
     "execution_count": 5,
     "metadata": {},
     "output_type": "execute_result"
    }
   ],
   "source": [
    "r.random_forests_cross_val(X, Y, feature_names=train_cols)"
   ]
  },
  {
   "cell_type": "code",
   "execution_count": 6,
   "metadata": {
    "collapsed": false
   },
   "outputs": [
    {
     "name": "stdout",
     "output_type": "stream",
     "text": [
      "Running Gradient Boosted Trees Cross Validation...\n",
      "10-fold CV Acc Mean:  0.867686882612\n",
      "CV Scores:  0.900171240431, 0.912139441094, 0.893024916917, 0.86468068888, 0.85616948532, 0.854529176875, 0.835365168393, 0.803050364857, 0.858762719589, 0.89897562376\n",
      "Feature Importances:\n",
      "('wp_lswi2', 0.13169500361403158)\n",
      "('wp_ndvi', 0.11916986020122147)\n",
      "('wp_evi', 0.098940905253456501)\n",
      "('wp_gpp', 0.092320912995040111)\n",
      "('wp_LST.night', 0.091814775370416546)\n",
      "('wp_LST.day', 0.069719173308859905)\n",
      "('wind_speed', 0.062843420892641097)\n",
      "('wp_RNET', 0.058646240065800805)\n",
      "('LW_IN.wp', 0.057404744139206897)\n",
      "('air_temp', 0.053974952259013477)\n",
      "('VPD', 0.048218246993992631)\n",
      "('sw_in', 0.044876850856725714)\n",
      "('PET', 0.038020770528013358)\n",
      "('p-pet', 0.030782855823740015)\n",
      "('precip', 0.0015712876978398785)\n"
     ]
    },
    {
     "data": {
      "text/plain": [
       "GradientBoostingRegressor(alpha=0.9, init=None, learning_rate=0.1, loss='ls',\n",
       "             max_depth=3, max_features='sqrt', max_leaf_nodes=None,\n",
       "             min_samples_leaf=1, min_samples_split=2,\n",
       "             min_weight_fraction_leaf=0.0, n_estimators=200,\n",
       "             presort='auto', random_state=None, subsample=1.0, verbose=0,\n",
       "             warm_start=False)"
      ]
     },
     "execution_count": 6,
     "metadata": {},
     "output_type": "execute_result"
    }
   ],
   "source": [
    "r.xgb_trees_cross_val(X, Y, feature_names=train_cols)"
   ]
  },
  {
   "cell_type": "code",
   "execution_count": 7,
   "metadata": {
    "collapsed": false
   },
   "outputs": [
    {
     "name": "stdout",
     "output_type": "stream",
     "text": [
      "Running SVC Cross Validation...\n",
      "10-fold CV Acc Mean:  0.0762607093256\n",
      "CV Scores:  -0.0738174480601, 0.0885820995091, 0.127697448142, 0.000383236353717, 0.111832793235, 0.0621069301324, 0.0867776909491, 0.176758003732, 0.0842207407245, 0.0980655985385\n"
     ]
    },
    {
     "data": {
      "text/plain": [
       "SVR(C=1.0, cache_size=200, coef0=0.0, degree=3, epsilon=0.1, gamma='auto',\n",
       "  kernel='rbf', max_iter=-1, shrinking=True, tol=0.001, verbose=False)"
      ]
     },
     "execution_count": 7,
     "metadata": {},
     "output_type": "execute_result"
    }
   ],
   "source": [
    "r.svc_cross_val(X, Y)"
   ]
  },
  {
   "cell_type": "code",
   "execution_count": 16,
   "metadata": {
    "collapsed": false
   },
   "outputs": [
    {
     "name": "stdout",
     "output_type": "stream",
     "text": [
      "Running Neural Network Cross Validation...\n",
      "Step #1, avg. loss: 972478.87500\n",
      "Step #1001, epoch #100, avg. loss: 158981.70312\n",
      "Step #2001, epoch #200, avg. loss: 97869.50781\n",
      "Step #3001, epoch #300, avg. loss: 77708.04688\n",
      "Step #4001, epoch #400, avg. loss: 68245.14844\n",
      "Step #5001, epoch #500, avg. loss: 59790.46875\n",
      "Step #6001, epoch #600, avg. loss: 51954.58594\n",
      "Step #7001, epoch #700, avg. loss: 45593.22266\n",
      "Step #8001, epoch #800, avg. loss: 41861.60547\n",
      "Step #9001, epoch #900, avg. loss: 37770.65625\n",
      "Step #1, avg. loss: 1277740.00000\n",
      "Step #1001, epoch #100, avg. loss: 154434.68750\n",
      "Step #2001, epoch #200, avg. loss: 92122.70312\n",
      "Step #3001, epoch #300, avg. loss: 76219.69531\n",
      "Step #4001, epoch #400, avg. loss: 64891.32812\n",
      "Step #5001, epoch #500, avg. loss: 55986.75391\n",
      "Step #6001, epoch #600, avg. loss: 49334.45703\n",
      "Step #7001, epoch #700, avg. loss: 44876.83984\n",
      "Step #8001, epoch #800, avg. loss: 41326.89453\n",
      "Step #9001, epoch #900, avg. loss: 38516.38281\n",
      "Step #1, avg. loss: 1340261.87500\n",
      "Step #1001, epoch #100, avg. loss: 158926.95312\n",
      "Step #2001, epoch #200, avg. loss: 95986.38281\n",
      "Step #3001, epoch #300, avg. loss: 78436.11719\n",
      "Step #4001, epoch #400, avg. loss: 66330.28125\n",
      "Step #5001, epoch #500, avg. loss: 58666.07031\n",
      "Step #6001, epoch #600, avg. loss: 51180.17578\n",
      "Step #7001, epoch #700, avg. loss: 46728.67969\n",
      "Step #8001, epoch #800, avg. loss: 42133.61328\n",
      "Step #9001, epoch #900, avg. loss: 37413.64453\n",
      "Step #1, avg. loss: 1398045.75000\n",
      "Step #1001, epoch #100, avg. loss: 154062.62500\n",
      "Step #2001, epoch #200, avg. loss: 89845.68750\n",
      "Step #3001, epoch #300, avg. loss: 75163.02344\n",
      "Step #4001, epoch #400, avg. loss: 66065.50781\n",
      "Step #5001, epoch #500, avg. loss: 58811.32812\n",
      "Step #6001, epoch #600, avg. loss: 52659.89844\n",
      "Step #7001, epoch #700, avg. loss: 46138.49609\n",
      "Step #8001, epoch #800, avg. loss: 42371.73438\n",
      "Step #9001, epoch #900, avg. loss: 38283.78516\n",
      "Step #1, avg. loss: 2034880.62500\n",
      "Step #1001, epoch #100, avg. loss: 168077.26562\n",
      "Step #2001, epoch #200, avg. loss: 101017.57812\n",
      "Step #3001, epoch #300, avg. loss: 81640.54688\n",
      "Step #4001, epoch #400, avg. loss: 69766.43750\n",
      "Step #5001, epoch #500, avg. loss: 61018.25781\n",
      "Step #6001, epoch #600, avg. loss: 55293.12109\n",
      "Step #7001, epoch #700, avg. loss: 50356.24609\n",
      "Step #8001, epoch #800, avg. loss: 45478.25781\n",
      "Step #9001, epoch #900, avg. loss: 40710.48047\n",
      "Step #1, avg. loss: 1844363.37500\n",
      "Step #1001, epoch #100, avg. loss: 157667.84375\n",
      "Step #2001, epoch #200, avg. loss: 94534.45312\n",
      "Step #3001, epoch #300, avg. loss: 77973.64062\n",
      "Step #4001, epoch #400, avg. loss: 68292.39062\n",
      "Step #5001, epoch #500, avg. loss: 59458.32422\n",
      "Step #6001, epoch #600, avg. loss: 53576.21875\n",
      "Step #7001, epoch #700, avg. loss: 48585.94531\n",
      "Step #8001, epoch #800, avg. loss: 44993.66406\n",
      "Step #9001, epoch #900, avg. loss: 40633.60938\n",
      "Step #1, avg. loss: 1392738.87500\n",
      "Step #1001, epoch #100, avg. loss: 159447.87500\n",
      "Step #2001, epoch #200, avg. loss: 96135.51562\n",
      "Step #3001, epoch #300, avg. loss: 79438.71875\n",
      "Step #4001, epoch #400, avg. loss: 67721.25000\n",
      "Step #5001, epoch #500, avg. loss: 58984.58594\n",
      "Step #6001, epoch #600, avg. loss: 52236.88672\n",
      "Step #7001, epoch #700, avg. loss: 47381.35938\n",
      "Step #8001, epoch #800, avg. loss: 43815.74219\n",
      "Step #9001, epoch #900, avg. loss: 41234.50391\n",
      "Step #1, avg. loss: 1131984.00000\n",
      "Step #1001, epoch #100, avg. loss: 165977.59375\n",
      "Step #2001, epoch #200, avg. loss: 100601.92188\n",
      "Step #3001, epoch #300, avg. loss: 79887.11719\n",
      "Step #4001, epoch #400, avg. loss: 66292.85938\n",
      "Step #5001, epoch #500, avg. loss: 58061.60938\n",
      "Step #6001, epoch #600, avg. loss: 51374.83984\n",
      "Step #7001, epoch #700, avg. loss: 45434.71875\n",
      "Step #8001, epoch #800, avg. loss: 39769.76562\n",
      "Step #9001, epoch #900, avg. loss: 36016.94531\n",
      "Step #1, avg. loss: 1368956.37500\n",
      "Step #1001, epoch #100, avg. loss: 164867.96875\n",
      "Step #2001, epoch #200, avg. loss: 103625.09375\n",
      "Step #3001, epoch #300, avg. loss: 85234.89844\n",
      "Step #4001, epoch #400, avg. loss: 71114.32812\n",
      "Step #5001, epoch #500, avg. loss: 62016.78906\n",
      "Step #6001, epoch #600, avg. loss: 54688.91016\n",
      "Step #7001, epoch #700, avg. loss: 49617.63672\n",
      "Step #8001, epoch #800, avg. loss: 45535.42188\n",
      "Step #9001, epoch #900, avg. loss: 41672.79688\n",
      "Step #1, avg. loss: 1360581.75000\n",
      "Step #1001, epoch #100, avg. loss: 161214.04688\n",
      "Step #2001, epoch #200, avg. loss: 99245.96094\n",
      "Step #3001, epoch #300, avg. loss: 79730.22656\n",
      "Step #4001, epoch #400, avg. loss: 66537.96094\n",
      "Step #5001, epoch #500, avg. loss: 57378.46875\n",
      "Step #6001, epoch #600, avg. loss: 50784.82422\n",
      "Step #7001, epoch #700, avg. loss: 45587.75391\n",
      "Step #8001, epoch #800, avg. loss: 41177.00781\n",
      "Step #9001, epoch #900, avg. loss: 37971.17578\n",
      "10-fold CV Acc Mean:  0.80474568052\n",
      "CV Scores:  0.817285601186, 0.801112491315, 0.825908621364, 0.778459445862, 0.849586934507, 0.768503094329, 0.729008889223, 0.880223556957, 0.807198579109, 0.790169591346\n"
     ]
    },
    {
     "data": {
      "text/plain": [
       "TensorFlowEstimator(batch_size=100, class_weight=None,\n",
       "          continue_training=False, early_stopping_rounds=None,\n",
       "          keep_checkpoint_every_n_hours=10000, learning_rate=0.2,\n",
       "          max_to_keep=5, model_fn=<function tanh_dnn at 0x11a55d758>,\n",
       "          n_classes=0, num_cores=4, optimizer='SGD', steps=10000,\n",
       "          tf_master='', tf_random_seed=42, verbose=1)"
      ]
     },
     "execution_count": 16,
     "metadata": {},
     "output_type": "execute_result"
    }
   ],
   "source": [
    "r.dnn_cross_val(X, Y, regr=r.dnn(nn_steps=10000, nn_lr=0.2, hidden_units=[50, 50]), k=10)"
   ]
  },
  {
   "cell_type": "code",
   "execution_count": null,
   "metadata": {
    "collapsed": true
   },
   "outputs": [],
   "source": []
  }
 ],
 "metadata": {
  "kernelspec": {
   "display_name": "Python 2",
   "language": "python",
   "name": "python2"
  },
  "language_info": {
   "codemirror_mode": {
    "name": "ipython",
    "version": 2
   },
   "file_extension": ".py",
   "mimetype": "text/x-python",
   "name": "python",
   "nbconvert_exporter": "python",
   "pygments_lexer": "ipython2",
   "version": "2.7.11"
  }
 },
 "nbformat": 4,
 "nbformat_minor": 0
}
