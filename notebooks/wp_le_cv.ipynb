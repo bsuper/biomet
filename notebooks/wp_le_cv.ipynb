{
 "cells": [
  {
   "cell_type": "code",
   "execution_count": 1,
   "metadata": {
    "collapsed": false
   },
   "outputs": [],
   "source": [
    "import sys\n",
    "sys.path.append('../')\n",
    "import exp\n",
    "import regression as r"
   ]
  },
  {
   "cell_type": "code",
   "execution_count": 2,
   "metadata": {
    "collapsed": false
   },
   "outputs": [
    {
     "data": {
      "text/html": [
       "<div>\n",
       "<table border=\"1\" class=\"dataframe\">\n",
       "  <thead>\n",
       "    <tr style=\"text-align: right;\">\n",
       "      <th></th>\n",
       "      <th>PET</th>\n",
       "      <th>VPD</th>\n",
       "      <th>air_temp</th>\n",
       "      <th>doy</th>\n",
       "      <th>precip</th>\n",
       "      <th>soil_temp</th>\n",
       "      <th>sw_in</th>\n",
       "      <th>wind_speed</th>\n",
       "      <th>year</th>\n",
       "      <th>wp_RNET</th>\n",
       "      <th>...</th>\n",
       "      <th>wp_bnd3</th>\n",
       "      <th>wp_bnd7</th>\n",
       "      <th>wp_evi</th>\n",
       "      <th>wp_lswi2</th>\n",
       "      <th>wp_ndvi</th>\n",
       "      <th>wp_LST.day</th>\n",
       "      <th>wp_LST.night</th>\n",
       "      <th>LW_IN.wp</th>\n",
       "      <th>LW_IN.si</th>\n",
       "      <th>LW_IN</th>\n",
       "    </tr>\n",
       "  </thead>\n",
       "  <tbody>\n",
       "    <tr>\n",
       "      <th>0</th>\n",
       "      <td>7.33</td>\n",
       "      <td>0.808731</td>\n",
       "      <td>19.179167</td>\n",
       "      <td>195</td>\n",
       "      <td>0.0</td>\n",
       "      <td>22.320833</td>\n",
       "      <td>30.3156</td>\n",
       "      <td>4.958333</td>\n",
       "      <td>2012</td>\n",
       "      <td>20.798342</td>\n",
       "      <td>...</td>\n",
       "      <td>0.029934</td>\n",
       "      <td>0.112914</td>\n",
       "      <td>0.335343</td>\n",
       "      <td>0.354057</td>\n",
       "      <td>6052.592985</td>\n",
       "      <td>31.567899</td>\n",
       "      <td>17.204530</td>\n",
       "      <td>29.105844</td>\n",
       "      <td>24.562860</td>\n",
       "      <td>29.105844</td>\n",
       "    </tr>\n",
       "    <tr>\n",
       "      <th>1</th>\n",
       "      <td>6.52</td>\n",
       "      <td>0.755945</td>\n",
       "      <td>19.325000</td>\n",
       "      <td>196</td>\n",
       "      <td>0.0</td>\n",
       "      <td>21.770833</td>\n",
       "      <td>29.6316</td>\n",
       "      <td>3.791667</td>\n",
       "      <td>2012</td>\n",
       "      <td>20.573593</td>\n",
       "      <td>...</td>\n",
       "      <td>0.029932</td>\n",
       "      <td>0.112904</td>\n",
       "      <td>0.335286</td>\n",
       "      <td>0.354033</td>\n",
       "      <td>6178.213349</td>\n",
       "      <td>29.570000</td>\n",
       "      <td>17.390000</td>\n",
       "      <td>29.760736</td>\n",
       "      <td>26.096551</td>\n",
       "      <td>29.760736</td>\n",
       "    </tr>\n",
       "    <tr>\n",
       "      <th>2</th>\n",
       "      <td>6.92</td>\n",
       "      <td>0.858993</td>\n",
       "      <td>20.262500</td>\n",
       "      <td>197</td>\n",
       "      <td>0.0</td>\n",
       "      <td>21.908333</td>\n",
       "      <td>29.3472</td>\n",
       "      <td>4.137500</td>\n",
       "      <td>2012</td>\n",
       "      <td>20.475931</td>\n",
       "      <td>...</td>\n",
       "      <td>0.029930</td>\n",
       "      <td>0.112893</td>\n",
       "      <td>0.335229</td>\n",
       "      <td>0.354008</td>\n",
       "      <td>6313.892022</td>\n",
       "      <td>31.097908</td>\n",
       "      <td>17.235624</td>\n",
       "      <td>30.299442</td>\n",
       "      <td>25.986418</td>\n",
       "      <td>30.299442</td>\n",
       "    </tr>\n",
       "    <tr>\n",
       "      <th>3</th>\n",
       "      <td>6.35</td>\n",
       "      <td>0.477617</td>\n",
       "      <td>16.791667</td>\n",
       "      <td>198</td>\n",
       "      <td>0.0</td>\n",
       "      <td>22.420833</td>\n",
       "      <td>28.8180</td>\n",
       "      <td>6.033333</td>\n",
       "      <td>2012</td>\n",
       "      <td>20.571045</td>\n",
       "      <td>...</td>\n",
       "      <td>0.029928</td>\n",
       "      <td>0.112882</td>\n",
       "      <td>0.335173</td>\n",
       "      <td>0.353984</td>\n",
       "      <td>6459.629005</td>\n",
       "      <td>30.868718</td>\n",
       "      <td>17.248525</td>\n",
       "      <td>28.978868</td>\n",
       "      <td>25.122209</td>\n",
       "      <td>28.978868</td>\n",
       "    </tr>\n",
       "    <tr>\n",
       "      <th>4</th>\n",
       "      <td>5.13</td>\n",
       "      <td>0.556820</td>\n",
       "      <td>17.016667</td>\n",
       "      <td>199</td>\n",
       "      <td>0.0</td>\n",
       "      <td>21.529167</td>\n",
       "      <td>23.1732</td>\n",
       "      <td>4.350000</td>\n",
       "      <td>2012</td>\n",
       "      <td>16.757401</td>\n",
       "      <td>...</td>\n",
       "      <td>0.029926</td>\n",
       "      <td>0.112872</td>\n",
       "      <td>0.335116</td>\n",
       "      <td>0.353960</td>\n",
       "      <td>6615.424298</td>\n",
       "      <td>30.657792</td>\n",
       "      <td>17.259663</td>\n",
       "      <td>30.653667</td>\n",
       "      <td>27.830367</td>\n",
       "      <td>30.653667</td>\n",
       "    </tr>\n",
       "  </tbody>\n",
       "</table>\n",
       "<p>5 rows × 28 columns</p>\n",
       "</div>"
      ],
      "text/plain": [
       "    PET       VPD   air_temp  doy  precip  soil_temp    sw_in  wind_speed  \\\n",
       "0  7.33  0.808731  19.179167  195     0.0  22.320833  30.3156    4.958333   \n",
       "1  6.52  0.755945  19.325000  196     0.0  21.770833  29.6316    3.791667   \n",
       "2  6.92  0.858993  20.262500  197     0.0  21.908333  29.3472    4.137500   \n",
       "3  6.35  0.477617  16.791667  198     0.0  22.420833  28.8180    6.033333   \n",
       "4  5.13  0.556820  17.016667  199     0.0  21.529167  23.1732    4.350000   \n",
       "\n",
       "   year    wp_RNET    ...       wp_bnd3   wp_bnd7    wp_evi  wp_lswi2  \\\n",
       "0  2012  20.798342    ...      0.029934  0.112914  0.335343  0.354057   \n",
       "1  2012  20.573593    ...      0.029932  0.112904  0.335286  0.354033   \n",
       "2  2012  20.475931    ...      0.029930  0.112893  0.335229  0.354008   \n",
       "3  2012  20.571045    ...      0.029928  0.112882  0.335173  0.353984   \n",
       "4  2012  16.757401    ...      0.029926  0.112872  0.335116  0.353960   \n",
       "\n",
       "       wp_ndvi  wp_LST.day  wp_LST.night   LW_IN.wp   LW_IN.si      LW_IN  \n",
       "0  6052.592985   31.567899     17.204530  29.105844  24.562860  29.105844  \n",
       "1  6178.213349   29.570000     17.390000  29.760736  26.096551  29.760736  \n",
       "2  6313.892022   31.097908     17.235624  30.299442  25.986418  30.299442  \n",
       "3  6459.629005   30.868718     17.248525  28.978868  25.122209  28.978868  \n",
       "4  6615.424298   30.657792     17.259663  30.653667  27.830367  30.653667  \n",
       "\n",
       "[5 rows x 28 columns]"
      ]
     },
     "execution_count": 2,
     "metadata": {},
     "output_type": "execute_result"
    }
   ],
   "source": [
    "df = exp.get_wp_energy_data()\n",
    "df.head()"
   ]
  },
  {
   "cell_type": "code",
   "execution_count": 3,
   "metadata": {
    "collapsed": false
   },
   "outputs": [
    {
     "name": "stdout",
     "output_type": "stream",
     "text": [
      "<class 'pandas.core.frame.DataFrame'>\n",
      "Int64Index: 1028 entries, 0 to 1027\n",
      "Data columns (total 28 columns):\n",
      "PET             1028 non-null float64\n",
      "VPD             1028 non-null float64\n",
      "air_temp        1028 non-null float64\n",
      "doy             1028 non-null int64\n",
      "precip          1028 non-null float64\n",
      "soil_temp       1028 non-null float64\n",
      "sw_in           1028 non-null float64\n",
      "wind_speed      1028 non-null float64\n",
      "year            1028 non-null int64\n",
      "wp_RNET         1028 non-null float64\n",
      "wp_ch4_gf       1028 non-null float64\n",
      "wp_co2_gf       1028 non-null float64\n",
      "wp_er           1028 non-null float64\n",
      "wp_gpp          1028 non-null float64\n",
      "wp_h            1028 non-null float64\n",
      "wp_le           1028 non-null float64\n",
      "wp_bnd1         1028 non-null float64\n",
      "wp_bnd2         1028 non-null float64\n",
      "wp_bnd3         1028 non-null float64\n",
      "wp_bnd7         1028 non-null float64\n",
      "wp_evi          1028 non-null float64\n",
      "wp_lswi2        1028 non-null float64\n",
      "wp_ndvi         1028 non-null float64\n",
      "wp_LST.day      1028 non-null float64\n",
      "wp_LST.night    1028 non-null float64\n",
      "LW_IN.wp        1028 non-null float64\n",
      "LW_IN.si        1028 non-null float64\n",
      "LW_IN           1028 non-null float64\n",
      "dtypes: float64(26), int64(2)\n",
      "memory usage: 232.9 KB\n"
     ]
    }
   ],
   "source": [
    "df.info()"
   ]
  },
  {
   "cell_type": "code",
   "execution_count": 4,
   "metadata": {
    "collapsed": false
   },
   "outputs": [
    {
     "data": {
      "text/plain": [
       "(1028, 12)"
      ]
     },
     "execution_count": 4,
     "metadata": {},
     "output_type": "execute_result"
    }
   ],
   "source": [
    "train_cols = [\"precip\", \"sw_in\", \"LW_IN.wp\", \"VPD\", \"air_temp\", \"PET\", \"wind_speed\", \"wp_LST.day\",\n",
    "             \"wp_LST.night\", \"wp_evi\", \"wp_ndvi\", \"wp_lswi2\"]\n",
    "X, Y = exp.featurize(df, train_cols, [\"wp_le\"])\n",
    "X, Y, scaler = r.preprocess(X, Y)\n",
    "X.shape"
   ]
  },
  {
   "cell_type": "code",
   "execution_count": 5,
   "metadata": {
    "collapsed": false
   },
   "outputs": [
    {
     "name": "stdout",
     "output_type": "stream",
     "text": [
      "Running Random Forests Cross Validation...\n",
      "10-fold CV Acc Mean:  0.974221571607\n",
      "CV Scores:  0.979055419168, 0.972024862707, 0.977326484541, 0.976257456389, 0.975560173786, 0.975834280973, 0.967662947713, 0.9710407782, 0.978618611034, 0.968834701558\n",
      "OOB score: 0.976372714161\n",
      "Feature Importances:\n",
      "('wp_LST.night', 0.30050351496455008)\n",
      "('air_temp', 0.17136197811698284)\n",
      "('PET', 0.11279740808089386)\n",
      "('wp_LST.day', 0.1075665409929317)\n",
      "('VPD', 0.099355881590416098)\n",
      "('wp_ndvi', 0.059172615069811786)\n",
      "('sw_in', 0.049893407074553184)\n",
      "('wp_evi', 0.033858317817732436)\n",
      "('wp_lswi2', 0.028894331350708482)\n",
      "('LW_IN.wp', 0.026011176593612885)\n",
      "('wind_speed', 0.0092240498517887556)\n",
      "('precip', 0.0013607784960178991)\n"
     ]
    },
    {
     "data": {
      "text/plain": [
       "RandomForestRegressor(bootstrap=True, criterion='mse', max_depth=None,\n",
       "           max_features='sqrt', max_leaf_nodes=None, min_samples_leaf=1,\n",
       "           min_samples_split=2, min_weight_fraction_leaf=0.0,\n",
       "           n_estimators=200, n_jobs=1, oob_score=True, random_state=None,\n",
       "           verbose=0, warm_start=False)"
      ]
     },
     "execution_count": 5,
     "metadata": {},
     "output_type": "execute_result"
    }
   ],
   "source": [
    "r.random_forests_cross_val(X, Y, feature_names=train_cols)"
   ]
  },
  {
   "cell_type": "code",
   "execution_count": 6,
   "metadata": {
    "collapsed": false
   },
   "outputs": [
    {
     "name": "stdout",
     "output_type": "stream",
     "text": [
      "Running Gradient Boosted Trees Cross Validation...\n",
      "10-fold CV Acc Mean:  0.974298277648\n",
      "CV Scores:  0.980242310546, 0.972391799308, 0.97940560985, 0.973555375576, 0.969264083394, 0.978106505828, 0.967943019163, 0.967547176642, 0.978083466745, 0.976443429426\n",
      "Feature Importances:\n",
      "('wp_evi', 0.13073665247531602)\n",
      "('wp_LST.night', 0.12940294270054836)\n",
      "('wp_lswi2', 0.12001768321012024)\n",
      "('air_temp', 0.1008874562818345)\n",
      "('sw_in', 0.087274534053301767)\n",
      "('wp_LST.day', 0.083123163446570184)\n",
      "('PET', 0.080671352481080622)\n",
      "('wp_ndvi', 0.07333951417393636)\n",
      "('LW_IN.wp', 0.066866617943865253)\n",
      "('wind_speed', 0.058639985347717721)\n",
      "('VPD', 0.053640581520343129)\n",
      "('precip', 0.01539951636536583)\n"
     ]
    },
    {
     "data": {
      "text/plain": [
       "GradientBoostingRegressor(alpha=0.9, init=None, learning_rate=0.1, loss='ls',\n",
       "             max_depth=3, max_features='sqrt', max_leaf_nodes=None,\n",
       "             min_samples_leaf=1, min_samples_split=2,\n",
       "             min_weight_fraction_leaf=0.0, n_estimators=200,\n",
       "             presort='auto', random_state=None, subsample=1.0, verbose=0,\n",
       "             warm_start=False)"
      ]
     },
     "execution_count": 6,
     "metadata": {},
     "output_type": "execute_result"
    }
   ],
   "source": [
    "r.xgb_trees_cross_val(X, Y, feature_names=train_cols)"
   ]
  },
  {
   "cell_type": "code",
   "execution_count": 7,
   "metadata": {
    "collapsed": false
   },
   "outputs": [
    {
     "name": "stdout",
     "output_type": "stream",
     "text": [
      "Running SVC Cross Validation...\n",
      "10-fold CV Acc Mean:  0.935421269581\n",
      "CV Scores:  0.952718596603, 0.936706659888, 0.914005511526, 0.942301918074, 0.939620052722, 0.944515477592, 0.952418770112, 0.875949914371, 0.963022804848, 0.932952990075\n"
     ]
    },
    {
     "data": {
      "text/plain": [
       "SVR(C=1.0, cache_size=200, coef0=0.0, degree=3, epsilon=0.1, gamma='auto',\n",
       "  kernel='rbf', max_iter=-1, shrinking=True, tol=0.001, verbose=False)"
      ]
     },
     "execution_count": 7,
     "metadata": {},
     "output_type": "execute_result"
    }
   ],
   "source": [
    "r.svc_cross_val(X, Y)"
   ]
  },
  {
   "cell_type": "code",
   "execution_count": 8,
   "metadata": {
    "collapsed": false
   },
   "outputs": [
    {
     "name": "stdout",
     "output_type": "stream",
     "text": [
      "Running Neural Network Cross Validation...\n",
      "Step #1, avg. loss: 74.80708\n",
      "Step #501, epoch #50, avg. loss: 1.97430\n",
      "Step #1001, epoch #100, avg. loss: 0.63195\n",
      "Step #1501, epoch #150, avg. loss: 0.38991\n",
      "Step #2001, epoch #200, avg. loss: 0.25858\n",
      "Step #2501, epoch #250, avg. loss: 0.24105\n",
      "Step #3001, epoch #300, avg. loss: 0.16806\n",
      "Step #3501, epoch #350, avg. loss: 0.14844\n",
      "Step #4001, epoch #400, avg. loss: 0.13162\n",
      "Step #4501, epoch #450, avg. loss: 0.11849\n",
      "Step #1, avg. loss: 48.07025\n",
      "Step #501, epoch #50, avg. loss: 1.92813\n",
      "Step #1001, epoch #100, avg. loss: 0.60303\n",
      "Step #1501, epoch #150, avg. loss: 0.37988\n",
      "Step #2001, epoch #200, avg. loss: 0.29934\n",
      "Step #2501, epoch #250, avg. loss: 0.23418\n",
      "Step #3001, epoch #300, avg. loss: 0.21616\n",
      "Step #3501, epoch #350, avg. loss: 0.16155\n",
      "Step #4001, epoch #400, avg. loss: 0.13750\n",
      "Step #4501, epoch #450, avg. loss: 0.12795\n",
      "Step #1, avg. loss: 62.38238\n",
      "Step #501, epoch #50, avg. loss: 1.98289\n",
      "Step #1001, epoch #100, avg. loss: 0.67321\n",
      "Step #1501, epoch #150, avg. loss: 0.42568\n",
      "Step #2001, epoch #200, avg. loss: 0.33683\n",
      "Step #2501, epoch #250, avg. loss: 0.24914\n",
      "Step #3001, epoch #300, avg. loss: 0.22548\n",
      "Step #3501, epoch #350, avg. loss: 0.17919\n",
      "Step #4001, epoch #400, avg. loss: 0.15536\n",
      "Step #4501, epoch #450, avg. loss: 0.14646\n",
      "Step #1, avg. loss: 42.71969\n",
      "Step #501, epoch #50, avg. loss: 2.05487\n",
      "Step #1001, epoch #100, avg. loss: 0.65292\n",
      "Step #1501, epoch #150, avg. loss: 0.43978\n",
      "Step #2001, epoch #200, avg. loss: 0.33607\n",
      "Step #2501, epoch #250, avg. loss: 0.27026\n",
      "Step #3001, epoch #300, avg. loss: 0.22604\n",
      "Step #3501, epoch #350, avg. loss: 0.18448\n",
      "Step #4001, epoch #400, avg. loss: 0.17149\n",
      "Step #4501, epoch #450, avg. loss: 0.16965\n",
      "Step #1, avg. loss: 53.93417\n",
      "Step #501, epoch #50, avg. loss: 2.02588\n",
      "Step #1001, epoch #100, avg. loss: 0.60989\n",
      "Step #1501, epoch #150, avg. loss: 0.35994\n",
      "Step #2001, epoch #200, avg. loss: 0.28054\n",
      "Step #2501, epoch #250, avg. loss: 0.20343\n",
      "Step #3001, epoch #300, avg. loss: 0.16924\n",
      "Step #3501, epoch #350, avg. loss: 0.15676\n",
      "Step #4001, epoch #400, avg. loss: 0.11875\n",
      "Step #4501, epoch #450, avg. loss: 0.10888\n",
      "Step #1, avg. loss: 58.76874\n",
      "Step #501, epoch #50, avg. loss: 1.95868\n",
      "Step #1001, epoch #100, avg. loss: 0.60099\n",
      "Step #1501, epoch #150, avg. loss: 0.38602\n",
      "Step #2001, epoch #200, avg. loss: 0.31165\n",
      "Step #2501, epoch #250, avg. loss: 0.22491\n",
      "Step #3001, epoch #300, avg. loss: 0.18001\n",
      "Step #3501, epoch #350, avg. loss: 0.16008\n",
      "Step #4001, epoch #400, avg. loss: 0.14877\n",
      "Step #4501, epoch #450, avg. loss: 0.11944\n",
      "Step #1, avg. loss: 56.46338\n",
      "Step #501, epoch #50, avg. loss: 2.02277\n",
      "Step #1001, epoch #100, avg. loss: 0.63629\n",
      "Step #1501, epoch #150, avg. loss: 0.40912\n",
      "Step #2001, epoch #200, avg. loss: 0.28851\n",
      "Step #2501, epoch #250, avg. loss: 0.25204\n",
      "Step #3001, epoch #300, avg. loss: 0.20245\n",
      "Step #3501, epoch #350, avg. loss: 0.16441\n",
      "Step #4001, epoch #400, avg. loss: 0.13906\n",
      "Step #4501, epoch #450, avg. loss: 0.13416\n",
      "Step #1, avg. loss: 60.91214\n",
      "Step #501, epoch #50, avg. loss: 1.93671\n",
      "Step #1001, epoch #100, avg. loss: 0.59293\n",
      "Step #1501, epoch #150, avg. loss: 0.36996\n",
      "Step #2001, epoch #200, avg. loss: 0.27509\n",
      "Step #2501, epoch #250, avg. loss: 0.21254\n",
      "Step #3001, epoch #300, avg. loss: 0.18385\n",
      "Step #3501, epoch #350, avg. loss: 0.14943\n",
      "Step #4001, epoch #400, avg. loss: 0.13330\n",
      "Step #4501, epoch #450, avg. loss: 0.11892\n",
      "Step #1, avg. loss: 56.57851\n",
      "Step #501, epoch #50, avg. loss: 1.98460\n",
      "Step #1001, epoch #100, avg. loss: 0.68546\n",
      "Step #1501, epoch #150, avg. loss: 0.44399\n",
      "Step #2001, epoch #200, avg. loss: 0.32425\n",
      "Step #2501, epoch #250, avg. loss: 0.26488\n",
      "Step #3001, epoch #300, avg. loss: 0.21806\n",
      "Step #3501, epoch #350, avg. loss: 0.20088\n",
      "Step #4001, epoch #400, avg. loss: 0.15402\n",
      "Step #4501, epoch #450, avg. loss: 0.14169\n",
      "Step #1, avg. loss: 49.69630\n",
      "Step #501, epoch #50, avg. loss: 2.08332\n",
      "Step #1001, epoch #100, avg. loss: 0.62941\n",
      "Step #1501, epoch #150, avg. loss: 0.38830\n",
      "Step #2001, epoch #200, avg. loss: 0.29667\n",
      "Step #2501, epoch #250, avg. loss: 0.23928\n",
      "Step #3001, epoch #300, avg. loss: 0.18641\n",
      "Step #3501, epoch #350, avg. loss: 0.16230\n",
      "Step #4001, epoch #400, avg. loss: 0.14101\n",
      "Step #4501, epoch #450, avg. loss: 0.12246\n",
      "10-fold CV Acc Mean:  0.959041820546\n",
      "CV Scores:  0.959146434097, 0.962668017899, 0.972056486992, 0.974262341769, 0.954476717122, 0.95215131178, 0.967461309237, 0.948795796566, 0.964446618497, 0.934953171497\n"
     ]
    },
    {
     "data": {
      "text/plain": [
       "TensorFlowEstimator(batch_size=100, class_weight=None,\n",
       "          continue_training=False, early_stopping_rounds=None,\n",
       "          keep_checkpoint_every_n_hours=10000, learning_rate=0.1,\n",
       "          max_to_keep=5, model_fn=<function tanh_dnn at 0x114f2c410>,\n",
       "          n_classes=0, num_cores=4, optimizer='SGD', steps=5000,\n",
       "          tf_master='', tf_random_seed=42, verbose=1)"
      ]
     },
     "execution_count": 8,
     "metadata": {},
     "output_type": "execute_result"
    }
   ],
   "source": [
    "r.dnn_cross_val(X, Y)"
   ]
  },
  {
   "cell_type": "code",
   "execution_count": null,
   "metadata": {
    "collapsed": true
   },
   "outputs": [],
   "source": []
  }
 ],
 "metadata": {
  "kernelspec": {
   "display_name": "Python 2",
   "language": "python",
   "name": "python2"
  },
  "language_info": {
   "codemirror_mode": {
    "name": "ipython",
    "version": 2
   },
   "file_extension": ".py",
   "mimetype": "text/x-python",
   "name": "python",
   "nbconvert_exporter": "python",
   "pygments_lexer": "ipython2",
   "version": "2.7.11"
  }
 },
 "nbformat": 4,
 "nbformat_minor": 0
}
