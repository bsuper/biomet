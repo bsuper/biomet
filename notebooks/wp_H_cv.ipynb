{
 "cells": [
  {
   "cell_type": "code",
   "execution_count": 1,
   "metadata": {
    "collapsed": false
   },
   "outputs": [],
   "source": [
    "import sys\n",
    "sys.path.append('../')\n",
    "import exp\n",
    "import regression as r"
   ]
  },
  {
   "cell_type": "code",
   "execution_count": 2,
   "metadata": {
    "collapsed": false
   },
   "outputs": [
    {
     "data": {
      "text/html": [
       "<div>\n",
       "<table border=\"1\" class=\"dataframe\">\n",
       "  <thead>\n",
       "    <tr style=\"text-align: right;\">\n",
       "      <th></th>\n",
       "      <th>PET</th>\n",
       "      <th>VPD</th>\n",
       "      <th>air_temp</th>\n",
       "      <th>doy</th>\n",
       "      <th>precip</th>\n",
       "      <th>soil_temp</th>\n",
       "      <th>sw_in</th>\n",
       "      <th>wind_speed</th>\n",
       "      <th>year</th>\n",
       "      <th>wp_RNET</th>\n",
       "      <th>...</th>\n",
       "      <th>wp_bnd3</th>\n",
       "      <th>wp_bnd7</th>\n",
       "      <th>wp_evi</th>\n",
       "      <th>wp_lswi2</th>\n",
       "      <th>wp_ndvi</th>\n",
       "      <th>wp_LST.day</th>\n",
       "      <th>wp_LST.night</th>\n",
       "      <th>LW_IN.wp</th>\n",
       "      <th>LW_IN.si</th>\n",
       "      <th>LW_IN</th>\n",
       "    </tr>\n",
       "  </thead>\n",
       "  <tbody>\n",
       "    <tr>\n",
       "      <th>0</th>\n",
       "      <td>7.33</td>\n",
       "      <td>0.808731</td>\n",
       "      <td>19.179167</td>\n",
       "      <td>195</td>\n",
       "      <td>0.0</td>\n",
       "      <td>22.320833</td>\n",
       "      <td>30.3156</td>\n",
       "      <td>4.958333</td>\n",
       "      <td>2012</td>\n",
       "      <td>20.798342</td>\n",
       "      <td>...</td>\n",
       "      <td>0.029934</td>\n",
       "      <td>0.112914</td>\n",
       "      <td>0.335343</td>\n",
       "      <td>0.354057</td>\n",
       "      <td>6052.592985</td>\n",
       "      <td>31.567899</td>\n",
       "      <td>17.204530</td>\n",
       "      <td>29.105844</td>\n",
       "      <td>24.562860</td>\n",
       "      <td>29.105844</td>\n",
       "    </tr>\n",
       "    <tr>\n",
       "      <th>1</th>\n",
       "      <td>6.52</td>\n",
       "      <td>0.755945</td>\n",
       "      <td>19.325000</td>\n",
       "      <td>196</td>\n",
       "      <td>0.0</td>\n",
       "      <td>21.770833</td>\n",
       "      <td>29.6316</td>\n",
       "      <td>3.791667</td>\n",
       "      <td>2012</td>\n",
       "      <td>20.573593</td>\n",
       "      <td>...</td>\n",
       "      <td>0.029932</td>\n",
       "      <td>0.112904</td>\n",
       "      <td>0.335286</td>\n",
       "      <td>0.354033</td>\n",
       "      <td>6178.213349</td>\n",
       "      <td>29.570000</td>\n",
       "      <td>17.390000</td>\n",
       "      <td>29.760736</td>\n",
       "      <td>26.096551</td>\n",
       "      <td>29.760736</td>\n",
       "    </tr>\n",
       "    <tr>\n",
       "      <th>2</th>\n",
       "      <td>6.92</td>\n",
       "      <td>0.858993</td>\n",
       "      <td>20.262500</td>\n",
       "      <td>197</td>\n",
       "      <td>0.0</td>\n",
       "      <td>21.908333</td>\n",
       "      <td>29.3472</td>\n",
       "      <td>4.137500</td>\n",
       "      <td>2012</td>\n",
       "      <td>20.475931</td>\n",
       "      <td>...</td>\n",
       "      <td>0.029930</td>\n",
       "      <td>0.112893</td>\n",
       "      <td>0.335229</td>\n",
       "      <td>0.354008</td>\n",
       "      <td>6313.892022</td>\n",
       "      <td>31.097908</td>\n",
       "      <td>17.235624</td>\n",
       "      <td>30.299442</td>\n",
       "      <td>25.986418</td>\n",
       "      <td>30.299442</td>\n",
       "    </tr>\n",
       "    <tr>\n",
       "      <th>3</th>\n",
       "      <td>6.35</td>\n",
       "      <td>0.477617</td>\n",
       "      <td>16.791667</td>\n",
       "      <td>198</td>\n",
       "      <td>0.0</td>\n",
       "      <td>22.420833</td>\n",
       "      <td>28.8180</td>\n",
       "      <td>6.033333</td>\n",
       "      <td>2012</td>\n",
       "      <td>20.571045</td>\n",
       "      <td>...</td>\n",
       "      <td>0.029928</td>\n",
       "      <td>0.112882</td>\n",
       "      <td>0.335173</td>\n",
       "      <td>0.353984</td>\n",
       "      <td>6459.629005</td>\n",
       "      <td>30.868718</td>\n",
       "      <td>17.248525</td>\n",
       "      <td>28.978868</td>\n",
       "      <td>25.122209</td>\n",
       "      <td>28.978868</td>\n",
       "    </tr>\n",
       "    <tr>\n",
       "      <th>4</th>\n",
       "      <td>5.13</td>\n",
       "      <td>0.556820</td>\n",
       "      <td>17.016667</td>\n",
       "      <td>199</td>\n",
       "      <td>0.0</td>\n",
       "      <td>21.529167</td>\n",
       "      <td>23.1732</td>\n",
       "      <td>4.350000</td>\n",
       "      <td>2012</td>\n",
       "      <td>16.757401</td>\n",
       "      <td>...</td>\n",
       "      <td>0.029926</td>\n",
       "      <td>0.112872</td>\n",
       "      <td>0.335116</td>\n",
       "      <td>0.353960</td>\n",
       "      <td>6615.424298</td>\n",
       "      <td>30.657792</td>\n",
       "      <td>17.259663</td>\n",
       "      <td>30.653667</td>\n",
       "      <td>27.830367</td>\n",
       "      <td>30.653667</td>\n",
       "    </tr>\n",
       "  </tbody>\n",
       "</table>\n",
       "<p>5 rows × 28 columns</p>\n",
       "</div>"
      ],
      "text/plain": [
       "    PET       VPD   air_temp  doy  precip  soil_temp    sw_in  wind_speed  \\\n",
       "0  7.33  0.808731  19.179167  195     0.0  22.320833  30.3156    4.958333   \n",
       "1  6.52  0.755945  19.325000  196     0.0  21.770833  29.6316    3.791667   \n",
       "2  6.92  0.858993  20.262500  197     0.0  21.908333  29.3472    4.137500   \n",
       "3  6.35  0.477617  16.791667  198     0.0  22.420833  28.8180    6.033333   \n",
       "4  5.13  0.556820  17.016667  199     0.0  21.529167  23.1732    4.350000   \n",
       "\n",
       "   year    wp_RNET    ...       wp_bnd3   wp_bnd7    wp_evi  wp_lswi2  \\\n",
       "0  2012  20.798342    ...      0.029934  0.112914  0.335343  0.354057   \n",
       "1  2012  20.573593    ...      0.029932  0.112904  0.335286  0.354033   \n",
       "2  2012  20.475931    ...      0.029930  0.112893  0.335229  0.354008   \n",
       "3  2012  20.571045    ...      0.029928  0.112882  0.335173  0.353984   \n",
       "4  2012  16.757401    ...      0.029926  0.112872  0.335116  0.353960   \n",
       "\n",
       "       wp_ndvi  wp_LST.day  wp_LST.night   LW_IN.wp   LW_IN.si      LW_IN  \n",
       "0  6052.592985   31.567899     17.204530  29.105844  24.562860  29.105844  \n",
       "1  6178.213349   29.570000     17.390000  29.760736  26.096551  29.760736  \n",
       "2  6313.892022   31.097908     17.235624  30.299442  25.986418  30.299442  \n",
       "3  6459.629005   30.868718     17.248525  28.978868  25.122209  28.978868  \n",
       "4  6615.424298   30.657792     17.259663  30.653667  27.830367  30.653667  \n",
       "\n",
       "[5 rows x 28 columns]"
      ]
     },
     "execution_count": 2,
     "metadata": {},
     "output_type": "execute_result"
    }
   ],
   "source": [
    "df = exp.get_wp_energy_data()\n",
    "df.head()"
   ]
  },
  {
   "cell_type": "code",
   "execution_count": 3,
   "metadata": {
    "collapsed": false
   },
   "outputs": [
    {
     "name": "stdout",
     "output_type": "stream",
     "text": [
      "<class 'pandas.core.frame.DataFrame'>\n",
      "Int64Index: 1028 entries, 0 to 1027\n",
      "Data columns (total 28 columns):\n",
      "PET             1028 non-null float64\n",
      "VPD             1028 non-null float64\n",
      "air_temp        1028 non-null float64\n",
      "doy             1028 non-null int64\n",
      "precip          1028 non-null float64\n",
      "soil_temp       1028 non-null float64\n",
      "sw_in           1028 non-null float64\n",
      "wind_speed      1028 non-null float64\n",
      "year            1028 non-null int64\n",
      "wp_RNET         1028 non-null float64\n",
      "wp_ch4_gf       1028 non-null float64\n",
      "wp_co2_gf       1028 non-null float64\n",
      "wp_er           1028 non-null float64\n",
      "wp_gpp          1028 non-null float64\n",
      "wp_h            1028 non-null float64\n",
      "wp_le           1028 non-null float64\n",
      "wp_bnd1         1028 non-null float64\n",
      "wp_bnd2         1028 non-null float64\n",
      "wp_bnd3         1028 non-null float64\n",
      "wp_bnd7         1028 non-null float64\n",
      "wp_evi          1028 non-null float64\n",
      "wp_lswi2        1028 non-null float64\n",
      "wp_ndvi         1028 non-null float64\n",
      "wp_LST.day      1028 non-null float64\n",
      "wp_LST.night    1028 non-null float64\n",
      "LW_IN.wp        1028 non-null float64\n",
      "LW_IN.si        1028 non-null float64\n",
      "LW_IN           1028 non-null float64\n",
      "dtypes: float64(26), int64(2)\n",
      "memory usage: 232.9 KB\n"
     ]
    }
   ],
   "source": [
    "df.info()"
   ]
  },
  {
   "cell_type": "code",
   "execution_count": 4,
   "metadata": {
    "collapsed": false
   },
   "outputs": [
    {
     "data": {
      "text/plain": [
       "(1028, 12)"
      ]
     },
     "execution_count": 4,
     "metadata": {},
     "output_type": "execute_result"
    }
   ],
   "source": [
    "train_cols = [\"precip\", \"sw_in\", \"LW_IN.wp\", \"VPD\", \"air_temp\", \"PET\", \"wind_speed\", \"wp_LST.day\",\n",
    "             \"wp_LST.night\", \"wp_evi\", \"wp_ndvi\", \"wp_lswi2\"]\n",
    "X, Y = exp.featurize(df, train_cols, [\"wp_h\"])\n",
    "X, Y, scaler = r.preprocess(X, Y)\n",
    "X.shape"
   ]
  },
  {
   "cell_type": "code",
   "execution_count": 5,
   "metadata": {
    "collapsed": false
   },
   "outputs": [
    {
     "name": "stdout",
     "output_type": "stream",
     "text": [
      "Running Random Forests Cross Validation...\n",
      "10-fold CV Acc Mean:  0.89271393183\n",
      "CV Scores:  0.893832369493, 0.892573585303, 0.910750649841, 0.891182030901, 0.890299689223, 0.890038703229, 0.891748925256, 0.908928447436, 0.891296528351, 0.866488389271\n",
      "OOB score: 0.89351541318\n",
      "Feature Importances:\n",
      "('sw_in', 0.20141875654863611)\n",
      "('air_temp', 0.10438646828176758)\n",
      "('PET', 0.090496371477968088)\n",
      "('wp_evi', 0.089103661298346792)\n",
      "('LW_IN.wp', 0.086860643195867768)\n",
      "('wp_LST.night', 0.084468501895859874)\n",
      "('wp_lswi2', 0.079603565487067152)\n",
      "('VPD', 0.076578862069950529)\n",
      "('wp_LST.day', 0.067715104060806316)\n",
      "('wp_ndvi', 0.06660445851838516)\n",
      "('wind_speed', 0.042647943945539994)\n",
      "('precip', 0.010115663219804569)\n"
     ]
    },
    {
     "data": {
      "text/plain": [
       "RandomForestRegressor(bootstrap=True, criterion='mse', max_depth=None,\n",
       "           max_features='sqrt', max_leaf_nodes=None, min_samples_leaf=1,\n",
       "           min_samples_split=2, min_weight_fraction_leaf=0.0,\n",
       "           n_estimators=200, n_jobs=1, oob_score=True, random_state=None,\n",
       "           verbose=0, warm_start=False)"
      ]
     },
     "execution_count": 5,
     "metadata": {},
     "output_type": "execute_result"
    }
   ],
   "source": [
    "r.random_forests_cross_val(X, Y, feature_names=train_cols)"
   ]
  },
  {
   "cell_type": "code",
   "execution_count": 6,
   "metadata": {
    "collapsed": false
   },
   "outputs": [
    {
     "name": "stdout",
     "output_type": "stream",
     "text": [
      "Running Gradient Boosted Trees Cross Validation...\n",
      "10-fold CV Acc Mean:  0.916341764515\n",
      "CV Scores:  0.91788016981, 0.930538258957, 0.930318713195, 0.918280688531, 0.917739443537, 0.914669308799, 0.90559271983, 0.910059506035, 0.909047222831, 0.909291613628\n",
      "Feature Importances:\n",
      "('sw_in', 0.14219476213992785)\n",
      "('wind_speed', 0.10093593841177899)\n",
      "('wp_lswi2', 0.09887280249941563)\n",
      "('PET', 0.097781023976531975)\n",
      "('VPD', 0.097465067849870121)\n",
      "('LW_IN.wp', 0.091102237123308158)\n",
      "('wp_evi', 0.089590837095645193)\n",
      "('wp_LST.night', 0.074054545411259942)\n",
      "('wp_ndvi', 0.071145726174130966)\n",
      "('wp_LST.day', 0.062402471264967223)\n",
      "('air_temp', 0.055272277906311923)\n",
      "('precip', 0.01918231014685191)\n"
     ]
    },
    {
     "data": {
      "text/plain": [
       "GradientBoostingRegressor(alpha=0.9, init=None, learning_rate=0.1, loss='ls',\n",
       "             max_depth=3, max_features='sqrt', max_leaf_nodes=None,\n",
       "             min_samples_leaf=1, min_samples_split=2,\n",
       "             min_weight_fraction_leaf=0.0, n_estimators=200,\n",
       "             presort='auto', random_state=None, subsample=1.0, verbose=0,\n",
       "             warm_start=False)"
      ]
     },
     "execution_count": 6,
     "metadata": {},
     "output_type": "execute_result"
    }
   ],
   "source": [
    "r.xgb_trees_cross_val(X, Y, feature_names=train_cols)"
   ]
  },
  {
   "cell_type": "code",
   "execution_count": 7,
   "metadata": {
    "collapsed": false
   },
   "outputs": [
    {
     "name": "stdout",
     "output_type": "stream",
     "text": [
      "Running SVC Cross Validation...\n",
      "10-fold CV Acc Mean:  0.848707314265\n",
      "CV Scores:  0.823823283783, 0.884379784714, 0.865393368226, 0.873487164276, 0.853788120118, 0.857531148116, 0.843408794415, 0.883442830551, 0.826520915021, 0.77529773343\n"
     ]
    },
    {
     "data": {
      "text/plain": [
       "SVR(C=1.0, cache_size=200, coef0=0.0, degree=3, epsilon=0.1, gamma='auto',\n",
       "  kernel='rbf', max_iter=-1, shrinking=True, tol=0.001, verbose=False)"
      ]
     },
     "execution_count": 7,
     "metadata": {},
     "output_type": "execute_result"
    }
   ],
   "source": [
    "r.svc_cross_val(X, Y)"
   ]
  },
  {
   "cell_type": "code",
   "execution_count": 8,
   "metadata": {
    "collapsed": false
   },
   "outputs": [
    {
     "name": "stdout",
     "output_type": "stream",
     "text": [
      "Running Neural Network Cross Validation...\n",
      "Step #1, avg. loss: 12.21579\n",
      "Step #501, epoch #50, avg. loss: 1.05464\n",
      "Step #1001, epoch #100, avg. loss: 0.39656\n",
      "Step #1501, epoch #150, avg. loss: 0.29284\n",
      "Step #2001, epoch #200, avg. loss: 0.23098\n",
      "Step #2501, epoch #250, avg. loss: 0.19913\n",
      "Step #3001, epoch #300, avg. loss: 0.17932\n",
      "Step #3501, epoch #350, avg. loss: 0.16552\n",
      "Step #4001, epoch #400, avg. loss: 0.14695\n",
      "Step #4501, epoch #450, avg. loss: 0.13260\n",
      "Step #1, avg. loss: 12.57497\n",
      "Step #501, epoch #50, avg. loss: 1.05346\n",
      "Step #1001, epoch #100, avg. loss: 0.38520\n",
      "Step #1501, epoch #150, avg. loss: 0.28248\n",
      "Step #2001, epoch #200, avg. loss: 0.22151\n",
      "Step #2501, epoch #250, avg. loss: 0.19189\n",
      "Step #3001, epoch #300, avg. loss: 0.16063\n",
      "Step #3501, epoch #350, avg. loss: 0.14459\n",
      "Step #4001, epoch #400, avg. loss: 0.13700\n",
      "Step #4501, epoch #450, avg. loss: 0.11876\n",
      "Step #1, avg. loss: 10.98234\n",
      "Step #501, epoch #50, avg. loss: 1.04691\n",
      "Step #1001, epoch #100, avg. loss: 0.42177\n",
      "Step #1501, epoch #150, avg. loss: 0.30458\n",
      "Step #2001, epoch #200, avg. loss: 0.24724\n",
      "Step #2501, epoch #250, avg. loss: 0.20778\n",
      "Step #3001, epoch #300, avg. loss: 0.17495\n",
      "Step #3501, epoch #350, avg. loss: 0.15817\n",
      "Step #4001, epoch #400, avg. loss: 0.15017\n",
      "Step #4501, epoch #450, avg. loss: 0.12961\n",
      "Step #1, avg. loss: 14.96778\n",
      "Step #501, epoch #50, avg. loss: 1.07189\n",
      "Step #1001, epoch #100, avg. loss: 0.39848\n",
      "Step #1501, epoch #150, avg. loss: 0.29992\n",
      "Step #2001, epoch #200, avg. loss: 0.24664\n",
      "Step #2501, epoch #250, avg. loss: 0.21010\n",
      "Step #3001, epoch #300, avg. loss: 0.17179\n",
      "Step #3501, epoch #350, avg. loss: 0.15938\n",
      "Step #4001, epoch #400, avg. loss: 0.13744\n",
      "Step #4501, epoch #450, avg. loss: 0.12834\n",
      "Step #1, avg. loss: 9.15102\n",
      "Step #501, epoch #50, avg. loss: 1.03933\n",
      "Step #1001, epoch #100, avg. loss: 0.39348\n",
      "Step #1501, epoch #150, avg. loss: 0.28870\n",
      "Step #2001, epoch #200, avg. loss: 0.24074\n",
      "Step #2501, epoch #250, avg. loss: 0.19750\n",
      "Step #3001, epoch #300, avg. loss: 0.17846\n",
      "Step #3501, epoch #350, avg. loss: 0.15289\n",
      "Step #4001, epoch #400, avg. loss: 0.14449\n",
      "Step #4501, epoch #450, avg. loss: 0.13095\n",
      "Step #1, avg. loss: 11.04360\n",
      "Step #501, epoch #50, avg. loss: 1.05836\n",
      "Step #1001, epoch #100, avg. loss: 0.40854\n",
      "Step #1501, epoch #150, avg. loss: 0.29653\n",
      "Step #2001, epoch #200, avg. loss: 0.22857\n",
      "Step #2501, epoch #250, avg. loss: 0.20209\n",
      "Step #3001, epoch #300, avg. loss: 0.17324\n",
      "Step #3501, epoch #350, avg. loss: 0.15646\n",
      "Step #4001, epoch #400, avg. loss: 0.14030\n",
      "Step #4501, epoch #450, avg. loss: 0.12709\n",
      "Step #1, avg. loss: 9.34735\n",
      "Step #501, epoch #50, avg. loss: 1.01495\n",
      "Step #1001, epoch #100, avg. loss: 0.39898\n",
      "Step #1501, epoch #150, avg. loss: 0.30106\n",
      "Step #2001, epoch #200, avg. loss: 0.23739\n",
      "Step #2501, epoch #250, avg. loss: 0.19996\n",
      "Step #3001, epoch #300, avg. loss: 0.16141\n",
      "Step #3501, epoch #350, avg. loss: 0.14878\n",
      "Step #4001, epoch #400, avg. loss: 0.13444\n",
      "Step #4501, epoch #450, avg. loss: 0.12573\n",
      "Step #1, avg. loss: 10.00463\n",
      "Step #501, epoch #50, avg. loss: 1.02305\n",
      "Step #1001, epoch #100, avg. loss: 0.38748\n",
      "Step #1501, epoch #150, avg. loss: 0.27975\n",
      "Step #2001, epoch #200, avg. loss: 0.24973\n",
      "Step #2501, epoch #250, avg. loss: 0.20350\n",
      "Step #3001, epoch #300, avg. loss: 0.17629\n",
      "Step #3501, epoch #350, avg. loss: 0.16327\n",
      "Step #4001, epoch #400, avg. loss: 0.14232\n",
      "Step #4501, epoch #450, avg. loss: 0.13106\n",
      "Step #1, avg. loss: 12.41987\n",
      "Step #501, epoch #50, avg. loss: 1.05263\n",
      "Step #1001, epoch #100, avg. loss: 0.41176\n",
      "Step #1501, epoch #150, avg. loss: 0.30008\n",
      "Step #2001, epoch #200, avg. loss: 0.24577\n",
      "Step #2501, epoch #250, avg. loss: 0.21290\n",
      "Step #3001, epoch #300, avg. loss: 0.18942\n",
      "Step #3501, epoch #350, avg. loss: 0.16982\n",
      "Step #4001, epoch #400, avg. loss: 0.14554\n",
      "Step #4501, epoch #450, avg. loss: 0.13488\n",
      "Step #1, avg. loss: 8.13916\n",
      "Step #501, epoch #50, avg. loss: 1.03740\n",
      "Step #1001, epoch #100, avg. loss: 0.39387\n",
      "Step #1501, epoch #150, avg. loss: 0.28614\n",
      "Step #2001, epoch #200, avg. loss: 0.22141\n",
      "Step #2501, epoch #250, avg. loss: 0.18932\n",
      "Step #3001, epoch #300, avg. loss: 0.16453\n",
      "Step #3501, epoch #350, avg. loss: 0.14659\n",
      "Step #4001, epoch #400, avg. loss: 0.13069\n",
      "Step #4501, epoch #450, avg. loss: 0.11556\n",
      "10-fold CV Acc Mean:  0.904561400568\n",
      "CV Scores:  0.907557677528, 0.900476355946, 0.902373009923, 0.918989697691, 0.876444990152, 0.937921277237, 0.868284157215, 0.896339038482, 0.92880823671, 0.9084195648\n"
     ]
    },
    {
     "data": {
      "text/plain": [
       "TensorFlowEstimator(batch_size=100, class_weight=None,\n",
       "          continue_training=False, early_stopping_rounds=None,\n",
       "          keep_checkpoint_every_n_hours=10000, learning_rate=0.1,\n",
       "          max_to_keep=5, model_fn=<function tanh_dnn at 0x1156ae410>,\n",
       "          n_classes=0, num_cores=4, optimizer='SGD', steps=5000,\n",
       "          tf_master='', tf_random_seed=42, verbose=1)"
      ]
     },
     "execution_count": 8,
     "metadata": {},
     "output_type": "execute_result"
    }
   ],
   "source": [
    "r.dnn_cross_val(X, Y)"
   ]
  },
  {
   "cell_type": "code",
   "execution_count": null,
   "metadata": {
    "collapsed": true
   },
   "outputs": [],
   "source": []
  }
 ],
 "metadata": {
  "kernelspec": {
   "display_name": "Python 2",
   "language": "python",
   "name": "python2"
  },
  "language_info": {
   "codemirror_mode": {
    "name": "ipython",
    "version": 2
   },
   "file_extension": ".py",
   "mimetype": "text/x-python",
   "name": "python",
   "nbconvert_exporter": "python",
   "pygments_lexer": "ipython2",
   "version": "2.7.11"
  }
 },
 "nbformat": 4,
 "nbformat_minor": 0
}
