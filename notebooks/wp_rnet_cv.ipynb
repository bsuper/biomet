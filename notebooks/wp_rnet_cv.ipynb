{
 "cells": [
  {
   "cell_type": "code",
   "execution_count": 1,
   "metadata": {
    "collapsed": false
   },
   "outputs": [],
   "source": [
    "import sys\n",
    "sys.path.append('../')\n",
    "import exp\n",
    "import regression as r"
   ]
  },
  {
   "cell_type": "code",
   "execution_count": 2,
   "metadata": {
    "collapsed": false
   },
   "outputs": [
    {
     "name": "stdout",
     "output_type": "stream",
     "text": [
      "Processing /Users/briansu/biomet/biomet/data/CIMIS/20160413-CIMIS-TWT-daily-2001-2016.csv...\n",
      "Processing /Users/briansu/biomet/biomet/input/WP_2012195to2015126_L3.mat...\n",
      "Processing /Users/briansu/biomet/biomet/data/MODIS/2016-04-13-US-Tw1-MOD13Q1.csv...\n",
      "Processing /Users/briansu/biomet/biomet/data/MODIS/2016-04-13-US-Tw1-MOD11A2.csv...\n",
      "Processing /Users/briansu/biomet/biomet/data/Tower-data/2016-04-14_daily_TOWER_LW.csv...\n"
     ]
    },
    {
     "data": {
      "text/html": [
       "<div>\n",
       "<table border=\"1\" class=\"dataframe\">\n",
       "  <thead>\n",
       "    <tr style=\"text-align: right;\">\n",
       "      <th></th>\n",
       "      <th>PET</th>\n",
       "      <th>VPD</th>\n",
       "      <th>air_temp</th>\n",
       "      <th>doy</th>\n",
       "      <th>precip</th>\n",
       "      <th>soil_temp</th>\n",
       "      <th>sw_in</th>\n",
       "      <th>wind_speed</th>\n",
       "      <th>year</th>\n",
       "      <th>wp_RNET</th>\n",
       "      <th>...</th>\n",
       "      <th>wp_bnd3</th>\n",
       "      <th>wp_bnd7</th>\n",
       "      <th>wp_evi</th>\n",
       "      <th>wp_lswi2</th>\n",
       "      <th>wp_ndvi</th>\n",
       "      <th>wp_LST.day</th>\n",
       "      <th>wp_LST.night</th>\n",
       "      <th>LW_IN.wp</th>\n",
       "      <th>LW_IN.si</th>\n",
       "      <th>LW_IN</th>\n",
       "    </tr>\n",
       "  </thead>\n",
       "  <tbody>\n",
       "    <tr>\n",
       "      <th>0</th>\n",
       "      <td>7.33</td>\n",
       "      <td>0.808731</td>\n",
       "      <td>19.179167</td>\n",
       "      <td>195</td>\n",
       "      <td>0.0</td>\n",
       "      <td>22.320833</td>\n",
       "      <td>30.3156</td>\n",
       "      <td>4.958333</td>\n",
       "      <td>2012</td>\n",
       "      <td>20.798342</td>\n",
       "      <td>...</td>\n",
       "      <td>0.029934</td>\n",
       "      <td>0.112914</td>\n",
       "      <td>0.335343</td>\n",
       "      <td>0.354057</td>\n",
       "      <td>6052.592985</td>\n",
       "      <td>31.567899</td>\n",
       "      <td>17.204530</td>\n",
       "      <td>29.105844</td>\n",
       "      <td>24.562860</td>\n",
       "      <td>29.105844</td>\n",
       "    </tr>\n",
       "    <tr>\n",
       "      <th>1</th>\n",
       "      <td>6.52</td>\n",
       "      <td>0.755945</td>\n",
       "      <td>19.325000</td>\n",
       "      <td>196</td>\n",
       "      <td>0.0</td>\n",
       "      <td>21.770833</td>\n",
       "      <td>29.6316</td>\n",
       "      <td>3.791667</td>\n",
       "      <td>2012</td>\n",
       "      <td>20.573593</td>\n",
       "      <td>...</td>\n",
       "      <td>0.029932</td>\n",
       "      <td>0.112904</td>\n",
       "      <td>0.335286</td>\n",
       "      <td>0.354033</td>\n",
       "      <td>6178.213349</td>\n",
       "      <td>29.570000</td>\n",
       "      <td>17.390000</td>\n",
       "      <td>29.760736</td>\n",
       "      <td>26.096551</td>\n",
       "      <td>29.760736</td>\n",
       "    </tr>\n",
       "    <tr>\n",
       "      <th>2</th>\n",
       "      <td>6.92</td>\n",
       "      <td>0.858993</td>\n",
       "      <td>20.262500</td>\n",
       "      <td>197</td>\n",
       "      <td>0.0</td>\n",
       "      <td>21.908333</td>\n",
       "      <td>29.3472</td>\n",
       "      <td>4.137500</td>\n",
       "      <td>2012</td>\n",
       "      <td>20.475931</td>\n",
       "      <td>...</td>\n",
       "      <td>0.029930</td>\n",
       "      <td>0.112893</td>\n",
       "      <td>0.335229</td>\n",
       "      <td>0.354008</td>\n",
       "      <td>6313.892022</td>\n",
       "      <td>31.097908</td>\n",
       "      <td>17.235624</td>\n",
       "      <td>30.299442</td>\n",
       "      <td>25.986418</td>\n",
       "      <td>30.299442</td>\n",
       "    </tr>\n",
       "    <tr>\n",
       "      <th>3</th>\n",
       "      <td>6.35</td>\n",
       "      <td>0.477617</td>\n",
       "      <td>16.791667</td>\n",
       "      <td>198</td>\n",
       "      <td>0.0</td>\n",
       "      <td>22.420833</td>\n",
       "      <td>28.8180</td>\n",
       "      <td>6.033333</td>\n",
       "      <td>2012</td>\n",
       "      <td>20.571045</td>\n",
       "      <td>...</td>\n",
       "      <td>0.029928</td>\n",
       "      <td>0.112882</td>\n",
       "      <td>0.335173</td>\n",
       "      <td>0.353984</td>\n",
       "      <td>6459.629005</td>\n",
       "      <td>30.868718</td>\n",
       "      <td>17.248525</td>\n",
       "      <td>28.978868</td>\n",
       "      <td>25.122209</td>\n",
       "      <td>28.978868</td>\n",
       "    </tr>\n",
       "    <tr>\n",
       "      <th>4</th>\n",
       "      <td>5.13</td>\n",
       "      <td>0.556820</td>\n",
       "      <td>17.016667</td>\n",
       "      <td>199</td>\n",
       "      <td>0.0</td>\n",
       "      <td>21.529167</td>\n",
       "      <td>23.1732</td>\n",
       "      <td>4.350000</td>\n",
       "      <td>2012</td>\n",
       "      <td>16.757401</td>\n",
       "      <td>...</td>\n",
       "      <td>0.029926</td>\n",
       "      <td>0.112872</td>\n",
       "      <td>0.335116</td>\n",
       "      <td>0.353960</td>\n",
       "      <td>6615.424298</td>\n",
       "      <td>30.657792</td>\n",
       "      <td>17.259663</td>\n",
       "      <td>30.653667</td>\n",
       "      <td>27.830367</td>\n",
       "      <td>30.653667</td>\n",
       "    </tr>\n",
       "  </tbody>\n",
       "</table>\n",
       "<p>5 rows × 28 columns</p>\n",
       "</div>"
      ],
      "text/plain": [
       "    PET       VPD   air_temp  doy  precip  soil_temp    sw_in  wind_speed  \\\n",
       "0  7.33  0.808731  19.179167  195     0.0  22.320833  30.3156    4.958333   \n",
       "1  6.52  0.755945  19.325000  196     0.0  21.770833  29.6316    3.791667   \n",
       "2  6.92  0.858993  20.262500  197     0.0  21.908333  29.3472    4.137500   \n",
       "3  6.35  0.477617  16.791667  198     0.0  22.420833  28.8180    6.033333   \n",
       "4  5.13  0.556820  17.016667  199     0.0  21.529167  23.1732    4.350000   \n",
       "\n",
       "   year    wp_RNET    ...       wp_bnd3   wp_bnd7    wp_evi  wp_lswi2  \\\n",
       "0  2012  20.798342    ...      0.029934  0.112914  0.335343  0.354057   \n",
       "1  2012  20.573593    ...      0.029932  0.112904  0.335286  0.354033   \n",
       "2  2012  20.475931    ...      0.029930  0.112893  0.335229  0.354008   \n",
       "3  2012  20.571045    ...      0.029928  0.112882  0.335173  0.353984   \n",
       "4  2012  16.757401    ...      0.029926  0.112872  0.335116  0.353960   \n",
       "\n",
       "       wp_ndvi  wp_LST.day  wp_LST.night   LW_IN.wp   LW_IN.si      LW_IN  \n",
       "0  6052.592985   31.567899     17.204530  29.105844  24.562860  29.105844  \n",
       "1  6178.213349   29.570000     17.390000  29.760736  26.096551  29.760736  \n",
       "2  6313.892022   31.097908     17.235624  30.299442  25.986418  30.299442  \n",
       "3  6459.629005   30.868718     17.248525  28.978868  25.122209  28.978868  \n",
       "4  6615.424298   30.657792     17.259663  30.653667  27.830367  30.653667  \n",
       "\n",
       "[5 rows x 28 columns]"
      ]
     },
     "execution_count": 2,
     "metadata": {},
     "output_type": "execute_result"
    }
   ],
   "source": [
    "df = exp.get_wp_energy_data()\n",
    "df.head()"
   ]
  },
  {
   "cell_type": "code",
   "execution_count": 5,
   "metadata": {
    "collapsed": false
   },
   "outputs": [
    {
     "name": "stdout",
     "output_type": "stream",
     "text": [
      "<class 'pandas.core.frame.DataFrame'>\n",
      "Int64Index: 1028 entries, 0 to 1027\n",
      "Data columns (total 28 columns):\n",
      "PET             1028 non-null float64\n",
      "VPD             1028 non-null float64\n",
      "air_temp        1028 non-null float64\n",
      "doy             1028 non-null int64\n",
      "precip          1028 non-null float64\n",
      "soil_temp       1028 non-null float64\n",
      "sw_in           1028 non-null float64\n",
      "wind_speed      1028 non-null float64\n",
      "year            1028 non-null int64\n",
      "wp_RNET         1028 non-null float64\n",
      "wp_ch4_gf       1028 non-null float64\n",
      "wp_co2_gf       1028 non-null float64\n",
      "wp_er           1028 non-null float64\n",
      "wp_gpp          1028 non-null float64\n",
      "wp_h            1028 non-null float64\n",
      "wp_le           1028 non-null float64\n",
      "wp_bnd1         1028 non-null float64\n",
      "wp_bnd2         1028 non-null float64\n",
      "wp_bnd3         1028 non-null float64\n",
      "wp_bnd7         1028 non-null float64\n",
      "wp_evi          1028 non-null float64\n",
      "wp_lswi2        1028 non-null float64\n",
      "wp_ndvi         1028 non-null float64\n",
      "wp_LST.day      1028 non-null float64\n",
      "wp_LST.night    1028 non-null float64\n",
      "LW_IN.wp        1028 non-null float64\n",
      "LW_IN.si        1028 non-null float64\n",
      "LW_IN           1028 non-null float64\n",
      "dtypes: float64(26), int64(2)\n",
      "memory usage: 232.9 KB\n"
     ]
    }
   ],
   "source": [
    "df.info()"
   ]
  },
  {
   "cell_type": "code",
   "execution_count": 6,
   "metadata": {
    "collapsed": false
   },
   "outputs": [
    {
     "data": {
      "text/plain": [
       "(1028, 12)"
      ]
     },
     "execution_count": 6,
     "metadata": {},
     "output_type": "execute_result"
    }
   ],
   "source": [
    "train_cols = [\"precip\", \"sw_in\", \"LW_IN.wp\", \"VPD\", \"air_temp\", \"PET\", \"wind_speed\", \"wp_LST.day\",\n",
    "             \"wp_LST.night\", \"wp_evi\", \"wp_ndvi\", \"wp_lswi2\"]\n",
    "X, Y = exp.featurize(df, train_cols, [\"wp_RNET\"])\n",
    "X, Y, scaler = r.preprocess(X, Y)\n",
    "X.shape"
   ]
  },
  {
   "cell_type": "code",
   "execution_count": 7,
   "metadata": {
    "collapsed": false
   },
   "outputs": [
    {
     "name": "stdout",
     "output_type": "stream",
     "text": [
      "Running Random Forests Cross Validation...\n",
      "10-fold CV Acc Mean:  0.97086438771\n",
      "CV Scores:  0.981066064297, 0.983243146063, 0.909015783956, 0.969459022223, 0.984036385177, 0.978676020192, 0.976004017749, 0.974052921905, 0.97097279956, 0.98211771598\n",
      "OOB score: 0.970973046014\n",
      "Feature Importances:\n",
      "('sw_in', 0.28215827492985812)\n",
      "('PET', 0.2646412294519242)\n",
      "('wp_LST.day', 0.15447735385871433)\n",
      "('wp_LST.night', 0.10078644755252604)\n",
      "('air_temp', 0.069970622004921837)\n",
      "('VPD', 0.057209498613061918)\n",
      "('wp_ndvi', 0.024975420527422562)\n",
      "('wind_speed', 0.012883856300712076)\n",
      "('wp_evi', 0.011173808211581709)\n",
      "('wp_lswi2', 0.010457289739095099)\n",
      "('LW_IN.wp', 0.0077741508485523556)\n",
      "('precip', 0.0034920479616297102)\n"
     ]
    },
    {
     "data": {
      "text/plain": [
       "RandomForestRegressor(bootstrap=True, criterion='mse', max_depth=None,\n",
       "           max_features='sqrt', max_leaf_nodes=None, min_samples_leaf=1,\n",
       "           min_samples_split=2, min_weight_fraction_leaf=0.0,\n",
       "           n_estimators=200, n_jobs=1, oob_score=True, random_state=None,\n",
       "           verbose=0, warm_start=False)"
      ]
     },
     "execution_count": 7,
     "metadata": {},
     "output_type": "execute_result"
    }
   ],
   "source": [
    "r.random_forests_cross_val(X, Y, feature_names=train_cols)"
   ]
  },
  {
   "cell_type": "code",
   "execution_count": 8,
   "metadata": {
    "collapsed": false
   },
   "outputs": [
    {
     "name": "stdout",
     "output_type": "stream",
     "text": [
      "Running Gradient Boosted Trees Cross Validation...\n",
      "10-fold CV Acc Mean:  0.969473347425\n",
      "CV Scores:  0.970920464089, 0.985676220691, 0.909238301136, 0.96667849081, 0.983938444161, 0.978898728161, 0.975219544865, 0.972821803354, 0.970336847664, 0.981004629317\n",
      "Feature Importances:\n",
      "('sw_in', 0.20904406052085517)\n",
      "('VPD', 0.10739188121981819)\n",
      "('LW_IN.wp', 0.10223558761695641)\n",
      "('wp_LST.day', 0.090016746408348294)\n",
      "('PET', 0.08972469066582274)\n",
      "('wp_lswi2', 0.077175070440769225)\n",
      "('wp_evi', 0.076574714788103626)\n",
      "('wp_LST.night', 0.072713548253324697)\n",
      "('wind_speed', 0.053058057957386273)\n",
      "('wp_ndvi', 0.051748473912557477)\n",
      "('air_temp', 0.050437989942099193)\n",
      "('precip', 0.019879178273958808)\n"
     ]
    },
    {
     "data": {
      "text/plain": [
       "GradientBoostingRegressor(alpha=0.9, init=None, learning_rate=0.1, loss='ls',\n",
       "             max_depth=3, max_features='sqrt', max_leaf_nodes=None,\n",
       "             min_samples_leaf=1, min_samples_split=2,\n",
       "             min_weight_fraction_leaf=0.0, n_estimators=200,\n",
       "             presort='auto', random_state=None, subsample=1.0, verbose=0,\n",
       "             warm_start=False)"
      ]
     },
     "execution_count": 8,
     "metadata": {},
     "output_type": "execute_result"
    }
   ],
   "source": [
    "r.xgb_trees_cross_val(X, Y, feature_names=train_cols)"
   ]
  },
  {
   "cell_type": "code",
   "execution_count": 9,
   "metadata": {
    "collapsed": false
   },
   "outputs": [
    {
     "name": "stdout",
     "output_type": "stream",
     "text": [
      "Running SVC Cross Validation...\n",
      "10-fold CV Acc Mean:  0.946262571109\n",
      "CV Scores:  0.961332503394, 0.981172975833, 0.866081045745, 0.929786933676, 0.9639353957, 0.951748283708, 0.973455280724, 0.96040071732, 0.94081335706, 0.933899217925\n"
     ]
    },
    {
     "data": {
      "text/plain": [
       "SVR(C=1.0, cache_size=200, coef0=0.0, degree=3, epsilon=0.1, gamma='auto',\n",
       "  kernel='rbf', max_iter=-1, shrinking=True, tol=0.001, verbose=False)"
      ]
     },
     "execution_count": 9,
     "metadata": {},
     "output_type": "execute_result"
    }
   ],
   "source": [
    "r.svc_cross_val(X, Y)"
   ]
  },
  {
   "cell_type": "code",
   "execution_count": 10,
   "metadata": {
    "collapsed": false
   },
   "outputs": [
    {
     "name": "stdout",
     "output_type": "stream",
     "text": [
      "Running Neural Network Cross Validation...\n",
      "Step #1, avg. loss: 170.11926\n",
      "Step #501, epoch #50, avg. loss: 3.88292\n",
      "Step #1001, epoch #100, avg. loss: 1.77897\n",
      "Step #1501, epoch #150, avg. loss: 1.42731\n",
      "Step #2001, epoch #200, avg. loss: 1.21968\n",
      "Step #2501, epoch #250, avg. loss: 1.03392\n",
      "Step #3001, epoch #300, avg. loss: 0.87854\n",
      "Step #3501, epoch #350, avg. loss: 0.70664\n",
      "Step #4001, epoch #400, avg. loss: 0.71776\n",
      "Step #4501, epoch #450, avg. loss: 0.59812\n",
      "Step #1, avg. loss: 180.62247\n",
      "Step #501, epoch #50, avg. loss: 3.65955\n",
      "Step #1001, epoch #100, avg. loss: 1.55683\n",
      "Step #1501, epoch #150, avg. loss: 1.24648\n",
      "Step #2001, epoch #200, avg. loss: 1.04552\n",
      "Step #2501, epoch #250, avg. loss: 0.94863\n",
      "Step #3001, epoch #300, avg. loss: 0.71251\n",
      "Step #3501, epoch #350, avg. loss: 0.62718\n",
      "Step #4001, epoch #400, avg. loss: 0.45386\n",
      "Step #4501, epoch #450, avg. loss: 0.39474\n",
      "Step #1, avg. loss: 162.99272\n",
      "Step #501, epoch #50, avg. loss: 3.99256\n",
      "Step #1001, epoch #100, avg. loss: 1.78386\n",
      "Step #1501, epoch #150, avg. loss: 1.43279\n",
      "Step #2001, epoch #200, avg. loss: 1.24656\n",
      "Step #2501, epoch #250, avg. loss: 0.99963\n",
      "Step #3001, epoch #300, avg. loss: 0.81890\n",
      "Step #3501, epoch #350, avg. loss: 0.68775\n",
      "Step #4001, epoch #400, avg. loss: 0.61987\n",
      "Step #4501, epoch #450, avg. loss: 0.50629\n",
      "Step #1, avg. loss: 181.29805\n",
      "Step #501, epoch #50, avg. loss: 4.02413\n",
      "Step #1001, epoch #100, avg. loss: 1.89480\n",
      "Step #1501, epoch #150, avg. loss: 1.49238\n",
      "Step #2001, epoch #200, avg. loss: 1.25732\n",
      "Step #2501, epoch #250, avg. loss: 0.98666\n",
      "Step #3001, epoch #300, avg. loss: 0.90377\n",
      "Step #3501, epoch #350, avg. loss: 0.73336\n",
      "Step #4001, epoch #400, avg. loss: 0.59542\n",
      "Step #4501, epoch #450, avg. loss: 0.45217\n",
      "Step #1, avg. loss: 175.66451\n",
      "Step #501, epoch #50, avg. loss: 3.94975\n",
      "Step #1001, epoch #100, avg. loss: 1.74591\n",
      "Step #1501, epoch #150, avg. loss: 1.42699\n",
      "Step #2001, epoch #200, avg. loss: 1.21356\n",
      "Step #2501, epoch #250, avg. loss: 1.03635\n",
      "Step #3001, epoch #300, avg. loss: 0.84160\n",
      "Step #3501, epoch #350, avg. loss: 0.73589\n",
      "Step #4001, epoch #400, avg. loss: 0.60940\n",
      "Step #4501, epoch #450, avg. loss: 0.48469\n",
      "Step #1, avg. loss: 183.05295\n",
      "Step #501, epoch #50, avg. loss: 3.99555\n",
      "Step #1001, epoch #100, avg. loss: 1.74893\n",
      "Step #1501, epoch #150, avg. loss: 1.38782\n",
      "Step #2001, epoch #200, avg. loss: 1.14446\n",
      "Step #2501, epoch #250, avg. loss: 0.99778\n",
      "Step #3001, epoch #300, avg. loss: 0.74027\n",
      "Step #3501, epoch #350, avg. loss: 0.63758\n",
      "Step #4001, epoch #400, avg. loss: 0.50753\n",
      "Step #4501, epoch #450, avg. loss: 0.43349\n",
      "Step #1, avg. loss: 149.18275\n",
      "Step #501, epoch #50, avg. loss: 3.99323\n",
      "Step #1001, epoch #100, avg. loss: 1.89143\n",
      "Step #1501, epoch #150, avg. loss: 1.47174\n",
      "Step #2001, epoch #200, avg. loss: 1.18311\n",
      "Step #2501, epoch #250, avg. loss: 0.98631\n",
      "Step #3001, epoch #300, avg. loss: 0.85259\n",
      "Step #3501, epoch #350, avg. loss: 0.75173\n",
      "Step #4001, epoch #400, avg. loss: 0.64925\n",
      "Step #4501, epoch #450, avg. loss: 0.53543\n",
      "Step #1, avg. loss: 179.48499\n",
      "Step #501, epoch #50, avg. loss: 3.88049\n",
      "Step #1001, epoch #100, avg. loss: 1.76118\n",
      "Step #1501, epoch #150, avg. loss: 1.50460\n",
      "Step #2001, epoch #200, avg. loss: 1.28081\n",
      "Step #2501, epoch #250, avg. loss: 1.15822\n",
      "Step #3001, epoch #300, avg. loss: 1.01570\n",
      "Step #3501, epoch #350, avg. loss: 0.87349\n",
      "Step #4001, epoch #400, avg. loss: 0.75537\n",
      "Step #4501, epoch #450, avg. loss: 0.53868\n",
      "Step #1, avg. loss: 174.12048\n",
      "Step #501, epoch #50, avg. loss: 3.98700\n",
      "Step #1001, epoch #100, avg. loss: 1.81889\n",
      "Step #1501, epoch #150, avg. loss: 1.52413\n",
      "Step #2001, epoch #200, avg. loss: 1.29093\n",
      "Step #2501, epoch #250, avg. loss: 1.07942\n",
      "Step #3001, epoch #300, avg. loss: 0.87052\n",
      "Step #3501, epoch #350, avg. loss: 0.75460\n",
      "Step #4001, epoch #400, avg. loss: 0.68702\n",
      "Step #4501, epoch #450, avg. loss: 0.61262\n",
      "Step #1, avg. loss: 163.80826\n",
      "Step #501, epoch #50, avg. loss: 3.91164\n",
      "Step #1001, epoch #100, avg. loss: 1.68331\n",
      "Step #1501, epoch #150, avg. loss: 1.38529\n",
      "Step #2001, epoch #200, avg. loss: 1.20779\n",
      "Step #2501, epoch #250, avg. loss: 0.99577\n",
      "Step #3001, epoch #300, avg. loss: 0.81690\n",
      "Step #3501, epoch #350, avg. loss: 0.72250\n",
      "Step #4001, epoch #400, avg. loss: 0.59648\n",
      "Step #4501, epoch #450, avg. loss: 0.52148\n",
      "10-fold CV Acc Mean:  0.959118483867\n",
      "CV Scores:  0.962923688746, 0.90983938836, 0.972328124058, 0.961213272881, 0.971402036778, 0.939372589624, 0.97783697634, 0.980224447417, 0.959100167941, 0.956944146523\n"
     ]
    },
    {
     "data": {
      "text/plain": [
       "TensorFlowEstimator(batch_size=100, class_weight=None,\n",
       "          continue_training=False, early_stopping_rounds=None,\n",
       "          keep_checkpoint_every_n_hours=10000, learning_rate=0.1,\n",
       "          max_to_keep=5, model_fn=<function tanh_dnn at 0x10aeee050>,\n",
       "          n_classes=0, num_cores=4, optimizer='SGD', steps=5000,\n",
       "          tf_master='', tf_random_seed=42, verbose=1)"
      ]
     },
     "execution_count": 10,
     "metadata": {},
     "output_type": "execute_result"
    }
   ],
   "source": [
    "r.dnn_cross_val(X, Y)"
   ]
  },
  {
   "cell_type": "code",
   "execution_count": null,
   "metadata": {
    "collapsed": true
   },
   "outputs": [],
   "source": []
  }
 ],
 "metadata": {
  "kernelspec": {
   "display_name": "Python 2",
   "language": "python",
   "name": "python2"
  },
  "language_info": {
   "codemirror_mode": {
    "name": "ipython",
    "version": 2
   },
   "file_extension": ".py",
   "mimetype": "text/x-python",
   "name": "python",
   "nbconvert_exporter": "python",
   "pygments_lexer": "ipython2",
   "version": "2.7.11"
  }
 },
 "nbformat": 4,
 "nbformat_minor": 0
}
