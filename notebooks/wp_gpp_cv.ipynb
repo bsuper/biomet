{
 "cells": [
  {
   "cell_type": "code",
   "execution_count": 1,
   "metadata": {
    "collapsed": false
   },
   "outputs": [],
   "source": [
    "import sys\n",
    "sys.path.append('../')\n",
    "import exp\n",
    "import regression as r"
   ]
  },
  {
   "cell_type": "code",
   "execution_count": 2,
   "metadata": {
    "collapsed": false
   },
   "outputs": [
    {
     "data": {
      "text/html": [
       "<div>\n",
       "<table border=\"1\" class=\"dataframe\">\n",
       "  <thead>\n",
       "    <tr style=\"text-align: right;\">\n",
       "      <th></th>\n",
       "      <th>PET</th>\n",
       "      <th>VPD</th>\n",
       "      <th>air_temp</th>\n",
       "      <th>doy</th>\n",
       "      <th>precip</th>\n",
       "      <th>soil_temp</th>\n",
       "      <th>sw_in</th>\n",
       "      <th>wind_speed</th>\n",
       "      <th>year</th>\n",
       "      <th>wp_RNET</th>\n",
       "      <th>...</th>\n",
       "      <th>wp_bnd3</th>\n",
       "      <th>wp_bnd7</th>\n",
       "      <th>wp_evi</th>\n",
       "      <th>wp_lswi2</th>\n",
       "      <th>wp_ndvi</th>\n",
       "      <th>wp_LST.day</th>\n",
       "      <th>wp_LST.night</th>\n",
       "      <th>LW_IN.wp</th>\n",
       "      <th>LW_IN.si</th>\n",
       "      <th>LW_IN</th>\n",
       "    </tr>\n",
       "  </thead>\n",
       "  <tbody>\n",
       "    <tr>\n",
       "      <th>0</th>\n",
       "      <td>7.33</td>\n",
       "      <td>0.808731</td>\n",
       "      <td>19.179167</td>\n",
       "      <td>195</td>\n",
       "      <td>0.0</td>\n",
       "      <td>22.320833</td>\n",
       "      <td>30.3156</td>\n",
       "      <td>4.958333</td>\n",
       "      <td>2012</td>\n",
       "      <td>20.798342</td>\n",
       "      <td>...</td>\n",
       "      <td>0.029934</td>\n",
       "      <td>0.112914</td>\n",
       "      <td>0.335343</td>\n",
       "      <td>0.354057</td>\n",
       "      <td>6052.592985</td>\n",
       "      <td>31.567899</td>\n",
       "      <td>17.204530</td>\n",
       "      <td>29.105844</td>\n",
       "      <td>24.562860</td>\n",
       "      <td>29.105844</td>\n",
       "    </tr>\n",
       "    <tr>\n",
       "      <th>1</th>\n",
       "      <td>6.52</td>\n",
       "      <td>0.755945</td>\n",
       "      <td>19.325000</td>\n",
       "      <td>196</td>\n",
       "      <td>0.0</td>\n",
       "      <td>21.770833</td>\n",
       "      <td>29.6316</td>\n",
       "      <td>3.791667</td>\n",
       "      <td>2012</td>\n",
       "      <td>20.573593</td>\n",
       "      <td>...</td>\n",
       "      <td>0.029932</td>\n",
       "      <td>0.112904</td>\n",
       "      <td>0.335286</td>\n",
       "      <td>0.354033</td>\n",
       "      <td>6178.213349</td>\n",
       "      <td>29.570000</td>\n",
       "      <td>17.390000</td>\n",
       "      <td>29.760736</td>\n",
       "      <td>26.096551</td>\n",
       "      <td>29.760736</td>\n",
       "    </tr>\n",
       "    <tr>\n",
       "      <th>2</th>\n",
       "      <td>6.92</td>\n",
       "      <td>0.858993</td>\n",
       "      <td>20.262500</td>\n",
       "      <td>197</td>\n",
       "      <td>0.0</td>\n",
       "      <td>21.908333</td>\n",
       "      <td>29.3472</td>\n",
       "      <td>4.137500</td>\n",
       "      <td>2012</td>\n",
       "      <td>20.475931</td>\n",
       "      <td>...</td>\n",
       "      <td>0.029930</td>\n",
       "      <td>0.112893</td>\n",
       "      <td>0.335229</td>\n",
       "      <td>0.354008</td>\n",
       "      <td>6313.892022</td>\n",
       "      <td>31.097908</td>\n",
       "      <td>17.235624</td>\n",
       "      <td>30.299442</td>\n",
       "      <td>25.986418</td>\n",
       "      <td>30.299442</td>\n",
       "    </tr>\n",
       "    <tr>\n",
       "      <th>3</th>\n",
       "      <td>6.35</td>\n",
       "      <td>0.477617</td>\n",
       "      <td>16.791667</td>\n",
       "      <td>198</td>\n",
       "      <td>0.0</td>\n",
       "      <td>22.420833</td>\n",
       "      <td>28.8180</td>\n",
       "      <td>6.033333</td>\n",
       "      <td>2012</td>\n",
       "      <td>20.571045</td>\n",
       "      <td>...</td>\n",
       "      <td>0.029928</td>\n",
       "      <td>0.112882</td>\n",
       "      <td>0.335173</td>\n",
       "      <td>0.353984</td>\n",
       "      <td>6459.629005</td>\n",
       "      <td>30.868718</td>\n",
       "      <td>17.248525</td>\n",
       "      <td>28.978868</td>\n",
       "      <td>25.122209</td>\n",
       "      <td>28.978868</td>\n",
       "    </tr>\n",
       "    <tr>\n",
       "      <th>4</th>\n",
       "      <td>5.13</td>\n",
       "      <td>0.556820</td>\n",
       "      <td>17.016667</td>\n",
       "      <td>199</td>\n",
       "      <td>0.0</td>\n",
       "      <td>21.529167</td>\n",
       "      <td>23.1732</td>\n",
       "      <td>4.350000</td>\n",
       "      <td>2012</td>\n",
       "      <td>16.757401</td>\n",
       "      <td>...</td>\n",
       "      <td>0.029926</td>\n",
       "      <td>0.112872</td>\n",
       "      <td>0.335116</td>\n",
       "      <td>0.353960</td>\n",
       "      <td>6615.424298</td>\n",
       "      <td>30.657792</td>\n",
       "      <td>17.259663</td>\n",
       "      <td>30.653667</td>\n",
       "      <td>27.830367</td>\n",
       "      <td>30.653667</td>\n",
       "    </tr>\n",
       "  </tbody>\n",
       "</table>\n",
       "<p>5 rows × 28 columns</p>\n",
       "</div>"
      ],
      "text/plain": [
       "    PET       VPD   air_temp  doy  precip  soil_temp    sw_in  wind_speed  \\\n",
       "0  7.33  0.808731  19.179167  195     0.0  22.320833  30.3156    4.958333   \n",
       "1  6.52  0.755945  19.325000  196     0.0  21.770833  29.6316    3.791667   \n",
       "2  6.92  0.858993  20.262500  197     0.0  21.908333  29.3472    4.137500   \n",
       "3  6.35  0.477617  16.791667  198     0.0  22.420833  28.8180    6.033333   \n",
       "4  5.13  0.556820  17.016667  199     0.0  21.529167  23.1732    4.350000   \n",
       "\n",
       "   year    wp_RNET    ...       wp_bnd3   wp_bnd7    wp_evi  wp_lswi2  \\\n",
       "0  2012  20.798342    ...      0.029934  0.112914  0.335343  0.354057   \n",
       "1  2012  20.573593    ...      0.029932  0.112904  0.335286  0.354033   \n",
       "2  2012  20.475931    ...      0.029930  0.112893  0.335229  0.354008   \n",
       "3  2012  20.571045    ...      0.029928  0.112882  0.335173  0.353984   \n",
       "4  2012  16.757401    ...      0.029926  0.112872  0.335116  0.353960   \n",
       "\n",
       "       wp_ndvi  wp_LST.day  wp_LST.night   LW_IN.wp   LW_IN.si      LW_IN  \n",
       "0  6052.592985   31.567899     17.204530  29.105844  24.562860  29.105844  \n",
       "1  6178.213349   29.570000     17.390000  29.760736  26.096551  29.760736  \n",
       "2  6313.892022   31.097908     17.235624  30.299442  25.986418  30.299442  \n",
       "3  6459.629005   30.868718     17.248525  28.978868  25.122209  28.978868  \n",
       "4  6615.424298   30.657792     17.259663  30.653667  27.830367  30.653667  \n",
       "\n",
       "[5 rows x 28 columns]"
      ]
     },
     "execution_count": 2,
     "metadata": {},
     "output_type": "execute_result"
    }
   ],
   "source": [
    "df = exp.get_wp_energy_data()\n",
    "df.head()"
   ]
  },
  {
   "cell_type": "code",
   "execution_count": 3,
   "metadata": {
    "collapsed": false
   },
   "outputs": [
    {
     "name": "stdout",
     "output_type": "stream",
     "text": [
      "<class 'pandas.core.frame.DataFrame'>\n",
      "Int64Index: 1028 entries, 0 to 1027\n",
      "Data columns (total 28 columns):\n",
      "PET             1028 non-null float64\n",
      "VPD             1028 non-null float64\n",
      "air_temp        1028 non-null float64\n",
      "doy             1028 non-null int64\n",
      "precip          1028 non-null float64\n",
      "soil_temp       1028 non-null float64\n",
      "sw_in           1028 non-null float64\n",
      "wind_speed      1028 non-null float64\n",
      "year            1028 non-null int64\n",
      "wp_RNET         1028 non-null float64\n",
      "wp_ch4_gf       1028 non-null float64\n",
      "wp_co2_gf       1028 non-null float64\n",
      "wp_er           1028 non-null float64\n",
      "wp_gpp          1028 non-null float64\n",
      "wp_h            1028 non-null float64\n",
      "wp_le           1028 non-null float64\n",
      "wp_bnd1         1028 non-null float64\n",
      "wp_bnd2         1028 non-null float64\n",
      "wp_bnd3         1028 non-null float64\n",
      "wp_bnd7         1028 non-null float64\n",
      "wp_evi          1028 non-null float64\n",
      "wp_lswi2        1028 non-null float64\n",
      "wp_ndvi         1028 non-null float64\n",
      "wp_LST.day      1028 non-null float64\n",
      "wp_LST.night    1028 non-null float64\n",
      "LW_IN.wp        1028 non-null float64\n",
      "LW_IN.si        1028 non-null float64\n",
      "LW_IN           1028 non-null float64\n",
      "dtypes: float64(26), int64(2)\n",
      "memory usage: 232.9 KB\n"
     ]
    }
   ],
   "source": [
    "df.info()"
   ]
  },
  {
   "cell_type": "code",
   "execution_count": 4,
   "metadata": {
    "collapsed": false
   },
   "outputs": [
    {
     "data": {
      "text/plain": [
       "(1028, 12)"
      ]
     },
     "execution_count": 4,
     "metadata": {},
     "output_type": "execute_result"
    }
   ],
   "source": [
    "train_cols = [\"precip\", \"sw_in\", \"LW_IN.wp\", \"VPD\", \"air_temp\", \"PET\", \"wind_speed\", \"wp_LST.day\",\n",
    "             \"wp_LST.night\", \"wp_evi\", \"wp_ndvi\", \"wp_lswi2\"]\n",
    "X, Y = exp.featurize(df, train_cols, [\"wp_gpp\"])\n",
    "X, Y, scaler = r.preprocess(X, Y)\n",
    "X.shape"
   ]
  },
  {
   "cell_type": "code",
   "execution_count": 5,
   "metadata": {
    "collapsed": false
   },
   "outputs": [
    {
     "name": "stdout",
     "output_type": "stream",
     "text": [
      "Running Random Forests Cross Validation...\n",
      "10-fold CV Acc Mean:  0.979697876533\n",
      "CV Scores:  0.982948413839, 0.983989599044, 0.974964938636, 0.985282451362, 0.981119687758, 0.976858711366, 0.974214590276, 0.975387571986, 0.979646289437, 0.982566511631\n",
      "OOB score: 0.980052685902\n",
      "Feature Importances:\n",
      "('wp_LST.night', 0.33620165140761571)\n",
      "('air_temp', 0.18247379165836608)\n",
      "('wp_LST.day', 0.14449485715939997)\n",
      "('wp_ndvi', 0.076237117922080058)\n",
      "('PET', 0.072143346518386609)\n",
      "('VPD', 0.043469508284347279)\n",
      "('wp_evi', 0.040423756524160311)\n",
      "('sw_in', 0.038302743232782911)\n",
      "('wp_lswi2', 0.034876528069452274)\n",
      "('LW_IN.wp', 0.024210088301700291)\n",
      "('wind_speed', 0.006596504002568092)\n",
      "('precip', 0.00057010691914031932)\n"
     ]
    },
    {
     "data": {
      "text/plain": [
       "RandomForestRegressor(bootstrap=True, criterion='mse', max_depth=None,\n",
       "           max_features='sqrt', max_leaf_nodes=None, min_samples_leaf=1,\n",
       "           min_samples_split=2, min_weight_fraction_leaf=0.0,\n",
       "           n_estimators=200, n_jobs=1, oob_score=True, random_state=None,\n",
       "           verbose=0, warm_start=False)"
      ]
     },
     "execution_count": 5,
     "metadata": {},
     "output_type": "execute_result"
    }
   ],
   "source": [
    "r.random_forests_cross_val(X, Y, feature_names=train_cols)"
   ]
  },
  {
   "cell_type": "code",
   "execution_count": 6,
   "metadata": {
    "collapsed": false
   },
   "outputs": [
    {
     "name": "stdout",
     "output_type": "stream",
     "text": [
      "Running Gradient Boosted Trees Cross Validation...\n",
      "10-fold CV Acc Mean:  0.977325000004\n",
      "CV Scores:  0.98503757548, 0.980876247397, 0.977354474809, 0.980226637759, 0.978068499879, 0.975140374495, 0.972007843767, 0.97253326545, 0.976958347509, 0.975046733492\n",
      "Feature Importances:\n",
      "('wp_LST.night', 0.14363843975861221)\n",
      "('wp_evi', 0.13884132364663132)\n",
      "('wp_lswi2', 0.1206540852117917)\n",
      "('wp_LST.day', 0.097200524591822685)\n",
      "('air_temp', 0.096536966008317404)\n",
      "('wp_ndvi', 0.094184690864718257)\n",
      "('PET', 0.069760730633800352)\n",
      "('LW_IN.wp', 0.067129921618636207)\n",
      "('sw_in', 0.064792556180468031)\n",
      "('VPD', 0.05463569524611496)\n",
      "('wind_speed', 0.048672902400481402)\n",
      "('precip', 0.0039521638386054983)\n"
     ]
    },
    {
     "data": {
      "text/plain": [
       "GradientBoostingRegressor(alpha=0.9, init=None, learning_rate=0.1, loss='ls',\n",
       "             max_depth=3, max_features='sqrt', max_leaf_nodes=None,\n",
       "             min_samples_leaf=1, min_samples_split=2,\n",
       "             min_weight_fraction_leaf=0.0, n_estimators=200,\n",
       "             presort='auto', random_state=None, subsample=1.0, verbose=0,\n",
       "             warm_start=False)"
      ]
     },
     "execution_count": 6,
     "metadata": {},
     "output_type": "execute_result"
    }
   ],
   "source": [
    "r.xgb_trees_cross_val(X, Y, feature_names=train_cols)"
   ]
  },
  {
   "cell_type": "code",
   "execution_count": 7,
   "metadata": {
    "collapsed": false
   },
   "outputs": [
    {
     "name": "stdout",
     "output_type": "stream",
     "text": [
      "Running SVC Cross Validation...\n",
      "10-fold CV Acc Mean:  0.820330868686\n",
      "CV Scores:  0.814064181716, 0.814839500121, 0.78630479109, 0.800931539622, 0.85861992297, 0.871185556522, 0.752974422057, 0.84625574092, 0.837758983384, 0.820374048454\n"
     ]
    },
    {
     "data": {
      "text/plain": [
       "SVR(C=1.0, cache_size=200, coef0=0.0, degree=3, epsilon=0.1, gamma='auto',\n",
       "  kernel='rbf', max_iter=-1, shrinking=True, tol=0.001, verbose=False)"
      ]
     },
     "execution_count": 7,
     "metadata": {},
     "output_type": "execute_result"
    }
   ],
   "source": [
    "r.svc_cross_val(X, Y)"
   ]
  },
  {
   "cell_type": "code",
   "execution_count": 8,
   "metadata": {
    "collapsed": false
   },
   "outputs": [
    {
     "name": "stdout",
     "output_type": "stream",
     "text": [
      "Running Neural Network Cross Validation...\n",
      "Step #1, avg. loss: 2660.62695\n",
      "Step #501, epoch #50, avg. loss: 130.95221\n",
      "Step #1001, epoch #100, avg. loss: 19.12914\n",
      "Step #1501, epoch #150, avg. loss: 10.90339\n",
      "Step #2001, epoch #200, avg. loss: 7.59950\n",
      "Step #2501, epoch #250, avg. loss: 5.89042\n",
      "Step #3001, epoch #300, avg. loss: 4.72776\n",
      "Step #3501, epoch #350, avg. loss: 4.07379\n",
      "Step #4001, epoch #400, avg. loss: 3.61226\n",
      "Step #4501, epoch #450, avg. loss: 3.26641\n",
      "Step #1, avg. loss: 2181.57666\n",
      "Step #501, epoch #50, avg. loss: 130.09575\n",
      "Step #1001, epoch #100, avg. loss: 17.99751\n",
      "Step #1501, epoch #150, avg. loss: 9.97801\n",
      "Step #2001, epoch #200, avg. loss: 6.73317\n",
      "Step #2501, epoch #250, avg. loss: 5.15523\n",
      "Step #3001, epoch #300, avg. loss: 4.27083\n",
      "Step #3501, epoch #350, avg. loss: 3.60713\n",
      "Step #4001, epoch #400, avg. loss: 3.20354\n",
      "Step #4501, epoch #450, avg. loss: 2.95511\n",
      "Step #1, avg. loss: 2363.76367\n",
      "Step #501, epoch #50, avg. loss: 127.59370\n",
      "Step #1001, epoch #100, avg. loss: 18.19805\n",
      "Step #1501, epoch #150, avg. loss: 10.60812\n",
      "Step #2001, epoch #200, avg. loss: 7.50729\n",
      "Step #2501, epoch #250, avg. loss: 5.88559\n",
      "Step #3001, epoch #300, avg. loss: 4.80013\n",
      "Step #3501, epoch #350, avg. loss: 4.09149\n",
      "Step #4001, epoch #400, avg. loss: 3.60085\n",
      "Step #4501, epoch #450, avg. loss: 3.19174\n",
      "Step #1, avg. loss: 2378.83374\n",
      "Step #501, epoch #50, avg. loss: 130.66023\n",
      "Step #1001, epoch #100, avg. loss: 19.36068\n",
      "Step #1501, epoch #150, avg. loss: 11.58390\n",
      "Step #2001, epoch #200, avg. loss: 8.01459\n",
      "Step #2501, epoch #250, avg. loss: 6.12492\n",
      "Step #3001, epoch #300, avg. loss: 5.01350\n",
      "Step #3501, epoch #350, avg. loss: 4.33568\n",
      "Step #4001, epoch #400, avg. loss: 3.76688\n",
      "Step #4501, epoch #450, avg. loss: 3.46006\n",
      "Step #1, avg. loss: 2236.16089\n",
      "Step #501, epoch #50, avg. loss: 132.87956\n",
      "Step #1001, epoch #100, avg. loss: 18.27083\n",
      "Step #1501, epoch #150, avg. loss: 10.60002\n",
      "Step #2001, epoch #200, avg. loss: 7.64954\n",
      "Step #2501, epoch #250, avg. loss: 6.00208\n",
      "Step #3001, epoch #300, avg. loss: 5.01178\n",
      "Step #3501, epoch #350, avg. loss: 4.32832\n",
      "Step #4001, epoch #400, avg. loss: 3.73464\n",
      "Step #4501, epoch #450, avg. loss: 3.38839\n",
      "Step #1, avg. loss: 2581.04956\n",
      "Step #501, epoch #50, avg. loss: 131.33134\n",
      "Step #1001, epoch #100, avg. loss: 18.36068\n",
      "Step #1501, epoch #150, avg. loss: 10.28589\n",
      "Step #2001, epoch #200, avg. loss: 7.52225\n",
      "Step #2501, epoch #250, avg. loss: 5.95231\n",
      "Step #3001, epoch #300, avg. loss: 5.06150\n",
      "Step #3501, epoch #350, avg. loss: 4.36384\n",
      "Step #4001, epoch #400, avg. loss: 3.79309\n",
      "Step #4501, epoch #450, avg. loss: 3.41123\n",
      "Step #1, avg. loss: 2161.12598\n",
      "Step #501, epoch #50, avg. loss: 133.77272\n",
      "Step #1001, epoch #100, avg. loss: 17.58360\n",
      "Step #1501, epoch #150, avg. loss: 10.36573\n",
      "Step #2001, epoch #200, avg. loss: 7.28155\n",
      "Step #2501, epoch #250, avg. loss: 5.59992\n",
      "Step #3001, epoch #300, avg. loss: 4.54671\n",
      "Step #3501, epoch #350, avg. loss: 3.87083\n",
      "Step #4001, epoch #400, avg. loss: 3.41981\n",
      "Step #4501, epoch #450, avg. loss: 3.02146\n",
      "Step #1, avg. loss: 2238.39844\n",
      "Step #501, epoch #50, avg. loss: 129.61349\n",
      "Step #1001, epoch #100, avg. loss: 18.00014\n",
      "Step #1501, epoch #150, avg. loss: 10.30328\n",
      "Step #2001, epoch #200, avg. loss: 7.01438\n",
      "Step #2501, epoch #250, avg. loss: 5.55185\n",
      "Step #3001, epoch #300, avg. loss: 4.66024\n",
      "Step #3501, epoch #350, avg. loss: 4.08675\n",
      "Step #4001, epoch #400, avg. loss: 3.59147\n",
      "Step #4501, epoch #450, avg. loss: 3.25429\n",
      "Step #1, avg. loss: 2578.79883\n",
      "Step #501, epoch #50, avg. loss: 128.69315\n",
      "Step #1001, epoch #100, avg. loss: 17.91265\n",
      "Step #1501, epoch #150, avg. loss: 10.37534\n",
      "Step #2001, epoch #200, avg. loss: 7.43112\n",
      "Step #2501, epoch #250, avg. loss: 5.75181\n",
      "Step #3001, epoch #300, avg. loss: 4.77164\n",
      "Step #3501, epoch #350, avg. loss: 4.02300\n",
      "Step #4001, epoch #400, avg. loss: 3.54334\n",
      "Step #4501, epoch #450, avg. loss: 3.08627\n",
      "Step #1, avg. loss: 2080.95117\n",
      "Step #501, epoch #50, avg. loss: 133.36331\n",
      "Step #1001, epoch #100, avg. loss: 18.83979\n",
      "Step #1501, epoch #150, avg. loss: 11.15840\n",
      "Step #2001, epoch #200, avg. loss: 7.98103\n",
      "Step #2501, epoch #250, avg. loss: 6.31024\n",
      "Step #3001, epoch #300, avg. loss: 5.21381\n",
      "Step #3501, epoch #350, avg. loss: 4.50138\n",
      "Step #4001, epoch #400, avg. loss: 3.94225\n",
      "Step #4501, epoch #450, avg. loss: 3.45733\n",
      "10-fold CV Acc Mean:  0.963044240386\n",
      "CV Scores:  0.973471496883, 0.9738479428, 0.946403793572, 0.964407503971, 0.93898089643, 0.971322070757, 0.970939049106, 0.936995293853, 0.975152348745, 0.97892200774\n"
     ]
    },
    {
     "data": {
      "text/plain": [
       "TensorFlowEstimator(batch_size=100, class_weight=None,\n",
       "          continue_training=False, early_stopping_rounds=None,\n",
       "          keep_checkpoint_every_n_hours=10000, learning_rate=0.1,\n",
       "          max_to_keep=5, model_fn=<function tanh_dnn at 0x119687410>,\n",
       "          n_classes=0, num_cores=4, optimizer='SGD', steps=5000,\n",
       "          tf_master='', tf_random_seed=42, verbose=1)"
      ]
     },
     "execution_count": 8,
     "metadata": {},
     "output_type": "execute_result"
    }
   ],
   "source": [
    "r.dnn_cross_val(X, Y)"
   ]
  },
  {
   "cell_type": "code",
   "execution_count": null,
   "metadata": {
    "collapsed": true
   },
   "outputs": [],
   "source": []
  }
 ],
 "metadata": {
  "kernelspec": {
   "display_name": "Python 2",
   "language": "python",
   "name": "python2"
  },
  "language_info": {
   "codemirror_mode": {
    "name": "ipython",
    "version": 2
   },
   "file_extension": ".py",
   "mimetype": "text/x-python",
   "name": "python",
   "nbconvert_exporter": "python",
   "pygments_lexer": "ipython2",
   "version": "2.7.11"
  }
 },
 "nbformat": 4,
 "nbformat_minor": 0
}
