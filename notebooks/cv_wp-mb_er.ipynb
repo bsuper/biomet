{
 "cells": [
  {
   "cell_type": "markdown",
   "metadata": {},
   "source": [
    "## Mayberry ER Regression using Westpond Data Cross Validation\n",
    "\n",
    "### Train Features\n",
    "1. land surface temp (wp_LST.day)\n",
    "2. sensible heat flux (wp_le)\n",
    "3. latent heat flux (wp_h)\n",
    "4. net radiation (net_rad)\n",
    "5. avg air temp (avg_air_temp)"
   ]
  },
  {
   "cell_type": "code",
   "execution_count": 1,
   "metadata": {
    "collapsed": false
   },
   "outputs": [],
   "source": [
    "import sys\n",
    "sys.path.append('../')\n",
    "import exp\n",
    "import regression as r"
   ]
  },
  {
   "cell_type": "code",
   "execution_count": 2,
   "metadata": {
    "collapsed": false
   },
   "outputs": [
    {
     "data": {
      "text/html": [
       "<div>\n",
       "<table border=\"1\" class=\"dataframe\">\n",
       "  <thead>\n",
       "    <tr style=\"text-align: right;\">\n",
       "      <th></th>\n",
       "      <th>avg_air_temp</th>\n",
       "      <th>avg_soil_temp</th>\n",
       "      <th>doy</th>\n",
       "      <th>net_rad</th>\n",
       "      <th>year</th>\n",
       "      <th>wp_ch4_gf</th>\n",
       "      <th>wp_co2_gf</th>\n",
       "      <th>wp_er</th>\n",
       "      <th>wp_gpp</th>\n",
       "      <th>wp_h</th>\n",
       "      <th>...</th>\n",
       "      <th>mb_bnd2</th>\n",
       "      <th>mb_bnd3</th>\n",
       "      <th>mb_bnd7</th>\n",
       "      <th>mb_evi</th>\n",
       "      <th>mb_lswi</th>\n",
       "      <th>mb_ndvi</th>\n",
       "      <th>wp_LST.day</th>\n",
       "      <th>wp_LST.night</th>\n",
       "      <th>mb_LST.day</th>\n",
       "      <th>mb_LST.night</th>\n",
       "    </tr>\n",
       "  </thead>\n",
       "  <tbody>\n",
       "    <tr>\n",
       "      <th>0</th>\n",
       "      <td>19.2</td>\n",
       "      <td>22.3</td>\n",
       "      <td>195</td>\n",
       "      <td>190.0</td>\n",
       "      <td>2012</td>\n",
       "      <td>4332.368657</td>\n",
       "      <td>-304.542172</td>\n",
       "      <td>145.072376</td>\n",
       "      <td>-449.614548</td>\n",
       "      <td>1447.549899</td>\n",
       "      <td>...</td>\n",
       "      <td>0.187575</td>\n",
       "      <td>0.025212</td>\n",
       "      <td>0.053137</td>\n",
       "      <td>0.298162</td>\n",
       "      <td>0.562370</td>\n",
       "      <td>0.6491</td>\n",
       "      <td>29.61</td>\n",
       "      <td>17.2850</td>\n",
       "      <td>26.3350</td>\n",
       "      <td>18.6450</td>\n",
       "    </tr>\n",
       "    <tr>\n",
       "      <th>1</th>\n",
       "      <td>19.3</td>\n",
       "      <td>21.8</td>\n",
       "      <td>196</td>\n",
       "      <td>189.0</td>\n",
       "      <td>2012</td>\n",
       "      <td>5305.896768</td>\n",
       "      <td>-335.648791</td>\n",
       "      <td>150.278671</td>\n",
       "      <td>-485.927462</td>\n",
       "      <td>1921.833137</td>\n",
       "      <td>...</td>\n",
       "      <td>0.186562</td>\n",
       "      <td>0.024569</td>\n",
       "      <td>0.051306</td>\n",
       "      <td>0.296544</td>\n",
       "      <td>0.574074</td>\n",
       "      <td>0.6504</td>\n",
       "      <td>29.63</td>\n",
       "      <td>17.2325</td>\n",
       "      <td>26.4075</td>\n",
       "      <td>18.5925</td>\n",
       "    </tr>\n",
       "    <tr>\n",
       "      <th>2</th>\n",
       "      <td>20.3</td>\n",
       "      <td>21.9</td>\n",
       "      <td>197</td>\n",
       "      <td>187.0</td>\n",
       "      <td>2012</td>\n",
       "      <td>6215.371936</td>\n",
       "      <td>-313.150966</td>\n",
       "      <td>158.307017</td>\n",
       "      <td>-471.457982</td>\n",
       "      <td>1176.374322</td>\n",
       "      <td>...</td>\n",
       "      <td>0.185550</td>\n",
       "      <td>0.023925</td>\n",
       "      <td>0.049475</td>\n",
       "      <td>0.294925</td>\n",
       "      <td>0.585779</td>\n",
       "      <td>0.6517</td>\n",
       "      <td>29.65</td>\n",
       "      <td>17.1800</td>\n",
       "      <td>26.4800</td>\n",
       "      <td>18.5400</td>\n",
       "    </tr>\n",
       "    <tr>\n",
       "      <th>3</th>\n",
       "      <td>16.8</td>\n",
       "      <td>22.4</td>\n",
       "      <td>198</td>\n",
       "      <td>186.0</td>\n",
       "      <td>2012</td>\n",
       "      <td>7129.353337</td>\n",
       "      <td>-339.900067</td>\n",
       "      <td>153.561669</td>\n",
       "      <td>-493.461736</td>\n",
       "      <td>2575.636175</td>\n",
       "      <td>...</td>\n",
       "      <td>0.184537</td>\n",
       "      <td>0.023281</td>\n",
       "      <td>0.047644</td>\n",
       "      <td>0.293306</td>\n",
       "      <td>0.597483</td>\n",
       "      <td>0.6530</td>\n",
       "      <td>29.67</td>\n",
       "      <td>17.1275</td>\n",
       "      <td>26.5525</td>\n",
       "      <td>18.4875</td>\n",
       "    </tr>\n",
       "    <tr>\n",
       "      <th>4</th>\n",
       "      <td>17.0</td>\n",
       "      <td>21.5</td>\n",
       "      <td>199</td>\n",
       "      <td>151.0</td>\n",
       "      <td>2012</td>\n",
       "      <td>7070.768573</td>\n",
       "      <td>-319.771564</td>\n",
       "      <td>144.053480</td>\n",
       "      <td>-463.825044</td>\n",
       "      <td>1916.081260</td>\n",
       "      <td>...</td>\n",
       "      <td>0.183525</td>\n",
       "      <td>0.022638</td>\n",
       "      <td>0.045812</td>\n",
       "      <td>0.291687</td>\n",
       "      <td>0.609188</td>\n",
       "      <td>0.6543</td>\n",
       "      <td>29.69</td>\n",
       "      <td>17.0750</td>\n",
       "      <td>26.6250</td>\n",
       "      <td>18.4350</td>\n",
       "    </tr>\n",
       "  </tbody>\n",
       "</table>\n",
       "<p>5 rows × 35 columns</p>\n",
       "</div>"
      ],
      "text/plain": [
       "   avg_air_temp  avg_soil_temp  doy  net_rad  year    wp_ch4_gf   wp_co2_gf  \\\n",
       "0          19.2           22.3  195    190.0  2012  4332.368657 -304.542172   \n",
       "1          19.3           21.8  196    189.0  2012  5305.896768 -335.648791   \n",
       "2          20.3           21.9  197    187.0  2012  6215.371936 -313.150966   \n",
       "3          16.8           22.4  198    186.0  2012  7129.353337 -339.900067   \n",
       "4          17.0           21.5  199    151.0  2012  7070.768573 -319.771564   \n",
       "\n",
       "        wp_er      wp_gpp         wp_h      ...        mb_bnd2   mb_bnd3  \\\n",
       "0  145.072376 -449.614548  1447.549899      ...       0.187575  0.025212   \n",
       "1  150.278671 -485.927462  1921.833137      ...       0.186562  0.024569   \n",
       "2  158.307017 -471.457982  1176.374322      ...       0.185550  0.023925   \n",
       "3  153.561669 -493.461736  2575.636175      ...       0.184537  0.023281   \n",
       "4  144.053480 -463.825044  1916.081260      ...       0.183525  0.022638   \n",
       "\n",
       "    mb_bnd7    mb_evi   mb_lswi  mb_ndvi  wp_LST.day  wp_LST.night  \\\n",
       "0  0.053137  0.298162  0.562370   0.6491       29.61       17.2850   \n",
       "1  0.051306  0.296544  0.574074   0.6504       29.63       17.2325   \n",
       "2  0.049475  0.294925  0.585779   0.6517       29.65       17.1800   \n",
       "3  0.047644  0.293306  0.597483   0.6530       29.67       17.1275   \n",
       "4  0.045812  0.291687  0.609188   0.6543       29.69       17.0750   \n",
       "\n",
       "   mb_LST.day  mb_LST.night  \n",
       "0     26.3350       18.6450  \n",
       "1     26.4075       18.5925  \n",
       "2     26.4800       18.5400  \n",
       "3     26.5525       18.4875  \n",
       "4     26.6250       18.4350  \n",
       "\n",
       "[5 rows x 35 columns]"
      ]
     },
     "execution_count": 2,
     "metadata": {},
     "output_type": "execute_result"
    }
   ],
   "source": [
    "df = exp.get_exp1_data()\n",
    "df.head()"
   ]
  },
  {
   "cell_type": "code",
   "execution_count": 3,
   "metadata": {
    "collapsed": false
   },
   "outputs": [
    {
     "data": {
      "text/plain": [
       "(1028, 5)"
      ]
     },
     "execution_count": 3,
     "metadata": {},
     "output_type": "execute_result"
    }
   ],
   "source": [
    "train_cols, test_col = [\"wp_LST.day\", \"wp_h\", \"wp_le\", \"net_rad\", \"avg_air_temp\"], [\"mb_er\"]\n",
    "X, Y = exp.featurize(df, train_cols, test_col)\n",
    "X, Y, scaler = r.preprocess(X, Y)\n",
    "X.shape"
   ]
  },
  {
   "cell_type": "code",
   "execution_count": 4,
   "metadata": {
    "collapsed": false
   },
   "outputs": [
    {
     "name": "stdout",
     "output_type": "stream",
     "text": [
      "Running Random Forests Cross Validation...\n",
      "10-fold CV Acc Mean:  0.822717983436\n",
      "CV Scores:  0.805256525213, 0.893608920242, 0.799591471484, 0.765739638883, 0.827799815433, 0.801992505896, 0.792794266977, 0.880400782093, 0.826913797473, 0.83308211067\n",
      "OOB score: 0.821136226713\n",
      "Feature Importances:\n",
      "('wp_le', 0.44145464601601297)\n",
      "('wp_LST.day', 0.20771063261544104)\n",
      "('avg_air_temp', 0.17144697455869115)\n",
      "('net_rad', 0.098545337424733009)\n",
      "('wp_h', 0.080842409385121813)\n"
     ]
    },
    {
     "data": {
      "text/plain": [
       "RandomForestRegressor(bootstrap=True, criterion='mse', max_depth=None,\n",
       "           max_features='sqrt', max_leaf_nodes=None, min_samples_leaf=1,\n",
       "           min_samples_split=2, min_weight_fraction_leaf=0.0,\n",
       "           n_estimators=200, n_jobs=1, oob_score=True, random_state=None,\n",
       "           verbose=0, warm_start=False)"
      ]
     },
     "execution_count": 4,
     "metadata": {},
     "output_type": "execute_result"
    }
   ],
   "source": [
    "r.random_forests_cross_val(X, Y, feature_names=train_cols)"
   ]
  },
  {
   "cell_type": "code",
   "execution_count": 5,
   "metadata": {
    "collapsed": false
   },
   "outputs": [
    {
     "name": "stdout",
     "output_type": "stream",
     "text": [
      "Running Gradient Boosted Trees Cross Validation...\n",
      "10-fold CV Acc Mean:  0.799927628464\n",
      "CV Scores:  0.731954962076, 0.859540762085, 0.769376292588, 0.752112202503, 0.81684655176, 0.751644919827, 0.787556714022, 0.856860696979, 0.835816412906, 0.837566769897\n",
      "Feature Importances:\n",
      "('wp_le', 0.28411110822608965)\n",
      "('wp_LST.day', 0.21787951589972795)\n",
      "('avg_air_temp', 0.17457372034636909)\n",
      "('net_rad', 0.16212934871066931)\n",
      "('wp_h', 0.16130630681714389)\n"
     ]
    },
    {
     "data": {
      "text/plain": [
       "GradientBoostingRegressor(alpha=0.9, init=None, learning_rate=0.1, loss='ls',\n",
       "             max_depth=3, max_features='sqrt', max_leaf_nodes=None,\n",
       "             min_samples_leaf=1, min_samples_split=2,\n",
       "             min_weight_fraction_leaf=0.0, n_estimators=200,\n",
       "             presort='auto', random_state=None, subsample=1.0, verbose=0,\n",
       "             warm_start=False)"
      ]
     },
     "execution_count": 5,
     "metadata": {},
     "output_type": "execute_result"
    }
   ],
   "source": [
    "r.xgb_trees_cross_val(X, Y, feature_names=train_cols)"
   ]
  },
  {
   "cell_type": "code",
   "execution_count": 6,
   "metadata": {
    "collapsed": false
   },
   "outputs": [
    {
     "name": "stdout",
     "output_type": "stream",
     "text": [
      "Running SVC Cross Validation...\n",
      "10-fold CV Acc Mean:  0.373703678807\n",
      "CV Scores:  0.463911789774, 0.402664561269, 0.355555806513, 0.326342892877, 0.366000202438, 0.453047904595, 0.316350838485, 0.368493379549, 0.351883032396, 0.332786380177\n"
     ]
    },
    {
     "data": {
      "text/plain": [
       "SVR(C=1.0, cache_size=200, coef0=0.0, degree=3, epsilon=0.1, gamma='auto',\n",
       "  kernel='rbf', max_iter=-1, shrinking=True, tol=0.001, verbose=False)"
      ]
     },
     "execution_count": 6,
     "metadata": {},
     "output_type": "execute_result"
    }
   ],
   "source": [
    "r.svc_cross_val(X, Y)"
   ]
  },
  {
   "cell_type": "code",
   "execution_count": 7,
   "metadata": {
    "collapsed": false
   },
   "outputs": [
    {
     "name": "stdout",
     "output_type": "stream",
     "text": [
      "Running Neural Network Cross Validation...\n",
      "Step #1, avg. loss: 40062.21875\n",
      "Step #501, epoch #50, avg. loss: 6481.93115\n",
      "Step #1001, epoch #100, avg. loss: 2469.04272\n",
      "Step #1501, epoch #150, avg. loss: 1809.51855\n",
      "Step #2001, epoch #200, avg. loss: 1447.78027\n",
      "Step #2501, epoch #250, avg. loss: 1189.82861\n",
      "Step #3001, epoch #300, avg. loss: 1037.74512\n",
      "Step #3501, epoch #350, avg. loss: 916.14862\n",
      "Step #4001, epoch #400, avg. loss: 814.30756\n",
      "Step #4501, epoch #450, avg. loss: 740.66351\n",
      "Step #1, avg. loss: 29810.92578\n",
      "Step #501, epoch #50, avg. loss: 6290.14307\n",
      "Step #1001, epoch #100, avg. loss: 2210.94116\n",
      "Step #1501, epoch #150, avg. loss: 1614.78271\n",
      "Step #2001, epoch #200, avg. loss: 1272.38330\n",
      "Step #2501, epoch #250, avg. loss: 1020.88855\n",
      "Step #3001, epoch #300, avg. loss: 842.38629\n",
      "Step #3501, epoch #350, avg. loss: 720.28278\n",
      "Step #4001, epoch #400, avg. loss: 611.63086\n",
      "Step #4501, epoch #450, avg. loss: 563.20239\n",
      "Step #1, avg. loss: 31718.34570\n",
      "Step #501, epoch #50, avg. loss: 6694.25879\n",
      "Step #1001, epoch #100, avg. loss: 2524.94800\n",
      "Step #1501, epoch #150, avg. loss: 1796.57922\n",
      "Step #2001, epoch #200, avg. loss: 1480.40466\n",
      "Step #2501, epoch #250, avg. loss: 1248.42944\n",
      "Step #3001, epoch #300, avg. loss: 1017.68903\n",
      "Step #3501, epoch #350, avg. loss: 850.27405\n",
      "Step #4001, epoch #400, avg. loss: 749.97089\n",
      "Step #4501, epoch #450, avg. loss: 649.28412\n",
      "Step #1, avg. loss: 39849.30469\n",
      "Step #501, epoch #50, avg. loss: 6538.60498\n",
      "Step #1001, epoch #100, avg. loss: 2520.43701\n",
      "Step #1501, epoch #150, avg. loss: 1799.41150\n",
      "Step #2001, epoch #200, avg. loss: 1446.14575\n",
      "Step #2501, epoch #250, avg. loss: 1153.69971\n",
      "Step #3001, epoch #300, avg. loss: 1023.72498\n",
      "Step #3501, epoch #350, avg. loss: 894.49274\n",
      "Step #4001, epoch #400, avg. loss: 771.66199\n",
      "Step #4501, epoch #450, avg. loss: 682.79974\n",
      "Step #1, avg. loss: 48454.46094\n",
      "Step #501, epoch #50, avg. loss: 6630.52686\n",
      "Step #1001, epoch #100, avg. loss: 2601.12012\n",
      "Step #1501, epoch #150, avg. loss: 1883.65051\n",
      "Step #2001, epoch #200, avg. loss: 1513.54272\n",
      "Step #2501, epoch #250, avg. loss: 1229.01196\n",
      "Step #3001, epoch #300, avg. loss: 1049.72021\n",
      "Step #3501, epoch #350, avg. loss: 874.39178\n",
      "Step #4001, epoch #400, avg. loss: 805.91211\n",
      "Step #4501, epoch #450, avg. loss: 707.70905\n",
      "Step #1, avg. loss: 39812.68359\n",
      "Step #501, epoch #50, avg. loss: 6385.10059\n",
      "Step #1001, epoch #100, avg. loss: 2478.56812\n",
      "Step #1501, epoch #150, avg. loss: 1803.37378\n",
      "Step #2001, epoch #200, avg. loss: 1409.20728\n",
      "Step #2501, epoch #250, avg. loss: 1161.95984\n",
      "Step #3001, epoch #300, avg. loss: 954.80249\n",
      "Step #3501, epoch #350, avg. loss: 834.26227\n",
      "Step #4001, epoch #400, avg. loss: 713.98053\n",
      "Step #4501, epoch #450, avg. loss: 650.95087\n",
      "Step #1, avg. loss: 39736.30078\n",
      "Step #501, epoch #50, avg. loss: 6650.90869\n",
      "Step #1001, epoch #100, avg. loss: 2495.38257\n",
      "Step #1501, epoch #150, avg. loss: 1730.75171\n",
      "Step #2001, epoch #200, avg. loss: 1374.41174\n",
      "Step #2501, epoch #250, avg. loss: 1131.47205\n",
      "Step #3001, epoch #300, avg. loss: 971.19110\n",
      "Step #3501, epoch #350, avg. loss: 848.00726\n",
      "Step #4001, epoch #400, avg. loss: 728.28119\n",
      "Step #4501, epoch #450, avg. loss: 652.51532\n",
      "Step #1, avg. loss: 33836.60938\n",
      "Step #501, epoch #50, avg. loss: 6620.44678\n",
      "Step #1001, epoch #100, avg. loss: 2470.71606\n",
      "Step #1501, epoch #150, avg. loss: 1796.69226\n",
      "Step #2001, epoch #200, avg. loss: 1434.18469\n",
      "Step #2501, epoch #250, avg. loss: 1153.63550\n",
      "Step #3001, epoch #300, avg. loss: 982.09015\n",
      "Step #3501, epoch #350, avg. loss: 865.61713\n",
      "Step #4001, epoch #400, avg. loss: 760.33887\n",
      "Step #4501, epoch #450, avg. loss: 705.69727\n",
      "Step #1, avg. loss: 38763.56250\n",
      "Step #501, epoch #50, avg. loss: 6713.02246\n",
      "Step #1001, epoch #100, avg. loss: 2564.17505\n",
      "Step #1501, epoch #150, avg. loss: 1865.89526\n",
      "Step #2001, epoch #200, avg. loss: 1470.33313\n",
      "Step #2501, epoch #250, avg. loss: 1227.00427\n",
      "Step #3001, epoch #300, avg. loss: 1073.80530\n",
      "Step #3501, epoch #350, avg. loss: 957.94360\n",
      "Step #4001, epoch #400, avg. loss: 858.11823\n",
      "Step #4501, epoch #450, avg. loss: 780.70276\n",
      "Step #1, avg. loss: 34272.41797\n",
      "Step #501, epoch #50, avg. loss: 6437.38135\n",
      "Step #1001, epoch #100, avg. loss: 2343.47998\n",
      "Step #1501, epoch #150, avg. loss: 1643.31348\n",
      "Step #2001, epoch #200, avg. loss: 1297.80420\n",
      "Step #2501, epoch #250, avg. loss: 1094.76294\n",
      "Step #3001, epoch #300, avg. loss: 964.88202\n",
      "Step #3501, epoch #350, avg. loss: 895.79785\n",
      "Step #4001, epoch #400, avg. loss: 759.54706\n",
      "Step #4501, epoch #450, avg. loss: 696.67999\n",
      "10-fold CV Acc Mean:  0.817980128058\n",
      "CV Scores:  0.833301647996, 0.796757527279, 0.864508698937, 0.726249641567, 0.837840893162, 0.885715718768, 0.814608213369, 0.817525970989, 0.780336701987, 0.822956266531\n"
     ]
    },
    {
     "data": {
      "text/plain": [
       "TensorFlowEstimator(batch_size=100, class_weight=None,\n",
       "          continue_training=False, early_stopping_rounds=None,\n",
       "          keep_checkpoint_every_n_hours=10000, learning_rate=0.1,\n",
       "          max_to_keep=5, model_fn=<function tanh_dnn at 0x102487b90>,\n",
       "          n_classes=0, num_cores=4, optimizer='SGD', steps=5000,\n",
       "          tf_master='', tf_random_seed=42, verbose=1)"
      ]
     },
     "execution_count": 7,
     "metadata": {},
     "output_type": "execute_result"
    }
   ],
   "source": [
    "r.dnn_cross_val(X, Y)"
   ]
  }
 ],
 "metadata": {
  "kernelspec": {
   "display_name": "Python 2",
   "language": "python",
   "name": "python2"
  },
  "language_info": {
   "codemirror_mode": {
    "name": "ipython",
    "version": 2
   },
   "file_extension": ".py",
   "mimetype": "text/x-python",
   "name": "python",
   "nbconvert_exporter": "python",
   "pygments_lexer": "ipython2",
   "version": "2.7.11"
  }
 },
 "nbformat": 4,
 "nbformat_minor": 0
}
