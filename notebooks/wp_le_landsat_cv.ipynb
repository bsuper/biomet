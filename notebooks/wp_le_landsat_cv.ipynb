{
 "cells": [
  {
   "cell_type": "code",
   "execution_count": 1,
   "metadata": {
    "collapsed": false
   },
   "outputs": [],
   "source": [
    "import sys\n",
    "sys.path.append('../')\n",
    "import exp\n",
    "import regression as r"
   ]
  },
  {
   "cell_type": "code",
   "execution_count": 2,
   "metadata": {
    "collapsed": false
   },
   "outputs": [
    {
     "data": {
      "text/html": [
       "<div>\n",
       "<table border=\"1\" class=\"dataframe\">\n",
       "  <thead>\n",
       "    <tr style=\"text-align: right;\">\n",
       "      <th></th>\n",
       "      <th>PET</th>\n",
       "      <th>VPD</th>\n",
       "      <th>air_temp</th>\n",
       "      <th>doy</th>\n",
       "      <th>precip</th>\n",
       "      <th>soil_temp</th>\n",
       "      <th>sw_in</th>\n",
       "      <th>wind_speed</th>\n",
       "      <th>year</th>\n",
       "      <th>wp_RNET</th>\n",
       "      <th>...</th>\n",
       "      <th>wp_h</th>\n",
       "      <th>wp_le</th>\n",
       "      <th>wp_evi</th>\n",
       "      <th>wp_lswi2</th>\n",
       "      <th>wp_ndvi</th>\n",
       "      <th>wp_LST.day</th>\n",
       "      <th>wp_LST.night</th>\n",
       "      <th>LW_IN.wp</th>\n",
       "      <th>LW_IN.si</th>\n",
       "      <th>LW_IN</th>\n",
       "    </tr>\n",
       "  </thead>\n",
       "  <tbody>\n",
       "    <tr>\n",
       "      <th>0</th>\n",
       "      <td>7.33</td>\n",
       "      <td>0.808731</td>\n",
       "      <td>19.179167</td>\n",
       "      <td>195</td>\n",
       "      <td>0.0</td>\n",
       "      <td>22.320833</td>\n",
       "      <td>30.3156</td>\n",
       "      <td>4.958333</td>\n",
       "      <td>2012</td>\n",
       "      <td>20.798342</td>\n",
       "      <td>...</td>\n",
       "      <td>2.605590</td>\n",
       "      <td>13.643902</td>\n",
       "      <td>0.377924</td>\n",
       "      <td>0.413754</td>\n",
       "      <td>0.594708</td>\n",
       "      <td>31.567899</td>\n",
       "      <td>17.204530</td>\n",
       "      <td>29.105844</td>\n",
       "      <td>24.562860</td>\n",
       "      <td>29.105844</td>\n",
       "    </tr>\n",
       "    <tr>\n",
       "      <th>1</th>\n",
       "      <td>6.52</td>\n",
       "      <td>0.755945</td>\n",
       "      <td>19.325000</td>\n",
       "      <td>196</td>\n",
       "      <td>0.0</td>\n",
       "      <td>21.770833</td>\n",
       "      <td>29.6316</td>\n",
       "      <td>3.791667</td>\n",
       "      <td>2012</td>\n",
       "      <td>20.573593</td>\n",
       "      <td>...</td>\n",
       "      <td>3.459300</td>\n",
       "      <td>13.498761</td>\n",
       "      <td>0.381184</td>\n",
       "      <td>0.420529</td>\n",
       "      <td>0.597960</td>\n",
       "      <td>29.570000</td>\n",
       "      <td>17.390000</td>\n",
       "      <td>29.760736</td>\n",
       "      <td>26.096551</td>\n",
       "      <td>29.760736</td>\n",
       "    </tr>\n",
       "    <tr>\n",
       "      <th>2</th>\n",
       "      <td>6.92</td>\n",
       "      <td>0.858993</td>\n",
       "      <td>20.262500</td>\n",
       "      <td>197</td>\n",
       "      <td>0.0</td>\n",
       "      <td>21.908333</td>\n",
       "      <td>29.3472</td>\n",
       "      <td>4.137500</td>\n",
       "      <td>2012</td>\n",
       "      <td>20.475931</td>\n",
       "      <td>...</td>\n",
       "      <td>2.117474</td>\n",
       "      <td>14.987823</td>\n",
       "      <td>0.384444</td>\n",
       "      <td>0.427304</td>\n",
       "      <td>0.601212</td>\n",
       "      <td>31.097908</td>\n",
       "      <td>17.235624</td>\n",
       "      <td>30.299442</td>\n",
       "      <td>25.986418</td>\n",
       "      <td>30.299442</td>\n",
       "    </tr>\n",
       "    <tr>\n",
       "      <th>3</th>\n",
       "      <td>6.35</td>\n",
       "      <td>0.477617</td>\n",
       "      <td>16.791667</td>\n",
       "      <td>198</td>\n",
       "      <td>0.0</td>\n",
       "      <td>22.420833</td>\n",
       "      <td>28.8180</td>\n",
       "      <td>6.033333</td>\n",
       "      <td>2012</td>\n",
       "      <td>20.571045</td>\n",
       "      <td>...</td>\n",
       "      <td>4.636145</td>\n",
       "      <td>11.355851</td>\n",
       "      <td>0.387704</td>\n",
       "      <td>0.434079</td>\n",
       "      <td>0.604465</td>\n",
       "      <td>30.868718</td>\n",
       "      <td>17.248525</td>\n",
       "      <td>28.978868</td>\n",
       "      <td>25.122209</td>\n",
       "      <td>28.978868</td>\n",
       "    </tr>\n",
       "    <tr>\n",
       "      <th>4</th>\n",
       "      <td>5.13</td>\n",
       "      <td>0.556820</td>\n",
       "      <td>17.016667</td>\n",
       "      <td>199</td>\n",
       "      <td>0.0</td>\n",
       "      <td>21.529167</td>\n",
       "      <td>23.1732</td>\n",
       "      <td>4.350000</td>\n",
       "      <td>2012</td>\n",
       "      <td>16.757401</td>\n",
       "      <td>...</td>\n",
       "      <td>3.448946</td>\n",
       "      <td>10.943102</td>\n",
       "      <td>0.390963</td>\n",
       "      <td>0.440854</td>\n",
       "      <td>0.607717</td>\n",
       "      <td>30.657792</td>\n",
       "      <td>17.259663</td>\n",
       "      <td>30.653667</td>\n",
       "      <td>27.830367</td>\n",
       "      <td>30.653667</td>\n",
       "    </tr>\n",
       "  </tbody>\n",
       "</table>\n",
       "<p>5 rows × 24 columns</p>\n",
       "</div>"
      ],
      "text/plain": [
       "    PET       VPD   air_temp  doy  precip  soil_temp    sw_in  wind_speed  \\\n",
       "0  7.33  0.808731  19.179167  195     0.0  22.320833  30.3156    4.958333   \n",
       "1  6.52  0.755945  19.325000  196     0.0  21.770833  29.6316    3.791667   \n",
       "2  6.92  0.858993  20.262500  197     0.0  21.908333  29.3472    4.137500   \n",
       "3  6.35  0.477617  16.791667  198     0.0  22.420833  28.8180    6.033333   \n",
       "4  5.13  0.556820  17.016667  199     0.0  21.529167  23.1732    4.350000   \n",
       "\n",
       "   year    wp_RNET    ...          wp_h      wp_le    wp_evi  wp_lswi2  \\\n",
       "0  2012  20.798342    ...      2.605590  13.643902  0.377924  0.413754   \n",
       "1  2012  20.573593    ...      3.459300  13.498761  0.381184  0.420529   \n",
       "2  2012  20.475931    ...      2.117474  14.987823  0.384444  0.427304   \n",
       "3  2012  20.571045    ...      4.636145  11.355851  0.387704  0.434079   \n",
       "4  2012  16.757401    ...      3.448946  10.943102  0.390963  0.440854   \n",
       "\n",
       "    wp_ndvi  wp_LST.day  wp_LST.night   LW_IN.wp   LW_IN.si      LW_IN  \n",
       "0  0.594708   31.567899     17.204530  29.105844  24.562860  29.105844  \n",
       "1  0.597960   29.570000     17.390000  29.760736  26.096551  29.760736  \n",
       "2  0.601212   31.097908     17.235624  30.299442  25.986418  30.299442  \n",
       "3  0.604465   30.868718     17.248525  28.978868  25.122209  28.978868  \n",
       "4  0.607717   30.657792     17.259663  30.653667  27.830367  30.653667  \n",
       "\n",
       "[5 rows x 24 columns]"
      ]
     },
     "execution_count": 2,
     "metadata": {},
     "output_type": "execute_result"
    }
   ],
   "source": [
    "df = exp.get_wp_energy_data_landsat()\n",
    "df.head()"
   ]
  },
  {
   "cell_type": "code",
   "execution_count": 3,
   "metadata": {
    "collapsed": false
   },
   "outputs": [
    {
     "name": "stdout",
     "output_type": "stream",
     "text": [
      "<class 'pandas.core.frame.DataFrame'>\n",
      "Int64Index: 1028 entries, 0 to 1027\n",
      "Data columns (total 24 columns):\n",
      "PET             1028 non-null float64\n",
      "VPD             1028 non-null float64\n",
      "air_temp        1028 non-null float64\n",
      "doy             1028 non-null int64\n",
      "precip          1028 non-null float64\n",
      "soil_temp       1028 non-null float64\n",
      "sw_in           1028 non-null float64\n",
      "wind_speed      1028 non-null float64\n",
      "year            1028 non-null int64\n",
      "wp_RNET         1028 non-null float64\n",
      "wp_ch4_gf       1028 non-null float64\n",
      "wp_co2_gf       1028 non-null float64\n",
      "wp_er           1028 non-null float64\n",
      "wp_gpp          1028 non-null float64\n",
      "wp_h            1028 non-null float64\n",
      "wp_le           1028 non-null float64\n",
      "wp_evi          1028 non-null float64\n",
      "wp_lswi2        1028 non-null float64\n",
      "wp_ndvi         1028 non-null float64\n",
      "wp_LST.day      1028 non-null float64\n",
      "wp_LST.night    1028 non-null float64\n",
      "LW_IN.wp        1028 non-null float64\n",
      "LW_IN.si        1028 non-null float64\n",
      "LW_IN           1028 non-null float64\n",
      "dtypes: float64(22), int64(2)\n",
      "memory usage: 200.8 KB\n"
     ]
    }
   ],
   "source": [
    "df.info()"
   ]
  },
  {
   "cell_type": "code",
   "execution_count": 4,
   "metadata": {
    "collapsed": false
   },
   "outputs": [
    {
     "data": {
      "text/plain": [
       "(1028, 12)"
      ]
     },
     "execution_count": 4,
     "metadata": {},
     "output_type": "execute_result"
    }
   ],
   "source": [
    "train_cols = [\"precip\", \"sw_in\", \"LW_IN.wp\", \"VPD\", \"air_temp\", \"PET\", \"wind_speed\", \"wp_LST.day\",\n",
    "             \"wp_LST.night\", \"wp_evi\", \"wp_ndvi\", \"wp_lswi2\"]\n",
    "X, Y = exp.featurize(df, train_cols, [\"wp_le\"])\n",
    "X, Y, scaler = r.preprocess(X, Y)\n",
    "X.shape"
   ]
  },
  {
   "cell_type": "code",
   "execution_count": 5,
   "metadata": {
    "collapsed": false
   },
   "outputs": [
    {
     "name": "stdout",
     "output_type": "stream",
     "text": [
      "Running Random Forests Cross Validation...\n",
      "10-fold CV Acc Mean:  0.97946605826\n",
      "CV Scores:  0.984290788732, 0.972352059238, 0.974218967012, 0.97568905023, 0.984173202327, 0.978217729543, 0.983256614254, 0.982206699828, 0.977154734825, 0.983100736616\n",
      "OOB score: 0.980418499946\n",
      "Feature Importances:\n",
      "('wp_LST.night', 0.23360621054210778)\n",
      "('air_temp', 0.1920530565074435)\n",
      "('wp_evi', 0.14983717819938167)\n",
      "('PET', 0.10461297117671622)\n",
      "('wp_lswi2', 0.079812698083479447)\n",
      "('wp_ndvi', 0.076776456646895086)\n",
      "('wp_LST.day', 0.071397194583898815)\n",
      "('VPD', 0.043507363245334746)\n",
      "('sw_in', 0.032260360625709888)\n",
      "('LW_IN.wp', 0.0079115692534603901)\n",
      "('wind_speed', 0.0074049663075853624)\n",
      "('precip', 0.00081997482798727608)\n"
     ]
    },
    {
     "data": {
      "text/plain": [
       "RandomForestRegressor(bootstrap=True, criterion='mse', max_depth=None,\n",
       "           max_features='sqrt', max_leaf_nodes=None, min_samples_leaf=1,\n",
       "           min_samples_split=2, min_weight_fraction_leaf=0.0,\n",
       "           n_estimators=200, n_jobs=1, oob_score=True, random_state=None,\n",
       "           verbose=0, warm_start=False)"
      ]
     },
     "execution_count": 5,
     "metadata": {},
     "output_type": "execute_result"
    }
   ],
   "source": [
    "r.random_forests_cross_val(X, Y, feature_names=train_cols)"
   ]
  },
  {
   "cell_type": "code",
   "execution_count": 6,
   "metadata": {
    "collapsed": false
   },
   "outputs": [
    {
     "name": "stdout",
     "output_type": "stream",
     "text": [
      "Running Gradient Boosted Trees Cross Validation...\n",
      "10-fold CV Acc Mean:  0.981089410501\n",
      "CV Scores:  0.985706138821, 0.970321312662, 0.980363979976, 0.976528412717, 0.985882215147, 0.978984476805, 0.984997651982, 0.984398490642, 0.982716435664, 0.980994990592\n",
      "Feature Importances:\n",
      "('wp_evi', 0.16300704025189597)\n",
      "('wp_lswi2', 0.14468108150060582)\n",
      "('wp_LST.night', 0.10404209112909263)\n",
      "('air_temp', 0.098715590018268171)\n",
      "('PET', 0.091808866918092619)\n",
      "('wp_LST.day', 0.076499092565469023)\n",
      "('wp_ndvi', 0.072004191025660469)\n",
      "('sw_in', 0.065278069356165855)\n",
      "('LW_IN.wp', 0.062868869997299362)\n",
      "('wind_speed', 0.055873350511164599)\n",
      "('VPD', 0.051275361611701306)\n",
      "('precip', 0.013946395114584269)\n"
     ]
    },
    {
     "data": {
      "text/plain": [
       "GradientBoostingRegressor(alpha=0.9, init=None, learning_rate=0.1, loss='ls',\n",
       "             max_depth=3, max_features='sqrt', max_leaf_nodes=None,\n",
       "             min_samples_leaf=1, min_samples_split=2,\n",
       "             min_weight_fraction_leaf=0.0, n_estimators=200,\n",
       "             presort='auto', random_state=None, subsample=1.0, verbose=0,\n",
       "             warm_start=False)"
      ]
     },
     "execution_count": 6,
     "metadata": {},
     "output_type": "execute_result"
    }
   ],
   "source": [
    "r.xgb_trees_cross_val(X, Y, feature_names=train_cols)"
   ]
  },
  {
   "cell_type": "code",
   "execution_count": 7,
   "metadata": {
    "collapsed": false
   },
   "outputs": [
    {
     "name": "stdout",
     "output_type": "stream",
     "text": [
      "Running SVC Cross Validation...\n",
      "10-fold CV Acc Mean:  0.964916263172\n",
      "CV Scores:  0.972985776862, 0.949672954982, 0.960338118866, 0.958991559191, 0.958721865478, 0.971658546435, 0.962153660272, 0.969525859105, 0.969559140235, 0.97555515029\n"
     ]
    },
    {
     "data": {
      "text/plain": [
       "SVR(C=1.0, cache_size=200, coef0=0.0, degree=3, epsilon=0.1, gamma='auto',\n",
       "  kernel='rbf', max_iter=-1, shrinking=True, tol=0.001, verbose=False)"
      ]
     },
     "execution_count": 7,
     "metadata": {},
     "output_type": "execute_result"
    }
   ],
   "source": [
    "r.svc_cross_val(X, Y)"
   ]
  },
  {
   "cell_type": "code",
   "execution_count": 8,
   "metadata": {
    "collapsed": false
   },
   "outputs": [
    {
     "name": "stdout",
     "output_type": "stream",
     "text": [
      "Running Neural Network Cross Validation...\n",
      "Step #1, avg. loss: 64.04565\n",
      "Step #501, epoch #50, avg. loss: 1.76374\n",
      "Step #1001, epoch #100, avg. loss: 0.65779\n",
      "Step #1501, epoch #150, avg. loss: 0.42201\n",
      "Step #2001, epoch #200, avg. loss: 0.30190\n",
      "Step #2501, epoch #250, avg. loss: 0.22791\n",
      "Step #3001, epoch #300, avg. loss: 0.19731\n",
      "Step #3501, epoch #350, avg. loss: 0.16175\n",
      "Step #4001, epoch #400, avg. loss: 0.15168\n",
      "Step #4501, epoch #450, avg. loss: 0.12926\n",
      "Step #1, avg. loss: 48.25198\n",
      "Step #501, epoch #50, avg. loss: 1.74794\n",
      "Step #1001, epoch #100, avg. loss: 0.66091\n",
      "Step #1501, epoch #150, avg. loss: 0.40479\n",
      "Step #2001, epoch #200, avg. loss: 0.28653\n",
      "Step #2501, epoch #250, avg. loss: 0.22869\n",
      "Step #3001, epoch #300, avg. loss: 0.20415\n",
      "Step #3501, epoch #350, avg. loss: 0.17588\n",
      "Step #4001, epoch #400, avg. loss: 0.16091\n",
      "Step #4501, epoch #450, avg. loss: 0.14160\n",
      "Step #1, avg. loss: 55.22949\n",
      "Step #501, epoch #50, avg. loss: 1.80768\n",
      "Step #1001, epoch #100, avg. loss: 0.71968\n",
      "Step #1501, epoch #150, avg. loss: 0.45721\n",
      "Step #2001, epoch #200, avg. loss: 0.32006\n",
      "Step #2501, epoch #250, avg. loss: 0.24741\n",
      "Step #3001, epoch #300, avg. loss: 0.20852\n",
      "Step #3501, epoch #350, avg. loss: 0.19809\n",
      "Step #4001, epoch #400, avg. loss: 0.16759\n",
      "Step #4501, epoch #450, avg. loss: 0.13971\n",
      "Step #1, avg. loss: 63.47397\n",
      "Step #501, epoch #50, avg. loss: 1.70747\n",
      "Step #1001, epoch #100, avg. loss: 0.66628\n",
      "Step #1501, epoch #150, avg. loss: 0.43649\n",
      "Step #2001, epoch #200, avg. loss: 0.30008\n",
      "Step #2501, epoch #250, avg. loss: 0.24322\n",
      "Step #3001, epoch #300, avg. loss: 0.21194\n",
      "Step #3501, epoch #350, avg. loss: 0.15977\n",
      "Step #4001, epoch #400, avg. loss: 0.15394\n",
      "Step #4501, epoch #450, avg. loss: 0.13702\n",
      "Step #1, avg. loss: 69.34015\n",
      "Step #501, epoch #50, avg. loss: 1.80516\n",
      "Step #1001, epoch #100, avg. loss: 0.68677\n",
      "Step #1501, epoch #150, avg. loss: 0.41746\n",
      "Step #2001, epoch #200, avg. loss: 0.30717\n",
      "Step #2501, epoch #250, avg. loss: 0.23613\n",
      "Step #3001, epoch #300, avg. loss: 0.19708\n",
      "Step #3501, epoch #350, avg. loss: 0.18807\n",
      "Step #4001, epoch #400, avg. loss: 0.15087\n",
      "Step #4501, epoch #450, avg. loss: 0.14589\n",
      "Step #1, avg. loss: 49.30062\n",
      "Step #501, epoch #50, avg. loss: 1.81011\n",
      "Step #1001, epoch #100, avg. loss: 0.65279\n",
      "Step #1501, epoch #150, avg. loss: 0.43490\n",
      "Step #2001, epoch #200, avg. loss: 0.30510\n",
      "Step #2501, epoch #250, avg. loss: 0.23545\n",
      "Step #3001, epoch #300, avg. loss: 0.20379\n",
      "Step #3501, epoch #350, avg. loss: 0.18347\n",
      "Step #4001, epoch #400, avg. loss: 0.16178\n",
      "Step #4501, epoch #450, avg. loss: 0.14149\n",
      "Step #1, avg. loss: 50.48344\n",
      "Step #501, epoch #50, avg. loss: 1.77739\n",
      "Step #1001, epoch #100, avg. loss: 0.72159\n",
      "Step #1501, epoch #150, avg. loss: 0.46136\n",
      "Step #2001, epoch #200, avg. loss: 0.32447\n",
      "Step #2501, epoch #250, avg. loss: 0.25904\n",
      "Step #3001, epoch #300, avg. loss: 0.22009\n",
      "Step #3501, epoch #350, avg. loss: 0.19091\n",
      "Step #4001, epoch #400, avg. loss: 0.16807\n",
      "Step #4501, epoch #450, avg. loss: 0.15495\n",
      "Step #1, avg. loss: 55.07251\n",
      "Step #501, epoch #50, avg. loss: 1.82768\n",
      "Step #1001, epoch #100, avg. loss: 0.73598\n",
      "Step #1501, epoch #150, avg. loss: 0.45290\n",
      "Step #2001, epoch #200, avg. loss: 0.34803\n",
      "Step #2501, epoch #250, avg. loss: 0.29267\n",
      "Step #3001, epoch #300, avg. loss: 0.23451\n",
      "Step #3501, epoch #350, avg. loss: 0.19105\n",
      "Step #4001, epoch #400, avg. loss: 0.17044\n",
      "Step #4501, epoch #450, avg. loss: 0.15066\n",
      "Step #1, avg. loss: 53.66172\n",
      "Step #501, epoch #50, avg. loss: 1.78121\n",
      "Step #1001, epoch #100, avg. loss: 0.69714\n",
      "Step #1501, epoch #150, avg. loss: 0.42265\n",
      "Step #2001, epoch #200, avg. loss: 0.28785\n",
      "Step #2501, epoch #250, avg. loss: 0.23521\n",
      "Step #3001, epoch #300, avg. loss: 0.19605\n",
      "Step #3501, epoch #350, avg. loss: 0.17665\n",
      "Step #4001, epoch #400, avg. loss: 0.15654\n",
      "Step #4501, epoch #450, avg. loss: 0.13651\n",
      "Step #1, avg. loss: 56.38202\n",
      "Step #501, epoch #50, avg. loss: 1.81830\n",
      "Step #1001, epoch #100, avg. loss: 0.70489\n",
      "Step #1501, epoch #150, avg. loss: 0.45841\n",
      "Step #2001, epoch #200, avg. loss: 0.33446\n",
      "Step #2501, epoch #250, avg. loss: 0.25674\n",
      "Step #3001, epoch #300, avg. loss: 0.22293\n",
      "Step #3501, epoch #350, avg. loss: 0.17596\n",
      "Step #4001, epoch #400, avg. loss: 0.15714\n",
      "Step #4501, epoch #450, avg. loss: 0.13827\n",
      "10-fold CV Acc Mean:  0.97879792395\n",
      "CV Scores:  0.979053095154, 0.977954112092, 0.980014776192, 0.984918419008, 0.974467670837, 0.976509342585, 0.972673563237, 0.979195278273, 0.980367245831, 0.982825736291\n"
     ]
    },
    {
     "data": {
      "text/plain": [
       "TensorFlowEstimator(batch_size=100, class_weight=None,\n",
       "          continue_training=False, early_stopping_rounds=None,\n",
       "          keep_checkpoint_every_n_hours=10000, learning_rate=0.1,\n",
       "          max_to_keep=5, model_fn=<function tanh_dnn at 0x117159488>,\n",
       "          n_classes=0, num_cores=4, optimizer='SGD', steps=5000,\n",
       "          tf_master='', tf_random_seed=42, verbose=1)"
      ]
     },
     "execution_count": 8,
     "metadata": {},
     "output_type": "execute_result"
    }
   ],
   "source": [
    "r.dnn_cross_val(X, Y)"
   ]
  },
  {
   "cell_type": "code",
   "execution_count": null,
   "metadata": {
    "collapsed": true
   },
   "outputs": [],
   "source": []
  }
 ],
 "metadata": {
  "kernelspec": {
   "display_name": "Python 2",
   "language": "python",
   "name": "python2"
  },
  "language_info": {
   "codemirror_mode": {
    "name": "ipython",
    "version": 2
   },
   "file_extension": ".py",
   "mimetype": "text/x-python",
   "name": "python",
   "nbconvert_exporter": "python",
   "pygments_lexer": "ipython2",
   "version": "2.7.11"
  }
 },
 "nbformat": 4,
 "nbformat_minor": 0
}
