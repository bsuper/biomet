{
 "cells": [
  {
   "cell_type": "code",
   "execution_count": 1,
   "metadata": {
    "collapsed": false
   },
   "outputs": [],
   "source": [
    "import sys\n",
    "sys.path.append('../')\n",
    "import exp\n",
    "import regression as r"
   ]
  },
  {
   "cell_type": "code",
   "execution_count": 2,
   "metadata": {
    "collapsed": false
   },
   "outputs": [
    {
     "data": {
      "text/html": [
       "<div>\n",
       "<table border=\"1\" class=\"dataframe\">\n",
       "  <thead>\n",
       "    <tr style=\"text-align: right;\">\n",
       "      <th></th>\n",
       "      <th>PET</th>\n",
       "      <th>VPD</th>\n",
       "      <th>air_temp</th>\n",
       "      <th>doy</th>\n",
       "      <th>precip</th>\n",
       "      <th>soil_temp</th>\n",
       "      <th>sw_in</th>\n",
       "      <th>wind_speed</th>\n",
       "      <th>year</th>\n",
       "      <th>wp_RNET</th>\n",
       "      <th>...</th>\n",
       "      <th>wp_h</th>\n",
       "      <th>wp_le</th>\n",
       "      <th>wp_evi</th>\n",
       "      <th>wp_lswi2</th>\n",
       "      <th>wp_ndvi</th>\n",
       "      <th>wp_LST.day</th>\n",
       "      <th>wp_LST.night</th>\n",
       "      <th>LW_IN.wp</th>\n",
       "      <th>LW_IN.si</th>\n",
       "      <th>LW_IN</th>\n",
       "    </tr>\n",
       "  </thead>\n",
       "  <tbody>\n",
       "    <tr>\n",
       "      <th>0</th>\n",
       "      <td>7.33</td>\n",
       "      <td>0.808731</td>\n",
       "      <td>19.179167</td>\n",
       "      <td>195</td>\n",
       "      <td>0.0</td>\n",
       "      <td>22.320833</td>\n",
       "      <td>30.3156</td>\n",
       "      <td>4.958333</td>\n",
       "      <td>2012</td>\n",
       "      <td>20.798342</td>\n",
       "      <td>...</td>\n",
       "      <td>2.605590</td>\n",
       "      <td>13.643902</td>\n",
       "      <td>0.377924</td>\n",
       "      <td>0.413754</td>\n",
       "      <td>0.594708</td>\n",
       "      <td>31.567899</td>\n",
       "      <td>17.204530</td>\n",
       "      <td>29.105844</td>\n",
       "      <td>24.562860</td>\n",
       "      <td>29.105844</td>\n",
       "    </tr>\n",
       "    <tr>\n",
       "      <th>1</th>\n",
       "      <td>6.52</td>\n",
       "      <td>0.755945</td>\n",
       "      <td>19.325000</td>\n",
       "      <td>196</td>\n",
       "      <td>0.0</td>\n",
       "      <td>21.770833</td>\n",
       "      <td>29.6316</td>\n",
       "      <td>3.791667</td>\n",
       "      <td>2012</td>\n",
       "      <td>20.573593</td>\n",
       "      <td>...</td>\n",
       "      <td>3.459300</td>\n",
       "      <td>13.498761</td>\n",
       "      <td>0.381184</td>\n",
       "      <td>0.420529</td>\n",
       "      <td>0.597960</td>\n",
       "      <td>29.570000</td>\n",
       "      <td>17.390000</td>\n",
       "      <td>29.760736</td>\n",
       "      <td>26.096551</td>\n",
       "      <td>29.760736</td>\n",
       "    </tr>\n",
       "    <tr>\n",
       "      <th>2</th>\n",
       "      <td>6.92</td>\n",
       "      <td>0.858993</td>\n",
       "      <td>20.262500</td>\n",
       "      <td>197</td>\n",
       "      <td>0.0</td>\n",
       "      <td>21.908333</td>\n",
       "      <td>29.3472</td>\n",
       "      <td>4.137500</td>\n",
       "      <td>2012</td>\n",
       "      <td>20.475931</td>\n",
       "      <td>...</td>\n",
       "      <td>2.117474</td>\n",
       "      <td>14.987823</td>\n",
       "      <td>0.384444</td>\n",
       "      <td>0.427304</td>\n",
       "      <td>0.601212</td>\n",
       "      <td>31.097908</td>\n",
       "      <td>17.235624</td>\n",
       "      <td>30.299442</td>\n",
       "      <td>25.986418</td>\n",
       "      <td>30.299442</td>\n",
       "    </tr>\n",
       "    <tr>\n",
       "      <th>3</th>\n",
       "      <td>6.35</td>\n",
       "      <td>0.477617</td>\n",
       "      <td>16.791667</td>\n",
       "      <td>198</td>\n",
       "      <td>0.0</td>\n",
       "      <td>22.420833</td>\n",
       "      <td>28.8180</td>\n",
       "      <td>6.033333</td>\n",
       "      <td>2012</td>\n",
       "      <td>20.571045</td>\n",
       "      <td>...</td>\n",
       "      <td>4.636145</td>\n",
       "      <td>11.355851</td>\n",
       "      <td>0.387704</td>\n",
       "      <td>0.434079</td>\n",
       "      <td>0.604465</td>\n",
       "      <td>30.868718</td>\n",
       "      <td>17.248525</td>\n",
       "      <td>28.978868</td>\n",
       "      <td>25.122209</td>\n",
       "      <td>28.978868</td>\n",
       "    </tr>\n",
       "    <tr>\n",
       "      <th>4</th>\n",
       "      <td>5.13</td>\n",
       "      <td>0.556820</td>\n",
       "      <td>17.016667</td>\n",
       "      <td>199</td>\n",
       "      <td>0.0</td>\n",
       "      <td>21.529167</td>\n",
       "      <td>23.1732</td>\n",
       "      <td>4.350000</td>\n",
       "      <td>2012</td>\n",
       "      <td>16.757401</td>\n",
       "      <td>...</td>\n",
       "      <td>3.448946</td>\n",
       "      <td>10.943102</td>\n",
       "      <td>0.390963</td>\n",
       "      <td>0.440854</td>\n",
       "      <td>0.607717</td>\n",
       "      <td>30.657792</td>\n",
       "      <td>17.259663</td>\n",
       "      <td>30.653667</td>\n",
       "      <td>27.830367</td>\n",
       "      <td>30.653667</td>\n",
       "    </tr>\n",
       "  </tbody>\n",
       "</table>\n",
       "<p>5 rows × 24 columns</p>\n",
       "</div>"
      ],
      "text/plain": [
       "    PET       VPD   air_temp  doy  precip  soil_temp    sw_in  wind_speed  \\\n",
       "0  7.33  0.808731  19.179167  195     0.0  22.320833  30.3156    4.958333   \n",
       "1  6.52  0.755945  19.325000  196     0.0  21.770833  29.6316    3.791667   \n",
       "2  6.92  0.858993  20.262500  197     0.0  21.908333  29.3472    4.137500   \n",
       "3  6.35  0.477617  16.791667  198     0.0  22.420833  28.8180    6.033333   \n",
       "4  5.13  0.556820  17.016667  199     0.0  21.529167  23.1732    4.350000   \n",
       "\n",
       "   year    wp_RNET    ...          wp_h      wp_le    wp_evi  wp_lswi2  \\\n",
       "0  2012  20.798342    ...      2.605590  13.643902  0.377924  0.413754   \n",
       "1  2012  20.573593    ...      3.459300  13.498761  0.381184  0.420529   \n",
       "2  2012  20.475931    ...      2.117474  14.987823  0.384444  0.427304   \n",
       "3  2012  20.571045    ...      4.636145  11.355851  0.387704  0.434079   \n",
       "4  2012  16.757401    ...      3.448946  10.943102  0.390963  0.440854   \n",
       "\n",
       "    wp_ndvi  wp_LST.day  wp_LST.night   LW_IN.wp   LW_IN.si      LW_IN  \n",
       "0  0.594708   31.567899     17.204530  29.105844  24.562860  29.105844  \n",
       "1  0.597960   29.570000     17.390000  29.760736  26.096551  29.760736  \n",
       "2  0.601212   31.097908     17.235624  30.299442  25.986418  30.299442  \n",
       "3  0.604465   30.868718     17.248525  28.978868  25.122209  28.978868  \n",
       "4  0.607717   30.657792     17.259663  30.653667  27.830367  30.653667  \n",
       "\n",
       "[5 rows x 24 columns]"
      ]
     },
     "execution_count": 2,
     "metadata": {},
     "output_type": "execute_result"
    }
   ],
   "source": [
    "df = exp.get_wp_energy_data_landsat()\n",
    "df.head()"
   ]
  },
  {
   "cell_type": "code",
   "execution_count": 3,
   "metadata": {
    "collapsed": false
   },
   "outputs": [
    {
     "name": "stdout",
     "output_type": "stream",
     "text": [
      "<class 'pandas.core.frame.DataFrame'>\n",
      "Int64Index: 1028 entries, 0 to 1027\n",
      "Data columns (total 24 columns):\n",
      "PET             1028 non-null float64\n",
      "VPD             1028 non-null float64\n",
      "air_temp        1028 non-null float64\n",
      "doy             1028 non-null int64\n",
      "precip          1028 non-null float64\n",
      "soil_temp       1028 non-null float64\n",
      "sw_in           1028 non-null float64\n",
      "wind_speed      1028 non-null float64\n",
      "year            1028 non-null int64\n",
      "wp_RNET         1028 non-null float64\n",
      "wp_ch4_gf       1028 non-null float64\n",
      "wp_co2_gf       1028 non-null float64\n",
      "wp_er           1028 non-null float64\n",
      "wp_gpp          1028 non-null float64\n",
      "wp_h            1028 non-null float64\n",
      "wp_le           1028 non-null float64\n",
      "wp_evi          1028 non-null float64\n",
      "wp_lswi2        1028 non-null float64\n",
      "wp_ndvi         1028 non-null float64\n",
      "wp_LST.day      1028 non-null float64\n",
      "wp_LST.night    1028 non-null float64\n",
      "LW_IN.wp        1028 non-null float64\n",
      "LW_IN.si        1028 non-null float64\n",
      "LW_IN           1028 non-null float64\n",
      "dtypes: float64(22), int64(2)\n",
      "memory usage: 200.8 KB\n"
     ]
    }
   ],
   "source": [
    "df.info()"
   ]
  },
  {
   "cell_type": "code",
   "execution_count": 4,
   "metadata": {
    "collapsed": false
   },
   "outputs": [
    {
     "data": {
      "text/plain": [
       "(1028, 12)"
      ]
     },
     "execution_count": 4,
     "metadata": {},
     "output_type": "execute_result"
    }
   ],
   "source": [
    "train_cols = [\"precip\", \"sw_in\", \"LW_IN.wp\", \"VPD\", \"air_temp\", \"PET\", \"wind_speed\", \"wp_LST.day\",\n",
    "             \"wp_LST.night\", \"wp_evi\", \"wp_ndvi\", \"wp_lswi2\"]\n",
    "X, Y = exp.featurize(df, train_cols, [\"wp_RNET\"])\n",
    "X, Y, scaler = r.preprocess(X, Y)\n",
    "X.shape"
   ]
  },
  {
   "cell_type": "code",
   "execution_count": 5,
   "metadata": {
    "collapsed": false
   },
   "outputs": [
    {
     "name": "stdout",
     "output_type": "stream",
     "text": [
      "Running Random Forests Cross Validation...\n",
      "10-fold CV Acc Mean:  0.972026302876\n",
      "CV Scores:  0.966090364096, 0.981395440963, 0.981144624359, 0.977471487488, 0.969910807526, 0.981257335623, 0.980886520111, 0.981861407596, 0.978991299699, 0.921253741301\n",
      "OOB score: 0.971256496973\n",
      "Feature Importances:\n",
      "('sw_in', 0.29877820582945575)\n",
      "('PET', 0.2524540659654953)\n",
      "('wp_LST.day', 0.14596079419258257)\n",
      "('wp_LST.night', 0.091478308898755481)\n",
      "('air_temp', 0.076286615566341365)\n",
      "('VPD', 0.048891848397527582)\n",
      "('wp_evi', 0.029834814253632234)\n",
      "('wp_lswi2', 0.018629254533967531)\n",
      "('wp_ndvi', 0.013864963107228566)\n",
      "('wind_speed', 0.012575766671730611)\n",
      "('LW_IN.wp', 0.007983286525887999)\n",
      "('precip', 0.0032620760573948441)\n"
     ]
    },
    {
     "data": {
      "text/plain": [
       "RandomForestRegressor(bootstrap=True, criterion='mse', max_depth=None,\n",
       "           max_features='sqrt', max_leaf_nodes=None, min_samples_leaf=1,\n",
       "           min_samples_split=2, min_weight_fraction_leaf=0.0,\n",
       "           n_estimators=200, n_jobs=1, oob_score=True, random_state=None,\n",
       "           verbose=0, warm_start=False)"
      ]
     },
     "execution_count": 5,
     "metadata": {},
     "output_type": "execute_result"
    }
   ],
   "source": [
    "r.random_forests_cross_val(X, Y, feature_names=train_cols)"
   ]
  },
  {
   "cell_type": "code",
   "execution_count": 6,
   "metadata": {
    "collapsed": false
   },
   "outputs": [
    {
     "name": "stdout",
     "output_type": "stream",
     "text": [
      "Running Gradient Boosted Trees Cross Validation...\n",
      "10-fold CV Acc Mean:  0.973741175501\n",
      "CV Scores:  0.973037763007, 0.981140430877, 0.97519585703, 0.980517312633, 0.972587902189, 0.980960415841, 0.980763576203, 0.984648132474, 0.979288283204, 0.929272081551\n",
      "Feature Importances:\n",
      "('sw_in', 0.17629077403149832)\n",
      "('VPD', 0.10031280691021521)\n",
      "('wp_evi', 0.087960983987877897)\n",
      "('wp_LST.night', 0.087553162572414203)\n",
      "('wp_LST.day', 0.087239424151564007)\n",
      "('PET', 0.086193534002939054)\n",
      "('LW_IN.wp', 0.082116923515685086)\n",
      "('wp_lswi2', 0.076628734861153597)\n",
      "('wind_speed', 0.07447627735483292)\n",
      "('wp_ndvi', 0.069440494542707065)\n",
      "('air_temp', 0.049010675908821695)\n",
      "('precip', 0.022776208160290981)\n"
     ]
    },
    {
     "data": {
      "text/plain": [
       "GradientBoostingRegressor(alpha=0.9, init=None, learning_rate=0.1, loss='ls',\n",
       "             max_depth=3, max_features='sqrt', max_leaf_nodes=None,\n",
       "             min_samples_leaf=1, min_samples_split=2,\n",
       "             min_weight_fraction_leaf=0.0, n_estimators=200,\n",
       "             presort='auto', random_state=None, subsample=1.0, verbose=0,\n",
       "             warm_start=False)"
      ]
     },
     "execution_count": 6,
     "metadata": {},
     "output_type": "execute_result"
    }
   ],
   "source": [
    "r.xgb_trees_cross_val(X, Y, feature_names=train_cols)"
   ]
  },
  {
   "cell_type": "code",
   "execution_count": 7,
   "metadata": {
    "collapsed": false
   },
   "outputs": [
    {
     "name": "stdout",
     "output_type": "stream",
     "text": [
      "Running SVC Cross Validation...\n",
      "10-fold CV Acc Mean:  0.967587270769\n",
      "CV Scores:  0.960316685258, 0.979234901039, 0.986230101784, 0.953187777725, 0.97443973957, 0.970098360809, 0.973529786776, 0.984350907264, 0.974069790765, 0.920414656704\n"
     ]
    },
    {
     "data": {
      "text/plain": [
       "SVR(C=1.0, cache_size=200, coef0=0.0, degree=3, epsilon=0.1, gamma='auto',\n",
       "  kernel='rbf', max_iter=-1, shrinking=True, tol=0.001, verbose=False)"
      ]
     },
     "execution_count": 7,
     "metadata": {},
     "output_type": "execute_result"
    }
   ],
   "source": [
    "r.svc_cross_val(X, Y)"
   ]
  },
  {
   "cell_type": "code",
   "execution_count": 8,
   "metadata": {
    "collapsed": false
   },
   "outputs": [
    {
     "name": "stdout",
     "output_type": "stream",
     "text": [
      "Running Neural Network Cross Validation...\n",
      "Step #1, avg. loss: 133.01241\n",
      "Step #501, epoch #50, avg. loss: 3.53756\n",
      "Step #1001, epoch #100, avg. loss: 1.35883\n",
      "Step #1501, epoch #150, avg. loss: 1.00814\n",
      "Step #2001, epoch #200, avg. loss: 0.67247\n",
      "Step #2501, epoch #250, avg. loss: 0.48562\n",
      "Step #3001, epoch #300, avg. loss: 0.38801\n",
      "Step #3501, epoch #350, avg. loss: 0.33583\n",
      "Step #4001, epoch #400, avg. loss: 0.33597\n",
      "Step #4501, epoch #450, avg. loss: 0.26541\n",
      "Step #1, avg. loss: 165.01688\n",
      "Step #501, epoch #50, avg. loss: 3.55745\n",
      "Step #1001, epoch #100, avg. loss: 1.42933\n",
      "Step #1501, epoch #150, avg. loss: 1.07934\n",
      "Step #2001, epoch #200, avg. loss: 0.81004\n",
      "Step #2501, epoch #250, avg. loss: 0.62621\n",
      "Step #3001, epoch #300, avg. loss: 0.49878\n",
      "Step #3501, epoch #350, avg. loss: 0.40455\n",
      "Step #4001, epoch #400, avg. loss: 0.31386\n",
      "Step #4501, epoch #450, avg. loss: 0.31677\n",
      "Step #1, avg. loss: 160.71883\n",
      "Step #501, epoch #50, avg. loss: 3.35837\n",
      "Step #1001, epoch #100, avg. loss: 1.16441\n",
      "Step #1501, epoch #150, avg. loss: 0.87434\n",
      "Step #2001, epoch #200, avg. loss: 0.66034\n",
      "Step #2501, epoch #250, avg. loss: 0.56099\n",
      "Step #3001, epoch #300, avg. loss: 0.47799\n",
      "Step #3501, epoch #350, avg. loss: 0.44670\n",
      "Step #4001, epoch #400, avg. loss: 0.40525\n",
      "Step #4501, epoch #450, avg. loss: 0.33859\n",
      "Step #1, avg. loss: 153.18831\n",
      "Step #501, epoch #50, avg. loss: 3.62910\n",
      "Step #1001, epoch #100, avg. loss: 1.37232\n",
      "Step #1501, epoch #150, avg. loss: 1.06282\n",
      "Step #2001, epoch #200, avg. loss: 0.76752\n",
      "Step #2501, epoch #250, avg. loss: 0.57794\n",
      "Step #3001, epoch #300, avg. loss: 0.50309\n",
      "Step #3501, epoch #350, avg. loss: 0.40630\n",
      "Step #4001, epoch #400, avg. loss: 0.39698\n",
      "Step #4501, epoch #450, avg. loss: 0.33325\n",
      "Step #1, avg. loss: 174.54117\n",
      "Step #501, epoch #50, avg. loss: 3.60628\n",
      "Step #1001, epoch #100, avg. loss: 1.43427\n",
      "Step #1501, epoch #150, avg. loss: 1.08037\n",
      "Step #2001, epoch #200, avg. loss: 0.83453\n",
      "Step #2501, epoch #250, avg. loss: 0.63432\n",
      "Step #3001, epoch #300, avg. loss: 0.50586\n",
      "Step #3501, epoch #350, avg. loss: 0.46143\n",
      "Step #4001, epoch #400, avg. loss: 0.36978\n",
      "Step #4501, epoch #450, avg. loss: 0.34981\n",
      "Step #1, avg. loss: 161.78769\n",
      "Step #501, epoch #50, avg. loss: 3.55220\n",
      "Step #1001, epoch #100, avg. loss: 1.38440\n",
      "Step #1501, epoch #150, avg. loss: 1.03027\n",
      "Step #2001, epoch #200, avg. loss: 0.73317\n",
      "Step #2501, epoch #250, avg. loss: 0.55369\n",
      "Step #3001, epoch #300, avg. loss: 0.46844\n",
      "Step #3501, epoch #350, avg. loss: 0.39390\n",
      "Step #4001, epoch #400, avg. loss: 0.33976\n",
      "Step #4501, epoch #450, avg. loss: 0.33536\n",
      "Step #1, avg. loss: 176.26477\n",
      "Step #501, epoch #50, avg. loss: 3.63300\n",
      "Step #1001, epoch #100, avg. loss: 1.43230\n",
      "Step #1501, epoch #150, avg. loss: 1.07349\n",
      "Step #2001, epoch #200, avg. loss: 0.80752\n",
      "Step #2501, epoch #250, avg. loss: 0.59978\n",
      "Step #3001, epoch #300, avg. loss: 0.49486\n",
      "Step #3501, epoch #350, avg. loss: 0.43910\n",
      "Step #4001, epoch #400, avg. loss: 0.35645\n",
      "Step #4501, epoch #450, avg. loss: 0.33676\n",
      "Step #1, avg. loss: 161.17374\n",
      "Step #501, epoch #50, avg. loss: 3.64326\n",
      "Step #1001, epoch #100, avg. loss: 1.42395\n",
      "Step #1501, epoch #150, avg. loss: 1.02012\n",
      "Step #2001, epoch #200, avg. loss: 0.75732\n",
      "Step #2501, epoch #250, avg. loss: 0.57126\n",
      "Step #3001, epoch #300, avg. loss: 0.50702\n",
      "Step #3501, epoch #350, avg. loss: 0.43777\n",
      "Step #4001, epoch #400, avg. loss: 0.36508\n",
      "Step #4501, epoch #450, avg. loss: 0.31622\n",
      "Step #1, avg. loss: 174.60904\n",
      "Step #501, epoch #50, avg. loss: 3.50625\n",
      "Step #1001, epoch #100, avg. loss: 1.33990\n",
      "Step #1501, epoch #150, avg. loss: 1.03580\n",
      "Step #2001, epoch #200, avg. loss: 0.72395\n",
      "Step #2501, epoch #250, avg. loss: 0.56810\n",
      "Step #3001, epoch #300, avg. loss: 0.44224\n",
      "Step #3501, epoch #350, avg. loss: 0.36300\n",
      "Step #4001, epoch #400, avg. loss: 0.30279\n",
      "Step #4501, epoch #450, avg. loss: 0.30152\n",
      "Step #1, avg. loss: 167.60304\n",
      "Step #501, epoch #50, avg. loss: 3.61121\n",
      "Step #1001, epoch #100, avg. loss: 1.43403\n",
      "Step #1501, epoch #150, avg. loss: 1.03689\n",
      "Step #2001, epoch #200, avg. loss: 0.77270\n",
      "Step #2501, epoch #250, avg. loss: 0.54943\n",
      "Step #3001, epoch #300, avg. loss: 0.43345\n",
      "Step #3501, epoch #350, avg. loss: 0.39107\n",
      "Step #4001, epoch #400, avg. loss: 0.32700\n",
      "Step #4501, epoch #450, avg. loss: 0.30314\n",
      "10-fold CV Acc Mean:  0.97325878713\n",
      "CV Scores:  0.966672867718, 0.972666771889, 0.922744259467, 0.989567157341, 0.988499060035, 0.983859915395, 0.987894729428, 0.977473621327, 0.958857774313, 0.984351714384\n"
     ]
    },
    {
     "data": {
      "text/plain": [
       "TensorFlowEstimator(batch_size=100, class_weight=None,\n",
       "          continue_training=False, early_stopping_rounds=None,\n",
       "          keep_checkpoint_every_n_hours=10000, learning_rate=0.1,\n",
       "          max_to_keep=5, model_fn=<function tanh_dnn at 0x10e2af488>,\n",
       "          n_classes=0, num_cores=4, optimizer='SGD', steps=5000,\n",
       "          tf_master='', tf_random_seed=42, verbose=1)"
      ]
     },
     "execution_count": 8,
     "metadata": {},
     "output_type": "execute_result"
    }
   ],
   "source": [
    "r.dnn_cross_val(X, Y)"
   ]
  },
  {
   "cell_type": "code",
   "execution_count": null,
   "metadata": {
    "collapsed": true
   },
   "outputs": [],
   "source": []
  }
 ],
 "metadata": {
  "kernelspec": {
   "display_name": "Python 2",
   "language": "python",
   "name": "python2"
  },
  "language_info": {
   "codemirror_mode": {
    "name": "ipython",
    "version": 2
   },
   "file_extension": ".py",
   "mimetype": "text/x-python",
   "name": "python",
   "nbconvert_exporter": "python",
   "pygments_lexer": "ipython2",
   "version": "2.7.11"
  }
 },
 "nbformat": 4,
 "nbformat_minor": 0
}
