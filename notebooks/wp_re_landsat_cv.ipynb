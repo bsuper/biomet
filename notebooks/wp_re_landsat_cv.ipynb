{
 "cells": [
  {
   "cell_type": "code",
   "execution_count": 1,
   "metadata": {
    "collapsed": false
   },
   "outputs": [],
   "source": [
    "import sys\n",
    "sys.path.append('../')\n",
    "import exp\n",
    "import regression as r"
   ]
  },
  {
   "cell_type": "code",
   "execution_count": 2,
   "metadata": {
    "collapsed": false
   },
   "outputs": [
    {
     "data": {
      "text/html": [
       "<div>\n",
       "<table border=\"1\" class=\"dataframe\">\n",
       "  <thead>\n",
       "    <tr style=\"text-align: right;\">\n",
       "      <th></th>\n",
       "      <th>PET</th>\n",
       "      <th>VPD</th>\n",
       "      <th>air_temp</th>\n",
       "      <th>doy</th>\n",
       "      <th>precip</th>\n",
       "      <th>soil_temp</th>\n",
       "      <th>sw_in</th>\n",
       "      <th>wind_speed</th>\n",
       "      <th>year</th>\n",
       "      <th>wp_RNET</th>\n",
       "      <th>...</th>\n",
       "      <th>wp_h</th>\n",
       "      <th>wp_le</th>\n",
       "      <th>wp_evi</th>\n",
       "      <th>wp_lswi2</th>\n",
       "      <th>wp_ndvi</th>\n",
       "      <th>wp_LST.day</th>\n",
       "      <th>wp_LST.night</th>\n",
       "      <th>LW_IN.wp</th>\n",
       "      <th>LW_IN.si</th>\n",
       "      <th>LW_IN</th>\n",
       "    </tr>\n",
       "  </thead>\n",
       "  <tbody>\n",
       "    <tr>\n",
       "      <th>0</th>\n",
       "      <td>7.33</td>\n",
       "      <td>0.808731</td>\n",
       "      <td>19.179167</td>\n",
       "      <td>195</td>\n",
       "      <td>0.0</td>\n",
       "      <td>22.320833</td>\n",
       "      <td>30.3156</td>\n",
       "      <td>4.958333</td>\n",
       "      <td>2012</td>\n",
       "      <td>20.798342</td>\n",
       "      <td>...</td>\n",
       "      <td>2.605590</td>\n",
       "      <td>13.643902</td>\n",
       "      <td>0.377924</td>\n",
       "      <td>0.413754</td>\n",
       "      <td>0.594708</td>\n",
       "      <td>31.567899</td>\n",
       "      <td>17.204530</td>\n",
       "      <td>29.105844</td>\n",
       "      <td>24.562860</td>\n",
       "      <td>29.105844</td>\n",
       "    </tr>\n",
       "    <tr>\n",
       "      <th>1</th>\n",
       "      <td>6.52</td>\n",
       "      <td>0.755945</td>\n",
       "      <td>19.325000</td>\n",
       "      <td>196</td>\n",
       "      <td>0.0</td>\n",
       "      <td>21.770833</td>\n",
       "      <td>29.6316</td>\n",
       "      <td>3.791667</td>\n",
       "      <td>2012</td>\n",
       "      <td>20.573593</td>\n",
       "      <td>...</td>\n",
       "      <td>3.459300</td>\n",
       "      <td>13.498761</td>\n",
       "      <td>0.381184</td>\n",
       "      <td>0.420529</td>\n",
       "      <td>0.597960</td>\n",
       "      <td>29.570000</td>\n",
       "      <td>17.390000</td>\n",
       "      <td>29.760736</td>\n",
       "      <td>26.096551</td>\n",
       "      <td>29.760736</td>\n",
       "    </tr>\n",
       "    <tr>\n",
       "      <th>2</th>\n",
       "      <td>6.92</td>\n",
       "      <td>0.858993</td>\n",
       "      <td>20.262500</td>\n",
       "      <td>197</td>\n",
       "      <td>0.0</td>\n",
       "      <td>21.908333</td>\n",
       "      <td>29.3472</td>\n",
       "      <td>4.137500</td>\n",
       "      <td>2012</td>\n",
       "      <td>20.475931</td>\n",
       "      <td>...</td>\n",
       "      <td>2.117474</td>\n",
       "      <td>14.987823</td>\n",
       "      <td>0.384444</td>\n",
       "      <td>0.427304</td>\n",
       "      <td>0.601212</td>\n",
       "      <td>31.097908</td>\n",
       "      <td>17.235624</td>\n",
       "      <td>30.299442</td>\n",
       "      <td>25.986418</td>\n",
       "      <td>30.299442</td>\n",
       "    </tr>\n",
       "    <tr>\n",
       "      <th>3</th>\n",
       "      <td>6.35</td>\n",
       "      <td>0.477617</td>\n",
       "      <td>16.791667</td>\n",
       "      <td>198</td>\n",
       "      <td>0.0</td>\n",
       "      <td>22.420833</td>\n",
       "      <td>28.8180</td>\n",
       "      <td>6.033333</td>\n",
       "      <td>2012</td>\n",
       "      <td>20.571045</td>\n",
       "      <td>...</td>\n",
       "      <td>4.636145</td>\n",
       "      <td>11.355851</td>\n",
       "      <td>0.387704</td>\n",
       "      <td>0.434079</td>\n",
       "      <td>0.604465</td>\n",
       "      <td>30.868718</td>\n",
       "      <td>17.248525</td>\n",
       "      <td>28.978868</td>\n",
       "      <td>25.122209</td>\n",
       "      <td>28.978868</td>\n",
       "    </tr>\n",
       "    <tr>\n",
       "      <th>4</th>\n",
       "      <td>5.13</td>\n",
       "      <td>0.556820</td>\n",
       "      <td>17.016667</td>\n",
       "      <td>199</td>\n",
       "      <td>0.0</td>\n",
       "      <td>21.529167</td>\n",
       "      <td>23.1732</td>\n",
       "      <td>4.350000</td>\n",
       "      <td>2012</td>\n",
       "      <td>16.757401</td>\n",
       "      <td>...</td>\n",
       "      <td>3.448946</td>\n",
       "      <td>10.943102</td>\n",
       "      <td>0.390963</td>\n",
       "      <td>0.440854</td>\n",
       "      <td>0.607717</td>\n",
       "      <td>30.657792</td>\n",
       "      <td>17.259663</td>\n",
       "      <td>30.653667</td>\n",
       "      <td>27.830367</td>\n",
       "      <td>30.653667</td>\n",
       "    </tr>\n",
       "  </tbody>\n",
       "</table>\n",
       "<p>5 rows × 24 columns</p>\n",
       "</div>"
      ],
      "text/plain": [
       "    PET       VPD   air_temp  doy  precip  soil_temp    sw_in  wind_speed  \\\n",
       "0  7.33  0.808731  19.179167  195     0.0  22.320833  30.3156    4.958333   \n",
       "1  6.52  0.755945  19.325000  196     0.0  21.770833  29.6316    3.791667   \n",
       "2  6.92  0.858993  20.262500  197     0.0  21.908333  29.3472    4.137500   \n",
       "3  6.35  0.477617  16.791667  198     0.0  22.420833  28.8180    6.033333   \n",
       "4  5.13  0.556820  17.016667  199     0.0  21.529167  23.1732    4.350000   \n",
       "\n",
       "   year    wp_RNET    ...          wp_h      wp_le    wp_evi  wp_lswi2  \\\n",
       "0  2012  20.798342    ...      2.605590  13.643902  0.377924  0.413754   \n",
       "1  2012  20.573593    ...      3.459300  13.498761  0.381184  0.420529   \n",
       "2  2012  20.475931    ...      2.117474  14.987823  0.384444  0.427304   \n",
       "3  2012  20.571045    ...      4.636145  11.355851  0.387704  0.434079   \n",
       "4  2012  16.757401    ...      3.448946  10.943102  0.390963  0.440854   \n",
       "\n",
       "    wp_ndvi  wp_LST.day  wp_LST.night   LW_IN.wp   LW_IN.si      LW_IN  \n",
       "0  0.594708   31.567899     17.204530  29.105844  24.562860  29.105844  \n",
       "1  0.597960   29.570000     17.390000  29.760736  26.096551  29.760736  \n",
       "2  0.601212   31.097908     17.235624  30.299442  25.986418  30.299442  \n",
       "3  0.604465   30.868718     17.248525  28.978868  25.122209  28.978868  \n",
       "4  0.607717   30.657792     17.259663  30.653667  27.830367  30.653667  \n",
       "\n",
       "[5 rows x 24 columns]"
      ]
     },
     "execution_count": 2,
     "metadata": {},
     "output_type": "execute_result"
    }
   ],
   "source": [
    "df = exp.get_wp_energy_data_landsat()\n",
    "df.head()"
   ]
  },
  {
   "cell_type": "code",
   "execution_count": 3,
   "metadata": {
    "collapsed": false
   },
   "outputs": [
    {
     "name": "stdout",
     "output_type": "stream",
     "text": [
      "<class 'pandas.core.frame.DataFrame'>\n",
      "Int64Index: 1028 entries, 0 to 1027\n",
      "Data columns (total 24 columns):\n",
      "PET             1028 non-null float64\n",
      "VPD             1028 non-null float64\n",
      "air_temp        1028 non-null float64\n",
      "doy             1028 non-null int64\n",
      "precip          1028 non-null float64\n",
      "soil_temp       1028 non-null float64\n",
      "sw_in           1028 non-null float64\n",
      "wind_speed      1028 non-null float64\n",
      "year            1028 non-null int64\n",
      "wp_RNET         1028 non-null float64\n",
      "wp_ch4_gf       1028 non-null float64\n",
      "wp_co2_gf       1028 non-null float64\n",
      "wp_er           1028 non-null float64\n",
      "wp_gpp          1028 non-null float64\n",
      "wp_h            1028 non-null float64\n",
      "wp_le           1028 non-null float64\n",
      "wp_evi          1028 non-null float64\n",
      "wp_lswi2        1028 non-null float64\n",
      "wp_ndvi         1028 non-null float64\n",
      "wp_LST.day      1028 non-null float64\n",
      "wp_LST.night    1028 non-null float64\n",
      "LW_IN.wp        1028 non-null float64\n",
      "LW_IN.si        1028 non-null float64\n",
      "LW_IN           1028 non-null float64\n",
      "dtypes: float64(22), int64(2)\n",
      "memory usage: 200.8 KB\n"
     ]
    }
   ],
   "source": [
    "df.info()"
   ]
  },
  {
   "cell_type": "code",
   "execution_count": 4,
   "metadata": {
    "collapsed": false
   },
   "outputs": [
    {
     "data": {
      "text/plain": [
       "(1028, 12)"
      ]
     },
     "execution_count": 4,
     "metadata": {},
     "output_type": "execute_result"
    }
   ],
   "source": [
    "train_cols = [\"precip\", \"sw_in\", \"LW_IN.wp\", \"VPD\", \"air_temp\", \"PET\", \"wind_speed\", \"wp_LST.day\",\n",
    "             \"wp_LST.night\", \"wp_evi\", \"wp_ndvi\", \"wp_lswi2\"]\n",
    "X, Y = exp.featurize(df, train_cols, [\"wp_er\"])\n",
    "X, Y, scaler = r.preprocess(X, Y)\n",
    "X.shape"
   ]
  },
  {
   "cell_type": "code",
   "execution_count": 5,
   "metadata": {
    "collapsed": false
   },
   "outputs": [
    {
     "name": "stdout",
     "output_type": "stream",
     "text": [
      "Running Random Forests Cross Validation...\n",
      "10-fold CV Acc Mean:  0.935721151453\n",
      "CV Scores:  0.928589844726, 0.946825639362, 0.931279220233, 0.937982178856, 0.91568966844, 0.946056353392, 0.938838782406, 0.938354167222, 0.920589903958, 0.953005755936\n",
      "OOB score: 0.937180456936\n",
      "Feature Importances:\n",
      "('wp_LST.night', 0.20611886057146969)\n",
      "('wp_LST.day', 0.16644913764148139)\n",
      "('air_temp', 0.15028666941848912)\n",
      "('PET', 0.12175735432886928)\n",
      "('sw_in', 0.08729565801550894)\n",
      "('wind_speed', 0.06432669269573861)\n",
      "('wp_evi', 0.057766128362992129)\n",
      "('wp_lswi2', 0.055109298068824926)\n",
      "('VPD', 0.038299497352787329)\n",
      "('wp_ndvi', 0.037097137468410299)\n",
      "('LW_IN.wp', 0.013998572615116863)\n",
      "('precip', 0.0014949934603113682)\n"
     ]
    },
    {
     "data": {
      "text/plain": [
       "RandomForestRegressor(bootstrap=True, criterion='mse', max_depth=None,\n",
       "           max_features='sqrt', max_leaf_nodes=None, min_samples_leaf=1,\n",
       "           min_samples_split=2, min_weight_fraction_leaf=0.0,\n",
       "           n_estimators=200, n_jobs=1, oob_score=True, random_state=None,\n",
       "           verbose=0, warm_start=False)"
      ]
     },
     "execution_count": 5,
     "metadata": {},
     "output_type": "execute_result"
    }
   ],
   "source": [
    "r.random_forests_cross_val(X, Y, feature_names=train_cols)"
   ]
  },
  {
   "cell_type": "code",
   "execution_count": 6,
   "metadata": {
    "collapsed": false
   },
   "outputs": [
    {
     "name": "stdout",
     "output_type": "stream",
     "text": [
      "Running Gradient Boosted Trees Cross Validation...\n",
      "10-fold CV Acc Mean:  0.936600864852\n",
      "CV Scores:  0.930109536274, 0.954192433251, 0.92922330252, 0.949586981738, 0.922530865005, 0.9322331528, 0.926071119263, 0.933354530955, 0.9286879626, 0.960018764109\n",
      "Feature Importances:\n",
      "('wp_ndvi', 0.14390786948940559)\n",
      "('wp_evi', 0.12922565765540317)\n",
      "('wp_lswi2', 0.12076455424553816)\n",
      "('wp_LST.night', 0.11628248219563568)\n",
      "('wp_LST.day', 0.096106569013111265)\n",
      "('sw_in', 0.082607552254822331)\n",
      "('wind_speed', 0.076336866397164554)\n",
      "('air_temp', 0.064380280597828493)\n",
      "('VPD', 0.05770102986379376)\n",
      "('PET', 0.057550262915276831)\n",
      "('LW_IN.wp', 0.043277116293755587)\n",
      "('precip', 0.011859759078264533)\n"
     ]
    },
    {
     "data": {
      "text/plain": [
       "GradientBoostingRegressor(alpha=0.9, init=None, learning_rate=0.1, loss='ls',\n",
       "             max_depth=3, max_features='sqrt', max_leaf_nodes=None,\n",
       "             min_samples_leaf=1, min_samples_split=2,\n",
       "             min_weight_fraction_leaf=0.0, n_estimators=200,\n",
       "             presort='auto', random_state=None, subsample=1.0, verbose=0,\n",
       "             warm_start=False)"
      ]
     },
     "execution_count": 6,
     "metadata": {},
     "output_type": "execute_result"
    }
   ],
   "source": [
    "r.xgb_trees_cross_val(X, Y, feature_names=train_cols)"
   ]
  },
  {
   "cell_type": "code",
   "execution_count": 7,
   "metadata": {
    "collapsed": false
   },
   "outputs": [
    {
     "name": "stdout",
     "output_type": "stream",
     "text": [
      "Running SVC Cross Validation...\n",
      "10-fold CV Acc Mean:  0.854068277609\n",
      "CV Scores:  0.841723168467, 0.866139349342, 0.842942596953, 0.842640448253, 0.824246955149, 0.873985041575, 0.856499705143, 0.878723888713, 0.862745028747, 0.851036593749\n"
     ]
    },
    {
     "data": {
      "text/plain": [
       "SVR(C=1.0, cache_size=200, coef0=0.0, degree=3, epsilon=0.1, gamma='auto',\n",
       "  kernel='rbf', max_iter=-1, shrinking=True, tol=0.001, verbose=False)"
      ]
     },
     "execution_count": 7,
     "metadata": {},
     "output_type": "execute_result"
    }
   ],
   "source": [
    "r.svc_cross_val(X, Y)"
   ]
  },
  {
   "cell_type": "code",
   "execution_count": 8,
   "metadata": {
    "collapsed": false
   },
   "outputs": [
    {
     "name": "stdout",
     "output_type": "stream",
     "text": [
      "Running Neural Network Cross Validation...\n",
      "Step #1, avg. loss: 866.32080\n",
      "Step #501, epoch #50, avg. loss: 22.50697\n",
      "Step #1001, epoch #100, avg. loss: 6.64607\n",
      "Step #1501, epoch #150, avg. loss: 4.65791\n",
      "Step #2001, epoch #200, avg. loss: 3.35010\n",
      "Step #2501, epoch #250, avg. loss: 2.64225\n",
      "Step #3001, epoch #300, avg. loss: 2.23528\n",
      "Step #3501, epoch #350, avg. loss: 1.83631\n",
      "Step #4001, epoch #400, avg. loss: 1.63447\n",
      "Step #4501, epoch #450, avg. loss: 1.50723\n",
      "Step #1, avg. loss: 820.59235\n",
      "Step #501, epoch #50, avg. loss: 22.66042\n",
      "Step #1001, epoch #100, avg. loss: 6.54875\n",
      "Step #1501, epoch #150, avg. loss: 4.61562\n",
      "Step #2001, epoch #200, avg. loss: 3.48994\n",
      "Step #2501, epoch #250, avg. loss: 2.80458\n",
      "Step #3001, epoch #300, avg. loss: 2.35560\n",
      "Step #3501, epoch #350, avg. loss: 2.07383\n",
      "Step #4001, epoch #400, avg. loss: 1.87293\n",
      "Step #4501, epoch #450, avg. loss: 1.70909\n",
      "Step #1, avg. loss: 698.36407\n",
      "Step #501, epoch #50, avg. loss: 22.10735\n",
      "Step #1001, epoch #100, avg. loss: 6.46612\n",
      "Step #1501, epoch #150, avg. loss: 4.30379\n",
      "Step #2001, epoch #200, avg. loss: 3.22231\n",
      "Step #2501, epoch #250, avg. loss: 2.61112\n",
      "Step #3001, epoch #300, avg. loss: 2.25182\n",
      "Step #3501, epoch #350, avg. loss: 2.01471\n",
      "Step #4001, epoch #400, avg. loss: 1.75597\n",
      "Step #4501, epoch #450, avg. loss: 1.60758\n",
      "Step #1, avg. loss: 837.74146\n",
      "Step #501, epoch #50, avg. loss: 22.02870\n",
      "Step #1001, epoch #100, avg. loss: 6.70285\n",
      "Step #1501, epoch #150, avg. loss: 4.79201\n",
      "Step #2001, epoch #200, avg. loss: 3.64098\n",
      "Step #2501, epoch #250, avg. loss: 2.86169\n",
      "Step #3001, epoch #300, avg. loss: 2.42399\n",
      "Step #3501, epoch #350, avg. loss: 2.08514\n",
      "Step #4001, epoch #400, avg. loss: 1.87234\n",
      "Step #4501, epoch #450, avg. loss: 1.71077\n",
      "Step #1, avg. loss: 740.10236\n",
      "Step #501, epoch #50, avg. loss: 22.06049\n",
      "Step #1001, epoch #100, avg. loss: 6.62172\n",
      "Step #1501, epoch #150, avg. loss: 4.43082\n",
      "Step #2001, epoch #200, avg. loss: 3.42567\n",
      "Step #2501, epoch #250, avg. loss: 2.91607\n",
      "Step #3001, epoch #300, avg. loss: 2.45973\n",
      "Step #3501, epoch #350, avg. loss: 2.06174\n",
      "Step #4001, epoch #400, avg. loss: 1.86316\n",
      "Step #4501, epoch #450, avg. loss: 1.64068\n",
      "Step #1, avg. loss: 890.66553\n",
      "Step #501, epoch #50, avg. loss: 22.46563\n",
      "Step #1001, epoch #100, avg. loss: 6.44982\n",
      "Step #1501, epoch #150, avg. loss: 4.40862\n",
      "Step #2001, epoch #200, avg. loss: 3.35485\n",
      "Step #2501, epoch #250, avg. loss: 2.59040\n",
      "Step #3001, epoch #300, avg. loss: 2.16350\n",
      "Step #3501, epoch #350, avg. loss: 1.86377\n",
      "Step #4001, epoch #400, avg. loss: 1.66131\n",
      "Step #4501, epoch #450, avg. loss: 1.52108\n",
      "Step #1, avg. loss: 727.83875\n",
      "Step #501, epoch #50, avg. loss: 22.73559\n",
      "Step #1001, epoch #100, avg. loss: 6.74552\n",
      "Step #1501, epoch #150, avg. loss: 4.78018\n",
      "Step #2001, epoch #200, avg. loss: 3.68614\n",
      "Step #2501, epoch #250, avg. loss: 2.92658\n",
      "Step #3001, epoch #300, avg. loss: 2.37763\n",
      "Step #3501, epoch #350, avg. loss: 2.04020\n",
      "Step #4001, epoch #400, avg. loss: 1.73961\n",
      "Step #4501, epoch #450, avg. loss: 1.62270\n",
      "Step #1, avg. loss: 771.19733\n",
      "Step #501, epoch #50, avg. loss: 21.79440\n",
      "Step #1001, epoch #100, avg. loss: 6.36749\n",
      "Step #1501, epoch #150, avg. loss: 4.32544\n",
      "Step #2001, epoch #200, avg. loss: 3.41905\n",
      "Step #2501, epoch #250, avg. loss: 2.89703\n",
      "Step #3001, epoch #300, avg. loss: 2.50681\n",
      "Step #3501, epoch #350, avg. loss: 2.14797\n",
      "Step #4001, epoch #400, avg. loss: 1.89398\n",
      "Step #4501, epoch #450, avg. loss: 1.73918\n",
      "Step #1, avg. loss: 716.21240\n",
      "Step #501, epoch #50, avg. loss: 22.47587\n",
      "Step #1001, epoch #100, avg. loss: 6.63222\n",
      "Step #1501, epoch #150, avg. loss: 4.52311\n",
      "Step #2001, epoch #200, avg. loss: 3.47387\n",
      "Step #2501, epoch #250, avg. loss: 2.73855\n",
      "Step #3001, epoch #300, avg. loss: 2.22972\n",
      "Step #3501, epoch #350, avg. loss: 1.95735\n",
      "Step #4001, epoch #400, avg. loss: 1.73360\n",
      "Step #4501, epoch #450, avg. loss: 1.59639\n",
      "Step #1, avg. loss: 908.12921\n",
      "Step #501, epoch #50, avg. loss: 22.08368\n",
      "Step #1001, epoch #100, avg. loss: 6.43081\n",
      "Step #1501, epoch #150, avg. loss: 4.48573\n",
      "Step #2001, epoch #200, avg. loss: 3.52363\n",
      "Step #2501, epoch #250, avg. loss: 2.74395\n",
      "Step #3001, epoch #300, avg. loss: 2.27522\n",
      "Step #3501, epoch #350, avg. loss: 1.96608\n",
      "Step #4001, epoch #400, avg. loss: 1.76168\n",
      "Step #4501, epoch #450, avg. loss: 1.57942\n",
      "10-fold CV Acc Mean:  0.915459182004\n",
      "CV Scores:  0.926798758999, 0.872165717989, 0.905845120121, 0.923689273979, 0.937517912002, 0.947906332041, 0.93548177915, 0.932555803592, 0.90374910409, 0.868882018077\n"
     ]
    },
    {
     "data": {
      "text/plain": [
       "TensorFlowEstimator(batch_size=100, class_weight=None,\n",
       "          continue_training=False, early_stopping_rounds=None,\n",
       "          keep_checkpoint_every_n_hours=10000, learning_rate=0.1,\n",
       "          max_to_keep=5, model_fn=<function tanh_dnn at 0x1159d9488>,\n",
       "          n_classes=0, num_cores=4, optimizer='SGD', steps=5000,\n",
       "          tf_master='', tf_random_seed=42, verbose=1)"
      ]
     },
     "execution_count": 8,
     "metadata": {},
     "output_type": "execute_result"
    }
   ],
   "source": [
    "r.dnn_cross_val(X, Y)"
   ]
  },
  {
   "cell_type": "code",
   "execution_count": null,
   "metadata": {
    "collapsed": true
   },
   "outputs": [],
   "source": []
  }
 ],
 "metadata": {
  "kernelspec": {
   "display_name": "Python 2",
   "language": "python",
   "name": "python2"
  },
  "language_info": {
   "codemirror_mode": {
    "name": "ipython",
    "version": 2
   },
   "file_extension": ".py",
   "mimetype": "text/x-python",
   "name": "python",
   "nbconvert_exporter": "python",
   "pygments_lexer": "ipython2",
   "version": "2.7.11"
  }
 },
 "nbformat": 4,
 "nbformat_minor": 0
}
