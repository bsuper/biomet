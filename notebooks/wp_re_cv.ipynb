{
 "cells": [
  {
   "cell_type": "code",
   "execution_count": 1,
   "metadata": {
    "collapsed": false
   },
   "outputs": [],
   "source": [
    "import sys\n",
    "sys.path.append('../')\n",
    "import exp\n",
    "import regression as r"
   ]
  },
  {
   "cell_type": "code",
   "execution_count": 2,
   "metadata": {
    "collapsed": false
   },
   "outputs": [
    {
     "data": {
      "text/html": [
       "<div>\n",
       "<table border=\"1\" class=\"dataframe\">\n",
       "  <thead>\n",
       "    <tr style=\"text-align: right;\">\n",
       "      <th></th>\n",
       "      <th>PET</th>\n",
       "      <th>VPD</th>\n",
       "      <th>air_temp</th>\n",
       "      <th>doy</th>\n",
       "      <th>precip</th>\n",
       "      <th>soil_temp</th>\n",
       "      <th>sw_in</th>\n",
       "      <th>wind_speed</th>\n",
       "      <th>year</th>\n",
       "      <th>wp_RNET</th>\n",
       "      <th>...</th>\n",
       "      <th>wp_bnd3</th>\n",
       "      <th>wp_bnd7</th>\n",
       "      <th>wp_evi</th>\n",
       "      <th>wp_lswi2</th>\n",
       "      <th>wp_ndvi</th>\n",
       "      <th>wp_LST.day</th>\n",
       "      <th>wp_LST.night</th>\n",
       "      <th>LW_IN.wp</th>\n",
       "      <th>LW_IN.si</th>\n",
       "      <th>LW_IN</th>\n",
       "    </tr>\n",
       "  </thead>\n",
       "  <tbody>\n",
       "    <tr>\n",
       "      <th>0</th>\n",
       "      <td>7.33</td>\n",
       "      <td>0.808731</td>\n",
       "      <td>19.179167</td>\n",
       "      <td>195</td>\n",
       "      <td>0.0</td>\n",
       "      <td>22.320833</td>\n",
       "      <td>30.3156</td>\n",
       "      <td>4.958333</td>\n",
       "      <td>2012</td>\n",
       "      <td>20.798342</td>\n",
       "      <td>...</td>\n",
       "      <td>0.029934</td>\n",
       "      <td>0.112914</td>\n",
       "      <td>0.335343</td>\n",
       "      <td>0.354057</td>\n",
       "      <td>6052.592985</td>\n",
       "      <td>31.567899</td>\n",
       "      <td>17.204530</td>\n",
       "      <td>29.105844</td>\n",
       "      <td>24.562860</td>\n",
       "      <td>29.105844</td>\n",
       "    </tr>\n",
       "    <tr>\n",
       "      <th>1</th>\n",
       "      <td>6.52</td>\n",
       "      <td>0.755945</td>\n",
       "      <td>19.325000</td>\n",
       "      <td>196</td>\n",
       "      <td>0.0</td>\n",
       "      <td>21.770833</td>\n",
       "      <td>29.6316</td>\n",
       "      <td>3.791667</td>\n",
       "      <td>2012</td>\n",
       "      <td>20.573593</td>\n",
       "      <td>...</td>\n",
       "      <td>0.029932</td>\n",
       "      <td>0.112904</td>\n",
       "      <td>0.335286</td>\n",
       "      <td>0.354033</td>\n",
       "      <td>6178.213349</td>\n",
       "      <td>29.570000</td>\n",
       "      <td>17.390000</td>\n",
       "      <td>29.760736</td>\n",
       "      <td>26.096551</td>\n",
       "      <td>29.760736</td>\n",
       "    </tr>\n",
       "    <tr>\n",
       "      <th>2</th>\n",
       "      <td>6.92</td>\n",
       "      <td>0.858993</td>\n",
       "      <td>20.262500</td>\n",
       "      <td>197</td>\n",
       "      <td>0.0</td>\n",
       "      <td>21.908333</td>\n",
       "      <td>29.3472</td>\n",
       "      <td>4.137500</td>\n",
       "      <td>2012</td>\n",
       "      <td>20.475931</td>\n",
       "      <td>...</td>\n",
       "      <td>0.029930</td>\n",
       "      <td>0.112893</td>\n",
       "      <td>0.335229</td>\n",
       "      <td>0.354008</td>\n",
       "      <td>6313.892022</td>\n",
       "      <td>31.097908</td>\n",
       "      <td>17.235624</td>\n",
       "      <td>30.299442</td>\n",
       "      <td>25.986418</td>\n",
       "      <td>30.299442</td>\n",
       "    </tr>\n",
       "    <tr>\n",
       "      <th>3</th>\n",
       "      <td>6.35</td>\n",
       "      <td>0.477617</td>\n",
       "      <td>16.791667</td>\n",
       "      <td>198</td>\n",
       "      <td>0.0</td>\n",
       "      <td>22.420833</td>\n",
       "      <td>28.8180</td>\n",
       "      <td>6.033333</td>\n",
       "      <td>2012</td>\n",
       "      <td>20.571045</td>\n",
       "      <td>...</td>\n",
       "      <td>0.029928</td>\n",
       "      <td>0.112882</td>\n",
       "      <td>0.335173</td>\n",
       "      <td>0.353984</td>\n",
       "      <td>6459.629005</td>\n",
       "      <td>30.868718</td>\n",
       "      <td>17.248525</td>\n",
       "      <td>28.978868</td>\n",
       "      <td>25.122209</td>\n",
       "      <td>28.978868</td>\n",
       "    </tr>\n",
       "    <tr>\n",
       "      <th>4</th>\n",
       "      <td>5.13</td>\n",
       "      <td>0.556820</td>\n",
       "      <td>17.016667</td>\n",
       "      <td>199</td>\n",
       "      <td>0.0</td>\n",
       "      <td>21.529167</td>\n",
       "      <td>23.1732</td>\n",
       "      <td>4.350000</td>\n",
       "      <td>2012</td>\n",
       "      <td>16.757401</td>\n",
       "      <td>...</td>\n",
       "      <td>0.029926</td>\n",
       "      <td>0.112872</td>\n",
       "      <td>0.335116</td>\n",
       "      <td>0.353960</td>\n",
       "      <td>6615.424298</td>\n",
       "      <td>30.657792</td>\n",
       "      <td>17.259663</td>\n",
       "      <td>30.653667</td>\n",
       "      <td>27.830367</td>\n",
       "      <td>30.653667</td>\n",
       "    </tr>\n",
       "  </tbody>\n",
       "</table>\n",
       "<p>5 rows × 28 columns</p>\n",
       "</div>"
      ],
      "text/plain": [
       "    PET       VPD   air_temp  doy  precip  soil_temp    sw_in  wind_speed  \\\n",
       "0  7.33  0.808731  19.179167  195     0.0  22.320833  30.3156    4.958333   \n",
       "1  6.52  0.755945  19.325000  196     0.0  21.770833  29.6316    3.791667   \n",
       "2  6.92  0.858993  20.262500  197     0.0  21.908333  29.3472    4.137500   \n",
       "3  6.35  0.477617  16.791667  198     0.0  22.420833  28.8180    6.033333   \n",
       "4  5.13  0.556820  17.016667  199     0.0  21.529167  23.1732    4.350000   \n",
       "\n",
       "   year    wp_RNET    ...       wp_bnd3   wp_bnd7    wp_evi  wp_lswi2  \\\n",
       "0  2012  20.798342    ...      0.029934  0.112914  0.335343  0.354057   \n",
       "1  2012  20.573593    ...      0.029932  0.112904  0.335286  0.354033   \n",
       "2  2012  20.475931    ...      0.029930  0.112893  0.335229  0.354008   \n",
       "3  2012  20.571045    ...      0.029928  0.112882  0.335173  0.353984   \n",
       "4  2012  16.757401    ...      0.029926  0.112872  0.335116  0.353960   \n",
       "\n",
       "       wp_ndvi  wp_LST.day  wp_LST.night   LW_IN.wp   LW_IN.si      LW_IN  \n",
       "0  6052.592985   31.567899     17.204530  29.105844  24.562860  29.105844  \n",
       "1  6178.213349   29.570000     17.390000  29.760736  26.096551  29.760736  \n",
       "2  6313.892022   31.097908     17.235624  30.299442  25.986418  30.299442  \n",
       "3  6459.629005   30.868718     17.248525  28.978868  25.122209  28.978868  \n",
       "4  6615.424298   30.657792     17.259663  30.653667  27.830367  30.653667  \n",
       "\n",
       "[5 rows x 28 columns]"
      ]
     },
     "execution_count": 2,
     "metadata": {},
     "output_type": "execute_result"
    }
   ],
   "source": [
    "df = exp.get_wp_energy_data()\n",
    "df.head()"
   ]
  },
  {
   "cell_type": "code",
   "execution_count": 3,
   "metadata": {
    "collapsed": false
   },
   "outputs": [
    {
     "name": "stdout",
     "output_type": "stream",
     "text": [
      "<class 'pandas.core.frame.DataFrame'>\n",
      "Int64Index: 1028 entries, 0 to 1027\n",
      "Data columns (total 28 columns):\n",
      "PET             1028 non-null float64\n",
      "VPD             1028 non-null float64\n",
      "air_temp        1028 non-null float64\n",
      "doy             1028 non-null int64\n",
      "precip          1028 non-null float64\n",
      "soil_temp       1028 non-null float64\n",
      "sw_in           1028 non-null float64\n",
      "wind_speed      1028 non-null float64\n",
      "year            1028 non-null int64\n",
      "wp_RNET         1028 non-null float64\n",
      "wp_ch4_gf       1028 non-null float64\n",
      "wp_co2_gf       1028 non-null float64\n",
      "wp_er           1028 non-null float64\n",
      "wp_gpp          1028 non-null float64\n",
      "wp_h            1028 non-null float64\n",
      "wp_le           1028 non-null float64\n",
      "wp_bnd1         1028 non-null float64\n",
      "wp_bnd2         1028 non-null float64\n",
      "wp_bnd3         1028 non-null float64\n",
      "wp_bnd7         1028 non-null float64\n",
      "wp_evi          1028 non-null float64\n",
      "wp_lswi2        1028 non-null float64\n",
      "wp_ndvi         1028 non-null float64\n",
      "wp_LST.day      1028 non-null float64\n",
      "wp_LST.night    1028 non-null float64\n",
      "LW_IN.wp        1028 non-null float64\n",
      "LW_IN.si        1028 non-null float64\n",
      "LW_IN           1028 non-null float64\n",
      "dtypes: float64(26), int64(2)\n",
      "memory usage: 232.9 KB\n"
     ]
    }
   ],
   "source": [
    "df.info()"
   ]
  },
  {
   "cell_type": "code",
   "execution_count": 4,
   "metadata": {
    "collapsed": false
   },
   "outputs": [
    {
     "data": {
      "text/plain": [
       "(1028, 12)"
      ]
     },
     "execution_count": 4,
     "metadata": {},
     "output_type": "execute_result"
    }
   ],
   "source": [
    "train_cols = [\"precip\", \"sw_in\", \"LW_IN.wp\", \"VPD\", \"air_temp\", \"PET\", \"wind_speed\", \"wp_LST.day\",\n",
    "             \"wp_LST.night\", \"wp_evi\", \"wp_ndvi\", \"wp_lswi2\"]\n",
    "X, Y = exp.featurize(df, train_cols, [\"wp_er\"])\n",
    "X, Y, scaler = r.preprocess(X, Y)\n",
    "X.shape"
   ]
  },
  {
   "cell_type": "code",
   "execution_count": 5,
   "metadata": {
    "collapsed": false
   },
   "outputs": [
    {
     "name": "stdout",
     "output_type": "stream",
     "text": [
      "Running Random Forests Cross Validation...\n",
      "10-fold CV Acc Mean:  0.941046551294\n",
      "CV Scores:  0.964686604733, 0.909607111146, 0.957102318473, 0.949188266512, 0.931870976145, 0.954871736931, 0.905600490371, 0.952526849986, 0.961165570957, 0.923845587682\n",
      "OOB score: 0.941181371975\n",
      "Feature Importances:\n",
      "('wp_LST.night', 0.23448265591728668)\n",
      "('wp_LST.day', 0.19010492331214174)\n",
      "('PET', 0.12517504951139061)\n",
      "('air_temp', 0.1215939105092894)\n",
      "('wind_speed', 0.076058637035192819)\n",
      "('sw_in', 0.071972864908285986)\n",
      "('wp_evi', 0.044040170486527808)\n",
      "('wp_ndvi', 0.038760868247029331)\n",
      "('wp_lswi2', 0.035489782100324455)\n",
      "('VPD', 0.03362656864858328)\n",
      "('LW_IN.wp', 0.026768153619427706)\n",
      "('precip', 0.0019264157045200158)\n"
     ]
    },
    {
     "data": {
      "text/plain": [
       "RandomForestRegressor(bootstrap=True, criterion='mse', max_depth=None,\n",
       "           max_features='sqrt', max_leaf_nodes=None, min_samples_leaf=1,\n",
       "           min_samples_split=2, min_weight_fraction_leaf=0.0,\n",
       "           n_estimators=200, n_jobs=1, oob_score=True, random_state=None,\n",
       "           verbose=0, warm_start=False)"
      ]
     },
     "execution_count": 5,
     "metadata": {},
     "output_type": "execute_result"
    }
   ],
   "source": [
    "r.random_forests_cross_val(X, Y, feature_names=train_cols)"
   ]
  },
  {
   "cell_type": "code",
   "execution_count": 6,
   "metadata": {
    "collapsed": false
   },
   "outputs": [
    {
     "name": "stdout",
     "output_type": "stream",
     "text": [
      "Running Gradient Boosted Trees Cross Validation...\n",
      "10-fold CV Acc Mean:  0.94087125043\n",
      "CV Scores:  0.960711194933, 0.927084214048, 0.949866105453, 0.942854808169, 0.925390028154, 0.944467549486, 0.917609107702, 0.956666052228, 0.955549800742, 0.928513643389\n",
      "Feature Importances:\n",
      "('wp_evi', 0.16555704897698539)\n",
      "('wp_lswi2', 0.14196599424181403)\n",
      "('wp_LST.night', 0.10865385519639528)\n",
      "('wind_speed', 0.10602504984884607)\n",
      "('wp_LST.day', 0.085558655815499651)\n",
      "('wp_ndvi', 0.080817712911686712)\n",
      "('sw_in', 0.072981217080784241)\n",
      "('PET', 0.06082949195394316)\n",
      "('VPD', 0.059436102230186777)\n",
      "('air_temp', 0.057653024968285484)\n",
      "('LW_IN.wp', 0.051090269554592178)\n",
      "('precip', 0.009431577220981013)\n"
     ]
    },
    {
     "data": {
      "text/plain": [
       "GradientBoostingRegressor(alpha=0.9, init=None, learning_rate=0.1, loss='ls',\n",
       "             max_depth=3, max_features='sqrt', max_leaf_nodes=None,\n",
       "             min_samples_leaf=1, min_samples_split=2,\n",
       "             min_weight_fraction_leaf=0.0, n_estimators=200,\n",
       "             presort='auto', random_state=None, subsample=1.0, verbose=0,\n",
       "             warm_start=False)"
      ]
     },
     "execution_count": 6,
     "metadata": {},
     "output_type": "execute_result"
    }
   ],
   "source": [
    "r.xgb_trees_cross_val(X, Y, feature_names=train_cols)"
   ]
  },
  {
   "cell_type": "code",
   "execution_count": 7,
   "metadata": {
    "collapsed": false
   },
   "outputs": [
    {
     "name": "stdout",
     "output_type": "stream",
     "text": [
      "Running SVC Cross Validation...\n",
      "10-fold CV Acc Mean:  0.841794765736\n",
      "CV Scores:  0.862812730564, 0.780355244819, 0.881726447788, 0.84065064491, 0.814474603145, 0.884451926363, 0.831695640657, 0.846426820708, 0.83253147502, 0.84282212339\n"
     ]
    },
    {
     "data": {
      "text/plain": [
       "SVR(C=1.0, cache_size=200, coef0=0.0, degree=3, epsilon=0.1, gamma='auto',\n",
       "  kernel='rbf', max_iter=-1, shrinking=True, tol=0.001, verbose=False)"
      ]
     },
     "execution_count": 7,
     "metadata": {},
     "output_type": "execute_result"
    }
   ],
   "source": [
    "r.svc_cross_val(X, Y)"
   ]
  },
  {
   "cell_type": "code",
   "execution_count": 8,
   "metadata": {
    "collapsed": false
   },
   "outputs": [
    {
     "name": "stdout",
     "output_type": "stream",
     "text": [
      "Running Neural Network Cross Validation...\n",
      "Step #1, avg. loss: 811.19330\n",
      "Step #501, epoch #50, avg. loss: 21.82231\n",
      "Step #1001, epoch #100, avg. loss: 6.41256\n",
      "Step #1501, epoch #150, avg. loss: 4.17782\n",
      "Step #2001, epoch #200, avg. loss: 3.23327\n",
      "Step #2501, epoch #250, avg. loss: 2.57253\n",
      "Step #3001, epoch #300, avg. loss: 2.22069\n",
      "Step #3501, epoch #350, avg. loss: 1.99497\n",
      "Step #4001, epoch #400, avg. loss: 1.83910\n",
      "Step #4501, epoch #450, avg. loss: 1.68049\n",
      "Step #1, avg. loss: 826.54150\n",
      "Step #501, epoch #50, avg. loss: 22.34360\n",
      "Step #1001, epoch #100, avg. loss: 6.63940\n",
      "Step #1501, epoch #150, avg. loss: 4.33638\n",
      "Step #2001, epoch #200, avg. loss: 3.11770\n",
      "Step #2501, epoch #250, avg. loss: 2.50915\n",
      "Step #3001, epoch #300, avg. loss: 2.26311\n",
      "Step #3501, epoch #350, avg. loss: 2.03776\n",
      "Step #4001, epoch #400, avg. loss: 1.91111\n",
      "Step #4501, epoch #450, avg. loss: 1.82144\n",
      "Step #1, avg. loss: 750.38928\n",
      "Step #501, epoch #50, avg. loss: 22.50849\n",
      "Step #1001, epoch #100, avg. loss: 6.60111\n",
      "Step #1501, epoch #150, avg. loss: 4.33021\n",
      "Step #2001, epoch #200, avg. loss: 3.45870\n",
      "Step #2501, epoch #250, avg. loss: 2.77408\n",
      "Step #3001, epoch #300, avg. loss: 2.30604\n",
      "Step #3501, epoch #350, avg. loss: 2.09228\n",
      "Step #4001, epoch #400, avg. loss: 1.86285\n",
      "Step #4501, epoch #450, avg. loss: 1.72271\n",
      "Step #1, avg. loss: 806.61646\n",
      "Step #501, epoch #50, avg. loss: 21.81666\n",
      "Step #1001, epoch #100, avg. loss: 6.48558\n",
      "Step #1501, epoch #150, avg. loss: 4.52567\n",
      "Step #2001, epoch #200, avg. loss: 3.53041\n",
      "Step #2501, epoch #250, avg. loss: 3.00062\n",
      "Step #3001, epoch #300, avg. loss: 2.64199\n",
      "Step #3501, epoch #350, avg. loss: 2.24493\n",
      "Step #4001, epoch #400, avg. loss: 2.10535\n",
      "Step #4501, epoch #450, avg. loss: 1.92809\n",
      "Step #1, avg. loss: 968.99548\n",
      "Step #501, epoch #50, avg. loss: 21.80228\n",
      "Step #1001, epoch #100, avg. loss: 6.52984\n",
      "Step #1501, epoch #150, avg. loss: 4.55505\n",
      "Step #2001, epoch #200, avg. loss: 3.47495\n",
      "Step #2501, epoch #250, avg. loss: 2.76064\n",
      "Step #3001, epoch #300, avg. loss: 2.30747\n",
      "Step #3501, epoch #350, avg. loss: 1.98228\n",
      "Step #4001, epoch #400, avg. loss: 1.81381\n",
      "Step #4501, epoch #450, avg. loss: 1.62317\n",
      "Step #1, avg. loss: 756.15631\n",
      "Step #501, epoch #50, avg. loss: 22.78745\n",
      "Step #1001, epoch #100, avg. loss: 6.80414\n",
      "Step #1501, epoch #150, avg. loss: 4.62291\n",
      "Step #2001, epoch #200, avg. loss: 3.62190\n",
      "Step #2501, epoch #250, avg. loss: 2.96244\n",
      "Step #3001, epoch #300, avg. loss: 2.56021\n",
      "Step #3501, epoch #350, avg. loss: 2.29061\n",
      "Step #4001, epoch #400, avg. loss: 2.06801\n",
      "Step #4501, epoch #450, avg. loss: 1.93526\n",
      "Step #1, avg. loss: 687.09631\n",
      "Step #501, epoch #50, avg. loss: 22.79330\n",
      "Step #1001, epoch #100, avg. loss: 6.44789\n",
      "Step #1501, epoch #150, avg. loss: 4.35118\n",
      "Step #2001, epoch #200, avg. loss: 3.30374\n",
      "Step #2501, epoch #250, avg. loss: 2.61035\n",
      "Step #3001, epoch #300, avg. loss: 2.22751\n",
      "Step #3501, epoch #350, avg. loss: 1.98379\n",
      "Step #4001, epoch #400, avg. loss: 1.81878\n",
      "Step #4501, epoch #450, avg. loss: 1.71771\n",
      "Step #1, avg. loss: 678.31000\n",
      "Step #501, epoch #50, avg. loss: 22.09684\n",
      "Step #1001, epoch #100, avg. loss: 6.42284\n",
      "Step #1501, epoch #150, avg. loss: 4.08355\n",
      "Step #2001, epoch #200, avg. loss: 3.16159\n",
      "Step #2501, epoch #250, avg. loss: 2.64292\n",
      "Step #3001, epoch #300, avg. loss: 2.36765\n",
      "Step #3501, epoch #350, avg. loss: 2.10743\n",
      "Step #4001, epoch #400, avg. loss: 1.93518\n",
      "Step #4501, epoch #450, avg. loss: 1.86195\n",
      "Step #1, avg. loss: 838.79858\n",
      "Step #501, epoch #50, avg. loss: 22.76822\n",
      "Step #1001, epoch #100, avg. loss: 6.53484\n",
      "Step #1501, epoch #150, avg. loss: 4.34562\n",
      "Step #2001, epoch #200, avg. loss: 3.38744\n",
      "Step #2501, epoch #250, avg. loss: 2.67912\n",
      "Step #3001, epoch #300, avg. loss: 2.33728\n",
      "Step #3501, epoch #350, avg. loss: 2.02865\n",
      "Step #4001, epoch #400, avg. loss: 1.82678\n",
      "Step #4501, epoch #450, avg. loss: 1.66586\n",
      "Step #1, avg. loss: 770.84186\n",
      "Step #501, epoch #50, avg. loss: 22.81258\n",
      "Step #1001, epoch #100, avg. loss: 6.76076\n",
      "Step #1501, epoch #150, avg. loss: 5.03110\n",
      "Step #2001, epoch #200, avg. loss: 4.00119\n",
      "Step #2501, epoch #250, avg. loss: 3.23840\n",
      "Step #3001, epoch #300, avg. loss: 2.74475\n",
      "Step #3501, epoch #350, avg. loss: 2.40430\n",
      "Step #4001, epoch #400, avg. loss: 2.14908\n",
      "Step #4501, epoch #450, avg. loss: 1.97974\n",
      "10-fold CV Acc Mean:  0.887636078015\n",
      "CV Scores:  0.888955020338, 0.884224721052, 0.907645794775, 0.879143738141, 0.875458715892, 0.903180993988, 0.863842241809, 0.910370181968, 0.87926201858, 0.884277353603\n"
     ]
    },
    {
     "data": {
      "text/plain": [
       "TensorFlowEstimator(batch_size=100, class_weight=None,\n",
       "          continue_training=False, early_stopping_rounds=None,\n",
       "          keep_checkpoint_every_n_hours=10000, learning_rate=0.1,\n",
       "          max_to_keep=5, model_fn=<function tanh_dnn at 0x11352c410>,\n",
       "          n_classes=0, num_cores=4, optimizer='SGD', steps=5000,\n",
       "          tf_master='', tf_random_seed=42, verbose=1)"
      ]
     },
     "execution_count": 8,
     "metadata": {},
     "output_type": "execute_result"
    }
   ],
   "source": [
    "r.dnn_cross_val(X, Y)"
   ]
  },
  {
   "cell_type": "code",
   "execution_count": null,
   "metadata": {
    "collapsed": true
   },
   "outputs": [],
   "source": []
  }
 ],
 "metadata": {
  "kernelspec": {
   "display_name": "Python 2",
   "language": "python",
   "name": "python2"
  },
  "language_info": {
   "codemirror_mode": {
    "name": "ipython",
    "version": 2
   },
   "file_extension": ".py",
   "mimetype": "text/x-python",
   "name": "python",
   "nbconvert_exporter": "python",
   "pygments_lexer": "ipython2",
   "version": "2.7.11"
  }
 },
 "nbformat": 4,
 "nbformat_minor": 0
}
