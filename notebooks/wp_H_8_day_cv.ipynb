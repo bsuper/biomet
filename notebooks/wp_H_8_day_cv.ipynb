{
 "cells": [
  {
   "cell_type": "code",
   "execution_count": 1,
   "metadata": {
    "collapsed": false
   },
   "outputs": [],
   "source": [
    "import sys\n",
    "sys.path.append('../')\n",
    "import exp\n",
    "import regression as r"
   ]
  },
  {
   "cell_type": "code",
   "execution_count": 2,
   "metadata": {
    "collapsed": false
   },
   "outputs": [
    {
     "data": {
      "text/html": [
       "<div>\n",
       "<table border=\"1\" class=\"dataframe\">\n",
       "  <thead>\n",
       "    <tr style=\"text-align: right;\">\n",
       "      <th></th>\n",
       "      <th>PET</th>\n",
       "      <th>VPD</th>\n",
       "      <th>air_temp</th>\n",
       "      <th>doy</th>\n",
       "      <th>precip</th>\n",
       "      <th>soil_temp</th>\n",
       "      <th>sw_in</th>\n",
       "      <th>wind_speed</th>\n",
       "      <th>year</th>\n",
       "      <th>wp_RNET</th>\n",
       "      <th>...</th>\n",
       "      <th>wp_bnd3</th>\n",
       "      <th>wp_bnd7</th>\n",
       "      <th>wp_evi</th>\n",
       "      <th>wp_lswi2</th>\n",
       "      <th>wp_ndvi</th>\n",
       "      <th>wp_LST.day</th>\n",
       "      <th>wp_LST.night</th>\n",
       "      <th>LW_IN.wp</th>\n",
       "      <th>LW_IN.si</th>\n",
       "      <th>LW_IN</th>\n",
       "    </tr>\n",
       "  </thead>\n",
       "  <tbody>\n",
       "    <tr>\n",
       "      <th>0</th>\n",
       "      <td>7.33</td>\n",
       "      <td>0.808731</td>\n",
       "      <td>19.179167</td>\n",
       "      <td>195</td>\n",
       "      <td>0.0</td>\n",
       "      <td>22.320833</td>\n",
       "      <td>30.3156</td>\n",
       "      <td>4.958333</td>\n",
       "      <td>2012</td>\n",
       "      <td>20.798342</td>\n",
       "      <td>...</td>\n",
       "      <td>0.032962</td>\n",
       "      <td>0.136763</td>\n",
       "      <td>0.396594</td>\n",
       "      <td>0.353988</td>\n",
       "      <td>0.641934</td>\n",
       "      <td>31.567899</td>\n",
       "      <td>17.204530</td>\n",
       "      <td>29.105844</td>\n",
       "      <td>24.562860</td>\n",
       "      <td>29.105844</td>\n",
       "    </tr>\n",
       "    <tr>\n",
       "      <th>1</th>\n",
       "      <td>6.52</td>\n",
       "      <td>0.755945</td>\n",
       "      <td>19.325000</td>\n",
       "      <td>196</td>\n",
       "      <td>0.0</td>\n",
       "      <td>21.770833</td>\n",
       "      <td>29.6316</td>\n",
       "      <td>3.791667</td>\n",
       "      <td>2012</td>\n",
       "      <td>20.573593</td>\n",
       "      <td>...</td>\n",
       "      <td>0.032200</td>\n",
       "      <td>0.131800</td>\n",
       "      <td>0.407211</td>\n",
       "      <td>0.376832</td>\n",
       "      <td>0.654545</td>\n",
       "      <td>29.570000</td>\n",
       "      <td>17.390000</td>\n",
       "      <td>29.760736</td>\n",
       "      <td>26.096551</td>\n",
       "      <td>29.760736</td>\n",
       "    </tr>\n",
       "    <tr>\n",
       "      <th>2</th>\n",
       "      <td>6.92</td>\n",
       "      <td>0.858993</td>\n",
       "      <td>20.262500</td>\n",
       "      <td>197</td>\n",
       "      <td>0.0</td>\n",
       "      <td>21.908333</td>\n",
       "      <td>29.3472</td>\n",
       "      <td>4.137500</td>\n",
       "      <td>2012</td>\n",
       "      <td>20.475931</td>\n",
       "      <td>...</td>\n",
       "      <td>0.031425</td>\n",
       "      <td>0.128250</td>\n",
       "      <td>0.416158</td>\n",
       "      <td>0.394189</td>\n",
       "      <td>0.664269</td>\n",
       "      <td>31.097908</td>\n",
       "      <td>17.235624</td>\n",
       "      <td>30.299442</td>\n",
       "      <td>25.986418</td>\n",
       "      <td>30.299442</td>\n",
       "    </tr>\n",
       "    <tr>\n",
       "      <th>3</th>\n",
       "      <td>6.35</td>\n",
       "      <td>0.477617</td>\n",
       "      <td>16.791667</td>\n",
       "      <td>198</td>\n",
       "      <td>0.0</td>\n",
       "      <td>22.420833</td>\n",
       "      <td>28.8180</td>\n",
       "      <td>6.033333</td>\n",
       "      <td>2012</td>\n",
       "      <td>20.571045</td>\n",
       "      <td>...</td>\n",
       "      <td>0.030650</td>\n",
       "      <td>0.124700</td>\n",
       "      <td>0.425106</td>\n",
       "      <td>0.411547</td>\n",
       "      <td>0.673993</td>\n",
       "      <td>30.868718</td>\n",
       "      <td>17.248525</td>\n",
       "      <td>28.978868</td>\n",
       "      <td>25.122209</td>\n",
       "      <td>28.978868</td>\n",
       "    </tr>\n",
       "    <tr>\n",
       "      <th>4</th>\n",
       "      <td>5.13</td>\n",
       "      <td>0.556820</td>\n",
       "      <td>17.016667</td>\n",
       "      <td>199</td>\n",
       "      <td>0.0</td>\n",
       "      <td>21.529167</td>\n",
       "      <td>23.1732</td>\n",
       "      <td>4.350000</td>\n",
       "      <td>2012</td>\n",
       "      <td>16.757401</td>\n",
       "      <td>...</td>\n",
       "      <td>0.029875</td>\n",
       "      <td>0.121150</td>\n",
       "      <td>0.434053</td>\n",
       "      <td>0.428904</td>\n",
       "      <td>0.683716</td>\n",
       "      <td>30.657792</td>\n",
       "      <td>17.259663</td>\n",
       "      <td>30.653667</td>\n",
       "      <td>27.830367</td>\n",
       "      <td>30.653667</td>\n",
       "    </tr>\n",
       "  </tbody>\n",
       "</table>\n",
       "<p>5 rows × 28 columns</p>\n",
       "</div>"
      ],
      "text/plain": [
       "    PET       VPD   air_temp  doy  precip  soil_temp    sw_in  wind_speed  \\\n",
       "0  7.33  0.808731  19.179167  195     0.0  22.320833  30.3156    4.958333   \n",
       "1  6.52  0.755945  19.325000  196     0.0  21.770833  29.6316    3.791667   \n",
       "2  6.92  0.858993  20.262500  197     0.0  21.908333  29.3472    4.137500   \n",
       "3  6.35  0.477617  16.791667  198     0.0  22.420833  28.8180    6.033333   \n",
       "4  5.13  0.556820  17.016667  199     0.0  21.529167  23.1732    4.350000   \n",
       "\n",
       "   year    wp_RNET    ...       wp_bnd3   wp_bnd7    wp_evi  wp_lswi2  \\\n",
       "0  2012  20.798342    ...      0.032962  0.136763  0.396594  0.353988   \n",
       "1  2012  20.573593    ...      0.032200  0.131800  0.407211  0.376832   \n",
       "2  2012  20.475931    ...      0.031425  0.128250  0.416158  0.394189   \n",
       "3  2012  20.571045    ...      0.030650  0.124700  0.425106  0.411547   \n",
       "4  2012  16.757401    ...      0.029875  0.121150  0.434053  0.428904   \n",
       "\n",
       "    wp_ndvi  wp_LST.day  wp_LST.night   LW_IN.wp   LW_IN.si      LW_IN  \n",
       "0  0.641934   31.567899     17.204530  29.105844  24.562860  29.105844  \n",
       "1  0.654545   29.570000     17.390000  29.760736  26.096551  29.760736  \n",
       "2  0.664269   31.097908     17.235624  30.299442  25.986418  30.299442  \n",
       "3  0.673993   30.868718     17.248525  28.978868  25.122209  28.978868  \n",
       "4  0.683716   30.657792     17.259663  30.653667  27.830367  30.653667  \n",
       "\n",
       "[5 rows x 28 columns]"
      ]
     },
     "execution_count": 2,
     "metadata": {},
     "output_type": "execute_result"
    }
   ],
   "source": [
    "df = exp.get_wp_energy_data_8_day()\n",
    "df.head()"
   ]
  },
  {
   "cell_type": "code",
   "execution_count": 3,
   "metadata": {
    "collapsed": false
   },
   "outputs": [
    {
     "name": "stdout",
     "output_type": "stream",
     "text": [
      "<class 'pandas.core.frame.DataFrame'>\n",
      "Int64Index: 1030 entries, 0 to 1029\n",
      "Data columns (total 28 columns):\n",
      "PET             1030 non-null float64\n",
      "VPD             1030 non-null float64\n",
      "air_temp        1030 non-null float64\n",
      "doy             1030 non-null int64\n",
      "precip          1030 non-null float64\n",
      "soil_temp       1030 non-null float64\n",
      "sw_in           1030 non-null float64\n",
      "wind_speed      1030 non-null float64\n",
      "year            1030 non-null int64\n",
      "wp_RNET         1030 non-null float64\n",
      "wp_ch4_gf       1030 non-null float64\n",
      "wp_co2_gf       1030 non-null float64\n",
      "wp_er           1030 non-null float64\n",
      "wp_gpp          1030 non-null float64\n",
      "wp_h            1030 non-null float64\n",
      "wp_le           1030 non-null float64\n",
      "wp_bnd1         1030 non-null float64\n",
      "wp_bnd2         1030 non-null float64\n",
      "wp_bnd3         1030 non-null float64\n",
      "wp_bnd7         1030 non-null float64\n",
      "wp_evi          1030 non-null float64\n",
      "wp_lswi2        1030 non-null float64\n",
      "wp_ndvi         1030 non-null float64\n",
      "wp_LST.day      1030 non-null float64\n",
      "wp_LST.night    1030 non-null float64\n",
      "LW_IN.wp        1030 non-null float64\n",
      "LW_IN.si        1030 non-null float64\n",
      "LW_IN           1030 non-null float64\n",
      "dtypes: float64(26), int64(2)\n",
      "memory usage: 233.4 KB\n"
     ]
    }
   ],
   "source": [
    "df.info()"
   ]
  },
  {
   "cell_type": "code",
   "execution_count": 4,
   "metadata": {
    "collapsed": false
   },
   "outputs": [
    {
     "data": {
      "text/plain": [
       "(1030, 12)"
      ]
     },
     "execution_count": 4,
     "metadata": {},
     "output_type": "execute_result"
    }
   ],
   "source": [
    "train_cols = [\"precip\", \"sw_in\", \"LW_IN.wp\", \"VPD\", \"air_temp\", \"PET\", \"wind_speed\", \"wp_LST.day\",\n",
    "             \"wp_LST.night\", \"wp_evi\", \"wp_ndvi\", \"wp_lswi2\"]\n",
    "X, Y = exp.featurize(df, train_cols, [\"wp_h\"])\n",
    "X, Y, scaler = r.preprocess(X, Y)\n",
    "X.shape"
   ]
  },
  {
   "cell_type": "code",
   "execution_count": 5,
   "metadata": {
    "collapsed": false
   },
   "outputs": [
    {
     "name": "stdout",
     "output_type": "stream",
     "text": [
      "Running Random Forests Cross Validation...\n",
      "10-fold CV Acc Mean:  0.878024233427\n",
      "CV Scores:  0.908545323761, 0.850217871536, 0.861791445599, 0.889979301352, 0.840157953888, 0.895691866239, 0.911817075362, 0.853366810606, 0.890007103312, 0.878667582611\n",
      "OOB score: 0.888246466555\n",
      "Feature Importances:\n",
      "('sw_in', 0.21603996883114276)\n",
      "('air_temp', 0.11459973383701712)\n",
      "('PET', 0.10113497317028364)\n",
      "('wp_LST.night', 0.10009351535214264)\n",
      "('VPD', 0.092579523065221589)\n",
      "('LW_IN.wp', 0.081517532179145494)\n",
      "('wp_evi', 0.071804059521899569)\n",
      "('wp_LST.day', 0.068573977786099818)\n",
      "('wp_lswi2', 0.059656948504893635)\n",
      "('wind_speed', 0.043109995389011925)\n",
      "('wp_ndvi', 0.038491640217112447)\n",
      "('precip', 0.012398132146029363)\n"
     ]
    },
    {
     "data": {
      "text/plain": [
       "RandomForestRegressor(bootstrap=True, criterion='mse', max_depth=None,\n",
       "           max_features='sqrt', max_leaf_nodes=None, min_samples_leaf=1,\n",
       "           min_samples_split=2, min_weight_fraction_leaf=0.0,\n",
       "           n_estimators=200, n_jobs=1, oob_score=True, random_state=None,\n",
       "           verbose=0, warm_start=False)"
      ]
     },
     "execution_count": 5,
     "metadata": {},
     "output_type": "execute_result"
    }
   ],
   "source": [
    "r.random_forests_cross_val(X, Y, feature_names=train_cols)"
   ]
  },
  {
   "cell_type": "code",
   "execution_count": 6,
   "metadata": {
    "collapsed": false
   },
   "outputs": [
    {
     "name": "stdout",
     "output_type": "stream",
     "text": [
      "Running Gradient Boosted Trees Cross Validation...\n",
      "10-fold CV Acc Mean:  0.901587564637\n",
      "CV Scores:  0.921298056366, 0.879097601244, 0.898304401101, 0.904635692039, 0.889092520934, 0.922278536548, 0.89946258833, 0.880470593965, 0.919601707305, 0.901633948537\n",
      "Feature Importances:\n",
      "('sw_in', 0.15609290226651976)\n",
      "('VPD', 0.11664424461929902)\n",
      "('wp_LST.night', 0.11126672749246624)\n",
      "('LW_IN.wp', 0.094875592359430633)\n",
      "('PET', 0.091054573408512293)\n",
      "('wp_LST.day', 0.088546337665651148)\n",
      "('wp_evi', 0.073798880100752126)\n",
      "('wp_lswi2', 0.07073728381717509)\n",
      "('wind_speed', 0.065958654126702682)\n",
      "('air_temp', 0.059705005326297515)\n",
      "('wp_ndvi', 0.059619418990926799)\n",
      "('precip', 0.011700379826266833)\n"
     ]
    },
    {
     "data": {
      "text/plain": [
       "GradientBoostingRegressor(alpha=0.9, init=None, learning_rate=0.1, loss='ls',\n",
       "             max_depth=3, max_features='sqrt', max_leaf_nodes=None,\n",
       "             min_samples_leaf=1, min_samples_split=2,\n",
       "             min_weight_fraction_leaf=0.0, n_estimators=200,\n",
       "             presort='auto', random_state=None, subsample=1.0, verbose=0,\n",
       "             warm_start=False)"
      ]
     },
     "execution_count": 6,
     "metadata": {},
     "output_type": "execute_result"
    }
   ],
   "source": [
    "r.xgb_trees_cross_val(X, Y, feature_names=train_cols)"
   ]
  },
  {
   "cell_type": "code",
   "execution_count": 7,
   "metadata": {
    "collapsed": false
   },
   "outputs": [
    {
     "name": "stdout",
     "output_type": "stream",
     "text": [
      "Running SVC Cross Validation...\n",
      "10-fold CV Acc Mean:  0.878055211267\n",
      "CV Scores:  0.900599178812, 0.893500791351, 0.889543012496, 0.891165858629, 0.83708908948, 0.907843457664, 0.896388790866, 0.831090630569, 0.888723435487, 0.844607867314\n"
     ]
    },
    {
     "data": {
      "text/plain": [
       "SVR(C=1.0, cache_size=200, coef0=0.0, degree=3, epsilon=0.1, gamma='auto',\n",
       "  kernel='rbf', max_iter=-1, shrinking=True, tol=0.001, verbose=False)"
      ]
     },
     "execution_count": 7,
     "metadata": {},
     "output_type": "execute_result"
    }
   ],
   "source": [
    "r.svc_cross_val(X, Y)"
   ]
  },
  {
   "cell_type": "code",
   "execution_count": 8,
   "metadata": {
    "collapsed": false
   },
   "outputs": [
    {
     "name": "stdout",
     "output_type": "stream",
     "text": [
      "Running Neural Network Cross Validation...\n",
      "Step #1, avg. loss: 10.89695\n",
      "Step #501, epoch #50, avg. loss: 0.95996\n",
      "Step #1001, epoch #100, avg. loss: 0.39009\n",
      "Step #1501, epoch #150, avg. loss: 0.28950\n",
      "Step #2001, epoch #200, avg. loss: 0.23156\n",
      "Step #2501, epoch #250, avg. loss: 0.19498\n",
      "Step #3001, epoch #300, avg. loss: 0.16769\n",
      "Step #3501, epoch #350, avg. loss: 0.14978\n",
      "Step #4001, epoch #400, avg. loss: 0.13580\n",
      "Step #4501, epoch #450, avg. loss: 0.11981\n",
      "Step #1, avg. loss: 9.27540\n",
      "Step #501, epoch #50, avg. loss: 0.98140\n",
      "Step #1001, epoch #100, avg. loss: 0.38715\n",
      "Step #1501, epoch #150, avg. loss: 0.26860\n",
      "Step #2001, epoch #200, avg. loss: 0.21513\n",
      "Step #2501, epoch #250, avg. loss: 0.18097\n",
      "Step #3001, epoch #300, avg. loss: 0.15673\n",
      "Step #3501, epoch #350, avg. loss: 0.13758\n",
      "Step #4001, epoch #400, avg. loss: 0.13064\n",
      "Step #4501, epoch #450, avg. loss: 0.12018\n",
      "Step #1, avg. loss: 9.93125\n",
      "Step #501, epoch #50, avg. loss: 0.94472\n",
      "Step #1001, epoch #100, avg. loss: 0.38476\n",
      "Step #1501, epoch #150, avg. loss: 0.27069\n",
      "Step #2001, epoch #200, avg. loss: 0.22986\n",
      "Step #2501, epoch #250, avg. loss: 0.19211\n",
      "Step #3001, epoch #300, avg. loss: 0.17052\n",
      "Step #3501, epoch #350, avg. loss: 0.15061\n",
      "Step #4001, epoch #400, avg. loss: 0.13677\n",
      "Step #4501, epoch #450, avg. loss: 0.12454\n",
      "Step #1, avg. loss: 11.11945\n",
      "Step #501, epoch #50, avg. loss: 0.94721\n",
      "Step #1001, epoch #100, avg. loss: 0.39192\n",
      "Step #1501, epoch #150, avg. loss: 0.27265\n",
      "Step #2001, epoch #200, avg. loss: 0.22554\n",
      "Step #2501, epoch #250, avg. loss: 0.18407\n",
      "Step #3001, epoch #300, avg. loss: 0.16212\n",
      "Step #3501, epoch #350, avg. loss: 0.14384\n",
      "Step #4001, epoch #400, avg. loss: 0.13464\n",
      "Step #4501, epoch #450, avg. loss: 0.11676\n",
      "Step #1, avg. loss: 9.35947\n",
      "Step #501, epoch #50, avg. loss: 0.95172\n",
      "Step #1001, epoch #100, avg. loss: 0.38794\n",
      "Step #1501, epoch #150, avg. loss: 0.28665\n",
      "Step #2001, epoch #200, avg. loss: 0.22766\n",
      "Step #2501, epoch #250, avg. loss: 0.19218\n",
      "Step #3001, epoch #300, avg. loss: 0.17177\n",
      "Step #3501, epoch #350, avg. loss: 0.15048\n",
      "Step #4001, epoch #400, avg. loss: 0.13205\n",
      "Step #4501, epoch #450, avg. loss: 0.12553\n",
      "Step #1, avg. loss: 9.80322\n",
      "Step #501, epoch #50, avg. loss: 0.94133\n",
      "Step #1001, epoch #100, avg. loss: 0.38888\n",
      "Step #1501, epoch #150, avg. loss: 0.29069\n",
      "Step #2001, epoch #200, avg. loss: 0.23727\n",
      "Step #2501, epoch #250, avg. loss: 0.20315\n",
      "Step #3001, epoch #300, avg. loss: 0.17608\n",
      "Step #3501, epoch #350, avg. loss: 0.16065\n",
      "Step #4001, epoch #400, avg. loss: 0.14414\n",
      "Step #4501, epoch #450, avg. loss: 0.13247\n",
      "Step #1, avg. loss: 10.88460\n",
      "Step #501, epoch #50, avg. loss: 0.94744\n",
      "Step #1001, epoch #100, avg. loss: 0.37812\n",
      "Step #1501, epoch #150, avg. loss: 0.27893\n",
      "Step #2001, epoch #200, avg. loss: 0.21366\n",
      "Step #2501, epoch #250, avg. loss: 0.18021\n",
      "Step #3001, epoch #300, avg. loss: 0.16308\n",
      "Step #3501, epoch #350, avg. loss: 0.14742\n",
      "Step #4001, epoch #400, avg. loss: 0.12966\n",
      "Step #4501, epoch #450, avg. loss: 0.11354\n",
      "Step #1, avg. loss: 11.59282\n",
      "Step #501, epoch #50, avg. loss: 0.93701\n",
      "Step #1001, epoch #100, avg. loss: 0.36129\n",
      "Step #1501, epoch #150, avg. loss: 0.26202\n",
      "Step #2001, epoch #200, avg. loss: 0.21265\n",
      "Step #2501, epoch #250, avg. loss: 0.17214\n",
      "Step #3001, epoch #300, avg. loss: 0.14657\n",
      "Step #3501, epoch #350, avg. loss: 0.13344\n",
      "Step #4001, epoch #400, avg. loss: 0.11991\n",
      "Step #4501, epoch #450, avg. loss: 0.10886\n",
      "Step #1, avg. loss: 9.30691\n",
      "Step #501, epoch #50, avg. loss: 0.96011\n",
      "Step #1001, epoch #100, avg. loss: 0.37608\n",
      "Step #1501, epoch #150, avg. loss: 0.27695\n",
      "Step #2001, epoch #200, avg. loss: 0.22072\n",
      "Step #2501, epoch #250, avg. loss: 0.19203\n",
      "Step #3001, epoch #300, avg. loss: 0.15747\n",
      "Step #3501, epoch #350, avg. loss: 0.15001\n",
      "Step #4001, epoch #400, avg. loss: 0.13192\n",
      "Step #4501, epoch #450, avg. loss: 0.12048\n",
      "Step #1, avg. loss: 8.72179\n",
      "Step #501, epoch #50, avg. loss: 0.96589\n",
      "Step #1001, epoch #100, avg. loss: 0.39050\n",
      "Step #1501, epoch #150, avg. loss: 0.27340\n",
      "Step #2001, epoch #200, avg. loss: 0.22099\n",
      "Step #2501, epoch #250, avg. loss: 0.18235\n",
      "Step #3001, epoch #300, avg. loss: 0.15746\n",
      "Step #3501, epoch #350, avg. loss: 0.14602\n",
      "Step #4001, epoch #400, avg. loss: 0.13274\n",
      "Step #4501, epoch #450, avg. loss: 0.11682\n",
      "10-fold CV Acc Mean:  0.926999579911\n",
      "CV Scores:  0.954058162848, 0.945056874027, 0.953937210741, 0.926097440217, 0.930619181075, 0.94286290457, 0.914948848981, 0.880154768127, 0.924412031354, 0.897848377164\n"
     ]
    },
    {
     "data": {
      "text/plain": [
       "TensorFlowEstimator(batch_size=100, class_weight=None,\n",
       "          continue_training=False, early_stopping_rounds=None,\n",
       "          keep_checkpoint_every_n_hours=10000, learning_rate=0.1,\n",
       "          max_to_keep=5, model_fn=<function tanh_dnn at 0x10f130488>,\n",
       "          n_classes=0, num_cores=4, optimizer='SGD', steps=5000,\n",
       "          tf_master='', tf_random_seed=42, verbose=1)"
      ]
     },
     "execution_count": 8,
     "metadata": {},
     "output_type": "execute_result"
    }
   ],
   "source": [
    "r.dnn_cross_val(X, Y)"
   ]
  },
  {
   "cell_type": "code",
   "execution_count": null,
   "metadata": {
    "collapsed": true
   },
   "outputs": [],
   "source": []
  }
 ],
 "metadata": {
  "kernelspec": {
   "display_name": "Python 2",
   "language": "python",
   "name": "python2"
  },
  "language_info": {
   "codemirror_mode": {
    "name": "ipython",
    "version": 2
   },
   "file_extension": ".py",
   "mimetype": "text/x-python",
   "name": "python",
   "nbconvert_exporter": "python",
   "pygments_lexer": "ipython2",
   "version": "2.7.11"
  }
 },
 "nbformat": 4,
 "nbformat_minor": 0
}
