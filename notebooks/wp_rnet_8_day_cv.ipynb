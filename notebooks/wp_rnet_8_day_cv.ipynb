{
 "cells": [
  {
   "cell_type": "code",
   "execution_count": 1,
   "metadata": {
    "collapsed": false
   },
   "outputs": [],
   "source": [
    "import sys\n",
    "sys.path.append('../')\n",
    "import exp\n",
    "import regression as r"
   ]
  },
  {
   "cell_type": "code",
   "execution_count": 2,
   "metadata": {
    "collapsed": false
   },
   "outputs": [
    {
     "data": {
      "text/html": [
       "<div>\n",
       "<table border=\"1\" class=\"dataframe\">\n",
       "  <thead>\n",
       "    <tr style=\"text-align: right;\">\n",
       "      <th></th>\n",
       "      <th>PET</th>\n",
       "      <th>VPD</th>\n",
       "      <th>air_temp</th>\n",
       "      <th>doy</th>\n",
       "      <th>precip</th>\n",
       "      <th>soil_temp</th>\n",
       "      <th>sw_in</th>\n",
       "      <th>wind_speed</th>\n",
       "      <th>year</th>\n",
       "      <th>wp_RNET</th>\n",
       "      <th>...</th>\n",
       "      <th>wp_bnd3</th>\n",
       "      <th>wp_bnd7</th>\n",
       "      <th>wp_evi</th>\n",
       "      <th>wp_lswi2</th>\n",
       "      <th>wp_ndvi</th>\n",
       "      <th>wp_LST.day</th>\n",
       "      <th>wp_LST.night</th>\n",
       "      <th>LW_IN.wp</th>\n",
       "      <th>LW_IN.si</th>\n",
       "      <th>LW_IN</th>\n",
       "    </tr>\n",
       "  </thead>\n",
       "  <tbody>\n",
       "    <tr>\n",
       "      <th>0</th>\n",
       "      <td>7.33</td>\n",
       "      <td>0.808731</td>\n",
       "      <td>19.179167</td>\n",
       "      <td>195</td>\n",
       "      <td>0.0</td>\n",
       "      <td>22.320833</td>\n",
       "      <td>30.3156</td>\n",
       "      <td>4.958333</td>\n",
       "      <td>2012</td>\n",
       "      <td>20.798342</td>\n",
       "      <td>...</td>\n",
       "      <td>0.032962</td>\n",
       "      <td>0.136763</td>\n",
       "      <td>0.396594</td>\n",
       "      <td>0.353988</td>\n",
       "      <td>0.641934</td>\n",
       "      <td>31.567899</td>\n",
       "      <td>17.204530</td>\n",
       "      <td>29.105844</td>\n",
       "      <td>24.562860</td>\n",
       "      <td>29.105844</td>\n",
       "    </tr>\n",
       "    <tr>\n",
       "      <th>1</th>\n",
       "      <td>6.52</td>\n",
       "      <td>0.755945</td>\n",
       "      <td>19.325000</td>\n",
       "      <td>196</td>\n",
       "      <td>0.0</td>\n",
       "      <td>21.770833</td>\n",
       "      <td>29.6316</td>\n",
       "      <td>3.791667</td>\n",
       "      <td>2012</td>\n",
       "      <td>20.573593</td>\n",
       "      <td>...</td>\n",
       "      <td>0.032200</td>\n",
       "      <td>0.131800</td>\n",
       "      <td>0.407211</td>\n",
       "      <td>0.376832</td>\n",
       "      <td>0.654545</td>\n",
       "      <td>29.570000</td>\n",
       "      <td>17.390000</td>\n",
       "      <td>29.760736</td>\n",
       "      <td>26.096551</td>\n",
       "      <td>29.760736</td>\n",
       "    </tr>\n",
       "    <tr>\n",
       "      <th>2</th>\n",
       "      <td>6.92</td>\n",
       "      <td>0.858993</td>\n",
       "      <td>20.262500</td>\n",
       "      <td>197</td>\n",
       "      <td>0.0</td>\n",
       "      <td>21.908333</td>\n",
       "      <td>29.3472</td>\n",
       "      <td>4.137500</td>\n",
       "      <td>2012</td>\n",
       "      <td>20.475931</td>\n",
       "      <td>...</td>\n",
       "      <td>0.031425</td>\n",
       "      <td>0.128250</td>\n",
       "      <td>0.416158</td>\n",
       "      <td>0.394189</td>\n",
       "      <td>0.664269</td>\n",
       "      <td>31.097908</td>\n",
       "      <td>17.235624</td>\n",
       "      <td>30.299442</td>\n",
       "      <td>25.986418</td>\n",
       "      <td>30.299442</td>\n",
       "    </tr>\n",
       "    <tr>\n",
       "      <th>3</th>\n",
       "      <td>6.35</td>\n",
       "      <td>0.477617</td>\n",
       "      <td>16.791667</td>\n",
       "      <td>198</td>\n",
       "      <td>0.0</td>\n",
       "      <td>22.420833</td>\n",
       "      <td>28.8180</td>\n",
       "      <td>6.033333</td>\n",
       "      <td>2012</td>\n",
       "      <td>20.571045</td>\n",
       "      <td>...</td>\n",
       "      <td>0.030650</td>\n",
       "      <td>0.124700</td>\n",
       "      <td>0.425106</td>\n",
       "      <td>0.411547</td>\n",
       "      <td>0.673993</td>\n",
       "      <td>30.868718</td>\n",
       "      <td>17.248525</td>\n",
       "      <td>28.978868</td>\n",
       "      <td>25.122209</td>\n",
       "      <td>28.978868</td>\n",
       "    </tr>\n",
       "    <tr>\n",
       "      <th>4</th>\n",
       "      <td>5.13</td>\n",
       "      <td>0.556820</td>\n",
       "      <td>17.016667</td>\n",
       "      <td>199</td>\n",
       "      <td>0.0</td>\n",
       "      <td>21.529167</td>\n",
       "      <td>23.1732</td>\n",
       "      <td>4.350000</td>\n",
       "      <td>2012</td>\n",
       "      <td>16.757401</td>\n",
       "      <td>...</td>\n",
       "      <td>0.029875</td>\n",
       "      <td>0.121150</td>\n",
       "      <td>0.434053</td>\n",
       "      <td>0.428904</td>\n",
       "      <td>0.683716</td>\n",
       "      <td>30.657792</td>\n",
       "      <td>17.259663</td>\n",
       "      <td>30.653667</td>\n",
       "      <td>27.830367</td>\n",
       "      <td>30.653667</td>\n",
       "    </tr>\n",
       "  </tbody>\n",
       "</table>\n",
       "<p>5 rows × 28 columns</p>\n",
       "</div>"
      ],
      "text/plain": [
       "    PET       VPD   air_temp  doy  precip  soil_temp    sw_in  wind_speed  \\\n",
       "0  7.33  0.808731  19.179167  195     0.0  22.320833  30.3156    4.958333   \n",
       "1  6.52  0.755945  19.325000  196     0.0  21.770833  29.6316    3.791667   \n",
       "2  6.92  0.858993  20.262500  197     0.0  21.908333  29.3472    4.137500   \n",
       "3  6.35  0.477617  16.791667  198     0.0  22.420833  28.8180    6.033333   \n",
       "4  5.13  0.556820  17.016667  199     0.0  21.529167  23.1732    4.350000   \n",
       "\n",
       "   year    wp_RNET    ...       wp_bnd3   wp_bnd7    wp_evi  wp_lswi2  \\\n",
       "0  2012  20.798342    ...      0.032962  0.136763  0.396594  0.353988   \n",
       "1  2012  20.573593    ...      0.032200  0.131800  0.407211  0.376832   \n",
       "2  2012  20.475931    ...      0.031425  0.128250  0.416158  0.394189   \n",
       "3  2012  20.571045    ...      0.030650  0.124700  0.425106  0.411547   \n",
       "4  2012  16.757401    ...      0.029875  0.121150  0.434053  0.428904   \n",
       "\n",
       "    wp_ndvi  wp_LST.day  wp_LST.night   LW_IN.wp   LW_IN.si      LW_IN  \n",
       "0  0.641934   31.567899     17.204530  29.105844  24.562860  29.105844  \n",
       "1  0.654545   29.570000     17.390000  29.760736  26.096551  29.760736  \n",
       "2  0.664269   31.097908     17.235624  30.299442  25.986418  30.299442  \n",
       "3  0.673993   30.868718     17.248525  28.978868  25.122209  28.978868  \n",
       "4  0.683716   30.657792     17.259663  30.653667  27.830367  30.653667  \n",
       "\n",
       "[5 rows x 28 columns]"
      ]
     },
     "execution_count": 2,
     "metadata": {},
     "output_type": "execute_result"
    }
   ],
   "source": [
    "df = exp.get_wp_energy_data_8_day()\n",
    "df.head()"
   ]
  },
  {
   "cell_type": "code",
   "execution_count": 3,
   "metadata": {
    "collapsed": false
   },
   "outputs": [
    {
     "name": "stdout",
     "output_type": "stream",
     "text": [
      "<class 'pandas.core.frame.DataFrame'>\n",
      "Int64Index: 1030 entries, 0 to 1029\n",
      "Data columns (total 28 columns):\n",
      "PET             1030 non-null float64\n",
      "VPD             1030 non-null float64\n",
      "air_temp        1030 non-null float64\n",
      "doy             1030 non-null int64\n",
      "precip          1030 non-null float64\n",
      "soil_temp       1030 non-null float64\n",
      "sw_in           1030 non-null float64\n",
      "wind_speed      1030 non-null float64\n",
      "year            1030 non-null int64\n",
      "wp_RNET         1030 non-null float64\n",
      "wp_ch4_gf       1030 non-null float64\n",
      "wp_co2_gf       1030 non-null float64\n",
      "wp_er           1030 non-null float64\n",
      "wp_gpp          1030 non-null float64\n",
      "wp_h            1030 non-null float64\n",
      "wp_le           1030 non-null float64\n",
      "wp_bnd1         1030 non-null float64\n",
      "wp_bnd2         1030 non-null float64\n",
      "wp_bnd3         1030 non-null float64\n",
      "wp_bnd7         1030 non-null float64\n",
      "wp_evi          1030 non-null float64\n",
      "wp_lswi2        1030 non-null float64\n",
      "wp_ndvi         1030 non-null float64\n",
      "wp_LST.day      1030 non-null float64\n",
      "wp_LST.night    1030 non-null float64\n",
      "LW_IN.wp        1030 non-null float64\n",
      "LW_IN.si        1030 non-null float64\n",
      "LW_IN           1030 non-null float64\n",
      "dtypes: float64(26), int64(2)\n",
      "memory usage: 233.4 KB\n"
     ]
    }
   ],
   "source": [
    "df.info()"
   ]
  },
  {
   "cell_type": "code",
   "execution_count": 4,
   "metadata": {
    "collapsed": false
   },
   "outputs": [
    {
     "data": {
      "text/plain": [
       "(1030, 12)"
      ]
     },
     "execution_count": 4,
     "metadata": {},
     "output_type": "execute_result"
    }
   ],
   "source": [
    "train_cols = [\"precip\", \"sw_in\", \"LW_IN.wp\", \"VPD\", \"air_temp\", \"PET\", \"wind_speed\", \"wp_LST.day\",\n",
    "             \"wp_LST.night\", \"wp_evi\", \"wp_ndvi\", \"wp_lswi2\"]\n",
    "X, Y = exp.featurize(df, train_cols, [\"wp_RNET\"])\n",
    "X, Y, scaler = r.preprocess(X, Y)\n",
    "X.shape"
   ]
  },
  {
   "cell_type": "code",
   "execution_count": 5,
   "metadata": {
    "collapsed": false
   },
   "outputs": [
    {
     "name": "stdout",
     "output_type": "stream",
     "text": [
      "Running Random Forests Cross Validation...\n",
      "10-fold CV Acc Mean:  0.970661658993\n",
      "CV Scores:  0.918085068953, 0.979543719853, 0.984492728162, 0.979950871214, 0.975472971384, 0.980005824747, 0.970603110849, 0.984156360045, 0.975672417445, 0.958633517276\n",
      "OOB score: 0.971188445494\n",
      "Feature Importances:\n",
      "('sw_in', 0.32591332808692253)\n",
      "('PET', 0.20887063224947544)\n",
      "('wp_LST.day', 0.16873005504783717)\n",
      "('wp_LST.night', 0.11891603594962881)\n",
      "('air_temp', 0.050109700098541078)\n",
      "('VPD', 0.048121874074752664)\n",
      "('wind_speed', 0.021714158039798988)\n",
      "('wp_ndvi', 0.018388054764583935)\n",
      "('wp_evi', 0.015668371320290888)\n",
      "('wp_lswi2', 0.011369650105997524)\n",
      "('LW_IN.wp', 0.0070953641837920925)\n",
      "('precip', 0.0051027760783787122)\n"
     ]
    },
    {
     "data": {
      "text/plain": [
       "RandomForestRegressor(bootstrap=True, criterion='mse', max_depth=None,\n",
       "           max_features='sqrt', max_leaf_nodes=None, min_samples_leaf=1,\n",
       "           min_samples_split=2, min_weight_fraction_leaf=0.0,\n",
       "           n_estimators=200, n_jobs=1, oob_score=True, random_state=None,\n",
       "           verbose=0, warm_start=False)"
      ]
     },
     "execution_count": 5,
     "metadata": {},
     "output_type": "execute_result"
    }
   ],
   "source": [
    "r.random_forests_cross_val(X, Y, feature_names=train_cols)"
   ]
  },
  {
   "cell_type": "code",
   "execution_count": 6,
   "metadata": {
    "collapsed": false
   },
   "outputs": [
    {
     "name": "stdout",
     "output_type": "stream",
     "text": [
      "Running Gradient Boosted Trees Cross Validation...\n",
      "10-fold CV Acc Mean:  0.971190272561\n",
      "CV Scores:  0.915173771372, 0.978186601411, 0.988149022609, 0.985597276267, 0.979812262802, 0.976557749267, 0.966489433057, 0.984206419612, 0.977799405151, 0.959930784064\n",
      "Feature Importances:\n",
      "('sw_in', 0.19399226423521437)\n",
      "('wp_LST.day', 0.10925732284218222)\n",
      "('VPD', 0.10621399440090931)\n",
      "('LW_IN.wp', 0.097585177300486659)\n",
      "('wp_LST.night', 0.08970883198846924)\n",
      "('air_temp', 0.071663201160500276)\n",
      "('wp_evi', 0.071034003231201473)\n",
      "('PET', 0.067126777362266382)\n",
      "('wp_lswi2', 0.066333724261312219)\n",
      "('wp_ndvi', 0.052271180418044294)\n",
      "('wind_speed', 0.048882392152982179)\n",
      "('precip', 0.025931130646431298)\n"
     ]
    },
    {
     "data": {
      "text/plain": [
       "GradientBoostingRegressor(alpha=0.9, init=None, learning_rate=0.1, loss='ls',\n",
       "             max_depth=3, max_features='sqrt', max_leaf_nodes=None,\n",
       "             min_samples_leaf=1, min_samples_split=2,\n",
       "             min_weight_fraction_leaf=0.0, n_estimators=200,\n",
       "             presort='auto', random_state=None, subsample=1.0, verbose=0,\n",
       "             warm_start=False)"
      ]
     },
     "execution_count": 6,
     "metadata": {},
     "output_type": "execute_result"
    }
   ],
   "source": [
    "r.xgb_trees_cross_val(X, Y, feature_names=train_cols)"
   ]
  },
  {
   "cell_type": "code",
   "execution_count": 7,
   "metadata": {
    "collapsed": false
   },
   "outputs": [
    {
     "name": "stdout",
     "output_type": "stream",
     "text": [
      "Running SVC Cross Validation...\n",
      "10-fold CV Acc Mean:  0.964270484672\n",
      "CV Scores:  0.884899094662, 0.983580470366, 0.983348447349, 0.983342204966, 0.980807626076, 0.969869065003, 0.955740686296, 0.970119844264, 0.970947843421, 0.960049564315\n"
     ]
    },
    {
     "data": {
      "text/plain": [
       "SVR(C=1.0, cache_size=200, coef0=0.0, degree=3, epsilon=0.1, gamma='auto',\n",
       "  kernel='rbf', max_iter=-1, shrinking=True, tol=0.001, verbose=False)"
      ]
     },
     "execution_count": 7,
     "metadata": {},
     "output_type": "execute_result"
    }
   ],
   "source": [
    "r.svc_cross_val(X, Y)"
   ]
  },
  {
   "cell_type": "code",
   "execution_count": 8,
   "metadata": {
    "collapsed": false
   },
   "outputs": [
    {
     "name": "stdout",
     "output_type": "stream",
     "text": [
      "Running Neural Network Cross Validation...\n",
      "Step #1, avg. loss: 174.80829\n",
      "Step #501, epoch #50, avg. loss: 3.83718\n",
      "Step #1001, epoch #100, avg. loss: 1.74007\n",
      "Step #1501, epoch #150, avg. loss: 1.46212\n",
      "Step #2001, epoch #200, avg. loss: 1.25572\n",
      "Step #2501, epoch #250, avg. loss: 1.04713\n",
      "Step #3001, epoch #300, avg. loss: 0.90134\n",
      "Step #3501, epoch #350, avg. loss: 0.69172\n",
      "Step #4001, epoch #400, avg. loss: 0.59503\n",
      "Step #4501, epoch #450, avg. loss: 0.47905\n",
      "Step #1, avg. loss: 173.74677\n",
      "Step #501, epoch #50, avg. loss: 3.73998\n",
      "Step #1001, epoch #100, avg. loss: 1.64200\n",
      "Step #1501, epoch #150, avg. loss: 1.32266\n",
      "Step #2001, epoch #200, avg. loss: 1.04820\n",
      "Step #2501, epoch #250, avg. loss: 0.83199\n",
      "Step #3001, epoch #300, avg. loss: 0.66329\n",
      "Step #3501, epoch #350, avg. loss: 0.43777\n",
      "Step #4001, epoch #400, avg. loss: 0.36483\n",
      "Step #4501, epoch #450, avg. loss: 0.25787\n",
      "Step #1, avg. loss: 182.04988\n",
      "Step #501, epoch #50, avg. loss: 3.85968\n",
      "Step #1001, epoch #100, avg. loss: 1.70690\n",
      "Step #1501, epoch #150, avg. loss: 1.41836\n",
      "Step #2001, epoch #200, avg. loss: 1.23536\n",
      "Step #2501, epoch #250, avg. loss: 0.97094\n",
      "Step #3001, epoch #300, avg. loss: 0.81669\n",
      "Step #3501, epoch #350, avg. loss: 0.66942\n",
      "Step #4001, epoch #400, avg. loss: 0.60778\n",
      "Step #4501, epoch #450, avg. loss: 0.48244\n",
      "Step #1, avg. loss: 152.46442\n",
      "Step #501, epoch #50, avg. loss: 3.81324\n",
      "Step #1001, epoch #100, avg. loss: 1.66486\n",
      "Step #1501, epoch #150, avg. loss: 1.32064\n",
      "Step #2001, epoch #200, avg. loss: 1.06699\n",
      "Step #2501, epoch #250, avg. loss: 0.78651\n",
      "Step #3001, epoch #300, avg. loss: 0.63168\n",
      "Step #3501, epoch #350, avg. loss: 0.50569\n",
      "Step #4001, epoch #400, avg. loss: 0.42583\n",
      "Step #4501, epoch #450, avg. loss: 0.30913\n",
      "Step #1, avg. loss: 166.45403\n",
      "Step #501, epoch #50, avg. loss: 3.61089\n",
      "Step #1001, epoch #100, avg. loss: 1.49087\n",
      "Step #1501, epoch #150, avg. loss: 1.19445\n",
      "Step #2001, epoch #200, avg. loss: 0.93422\n",
      "Step #2501, epoch #250, avg. loss: 0.70225\n",
      "Step #3001, epoch #300, avg. loss: 0.59709\n",
      "Step #3501, epoch #350, avg. loss: 0.49816\n",
      "Step #4001, epoch #400, avg. loss: 0.43645\n",
      "Step #4501, epoch #450, avg. loss: 0.36381\n",
      "Step #1, avg. loss: 161.95876\n",
      "Step #501, epoch #50, avg. loss: 3.86401\n",
      "Step #1001, epoch #100, avg. loss: 1.75341\n",
      "Step #1501, epoch #150, avg. loss: 1.44407\n",
      "Step #2001, epoch #200, avg. loss: 1.14174\n",
      "Step #2501, epoch #250, avg. loss: 0.86607\n",
      "Step #3001, epoch #300, avg. loss: 0.63168\n",
      "Step #3501, epoch #350, avg. loss: 0.51188\n",
      "Step #4001, epoch #400, avg. loss: 0.41669\n",
      "Step #4501, epoch #450, avg. loss: 0.33855\n",
      "Step #1, avg. loss: 181.25322\n",
      "Step #501, epoch #50, avg. loss: 3.81799\n",
      "Step #1001, epoch #100, avg. loss: 1.69512\n",
      "Step #1501, epoch #150, avg. loss: 1.43365\n",
      "Step #2001, epoch #200, avg. loss: 1.16410\n",
      "Step #2501, epoch #250, avg. loss: 0.94518\n",
      "Step #3001, epoch #300, avg. loss: 0.77953\n",
      "Step #3501, epoch #350, avg. loss: 0.64770\n",
      "Step #4001, epoch #400, avg. loss: 0.46208\n",
      "Step #4501, epoch #450, avg. loss: 0.36910\n",
      "Step #1, avg. loss: 180.68271\n",
      "Step #501, epoch #50, avg. loss: 3.94584\n",
      "Step #1001, epoch #100, avg. loss: 1.74610\n",
      "Step #1501, epoch #150, avg. loss: 1.38537\n",
      "Step #2001, epoch #200, avg. loss: 1.11735\n",
      "Step #2501, epoch #250, avg. loss: 0.89476\n",
      "Step #3001, epoch #300, avg. loss: 0.63961\n",
      "Step #3501, epoch #350, avg. loss: 0.52586\n",
      "Step #4001, epoch #400, avg. loss: 0.42315\n",
      "Step #4501, epoch #450, avg. loss: 0.39322\n",
      "Step #1, avg. loss: 155.24150\n",
      "Step #501, epoch #50, avg. loss: 3.73889\n",
      "Step #1001, epoch #100, avg. loss: 1.71205\n",
      "Step #1501, epoch #150, avg. loss: 1.44348\n",
      "Step #2001, epoch #200, avg. loss: 1.21984\n",
      "Step #2501, epoch #250, avg. loss: 0.92110\n",
      "Step #3001, epoch #300, avg. loss: 0.73010\n",
      "Step #3501, epoch #350, avg. loss: 0.60952\n",
      "Step #4001, epoch #400, avg. loss: 0.48324\n",
      "Step #4501, epoch #450, avg. loss: 0.49059\n",
      "Step #1, avg. loss: 164.80049\n",
      "Step #501, epoch #50, avg. loss: 3.79370\n",
      "Step #1001, epoch #100, avg. loss: 1.71011\n",
      "Step #1501, epoch #150, avg. loss: 1.50578\n",
      "Step #2001, epoch #200, avg. loss: 1.22762\n",
      "Step #2501, epoch #250, avg. loss: 1.01329\n",
      "Step #3001, epoch #300, avg. loss: 0.83231\n",
      "Step #3501, epoch #350, avg. loss: 0.71882\n",
      "Step #4001, epoch #400, avg. loss: 0.55491\n",
      "Step #4501, epoch #450, avg. loss: 0.49388\n",
      "10-fold CV Acc Mean:  0.964340757105\n",
      "CV Scores:  0.976016635917, 0.960556658892, 0.968383184036, 0.958758718689, 0.902897224864, 0.96187376376, 0.98411588592, 0.982440770792, 0.981876450395, 0.966488277787\n"
     ]
    },
    {
     "data": {
      "text/plain": [
       "TensorFlowEstimator(batch_size=100, class_weight=None,\n",
       "          continue_training=False, early_stopping_rounds=None,\n",
       "          keep_checkpoint_every_n_hours=10000, learning_rate=0.1,\n",
       "          max_to_keep=5, model_fn=<function tanh_dnn at 0x10c670488>,\n",
       "          n_classes=0, num_cores=4, optimizer='SGD', steps=5000,\n",
       "          tf_master='', tf_random_seed=42, verbose=1)"
      ]
     },
     "execution_count": 8,
     "metadata": {},
     "output_type": "execute_result"
    }
   ],
   "source": [
    "r.dnn_cross_val(X, Y)"
   ]
  },
  {
   "cell_type": "code",
   "execution_count": null,
   "metadata": {
    "collapsed": true
   },
   "outputs": [],
   "source": []
  }
 ],
 "metadata": {
  "kernelspec": {
   "display_name": "Python 2",
   "language": "python",
   "name": "python2"
  },
  "language_info": {
   "codemirror_mode": {
    "name": "ipython",
    "version": 2
   },
   "file_extension": ".py",
   "mimetype": "text/x-python",
   "name": "python",
   "nbconvert_exporter": "python",
   "pygments_lexer": "ipython2",
   "version": "2.7.11"
  }
 },
 "nbformat": 4,
 "nbformat_minor": 0
}
