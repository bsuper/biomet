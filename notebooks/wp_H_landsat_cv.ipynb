{
 "cells": [
  {
   "cell_type": "code",
   "execution_count": 1,
   "metadata": {
    "collapsed": false
   },
   "outputs": [],
   "source": [
    "import sys\n",
    "sys.path.append('../')\n",
    "import exp\n",
    "import regression as r"
   ]
  },
  {
   "cell_type": "code",
   "execution_count": 2,
   "metadata": {
    "collapsed": false
   },
   "outputs": [
    {
     "data": {
      "text/html": [
       "<div>\n",
       "<table border=\"1\" class=\"dataframe\">\n",
       "  <thead>\n",
       "    <tr style=\"text-align: right;\">\n",
       "      <th></th>\n",
       "      <th>PET</th>\n",
       "      <th>VPD</th>\n",
       "      <th>air_temp</th>\n",
       "      <th>doy</th>\n",
       "      <th>precip</th>\n",
       "      <th>soil_temp</th>\n",
       "      <th>sw_in</th>\n",
       "      <th>wind_speed</th>\n",
       "      <th>year</th>\n",
       "      <th>wp_RNET</th>\n",
       "      <th>...</th>\n",
       "      <th>wp_h</th>\n",
       "      <th>wp_le</th>\n",
       "      <th>wp_evi</th>\n",
       "      <th>wp_lswi2</th>\n",
       "      <th>wp_ndvi</th>\n",
       "      <th>wp_LST.day</th>\n",
       "      <th>wp_LST.night</th>\n",
       "      <th>LW_IN.wp</th>\n",
       "      <th>LW_IN.si</th>\n",
       "      <th>LW_IN</th>\n",
       "    </tr>\n",
       "  </thead>\n",
       "  <tbody>\n",
       "    <tr>\n",
       "      <th>0</th>\n",
       "      <td>7.33</td>\n",
       "      <td>0.808731</td>\n",
       "      <td>19.179167</td>\n",
       "      <td>195</td>\n",
       "      <td>0.0</td>\n",
       "      <td>22.320833</td>\n",
       "      <td>30.3156</td>\n",
       "      <td>4.958333</td>\n",
       "      <td>2012</td>\n",
       "      <td>20.798342</td>\n",
       "      <td>...</td>\n",
       "      <td>2.605590</td>\n",
       "      <td>13.643902</td>\n",
       "      <td>0.377924</td>\n",
       "      <td>0.413754</td>\n",
       "      <td>0.594708</td>\n",
       "      <td>31.567899</td>\n",
       "      <td>17.204530</td>\n",
       "      <td>29.105844</td>\n",
       "      <td>24.562860</td>\n",
       "      <td>29.105844</td>\n",
       "    </tr>\n",
       "    <tr>\n",
       "      <th>1</th>\n",
       "      <td>6.52</td>\n",
       "      <td>0.755945</td>\n",
       "      <td>19.325000</td>\n",
       "      <td>196</td>\n",
       "      <td>0.0</td>\n",
       "      <td>21.770833</td>\n",
       "      <td>29.6316</td>\n",
       "      <td>3.791667</td>\n",
       "      <td>2012</td>\n",
       "      <td>20.573593</td>\n",
       "      <td>...</td>\n",
       "      <td>3.459300</td>\n",
       "      <td>13.498761</td>\n",
       "      <td>0.381184</td>\n",
       "      <td>0.420529</td>\n",
       "      <td>0.597960</td>\n",
       "      <td>29.570000</td>\n",
       "      <td>17.390000</td>\n",
       "      <td>29.760736</td>\n",
       "      <td>26.096551</td>\n",
       "      <td>29.760736</td>\n",
       "    </tr>\n",
       "    <tr>\n",
       "      <th>2</th>\n",
       "      <td>6.92</td>\n",
       "      <td>0.858993</td>\n",
       "      <td>20.262500</td>\n",
       "      <td>197</td>\n",
       "      <td>0.0</td>\n",
       "      <td>21.908333</td>\n",
       "      <td>29.3472</td>\n",
       "      <td>4.137500</td>\n",
       "      <td>2012</td>\n",
       "      <td>20.475931</td>\n",
       "      <td>...</td>\n",
       "      <td>2.117474</td>\n",
       "      <td>14.987823</td>\n",
       "      <td>0.384444</td>\n",
       "      <td>0.427304</td>\n",
       "      <td>0.601212</td>\n",
       "      <td>31.097908</td>\n",
       "      <td>17.235624</td>\n",
       "      <td>30.299442</td>\n",
       "      <td>25.986418</td>\n",
       "      <td>30.299442</td>\n",
       "    </tr>\n",
       "    <tr>\n",
       "      <th>3</th>\n",
       "      <td>6.35</td>\n",
       "      <td>0.477617</td>\n",
       "      <td>16.791667</td>\n",
       "      <td>198</td>\n",
       "      <td>0.0</td>\n",
       "      <td>22.420833</td>\n",
       "      <td>28.8180</td>\n",
       "      <td>6.033333</td>\n",
       "      <td>2012</td>\n",
       "      <td>20.571045</td>\n",
       "      <td>...</td>\n",
       "      <td>4.636145</td>\n",
       "      <td>11.355851</td>\n",
       "      <td>0.387704</td>\n",
       "      <td>0.434079</td>\n",
       "      <td>0.604465</td>\n",
       "      <td>30.868718</td>\n",
       "      <td>17.248525</td>\n",
       "      <td>28.978868</td>\n",
       "      <td>25.122209</td>\n",
       "      <td>28.978868</td>\n",
       "    </tr>\n",
       "    <tr>\n",
       "      <th>4</th>\n",
       "      <td>5.13</td>\n",
       "      <td>0.556820</td>\n",
       "      <td>17.016667</td>\n",
       "      <td>199</td>\n",
       "      <td>0.0</td>\n",
       "      <td>21.529167</td>\n",
       "      <td>23.1732</td>\n",
       "      <td>4.350000</td>\n",
       "      <td>2012</td>\n",
       "      <td>16.757401</td>\n",
       "      <td>...</td>\n",
       "      <td>3.448946</td>\n",
       "      <td>10.943102</td>\n",
       "      <td>0.390963</td>\n",
       "      <td>0.440854</td>\n",
       "      <td>0.607717</td>\n",
       "      <td>30.657792</td>\n",
       "      <td>17.259663</td>\n",
       "      <td>30.653667</td>\n",
       "      <td>27.830367</td>\n",
       "      <td>30.653667</td>\n",
       "    </tr>\n",
       "  </tbody>\n",
       "</table>\n",
       "<p>5 rows × 24 columns</p>\n",
       "</div>"
      ],
      "text/plain": [
       "    PET       VPD   air_temp  doy  precip  soil_temp    sw_in  wind_speed  \\\n",
       "0  7.33  0.808731  19.179167  195     0.0  22.320833  30.3156    4.958333   \n",
       "1  6.52  0.755945  19.325000  196     0.0  21.770833  29.6316    3.791667   \n",
       "2  6.92  0.858993  20.262500  197     0.0  21.908333  29.3472    4.137500   \n",
       "3  6.35  0.477617  16.791667  198     0.0  22.420833  28.8180    6.033333   \n",
       "4  5.13  0.556820  17.016667  199     0.0  21.529167  23.1732    4.350000   \n",
       "\n",
       "   year    wp_RNET    ...          wp_h      wp_le    wp_evi  wp_lswi2  \\\n",
       "0  2012  20.798342    ...      2.605590  13.643902  0.377924  0.413754   \n",
       "1  2012  20.573593    ...      3.459300  13.498761  0.381184  0.420529   \n",
       "2  2012  20.475931    ...      2.117474  14.987823  0.384444  0.427304   \n",
       "3  2012  20.571045    ...      4.636145  11.355851  0.387704  0.434079   \n",
       "4  2012  16.757401    ...      3.448946  10.943102  0.390963  0.440854   \n",
       "\n",
       "    wp_ndvi  wp_LST.day  wp_LST.night   LW_IN.wp   LW_IN.si      LW_IN  \n",
       "0  0.594708   31.567899     17.204530  29.105844  24.562860  29.105844  \n",
       "1  0.597960   29.570000     17.390000  29.760736  26.096551  29.760736  \n",
       "2  0.601212   31.097908     17.235624  30.299442  25.986418  30.299442  \n",
       "3  0.604465   30.868718     17.248525  28.978868  25.122209  28.978868  \n",
       "4  0.607717   30.657792     17.259663  30.653667  27.830367  30.653667  \n",
       "\n",
       "[5 rows x 24 columns]"
      ]
     },
     "execution_count": 2,
     "metadata": {},
     "output_type": "execute_result"
    }
   ],
   "source": [
    "df = exp.get_wp_energy_data_landsat()\n",
    "df.head()"
   ]
  },
  {
   "cell_type": "code",
   "execution_count": 3,
   "metadata": {
    "collapsed": false
   },
   "outputs": [
    {
     "name": "stdout",
     "output_type": "stream",
     "text": [
      "<class 'pandas.core.frame.DataFrame'>\n",
      "Int64Index: 1028 entries, 0 to 1027\n",
      "Data columns (total 24 columns):\n",
      "PET             1028 non-null float64\n",
      "VPD             1028 non-null float64\n",
      "air_temp        1028 non-null float64\n",
      "doy             1028 non-null int64\n",
      "precip          1028 non-null float64\n",
      "soil_temp       1028 non-null float64\n",
      "sw_in           1028 non-null float64\n",
      "wind_speed      1028 non-null float64\n",
      "year            1028 non-null int64\n",
      "wp_RNET         1028 non-null float64\n",
      "wp_ch4_gf       1028 non-null float64\n",
      "wp_co2_gf       1028 non-null float64\n",
      "wp_er           1028 non-null float64\n",
      "wp_gpp          1028 non-null float64\n",
      "wp_h            1028 non-null float64\n",
      "wp_le           1028 non-null float64\n",
      "wp_evi          1028 non-null float64\n",
      "wp_lswi2        1028 non-null float64\n",
      "wp_ndvi         1028 non-null float64\n",
      "wp_LST.day      1028 non-null float64\n",
      "wp_LST.night    1028 non-null float64\n",
      "LW_IN.wp        1028 non-null float64\n",
      "LW_IN.si        1028 non-null float64\n",
      "LW_IN           1028 non-null float64\n",
      "dtypes: float64(22), int64(2)\n",
      "memory usage: 200.8 KB\n"
     ]
    }
   ],
   "source": [
    "df.info()"
   ]
  },
  {
   "cell_type": "code",
   "execution_count": 4,
   "metadata": {
    "collapsed": false
   },
   "outputs": [
    {
     "data": {
      "text/plain": [
       "(1028, 12)"
      ]
     },
     "execution_count": 4,
     "metadata": {},
     "output_type": "execute_result"
    }
   ],
   "source": [
    "train_cols = [\"precip\", \"sw_in\", \"LW_IN.wp\", \"VPD\", \"air_temp\", \"PET\", \"wind_speed\", \"wp_LST.day\",\n",
    "             \"wp_LST.night\", \"wp_evi\", \"wp_ndvi\", \"wp_lswi2\"]\n",
    "X, Y = exp.featurize(df, train_cols, [\"wp_h\"])\n",
    "X, Y, scaler = r.preprocess(X, Y)\n",
    "X.shape"
   ]
  },
  {
   "cell_type": "code",
   "execution_count": 5,
   "metadata": {
    "collapsed": false
   },
   "outputs": [
    {
     "name": "stdout",
     "output_type": "stream",
     "text": [
      "Running Random Forests Cross Validation...\n",
      "10-fold CV Acc Mean:  0.917747685181\n",
      "CV Scores:  0.920848711378, 0.920702456157, 0.932956959984, 0.89625498674, 0.932566715718, 0.925741792524, 0.914755800039, 0.92670497009, 0.902699662082, 0.904244797103\n",
      "OOB score: 0.922893713909\n",
      "Feature Importances:\n",
      "('sw_in', 0.20423262367406889)\n",
      "('wp_ndvi', 0.12376697147465275)\n",
      "('wp_lswi2', 0.11278425740870837)\n",
      "('PET', 0.095751044931105783)\n",
      "('wp_evi', 0.09189967513188059)\n",
      "('VPD', 0.084786960755221685)\n",
      "('wp_LST.day', 0.067344134382007995)\n",
      "('air_temp', 0.063827611293925599)\n",
      "('wp_LST.night', 0.056209742504614926)\n",
      "('LW_IN.wp', 0.044135748013134857)\n",
      "('wind_speed', 0.041235431114816062)\n",
      "('precip', 0.014025799315862442)\n"
     ]
    },
    {
     "data": {
      "text/plain": [
       "RandomForestRegressor(bootstrap=True, criterion='mse', max_depth=None,\n",
       "           max_features='sqrt', max_leaf_nodes=None, min_samples_leaf=1,\n",
       "           min_samples_split=2, min_weight_fraction_leaf=0.0,\n",
       "           n_estimators=200, n_jobs=1, oob_score=True, random_state=None,\n",
       "           verbose=0, warm_start=False)"
      ]
     },
     "execution_count": 5,
     "metadata": {},
     "output_type": "execute_result"
    }
   ],
   "source": [
    "r.random_forests_cross_val(X, Y, feature_names=train_cols)"
   ]
  },
  {
   "cell_type": "code",
   "execution_count": 6,
   "metadata": {
    "collapsed": false
   },
   "outputs": [
    {
     "name": "stdout",
     "output_type": "stream",
     "text": [
      "Running Gradient Boosted Trees Cross Validation...\n",
      "10-fold CV Acc Mean:  0.934172430623\n",
      "CV Scores:  0.950714981904, 0.934436165324, 0.945459041685, 0.920713067944, 0.938310206301, 0.931728522216, 0.926986204427, 0.941854333949, 0.926719397489, 0.924802384994\n",
      "Feature Importances:\n",
      "('sw_in', 0.15347326203384176)\n",
      "('VPD', 0.12371180368714707)\n",
      "('wind_speed', 0.11173034081421074)\n",
      "('PET', 0.10683989320416529)\n",
      "('wp_ndvi', 0.097730083499419071)\n",
      "('wp_LST.day', 0.089434298798888673)\n",
      "('wp_lswi2', 0.07349324771164327)\n",
      "('LW_IN.wp', 0.066502665471594599)\n",
      "('wp_evi', 0.059251989619016253)\n",
      "('wp_LST.night', 0.058062323478460652)\n",
      "('air_temp', 0.038875514718852672)\n",
      "('precip', 0.02089457696276004)\n"
     ]
    },
    {
     "data": {
      "text/plain": [
       "GradientBoostingRegressor(alpha=0.9, init=None, learning_rate=0.1, loss='ls',\n",
       "             max_depth=3, max_features='sqrt', max_leaf_nodes=None,\n",
       "             min_samples_leaf=1, min_samples_split=2,\n",
       "             min_weight_fraction_leaf=0.0, n_estimators=200,\n",
       "             presort='auto', random_state=None, subsample=1.0, verbose=0,\n",
       "             warm_start=False)"
      ]
     },
     "execution_count": 6,
     "metadata": {},
     "output_type": "execute_result"
    }
   ],
   "source": [
    "r.xgb_trees_cross_val(X, Y, feature_names=train_cols)"
   ]
  },
  {
   "cell_type": "code",
   "execution_count": 7,
   "metadata": {
    "collapsed": false
   },
   "outputs": [
    {
     "name": "stdout",
     "output_type": "stream",
     "text": [
      "Running SVC Cross Validation...\n",
      "10-fold CV Acc Mean:  0.939067588584\n",
      "CV Scores:  0.955776690439, 0.921232389488, 0.948918515944, 0.928069094581, 0.951394893727, 0.92071374114, 0.923009272324, 0.958002593497, 0.939670139225, 0.943888555475\n"
     ]
    },
    {
     "data": {
      "text/plain": [
       "SVR(C=1.0, cache_size=200, coef0=0.0, degree=3, epsilon=0.1, gamma='auto',\n",
       "  kernel='rbf', max_iter=-1, shrinking=True, tol=0.001, verbose=False)"
      ]
     },
     "execution_count": 7,
     "metadata": {},
     "output_type": "execute_result"
    }
   ],
   "source": [
    "r.svc_cross_val(X, Y)"
   ]
  },
  {
   "cell_type": "code",
   "execution_count": 8,
   "metadata": {
    "collapsed": false
   },
   "outputs": [
    {
     "name": "stdout",
     "output_type": "stream",
     "text": [
      "Running Neural Network Cross Validation...\n",
      "Step #1, avg. loss: 15.01643\n",
      "Step #501, epoch #50, avg. loss: 0.77769\n",
      "Step #1001, epoch #100, avg. loss: 0.32889\n",
      "Step #1501, epoch #150, avg. loss: 0.24697\n",
      "Step #2001, epoch #200, avg. loss: 0.21583\n",
      "Step #2501, epoch #250, avg. loss: 0.19095\n",
      "Step #3001, epoch #300, avg. loss: 0.17389\n",
      "Step #3501, epoch #350, avg. loss: 0.15550\n",
      "Step #4001, epoch #400, avg. loss: 0.14660\n",
      "Step #4501, epoch #450, avg. loss: 0.13108\n",
      "Step #1, avg. loss: 13.12240\n",
      "Step #501, epoch #50, avg. loss: 0.82951\n",
      "Step #1001, epoch #100, avg. loss: 0.34281\n",
      "Step #1501, epoch #150, avg. loss: 0.28391\n",
      "Step #2001, epoch #200, avg. loss: 0.23171\n",
      "Step #2501, epoch #250, avg. loss: 0.20457\n",
      "Step #3001, epoch #300, avg. loss: 0.17930\n",
      "Step #3501, epoch #350, avg. loss: 0.16874\n",
      "Step #4001, epoch #400, avg. loss: 0.15190\n",
      "Step #4501, epoch #450, avg. loss: 0.14553\n",
      "Step #1, avg. loss: 12.65608\n",
      "Step #501, epoch #50, avg. loss: 0.82272\n",
      "Step #1001, epoch #100, avg. loss: 0.35744\n",
      "Step #1501, epoch #150, avg. loss: 0.28138\n",
      "Step #2001, epoch #200, avg. loss: 0.23792\n",
      "Step #2501, epoch #250, avg. loss: 0.20552\n",
      "Step #3001, epoch #300, avg. loss: 0.19372\n",
      "Step #3501, epoch #350, avg. loss: 0.17340\n",
      "Step #4001, epoch #400, avg. loss: 0.16154\n",
      "Step #4501, epoch #450, avg. loss: 0.14478\n",
      "Step #1, avg. loss: 14.69265\n",
      "Step #501, epoch #50, avg. loss: 0.81294\n",
      "Step #1001, epoch #100, avg. loss: 0.35241\n",
      "Step #1501, epoch #150, avg. loss: 0.27405\n",
      "Step #2001, epoch #200, avg. loss: 0.22949\n",
      "Step #2501, epoch #250, avg. loss: 0.20756\n",
      "Step #3001, epoch #300, avg. loss: 0.18999\n",
      "Step #3501, epoch #350, avg. loss: 0.16902\n",
      "Step #4001, epoch #400, avg. loss: 0.15942\n",
      "Step #4501, epoch #450, avg. loss: 0.14420\n",
      "Step #1, avg. loss: 9.37815\n",
      "Step #501, epoch #50, avg. loss: 0.82397\n",
      "Step #1001, epoch #100, avg. loss: 0.35976\n",
      "Step #1501, epoch #150, avg. loss: 0.27769\n",
      "Step #2001, epoch #200, avg. loss: 0.24150\n",
      "Step #2501, epoch #250, avg. loss: 0.21042\n",
      "Step #3001, epoch #300, avg. loss: 0.18967\n",
      "Step #3501, epoch #350, avg. loss: 0.17546\n",
      "Step #4001, epoch #400, avg. loss: 0.15195\n",
      "Step #4501, epoch #450, avg. loss: 0.14607\n",
      "Step #1, avg. loss: 12.71617\n",
      "Step #501, epoch #50, avg. loss: 0.80940\n",
      "Step #1001, epoch #100, avg. loss: 0.35716\n",
      "Step #1501, epoch #150, avg. loss: 0.28609\n",
      "Step #2001, epoch #200, avg. loss: 0.24325\n",
      "Step #2501, epoch #250, avg. loss: 0.20988\n",
      "Step #3001, epoch #300, avg. loss: 0.19172\n",
      "Step #3501, epoch #350, avg. loss: 0.17179\n",
      "Step #4001, epoch #400, avg. loss: 0.15762\n",
      "Step #4501, epoch #450, avg. loss: 0.14692\n",
      "Step #1, avg. loss: 9.40564\n",
      "Step #501, epoch #50, avg. loss: 0.79921\n",
      "Step #1001, epoch #100, avg. loss: 0.36438\n",
      "Step #1501, epoch #150, avg. loss: 0.27833\n",
      "Step #2001, epoch #200, avg. loss: 0.24429\n",
      "Step #2501, epoch #250, avg. loss: 0.21487\n",
      "Step #3001, epoch #300, avg. loss: 0.19312\n",
      "Step #3501, epoch #350, avg. loss: 0.17658\n",
      "Step #4001, epoch #400, avg. loss: 0.16741\n",
      "Step #4501, epoch #450, avg. loss: 0.15084\n",
      "Step #1, avg. loss: 14.47705\n",
      "Step #501, epoch #50, avg. loss: 0.82442\n",
      "Step #1001, epoch #100, avg. loss: 0.36224\n",
      "Step #1501, epoch #150, avg. loss: 0.29330\n",
      "Step #2001, epoch #200, avg. loss: 0.25493\n",
      "Step #2501, epoch #250, avg. loss: 0.23010\n",
      "Step #3001, epoch #300, avg. loss: 0.19625\n",
      "Step #3501, epoch #350, avg. loss: 0.19049\n",
      "Step #4001, epoch #400, avg. loss: 0.17064\n",
      "Step #4501, epoch #450, avg. loss: 0.14837\n",
      "Step #1, avg. loss: 10.23373\n",
      "Step #501, epoch #50, avg. loss: 0.82545\n",
      "Step #1001, epoch #100, avg. loss: 0.35764\n",
      "Step #1501, epoch #150, avg. loss: 0.28639\n",
      "Step #2001, epoch #200, avg. loss: 0.24225\n",
      "Step #2501, epoch #250, avg. loss: 0.21210\n",
      "Step #3001, epoch #300, avg. loss: 0.19134\n",
      "Step #3501, epoch #350, avg. loss: 0.17397\n",
      "Step #4001, epoch #400, avg. loss: 0.16136\n",
      "Step #4501, epoch #450, avg. loss: 0.14825\n",
      "Step #1, avg. loss: 11.07589\n",
      "Step #501, epoch #50, avg. loss: 0.77510\n",
      "Step #1001, epoch #100, avg. loss: 0.34956\n",
      "Step #1501, epoch #150, avg. loss: 0.27163\n",
      "Step #2001, epoch #200, avg. loss: 0.23304\n",
      "Step #2501, epoch #250, avg. loss: 0.20358\n",
      "Step #3001, epoch #300, avg. loss: 0.18362\n",
      "Step #3501, epoch #350, avg. loss: 0.16470\n",
      "Step #4001, epoch #400, avg. loss: 0.15447\n",
      "Step #4501, epoch #450, avg. loss: 0.14167\n",
      "10-fold CV Acc Mean:  0.934988595749\n",
      "CV Scores:  0.903620428598, 0.91416712266, 0.948530843602, 0.916355846603, 0.94804784953, 0.9304779789, 0.960948662185, 0.958893777138, 0.943044030079, 0.925799418197\n"
     ]
    },
    {
     "data": {
      "text/plain": [
       "TensorFlowEstimator(batch_size=100, class_weight=None,\n",
       "          continue_training=False, early_stopping_rounds=None,\n",
       "          keep_checkpoint_every_n_hours=10000, learning_rate=0.1,\n",
       "          max_to_keep=5, model_fn=<function tanh_dnn at 0x1139f4488>,\n",
       "          n_classes=0, num_cores=4, optimizer='SGD', steps=5000,\n",
       "          tf_master='', tf_random_seed=42, verbose=1)"
      ]
     },
     "execution_count": 8,
     "metadata": {},
     "output_type": "execute_result"
    }
   ],
   "source": [
    "r.dnn_cross_val(X, Y)"
   ]
  },
  {
   "cell_type": "code",
   "execution_count": null,
   "metadata": {
    "collapsed": true
   },
   "outputs": [],
   "source": []
  }
 ],
 "metadata": {
  "kernelspec": {
   "display_name": "Python 2",
   "language": "python",
   "name": "python2"
  },
  "language_info": {
   "codemirror_mode": {
    "name": "ipython",
    "version": 2
   },
   "file_extension": ".py",
   "mimetype": "text/x-python",
   "name": "python",
   "nbconvert_exporter": "python",
   "pygments_lexer": "ipython2",
   "version": "2.7.11"
  }
 },
 "nbformat": 4,
 "nbformat_minor": 0
}
