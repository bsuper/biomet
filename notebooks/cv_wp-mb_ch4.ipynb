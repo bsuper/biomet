{
 "cells": [
  {
   "cell_type": "markdown",
   "metadata": {},
   "source": [
    "## CH4 Cross Validation\n",
    "\n",
    "### Train Features\n",
    "1. land surface temp (wp_LST.day)\n",
    "2. sensible heat flux (wp_le)\n",
    "3. latent heat flux (wp_h)\n",
    "4. net radiation (net_rad)\n",
    "5. avg air temp (avg_air_temp)\n"
   ]
  },
  {
   "cell_type": "code",
   "execution_count": 1,
   "metadata": {
    "collapsed": false
   },
   "outputs": [],
   "source": [
    "import sys\n",
    "sys.path.append('../')\n",
    "import exp\n",
    "import regression as r"
   ]
  },
  {
   "cell_type": "code",
   "execution_count": 2,
   "metadata": {
    "collapsed": false
   },
   "outputs": [
    {
     "data": {
      "text/html": [
       "<div>\n",
       "<table border=\"1\" class=\"dataframe\">\n",
       "  <thead>\n",
       "    <tr style=\"text-align: right;\">\n",
       "      <th></th>\n",
       "      <th>avg_air_temp</th>\n",
       "      <th>avg_soil_temp</th>\n",
       "      <th>doy</th>\n",
       "      <th>net_rad</th>\n",
       "      <th>year</th>\n",
       "      <th>wp_ch4_gf</th>\n",
       "      <th>wp_co2_gf</th>\n",
       "      <th>wp_er</th>\n",
       "      <th>wp_gpp</th>\n",
       "      <th>wp_h</th>\n",
       "      <th>...</th>\n",
       "      <th>mb_bnd2</th>\n",
       "      <th>mb_bnd3</th>\n",
       "      <th>mb_bnd7</th>\n",
       "      <th>mb_evi</th>\n",
       "      <th>mb_lswi</th>\n",
       "      <th>mb_ndvi</th>\n",
       "      <th>wp_LST.day</th>\n",
       "      <th>wp_LST.night</th>\n",
       "      <th>mb_LST.day</th>\n",
       "      <th>mb_LST.night</th>\n",
       "    </tr>\n",
       "  </thead>\n",
       "  <tbody>\n",
       "    <tr>\n",
       "      <th>0</th>\n",
       "      <td>19.2</td>\n",
       "      <td>22.3</td>\n",
       "      <td>195</td>\n",
       "      <td>190.0</td>\n",
       "      <td>2012</td>\n",
       "      <td>4332.368657</td>\n",
       "      <td>-304.542172</td>\n",
       "      <td>145.072376</td>\n",
       "      <td>-449.614548</td>\n",
       "      <td>1447.549899</td>\n",
       "      <td>...</td>\n",
       "      <td>0.187575</td>\n",
       "      <td>0.025212</td>\n",
       "      <td>0.053137</td>\n",
       "      <td>0.298162</td>\n",
       "      <td>0.562370</td>\n",
       "      <td>0.6491</td>\n",
       "      <td>29.61</td>\n",
       "      <td>17.2850</td>\n",
       "      <td>26.3350</td>\n",
       "      <td>18.6450</td>\n",
       "    </tr>\n",
       "    <tr>\n",
       "      <th>1</th>\n",
       "      <td>19.3</td>\n",
       "      <td>21.8</td>\n",
       "      <td>196</td>\n",
       "      <td>189.0</td>\n",
       "      <td>2012</td>\n",
       "      <td>5305.896768</td>\n",
       "      <td>-335.648791</td>\n",
       "      <td>150.278671</td>\n",
       "      <td>-485.927462</td>\n",
       "      <td>1921.833137</td>\n",
       "      <td>...</td>\n",
       "      <td>0.186562</td>\n",
       "      <td>0.024569</td>\n",
       "      <td>0.051306</td>\n",
       "      <td>0.296544</td>\n",
       "      <td>0.574074</td>\n",
       "      <td>0.6504</td>\n",
       "      <td>29.63</td>\n",
       "      <td>17.2325</td>\n",
       "      <td>26.4075</td>\n",
       "      <td>18.5925</td>\n",
       "    </tr>\n",
       "    <tr>\n",
       "      <th>2</th>\n",
       "      <td>20.3</td>\n",
       "      <td>21.9</td>\n",
       "      <td>197</td>\n",
       "      <td>187.0</td>\n",
       "      <td>2012</td>\n",
       "      <td>6215.371936</td>\n",
       "      <td>-313.150966</td>\n",
       "      <td>158.307017</td>\n",
       "      <td>-471.457982</td>\n",
       "      <td>1176.374322</td>\n",
       "      <td>...</td>\n",
       "      <td>0.185550</td>\n",
       "      <td>0.023925</td>\n",
       "      <td>0.049475</td>\n",
       "      <td>0.294925</td>\n",
       "      <td>0.585779</td>\n",
       "      <td>0.6517</td>\n",
       "      <td>29.65</td>\n",
       "      <td>17.1800</td>\n",
       "      <td>26.4800</td>\n",
       "      <td>18.5400</td>\n",
       "    </tr>\n",
       "    <tr>\n",
       "      <th>3</th>\n",
       "      <td>16.8</td>\n",
       "      <td>22.4</td>\n",
       "      <td>198</td>\n",
       "      <td>186.0</td>\n",
       "      <td>2012</td>\n",
       "      <td>7129.353337</td>\n",
       "      <td>-339.900067</td>\n",
       "      <td>153.561669</td>\n",
       "      <td>-493.461736</td>\n",
       "      <td>2575.636175</td>\n",
       "      <td>...</td>\n",
       "      <td>0.184537</td>\n",
       "      <td>0.023281</td>\n",
       "      <td>0.047644</td>\n",
       "      <td>0.293306</td>\n",
       "      <td>0.597483</td>\n",
       "      <td>0.6530</td>\n",
       "      <td>29.67</td>\n",
       "      <td>17.1275</td>\n",
       "      <td>26.5525</td>\n",
       "      <td>18.4875</td>\n",
       "    </tr>\n",
       "    <tr>\n",
       "      <th>4</th>\n",
       "      <td>17.0</td>\n",
       "      <td>21.5</td>\n",
       "      <td>199</td>\n",
       "      <td>151.0</td>\n",
       "      <td>2012</td>\n",
       "      <td>7070.768573</td>\n",
       "      <td>-319.771564</td>\n",
       "      <td>144.053480</td>\n",
       "      <td>-463.825044</td>\n",
       "      <td>1916.081260</td>\n",
       "      <td>...</td>\n",
       "      <td>0.183525</td>\n",
       "      <td>0.022638</td>\n",
       "      <td>0.045812</td>\n",
       "      <td>0.291687</td>\n",
       "      <td>0.609188</td>\n",
       "      <td>0.6543</td>\n",
       "      <td>29.69</td>\n",
       "      <td>17.0750</td>\n",
       "      <td>26.6250</td>\n",
       "      <td>18.4350</td>\n",
       "    </tr>\n",
       "  </tbody>\n",
       "</table>\n",
       "<p>5 rows × 35 columns</p>\n",
       "</div>"
      ],
      "text/plain": [
       "   avg_air_temp  avg_soil_temp  doy  net_rad  year    wp_ch4_gf   wp_co2_gf  \\\n",
       "0          19.2           22.3  195    190.0  2012  4332.368657 -304.542172   \n",
       "1          19.3           21.8  196    189.0  2012  5305.896768 -335.648791   \n",
       "2          20.3           21.9  197    187.0  2012  6215.371936 -313.150966   \n",
       "3          16.8           22.4  198    186.0  2012  7129.353337 -339.900067   \n",
       "4          17.0           21.5  199    151.0  2012  7070.768573 -319.771564   \n",
       "\n",
       "        wp_er      wp_gpp         wp_h      ...        mb_bnd2   mb_bnd3  \\\n",
       "0  145.072376 -449.614548  1447.549899      ...       0.187575  0.025212   \n",
       "1  150.278671 -485.927462  1921.833137      ...       0.186562  0.024569   \n",
       "2  158.307017 -471.457982  1176.374322      ...       0.185550  0.023925   \n",
       "3  153.561669 -493.461736  2575.636175      ...       0.184537  0.023281   \n",
       "4  144.053480 -463.825044  1916.081260      ...       0.183525  0.022638   \n",
       "\n",
       "    mb_bnd7    mb_evi   mb_lswi  mb_ndvi  wp_LST.day  wp_LST.night  \\\n",
       "0  0.053137  0.298162  0.562370   0.6491       29.61       17.2850   \n",
       "1  0.051306  0.296544  0.574074   0.6504       29.63       17.2325   \n",
       "2  0.049475  0.294925  0.585779   0.6517       29.65       17.1800   \n",
       "3  0.047644  0.293306  0.597483   0.6530       29.67       17.1275   \n",
       "4  0.045812  0.291687  0.609188   0.6543       29.69       17.0750   \n",
       "\n",
       "   mb_LST.day  mb_LST.night  \n",
       "0     26.3350       18.6450  \n",
       "1     26.4075       18.5925  \n",
       "2     26.4800       18.5400  \n",
       "3     26.5525       18.4875  \n",
       "4     26.6250       18.4350  \n",
       "\n",
       "[5 rows x 35 columns]"
      ]
     },
     "execution_count": 2,
     "metadata": {},
     "output_type": "execute_result"
    }
   ],
   "source": [
    "df = exp.get_exp1_data()\n",
    "df.head()"
   ]
  },
  {
   "cell_type": "code",
   "execution_count": 3,
   "metadata": {
    "collapsed": false
   },
   "outputs": [
    {
     "data": {
      "text/plain": [
       "(1028, 5)"
      ]
     },
     "execution_count": 3,
     "metadata": {},
     "output_type": "execute_result"
    }
   ],
   "source": [
    "train_cols = [\"wp_LST.day\", \"wp_h\", \"wp_le\", \"net_rad\", \"avg_air_temp\"]\n",
    "X, Y = exp.featurize(df, train_cols, [\"mb_ch4_gf\"])\n",
    "X, Y, scaler = r.preprocess(X, Y)\n",
    "X.shape"
   ]
  },
  {
   "cell_type": "code",
   "execution_count": 4,
   "metadata": {
    "collapsed": false
   },
   "outputs": [
    {
     "name": "stdout",
     "output_type": "stream",
     "text": [
      "Running Random Forests Cross Validation...\n",
      "10-fold CV Acc Mean:  0.883046190139\n",
      "CV Scores:  0.857992888542, 0.900094036004, 0.862080464555, 0.888228717659, 0.849756968154, 0.861582552291, 0.873378963535, 0.924314473793, 0.902598212749, 0.910434624108\n",
      "OOB score: 0.883230017632\n",
      "Feature Importances:\n",
      "('wp_le', 0.38849167083956504)\n",
      "('avg_air_temp', 0.27618253902387091)\n",
      "('wp_LST.day', 0.18356021934131983)\n",
      "('net_rad', 0.095932001340247097)\n",
      "('wp_h', 0.055833569454996769)\n"
     ]
    },
    {
     "data": {
      "text/plain": [
       "RandomForestRegressor(bootstrap=True, criterion='mse', max_depth=None,\n",
       "           max_features='sqrt', max_leaf_nodes=None, min_samples_leaf=1,\n",
       "           min_samples_split=2, min_weight_fraction_leaf=0.0,\n",
       "           n_estimators=200, n_jobs=1, oob_score=True, random_state=None,\n",
       "           verbose=0, warm_start=False)"
      ]
     },
     "execution_count": 4,
     "metadata": {},
     "output_type": "execute_result"
    }
   ],
   "source": [
    "r.random_forests_cross_val(X, Y, feature_names=train_cols)"
   ]
  },
  {
   "cell_type": "code",
   "execution_count": 5,
   "metadata": {
    "collapsed": false
   },
   "outputs": [
    {
     "name": "stdout",
     "output_type": "stream",
     "text": [
      "Running Gradient Boosted Trees Cross Validation...\n",
      "10-fold CV Acc Mean:  0.874103426779\n",
      "CV Scores:  0.861231394153, 0.904285061668, 0.854199968254, 0.880630294502, 0.836648870094, 0.85437129931, 0.853151256678, 0.915637601012, 0.893456960739, 0.88742156138\n",
      "Feature Importances:\n",
      "('wp_LST.day', 0.24858576079680308)\n",
      "('wp_le', 0.22902972935750515)\n",
      "('wp_h', 0.19151528074222848)\n",
      "('avg_air_temp', 0.18481553377934964)\n",
      "('net_rad', 0.14605369532411347)\n"
     ]
    },
    {
     "data": {
      "text/plain": [
       "GradientBoostingRegressor(alpha=0.9, init=None, learning_rate=0.1, loss='ls',\n",
       "             max_depth=3, max_features='sqrt', max_leaf_nodes=None,\n",
       "             min_samples_leaf=1, min_samples_split=2,\n",
       "             min_weight_fraction_leaf=0.0, n_estimators=200,\n",
       "             presort='auto', random_state=None, subsample=1.0, verbose=0,\n",
       "             warm_start=False)"
      ]
     },
     "execution_count": 5,
     "metadata": {},
     "output_type": "execute_result"
    }
   ],
   "source": [
    "r.xgb_trees_cross_val(X, Y, feature_names=train_cols)"
   ]
  },
  {
   "cell_type": "code",
   "execution_count": 6,
   "metadata": {
    "collapsed": false
   },
   "outputs": [
    {
     "name": "stdout",
     "output_type": "stream",
     "text": [
      "Running SVC Cross Validation...\n",
      "10-fold CV Acc Mean:  0.0203840681124\n",
      "CV Scores:  0.00428061909645, -0.0108613708358, 0.0441485774701, 0.0312451019951, 0.0124221189586, -0.00664556878519, 0.0205937505708, 0.01182804966, 0.0428801662176, 0.0539492367766\n"
     ]
    },
    {
     "data": {
      "text/plain": [
       "SVR(C=1.0, cache_size=200, coef0=0.0, degree=3, epsilon=0.1, gamma='auto',\n",
       "  kernel='rbf', max_iter=-1, shrinking=True, tol=0.001, verbose=False)"
      ]
     },
     "execution_count": 6,
     "metadata": {},
     "output_type": "execute_result"
    }
   ],
   "source": [
    "r.svc_cross_val(X, Y)"
   ]
  },
  {
   "cell_type": "code",
   "execution_count": 7,
   "metadata": {
    "collapsed": false
   },
   "outputs": [
    {
     "name": "stdout",
     "output_type": "stream",
     "text": [
      "Running Neural Network Cross Validation...\n",
      "Step #1, avg. loss: 90672928.00000\n",
      "Step #501, epoch #50, avg. loss: 79364136.00000\n",
      "Step #1001, epoch #100, avg. loss: 62515692.00000\n",
      "Step #1501, epoch #150, avg. loss: 53919188.00000\n",
      "Step #2001, epoch #200, avg. loss: 48120128.00000\n",
      "Step #2501, epoch #250, avg. loss: 43031192.00000\n",
      "Step #3001, epoch #300, avg. loss: 39293252.00000\n",
      "Step #3501, epoch #350, avg. loss: 36028368.00000\n",
      "Step #4001, epoch #400, avg. loss: 33793440.00000\n",
      "Step #4501, epoch #450, avg. loss: 31773664.00000\n",
      "Step #1, avg. loss: 101213008.00000\n",
      "Step #501, epoch #50, avg. loss: 79280208.00000\n",
      "Step #1001, epoch #100, avg. loss: 62383356.00000\n",
      "Step #1501, epoch #150, avg. loss: 53470832.00000\n",
      "Step #2001, epoch #200, avg. loss: 47705240.00000\n",
      "Step #2501, epoch #250, avg. loss: 43050792.00000\n",
      "Step #3001, epoch #300, avg. loss: 39056700.00000\n",
      "Step #3501, epoch #350, avg. loss: 36207584.00000\n",
      "Step #4001, epoch #400, avg. loss: 33567120.00000\n",
      "Step #4501, epoch #450, avg. loss: 31571418.00000\n",
      "Step #1, avg. loss: 90196216.00000\n",
      "Step #501, epoch #50, avg. loss: 79926184.00000\n",
      "Step #1001, epoch #100, avg. loss: 62907636.00000\n",
      "Step #1501, epoch #150, avg. loss: 54139296.00000\n",
      "Step #2001, epoch #200, avg. loss: 47840272.00000\n",
      "Step #2501, epoch #250, avg. loss: 43435564.00000\n",
      "Step #3001, epoch #300, avg. loss: 39202728.00000\n",
      "Step #3501, epoch #350, avg. loss: 36280132.00000\n",
      "Step #4001, epoch #400, avg. loss: 33579320.00000\n",
      "Step #4501, epoch #450, avg. loss: 31466872.00000\n",
      "Step #1, avg. loss: 88646208.00000\n",
      "Step #501, epoch #50, avg. loss: 79649112.00000\n",
      "Step #1001, epoch #100, avg. loss: 63148560.00000\n",
      "Step #1501, epoch #150, avg. loss: 54447520.00000\n",
      "Step #2001, epoch #200, avg. loss: 48182536.00000\n",
      "Step #2501, epoch #250, avg. loss: 43346640.00000\n",
      "Step #3001, epoch #300, avg. loss: 38889716.00000\n",
      "Step #3501, epoch #350, avg. loss: 36154496.00000\n",
      "Step #4001, epoch #400, avg. loss: 33754492.00000\n",
      "Step #4501, epoch #450, avg. loss: 31540712.00000\n",
      "Step #1, avg. loss: 106236448.00000\n",
      "Step #501, epoch #50, avg. loss: 80168912.00000\n",
      "Step #1001, epoch #100, avg. loss: 63138692.00000\n",
      "Step #1501, epoch #150, avg. loss: 54626640.00000\n",
      "Step #2001, epoch #200, avg. loss: 48733632.00000\n",
      "Step #2501, epoch #250, avg. loss: 43729788.00000\n",
      "Step #3001, epoch #300, avg. loss: 39701268.00000\n",
      "Step #3501, epoch #350, avg. loss: 36625024.00000\n",
      "Step #4001, epoch #400, avg. loss: 33899416.00000\n",
      "Step #4501, epoch #450, avg. loss: 31653950.00000\n",
      "Step #1, avg. loss: 92665816.00000\n",
      "Step #501, epoch #50, avg. loss: 79713600.00000\n",
      "Step #1001, epoch #100, avg. loss: 62608252.00000\n",
      "Step #1501, epoch #150, avg. loss: 54414640.00000\n",
      "Step #2001, epoch #200, avg. loss: 48378608.00000\n",
      "Step #2501, epoch #250, avg. loss: 43744680.00000\n",
      "Step #3001, epoch #300, avg. loss: 39947640.00000\n",
      "Step #3501, epoch #350, avg. loss: 37217852.00000\n",
      "Step #4001, epoch #400, avg. loss: 34175528.00000\n",
      "Step #4501, epoch #450, avg. loss: 32277136.00000\n",
      "Step #1, avg. loss: 89238080.00000\n",
      "Step #501, epoch #50, avg. loss: 78166216.00000\n",
      "Step #1001, epoch #100, avg. loss: 61718712.00000\n",
      "Step #1501, epoch #150, avg. loss: 53183652.00000\n",
      "Step #2001, epoch #200, avg. loss: 47417992.00000\n",
      "Step #2501, epoch #250, avg. loss: 42784796.00000\n",
      "Step #3001, epoch #300, avg. loss: 38651004.00000\n",
      "Step #3501, epoch #350, avg. loss: 35898040.00000\n",
      "Step #4001, epoch #400, avg. loss: 33177894.00000\n",
      "Step #4501, epoch #450, avg. loss: 30900872.00000\n",
      "Step #1, avg. loss: 101820024.00000\n",
      "Step #501, epoch #50, avg. loss: 78461272.00000\n",
      "Step #1001, epoch #100, avg. loss: 62104980.00000\n",
      "Step #1501, epoch #150, avg. loss: 53529036.00000\n",
      "Step #2001, epoch #200, avg. loss: 47582780.00000\n",
      "Step #2501, epoch #250, avg. loss: 42805624.00000\n",
      "Step #3001, epoch #300, avg. loss: 38561368.00000\n",
      "Step #3501, epoch #350, avg. loss: 35797976.00000\n",
      "Step #4001, epoch #400, avg. loss: 33532702.00000\n",
      "Step #4501, epoch #450, avg. loss: 31631740.00000\n",
      "Step #1, avg. loss: 110565024.00000\n",
      "Step #501, epoch #50, avg. loss: 78987800.00000\n",
      "Step #1001, epoch #100, avg. loss: 62547368.00000\n",
      "Step #1501, epoch #150, avg. loss: 53796360.00000\n",
      "Step #2001, epoch #200, avg. loss: 47532304.00000\n",
      "Step #2501, epoch #250, avg. loss: 42778124.00000\n",
      "Step #3001, epoch #300, avg. loss: 38911008.00000\n",
      "Step #3501, epoch #350, avg. loss: 35932052.00000\n",
      "Step #4001, epoch #400, avg. loss: 33573276.00000\n",
      "Step #4501, epoch #450, avg. loss: 31246312.00000\n",
      "Step #1, avg. loss: 103762608.00000\n",
      "Step #501, epoch #50, avg. loss: 78697680.00000\n",
      "Step #1001, epoch #100, avg. loss: 61835904.00000\n",
      "Step #1501, epoch #150, avg. loss: 53848752.00000\n",
      "Step #2001, epoch #200, avg. loss: 47896984.00000\n",
      "Step #2501, epoch #250, avg. loss: 43260104.00000\n",
      "Step #3001, epoch #300, avg. loss: 39178724.00000\n",
      "Step #3501, epoch #350, avg. loss: 36231248.00000\n",
      "Step #4001, epoch #400, avg. loss: 33639744.00000\n",
      "Step #4501, epoch #450, avg. loss: 31485850.00000\n",
      "10-fold CV Acc Mean:  0.0623682900968\n",
      "CV Scores:  0.0841391245536, 0.102811780404, 0.140553157611, 0.0951484438482, 0.157467897909, 0.0904733060847, 0.00909902865444, -0.0546406557185, 0.0372393826202, -0.0386085649995\n"
     ]
    },
    {
     "data": {
      "text/plain": [
       "TensorFlowEstimator(batch_size=100, class_weight=None,\n",
       "          continue_training=False, early_stopping_rounds=None,\n",
       "          keep_checkpoint_every_n_hours=10000, learning_rate=0.1,\n",
       "          max_to_keep=5, model_fn=<function tanh_dnn at 0x104231b90>,\n",
       "          n_classes=0, num_cores=4, optimizer='SGD', steps=5000,\n",
       "          tf_master='', tf_random_seed=42, verbose=1)"
      ]
     },
     "execution_count": 7,
     "metadata": {},
     "output_type": "execute_result"
    }
   ],
   "source": [
    "r.dnn_cross_val(X, Y)"
   ]
  }
 ],
 "metadata": {
  "kernelspec": {
   "display_name": "Python 2",
   "language": "python",
   "name": "python2"
  },
  "language_info": {
   "codemirror_mode": {
    "name": "ipython",
    "version": 2
   },
   "file_extension": ".py",
   "mimetype": "text/x-python",
   "name": "python",
   "nbconvert_exporter": "python",
   "pygments_lexer": "ipython2",
   "version": "2.7.11"
  }
 },
 "nbformat": 4,
 "nbformat_minor": 0
}
