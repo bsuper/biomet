{
 "cells": [
  {
   "cell_type": "code",
   "execution_count": 1,
   "metadata": {
    "collapsed": false
   },
   "outputs": [],
   "source": [
    "import sys\n",
    "sys.path.append('../')\n",
    "import exp\n",
    "import regression as r"
   ]
  },
  {
   "cell_type": "code",
   "execution_count": 2,
   "metadata": {
    "collapsed": false
   },
   "outputs": [
    {
     "data": {
      "text/html": [
       "<div>\n",
       "<table border=\"1\" class=\"dataframe\">\n",
       "  <thead>\n",
       "    <tr style=\"text-align: right;\">\n",
       "      <th></th>\n",
       "      <th>PET</th>\n",
       "      <th>VPD</th>\n",
       "      <th>air_temp</th>\n",
       "      <th>doy</th>\n",
       "      <th>precip</th>\n",
       "      <th>soil_temp</th>\n",
       "      <th>sw_in</th>\n",
       "      <th>wind_speed</th>\n",
       "      <th>year</th>\n",
       "      <th>wp_RNET</th>\n",
       "      <th>...</th>\n",
       "      <th>wp_h</th>\n",
       "      <th>wp_le</th>\n",
       "      <th>wp_evi</th>\n",
       "      <th>wp_lswi2</th>\n",
       "      <th>wp_ndvi</th>\n",
       "      <th>wp_LST.day</th>\n",
       "      <th>wp_LST.night</th>\n",
       "      <th>LW_IN.wp</th>\n",
       "      <th>LW_IN.si</th>\n",
       "      <th>LW_IN</th>\n",
       "    </tr>\n",
       "  </thead>\n",
       "  <tbody>\n",
       "    <tr>\n",
       "      <th>0</th>\n",
       "      <td>7.33</td>\n",
       "      <td>0.808731</td>\n",
       "      <td>19.179167</td>\n",
       "      <td>195</td>\n",
       "      <td>0.0</td>\n",
       "      <td>22.320833</td>\n",
       "      <td>30.3156</td>\n",
       "      <td>4.958333</td>\n",
       "      <td>2012</td>\n",
       "      <td>20.798342</td>\n",
       "      <td>...</td>\n",
       "      <td>2.605590</td>\n",
       "      <td>13.643902</td>\n",
       "      <td>0.377924</td>\n",
       "      <td>0.413754</td>\n",
       "      <td>0.594708</td>\n",
       "      <td>31.567899</td>\n",
       "      <td>17.204530</td>\n",
       "      <td>29.105844</td>\n",
       "      <td>24.562860</td>\n",
       "      <td>29.105844</td>\n",
       "    </tr>\n",
       "    <tr>\n",
       "      <th>1</th>\n",
       "      <td>6.52</td>\n",
       "      <td>0.755945</td>\n",
       "      <td>19.325000</td>\n",
       "      <td>196</td>\n",
       "      <td>0.0</td>\n",
       "      <td>21.770833</td>\n",
       "      <td>29.6316</td>\n",
       "      <td>3.791667</td>\n",
       "      <td>2012</td>\n",
       "      <td>20.573593</td>\n",
       "      <td>...</td>\n",
       "      <td>3.459300</td>\n",
       "      <td>13.498761</td>\n",
       "      <td>0.381184</td>\n",
       "      <td>0.420529</td>\n",
       "      <td>0.597960</td>\n",
       "      <td>29.570000</td>\n",
       "      <td>17.390000</td>\n",
       "      <td>29.760736</td>\n",
       "      <td>26.096551</td>\n",
       "      <td>29.760736</td>\n",
       "    </tr>\n",
       "    <tr>\n",
       "      <th>2</th>\n",
       "      <td>6.92</td>\n",
       "      <td>0.858993</td>\n",
       "      <td>20.262500</td>\n",
       "      <td>197</td>\n",
       "      <td>0.0</td>\n",
       "      <td>21.908333</td>\n",
       "      <td>29.3472</td>\n",
       "      <td>4.137500</td>\n",
       "      <td>2012</td>\n",
       "      <td>20.475931</td>\n",
       "      <td>...</td>\n",
       "      <td>2.117474</td>\n",
       "      <td>14.987823</td>\n",
       "      <td>0.384444</td>\n",
       "      <td>0.427304</td>\n",
       "      <td>0.601212</td>\n",
       "      <td>31.097908</td>\n",
       "      <td>17.235624</td>\n",
       "      <td>30.299442</td>\n",
       "      <td>25.986418</td>\n",
       "      <td>30.299442</td>\n",
       "    </tr>\n",
       "    <tr>\n",
       "      <th>3</th>\n",
       "      <td>6.35</td>\n",
       "      <td>0.477617</td>\n",
       "      <td>16.791667</td>\n",
       "      <td>198</td>\n",
       "      <td>0.0</td>\n",
       "      <td>22.420833</td>\n",
       "      <td>28.8180</td>\n",
       "      <td>6.033333</td>\n",
       "      <td>2012</td>\n",
       "      <td>20.571045</td>\n",
       "      <td>...</td>\n",
       "      <td>4.636145</td>\n",
       "      <td>11.355851</td>\n",
       "      <td>0.387704</td>\n",
       "      <td>0.434079</td>\n",
       "      <td>0.604465</td>\n",
       "      <td>30.868718</td>\n",
       "      <td>17.248525</td>\n",
       "      <td>28.978868</td>\n",
       "      <td>25.122209</td>\n",
       "      <td>28.978868</td>\n",
       "    </tr>\n",
       "    <tr>\n",
       "      <th>4</th>\n",
       "      <td>5.13</td>\n",
       "      <td>0.556820</td>\n",
       "      <td>17.016667</td>\n",
       "      <td>199</td>\n",
       "      <td>0.0</td>\n",
       "      <td>21.529167</td>\n",
       "      <td>23.1732</td>\n",
       "      <td>4.350000</td>\n",
       "      <td>2012</td>\n",
       "      <td>16.757401</td>\n",
       "      <td>...</td>\n",
       "      <td>3.448946</td>\n",
       "      <td>10.943102</td>\n",
       "      <td>0.390963</td>\n",
       "      <td>0.440854</td>\n",
       "      <td>0.607717</td>\n",
       "      <td>30.657792</td>\n",
       "      <td>17.259663</td>\n",
       "      <td>30.653667</td>\n",
       "      <td>27.830367</td>\n",
       "      <td>30.653667</td>\n",
       "    </tr>\n",
       "  </tbody>\n",
       "</table>\n",
       "<p>5 rows × 24 columns</p>\n",
       "</div>"
      ],
      "text/plain": [
       "    PET       VPD   air_temp  doy  precip  soil_temp    sw_in  wind_speed  \\\n",
       "0  7.33  0.808731  19.179167  195     0.0  22.320833  30.3156    4.958333   \n",
       "1  6.52  0.755945  19.325000  196     0.0  21.770833  29.6316    3.791667   \n",
       "2  6.92  0.858993  20.262500  197     0.0  21.908333  29.3472    4.137500   \n",
       "3  6.35  0.477617  16.791667  198     0.0  22.420833  28.8180    6.033333   \n",
       "4  5.13  0.556820  17.016667  199     0.0  21.529167  23.1732    4.350000   \n",
       "\n",
       "   year    wp_RNET    ...          wp_h      wp_le    wp_evi  wp_lswi2  \\\n",
       "0  2012  20.798342    ...      2.605590  13.643902  0.377924  0.413754   \n",
       "1  2012  20.573593    ...      3.459300  13.498761  0.381184  0.420529   \n",
       "2  2012  20.475931    ...      2.117474  14.987823  0.384444  0.427304   \n",
       "3  2012  20.571045    ...      4.636145  11.355851  0.387704  0.434079   \n",
       "4  2012  16.757401    ...      3.448946  10.943102  0.390963  0.440854   \n",
       "\n",
       "    wp_ndvi  wp_LST.day  wp_LST.night   LW_IN.wp   LW_IN.si      LW_IN  \n",
       "0  0.594708   31.567899     17.204530  29.105844  24.562860  29.105844  \n",
       "1  0.597960   29.570000     17.390000  29.760736  26.096551  29.760736  \n",
       "2  0.601212   31.097908     17.235624  30.299442  25.986418  30.299442  \n",
       "3  0.604465   30.868718     17.248525  28.978868  25.122209  28.978868  \n",
       "4  0.607717   30.657792     17.259663  30.653667  27.830367  30.653667  \n",
       "\n",
       "[5 rows x 24 columns]"
      ]
     },
     "execution_count": 2,
     "metadata": {},
     "output_type": "execute_result"
    }
   ],
   "source": [
    "df = exp.get_wp_energy_data_landsat()\n",
    "df.head()"
   ]
  },
  {
   "cell_type": "code",
   "execution_count": 3,
   "metadata": {
    "collapsed": false
   },
   "outputs": [
    {
     "name": "stdout",
     "output_type": "stream",
     "text": [
      "<class 'pandas.core.frame.DataFrame'>\n",
      "Int64Index: 1028 entries, 0 to 1027\n",
      "Data columns (total 24 columns):\n",
      "PET             1028 non-null float64\n",
      "VPD             1028 non-null float64\n",
      "air_temp        1028 non-null float64\n",
      "doy             1028 non-null int64\n",
      "precip          1028 non-null float64\n",
      "soil_temp       1028 non-null float64\n",
      "sw_in           1028 non-null float64\n",
      "wind_speed      1028 non-null float64\n",
      "year            1028 non-null int64\n",
      "wp_RNET         1028 non-null float64\n",
      "wp_ch4_gf       1028 non-null float64\n",
      "wp_co2_gf       1028 non-null float64\n",
      "wp_er           1028 non-null float64\n",
      "wp_gpp          1028 non-null float64\n",
      "wp_h            1028 non-null float64\n",
      "wp_le           1028 non-null float64\n",
      "wp_evi          1028 non-null float64\n",
      "wp_lswi2        1028 non-null float64\n",
      "wp_ndvi         1028 non-null float64\n",
      "wp_LST.day      1028 non-null float64\n",
      "wp_LST.night    1028 non-null float64\n",
      "LW_IN.wp        1028 non-null float64\n",
      "LW_IN.si        1028 non-null float64\n",
      "LW_IN           1028 non-null float64\n",
      "dtypes: float64(22), int64(2)\n",
      "memory usage: 200.8 KB\n"
     ]
    }
   ],
   "source": [
    "df.info()"
   ]
  },
  {
   "cell_type": "code",
   "execution_count": 4,
   "metadata": {
    "collapsed": false
   },
   "outputs": [
    {
     "data": {
      "text/plain": [
       "(1028, 12)"
      ]
     },
     "execution_count": 4,
     "metadata": {},
     "output_type": "execute_result"
    }
   ],
   "source": [
    "train_cols = [\"precip\", \"sw_in\", \"LW_IN.wp\", \"VPD\", \"air_temp\", \"PET\", \"wind_speed\", \"wp_LST.day\",\n",
    "             \"wp_LST.night\", \"wp_evi\", \"wp_ndvi\", \"wp_lswi2\"]\n",
    "X, Y = exp.featurize(df, train_cols, [\"wp_gpp\"])\n",
    "X, Y, scaler = r.preprocess(X, Y)\n",
    "X.shape"
   ]
  },
  {
   "cell_type": "code",
   "execution_count": 5,
   "metadata": {
    "collapsed": false
   },
   "outputs": [
    {
     "name": "stdout",
     "output_type": "stream",
     "text": [
      "Running Random Forests Cross Validation...\n",
      "10-fold CV Acc Mean:  0.986666302388\n",
      "CV Scores:  0.987479949286, 0.985162696564, 0.990130992366, 0.987578986555, 0.987117538399, 0.986975923496, 0.982577054666, 0.982955562857, 0.987573598292, 0.989110721399\n",
      "OOB score: 0.987108011746\n",
      "Feature Importances:\n",
      "('wp_LST.night', 0.25076081191660704)\n",
      "('wp_evi', 0.18982626110007506)\n",
      "('wp_lswi2', 0.15111311820006607)\n",
      "('wp_ndvi', 0.14466862686297532)\n",
      "('air_temp', 0.082413369135439188)\n",
      "('wp_LST.day', 0.060436908121492196)\n",
      "('PET', 0.050945492332231543)\n",
      "('sw_in', 0.035194204926820828)\n",
      "('VPD', 0.019147530671230369)\n",
      "('wind_speed', 0.0088925508991627676)\n",
      "('LW_IN.wp', 0.0062692894604389924)\n",
      "('precip', 0.00033183637346069522)\n"
     ]
    },
    {
     "data": {
      "text/plain": [
       "RandomForestRegressor(bootstrap=True, criterion='mse', max_depth=None,\n",
       "           max_features='sqrt', max_leaf_nodes=None, min_samples_leaf=1,\n",
       "           min_samples_split=2, min_weight_fraction_leaf=0.0,\n",
       "           n_estimators=200, n_jobs=1, oob_score=True, random_state=None,\n",
       "           verbose=0, warm_start=False)"
      ]
     },
     "execution_count": 5,
     "metadata": {},
     "output_type": "execute_result"
    }
   ],
   "source": [
    "r.random_forests_cross_val(X, Y, feature_names=train_cols)"
   ]
  },
  {
   "cell_type": "code",
   "execution_count": 6,
   "metadata": {
    "collapsed": false
   },
   "outputs": [
    {
     "name": "stdout",
     "output_type": "stream",
     "text": [
      "Running Gradient Boosted Trees Cross Validation...\n",
      "10-fold CV Acc Mean:  0.986047136809\n",
      "CV Scores:  0.984269022019, 0.98780260291, 0.98683449314, 0.983617981267, 0.989421791457, 0.988148693918, 0.985514339043, 0.978719880864, 0.988318698268, 0.987823865205\n",
      "Feature Importances:\n",
      "('wp_evi', 0.14566964806171442)\n",
      "('wp_lswi2', 0.1367454895398342)\n",
      "('wp_ndvi', 0.121628101961092)\n",
      "('wp_LST.night', 0.10949715987976401)\n",
      "('sw_in', 0.093565128957605465)\n",
      "('wp_LST.day', 0.077694212538882784)\n",
      "('VPD', 0.074588246536409442)\n",
      "('LW_IN.wp', 0.065419719483959013)\n",
      "('air_temp', 0.05845974923088984)\n",
      "('wind_speed', 0.058227718898992614)\n",
      "('PET', 0.055493132306970408)\n",
      "('precip', 0.0030116926038856657)\n"
     ]
    },
    {
     "data": {
      "text/plain": [
       "GradientBoostingRegressor(alpha=0.9, init=None, learning_rate=0.1, loss='ls',\n",
       "             max_depth=3, max_features='sqrt', max_leaf_nodes=None,\n",
       "             min_samples_leaf=1, min_samples_split=2,\n",
       "             min_weight_fraction_leaf=0.0, n_estimators=200,\n",
       "             presort='auto', random_state=None, subsample=1.0, verbose=0,\n",
       "             warm_start=False)"
      ]
     },
     "execution_count": 6,
     "metadata": {},
     "output_type": "execute_result"
    }
   ],
   "source": [
    "r.xgb_trees_cross_val(X, Y, feature_names=train_cols)"
   ]
  },
  {
   "cell_type": "code",
   "execution_count": 7,
   "metadata": {
    "collapsed": false
   },
   "outputs": [
    {
     "name": "stdout",
     "output_type": "stream",
     "text": [
      "Running SVC Cross Validation...\n",
      "10-fold CV Acc Mean:  0.935494957287\n",
      "CV Scores:  0.915463260607, 0.942813404107, 0.943441468266, 0.944390864714, 0.942105178182, 0.938584032745, 0.921472913967, 0.931250340564, 0.928207433222, 0.947220676495\n"
     ]
    },
    {
     "data": {
      "text/plain": [
       "SVR(C=1.0, cache_size=200, coef0=0.0, degree=3, epsilon=0.1, gamma='auto',\n",
       "  kernel='rbf', max_iter=-1, shrinking=True, tol=0.001, verbose=False)"
      ]
     },
     "execution_count": 7,
     "metadata": {},
     "output_type": "execute_result"
    }
   ],
   "source": [
    "r.svc_cross_val(X, Y)"
   ]
  },
  {
   "cell_type": "code",
   "execution_count": 8,
   "metadata": {
    "collapsed": false
   },
   "outputs": [
    {
     "name": "stdout",
     "output_type": "stream",
     "text": [
      "Running Neural Network Cross Validation...\n",
      "Step #1, avg. loss: 3263.90210\n",
      "Step #501, epoch #50, avg. loss: 107.18152\n",
      "Step #1001, epoch #100, avg. loss: 16.77762\n",
      "Step #1501, epoch #150, avg. loss: 11.72059\n",
      "Step #2001, epoch #200, avg. loss: 8.74815\n",
      "Step #2501, epoch #250, avg. loss: 7.09845\n",
      "Step #3001, epoch #300, avg. loss: 5.88620\n",
      "Step #3501, epoch #350, avg. loss: 4.94531\n",
      "Step #4001, epoch #400, avg. loss: 4.25517\n",
      "Step #4501, epoch #450, avg. loss: 3.74860\n",
      "Step #1, avg. loss: 2312.33936\n",
      "Step #501, epoch #50, avg. loss: 109.57610\n",
      "Step #1001, epoch #100, avg. loss: 15.89971\n",
      "Step #1501, epoch #150, avg. loss: 10.52064\n",
      "Step #2001, epoch #200, avg. loss: 8.30281\n",
      "Step #2501, epoch #250, avg. loss: 6.54048\n",
      "Step #3001, epoch #300, avg. loss: 5.65676\n",
      "Step #3501, epoch #350, avg. loss: 4.74202\n",
      "Step #4001, epoch #400, avg. loss: 4.18825\n",
      "Step #4501, epoch #450, avg. loss: 3.70185\n",
      "Step #1, avg. loss: 2900.85718\n",
      "Step #501, epoch #50, avg. loss: 109.02621\n",
      "Step #1001, epoch #100, avg. loss: 15.73230\n",
      "Step #1501, epoch #150, avg. loss: 10.83772\n",
      "Step #2001, epoch #200, avg. loss: 8.25793\n",
      "Step #2501, epoch #250, avg. loss: 6.69112\n",
      "Step #3001, epoch #300, avg. loss: 5.65173\n",
      "Step #3501, epoch #350, avg. loss: 4.84089\n",
      "Step #4001, epoch #400, avg. loss: 4.30214\n",
      "Step #4501, epoch #450, avg. loss: 3.79645\n",
      "Step #1, avg. loss: 2342.79932\n",
      "Step #501, epoch #50, avg. loss: 109.66276\n",
      "Step #1001, epoch #100, avg. loss: 16.08607\n",
      "Step #1501, epoch #150, avg. loss: 10.76191\n",
      "Step #2001, epoch #200, avg. loss: 8.23708\n",
      "Step #2501, epoch #250, avg. loss: 6.76562\n",
      "Step #3001, epoch #300, avg. loss: 5.70126\n",
      "Step #3501, epoch #350, avg. loss: 4.83143\n",
      "Step #4001, epoch #400, avg. loss: 4.26556\n",
      "Step #4501, epoch #450, avg. loss: 3.79707\n",
      "Step #1, avg. loss: 2656.33936\n",
      "Step #501, epoch #50, avg. loss: 106.14407\n",
      "Step #1001, epoch #100, avg. loss: 15.76339\n",
      "Step #1501, epoch #150, avg. loss: 10.87577\n",
      "Step #2001, epoch #200, avg. loss: 8.49160\n",
      "Step #2501, epoch #250, avg. loss: 6.88557\n",
      "Step #3001, epoch #300, avg. loss: 5.93578\n",
      "Step #3501, epoch #350, avg. loss: 5.08541\n",
      "Step #4001, epoch #400, avg. loss: 4.55741\n",
      "Step #4501, epoch #450, avg. loss: 3.96298\n",
      "Step #1, avg. loss: 2118.25146\n",
      "Step #501, epoch #50, avg. loss: 112.17640\n",
      "Step #1001, epoch #100, avg. loss: 16.11768\n",
      "Step #1501, epoch #150, avg. loss: 10.69088\n",
      "Step #2001, epoch #200, avg. loss: 8.06935\n",
      "Step #2501, epoch #250, avg. loss: 6.53362\n",
      "Step #3001, epoch #300, avg. loss: 5.45002\n",
      "Step #3501, epoch #350, avg. loss: 4.79438\n",
      "Step #4001, epoch #400, avg. loss: 4.29834\n",
      "Step #4501, epoch #450, avg. loss: 3.84250\n",
      "Step #1, avg. loss: 2598.17480\n",
      "Step #501, epoch #50, avg. loss: 111.77131\n",
      "Step #1001, epoch #100, avg. loss: 17.24194\n",
      "Step #1501, epoch #150, avg. loss: 11.54730\n",
      "Step #2001, epoch #200, avg. loss: 8.66471\n",
      "Step #2501, epoch #250, avg. loss: 6.77325\n",
      "Step #3001, epoch #300, avg. loss: 5.59213\n",
      "Step #3501, epoch #350, avg. loss: 4.68215\n",
      "Step #4001, epoch #400, avg. loss: 4.23333\n",
      "Step #4501, epoch #450, avg. loss: 3.65779\n",
      "Step #1, avg. loss: 2803.86401\n",
      "Step #501, epoch #50, avg. loss: 109.68829\n",
      "Step #1001, epoch #100, avg. loss: 15.89086\n",
      "Step #1501, epoch #150, avg. loss: 10.83968\n",
      "Step #2001, epoch #200, avg. loss: 8.48380\n",
      "Step #2501, epoch #250, avg. loss: 6.85781\n",
      "Step #3001, epoch #300, avg. loss: 5.65829\n",
      "Step #3501, epoch #350, avg. loss: 4.81251\n",
      "Step #4001, epoch #400, avg. loss: 4.28432\n",
      "Step #4501, epoch #450, avg. loss: 3.82952\n",
      "Step #1, avg. loss: 2673.22681\n",
      "Step #501, epoch #50, avg. loss: 110.38188\n",
      "Step #1001, epoch #100, avg. loss: 15.78527\n",
      "Step #1501, epoch #150, avg. loss: 10.41872\n",
      "Step #2001, epoch #200, avg. loss: 7.68631\n",
      "Step #2501, epoch #250, avg. loss: 6.36391\n",
      "Step #3001, epoch #300, avg. loss: 5.28856\n",
      "Step #3501, epoch #350, avg. loss: 4.59875\n",
      "Step #4001, epoch #400, avg. loss: 4.02605\n",
      "Step #4501, epoch #450, avg. loss: 3.67210\n",
      "Step #1, avg. loss: 2749.45508\n",
      "Step #501, epoch #50, avg. loss: 109.25370\n",
      "Step #1001, epoch #100, avg. loss: 16.02195\n",
      "Step #1501, epoch #150, avg. loss: 10.90537\n",
      "Step #2001, epoch #200, avg. loss: 8.00660\n",
      "Step #2501, epoch #250, avg. loss: 6.45209\n",
      "Step #3001, epoch #300, avg. loss: 5.26439\n",
      "Step #3501, epoch #350, avg. loss: 4.60571\n",
      "Step #4001, epoch #400, avg. loss: 4.01801\n",
      "Step #4501, epoch #450, avg. loss: 3.62577\n",
      "10-fold CV Acc Mean:  0.984015982429\n",
      "CV Scores:  0.98691080573, 0.980456664569, 0.986176896908, 0.982942979853, 0.980460353799, 0.979285941796, 0.987132973663, 0.982871687907, 0.987204308025, 0.986717212043\n"
     ]
    },
    {
     "data": {
      "text/plain": [
       "TensorFlowEstimator(batch_size=100, class_weight=None,\n",
       "          continue_training=False, early_stopping_rounds=None,\n",
       "          keep_checkpoint_every_n_hours=10000, learning_rate=0.1,\n",
       "          max_to_keep=5, model_fn=<function tanh_dnn at 0x10ad5a488>,\n",
       "          n_classes=0, num_cores=4, optimizer='SGD', steps=5000,\n",
       "          tf_master='', tf_random_seed=42, verbose=1)"
      ]
     },
     "execution_count": 8,
     "metadata": {},
     "output_type": "execute_result"
    }
   ],
   "source": [
    "r.dnn_cross_val(X, Y)"
   ]
  },
  {
   "cell_type": "code",
   "execution_count": null,
   "metadata": {
    "collapsed": true
   },
   "outputs": [],
   "source": []
  }
 ],
 "metadata": {
  "kernelspec": {
   "display_name": "Python 2",
   "language": "python",
   "name": "python2"
  },
  "language_info": {
   "codemirror_mode": {
    "name": "ipython",
    "version": 2
   },
   "file_extension": ".py",
   "mimetype": "text/x-python",
   "name": "python",
   "nbconvert_exporter": "python",
   "pygments_lexer": "ipython2",
   "version": "2.7.11"
  }
 },
 "nbformat": 4,
 "nbformat_minor": 0
}
