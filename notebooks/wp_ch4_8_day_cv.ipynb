{
 "cells": [
  {
   "cell_type": "code",
   "execution_count": 1,
   "metadata": {
    "collapsed": false
   },
   "outputs": [],
   "source": [
    "import sys\n",
    "sys.path.append('../')\n",
    "import exp\n",
    "import regression as r"
   ]
  },
  {
   "cell_type": "code",
   "execution_count": 2,
   "metadata": {
    "collapsed": false
   },
   "outputs": [
    {
     "data": {
      "text/html": [
       "<div>\n",
       "<table border=\"1\" class=\"dataframe\">\n",
       "  <thead>\n",
       "    <tr style=\"text-align: right;\">\n",
       "      <th></th>\n",
       "      <th>PET</th>\n",
       "      <th>VPD</th>\n",
       "      <th>air_temp</th>\n",
       "      <th>doy</th>\n",
       "      <th>precip</th>\n",
       "      <th>soil_temp</th>\n",
       "      <th>sw_in</th>\n",
       "      <th>wind_speed</th>\n",
       "      <th>year</th>\n",
       "      <th>wp_RNET</th>\n",
       "      <th>...</th>\n",
       "      <th>wp_evi</th>\n",
       "      <th>wp_lswi2</th>\n",
       "      <th>wp_ndvi</th>\n",
       "      <th>wp_LST.day</th>\n",
       "      <th>wp_LST.night</th>\n",
       "      <th>LW_IN.wp</th>\n",
       "      <th>LW_IN.si</th>\n",
       "      <th>LW_IN</th>\n",
       "      <th>p-pet</th>\n",
       "      <th>p-et</th>\n",
       "    </tr>\n",
       "  </thead>\n",
       "  <tbody>\n",
       "    <tr>\n",
       "      <th>0</th>\n",
       "      <td>7.33</td>\n",
       "      <td>0.808731</td>\n",
       "      <td>19.179167</td>\n",
       "      <td>195</td>\n",
       "      <td>0.0</td>\n",
       "      <td>22.320833</td>\n",
       "      <td>30.3156</td>\n",
       "      <td>4.958333</td>\n",
       "      <td>2012</td>\n",
       "      <td>20.798342</td>\n",
       "      <td>...</td>\n",
       "      <td>0.396594</td>\n",
       "      <td>0.353988</td>\n",
       "      <td>0.641934</td>\n",
       "      <td>31.567899</td>\n",
       "      <td>17.204530</td>\n",
       "      <td>29.105844</td>\n",
       "      <td>24.562860</td>\n",
       "      <td>29.105844</td>\n",
       "      <td>-7.33</td>\n",
       "      <td>-5.566712</td>\n",
       "    </tr>\n",
       "    <tr>\n",
       "      <th>1</th>\n",
       "      <td>6.52</td>\n",
       "      <td>0.755945</td>\n",
       "      <td>19.325000</td>\n",
       "      <td>196</td>\n",
       "      <td>0.0</td>\n",
       "      <td>21.770833</td>\n",
       "      <td>29.6316</td>\n",
       "      <td>3.791667</td>\n",
       "      <td>2012</td>\n",
       "      <td>20.573593</td>\n",
       "      <td>...</td>\n",
       "      <td>0.407211</td>\n",
       "      <td>0.376832</td>\n",
       "      <td>0.654545</td>\n",
       "      <td>29.570000</td>\n",
       "      <td>17.390000</td>\n",
       "      <td>29.760736</td>\n",
       "      <td>26.096551</td>\n",
       "      <td>29.760736</td>\n",
       "      <td>-6.52</td>\n",
       "      <td>-5.507494</td>\n",
       "    </tr>\n",
       "    <tr>\n",
       "      <th>2</th>\n",
       "      <td>6.92</td>\n",
       "      <td>0.858993</td>\n",
       "      <td>20.262500</td>\n",
       "      <td>197</td>\n",
       "      <td>0.0</td>\n",
       "      <td>21.908333</td>\n",
       "      <td>29.3472</td>\n",
       "      <td>4.137500</td>\n",
       "      <td>2012</td>\n",
       "      <td>20.475931</td>\n",
       "      <td>...</td>\n",
       "      <td>0.416158</td>\n",
       "      <td>0.394189</td>\n",
       "      <td>0.664269</td>\n",
       "      <td>31.097908</td>\n",
       "      <td>17.235624</td>\n",
       "      <td>30.299442</td>\n",
       "      <td>25.986418</td>\n",
       "      <td>30.299442</td>\n",
       "      <td>-6.92</td>\n",
       "      <td>-6.115032</td>\n",
       "    </tr>\n",
       "    <tr>\n",
       "      <th>3</th>\n",
       "      <td>6.35</td>\n",
       "      <td>0.477617</td>\n",
       "      <td>16.791667</td>\n",
       "      <td>198</td>\n",
       "      <td>0.0</td>\n",
       "      <td>22.420833</td>\n",
       "      <td>28.8180</td>\n",
       "      <td>6.033333</td>\n",
       "      <td>2012</td>\n",
       "      <td>20.571045</td>\n",
       "      <td>...</td>\n",
       "      <td>0.425106</td>\n",
       "      <td>0.411547</td>\n",
       "      <td>0.673993</td>\n",
       "      <td>30.868718</td>\n",
       "      <td>17.248525</td>\n",
       "      <td>28.978868</td>\n",
       "      <td>25.122209</td>\n",
       "      <td>28.978868</td>\n",
       "      <td>-6.35</td>\n",
       "      <td>-4.633187</td>\n",
       "    </tr>\n",
       "    <tr>\n",
       "      <th>4</th>\n",
       "      <td>5.13</td>\n",
       "      <td>0.556820</td>\n",
       "      <td>17.016667</td>\n",
       "      <td>199</td>\n",
       "      <td>0.0</td>\n",
       "      <td>21.529167</td>\n",
       "      <td>23.1732</td>\n",
       "      <td>4.350000</td>\n",
       "      <td>2012</td>\n",
       "      <td>16.757401</td>\n",
       "      <td>...</td>\n",
       "      <td>0.434053</td>\n",
       "      <td>0.428904</td>\n",
       "      <td>0.683716</td>\n",
       "      <td>30.657792</td>\n",
       "      <td>17.259663</td>\n",
       "      <td>30.653667</td>\n",
       "      <td>27.830367</td>\n",
       "      <td>30.653667</td>\n",
       "      <td>-5.13</td>\n",
       "      <td>-4.464786</td>\n",
       "    </tr>\n",
       "  </tbody>\n",
       "</table>\n",
       "<p>5 rows × 30 columns</p>\n",
       "</div>"
      ],
      "text/plain": [
       "    PET       VPD   air_temp  doy  precip  soil_temp    sw_in  wind_speed  \\\n",
       "0  7.33  0.808731  19.179167  195     0.0  22.320833  30.3156    4.958333   \n",
       "1  6.52  0.755945  19.325000  196     0.0  21.770833  29.6316    3.791667   \n",
       "2  6.92  0.858993  20.262500  197     0.0  21.908333  29.3472    4.137500   \n",
       "3  6.35  0.477617  16.791667  198     0.0  22.420833  28.8180    6.033333   \n",
       "4  5.13  0.556820  17.016667  199     0.0  21.529167  23.1732    4.350000   \n",
       "\n",
       "   year    wp_RNET    ...       wp_evi  wp_lswi2   wp_ndvi  wp_LST.day  \\\n",
       "0  2012  20.798342    ...     0.396594  0.353988  0.641934   31.567899   \n",
       "1  2012  20.573593    ...     0.407211  0.376832  0.654545   29.570000   \n",
       "2  2012  20.475931    ...     0.416158  0.394189  0.664269   31.097908   \n",
       "3  2012  20.571045    ...     0.425106  0.411547  0.673993   30.868718   \n",
       "4  2012  16.757401    ...     0.434053  0.428904  0.683716   30.657792   \n",
       "\n",
       "   wp_LST.night   LW_IN.wp   LW_IN.si      LW_IN  p-pet      p-et  \n",
       "0     17.204530  29.105844  24.562860  29.105844  -7.33 -5.566712  \n",
       "1     17.390000  29.760736  26.096551  29.760736  -6.52 -5.507494  \n",
       "2     17.235624  30.299442  25.986418  30.299442  -6.92 -6.115032  \n",
       "3     17.248525  28.978868  25.122209  28.978868  -6.35 -4.633187  \n",
       "4     17.259663  30.653667  27.830367  30.653667  -5.13 -4.464786  \n",
       "\n",
       "[5 rows x 30 columns]"
      ]
     },
     "execution_count": 2,
     "metadata": {},
     "output_type": "execute_result"
    }
   ],
   "source": [
    "df = exp.get_wp_energy_data_8_day()\n",
    "df[\"p-pet\"] = df[\"precip\"] - df[\"PET\"]\n",
    "df[\"p-et\"] = df[\"precip\"] - df[\"wp_le\"] * .408\n",
    "df.head()"
   ]
  },
  {
   "cell_type": "code",
   "execution_count": 3,
   "metadata": {
    "collapsed": false
   },
   "outputs": [
    {
     "name": "stdout",
     "output_type": "stream",
     "text": [
      "<class 'pandas.core.frame.DataFrame'>\n",
      "Int64Index: 1030 entries, 0 to 1029\n",
      "Data columns (total 30 columns):\n",
      "PET             1030 non-null float64\n",
      "VPD             1030 non-null float64\n",
      "air_temp        1030 non-null float64\n",
      "doy             1030 non-null int64\n",
      "precip          1030 non-null float64\n",
      "soil_temp       1030 non-null float64\n",
      "sw_in           1030 non-null float64\n",
      "wind_speed      1030 non-null float64\n",
      "year            1030 non-null int64\n",
      "wp_RNET         1030 non-null float64\n",
      "wp_ch4_gf       1030 non-null float64\n",
      "wp_co2_gf       1030 non-null float64\n",
      "wp_er           1030 non-null float64\n",
      "wp_gpp          1030 non-null float64\n",
      "wp_h            1030 non-null float64\n",
      "wp_le           1030 non-null float64\n",
      "wp_bnd1         1030 non-null float64\n",
      "wp_bnd2         1030 non-null float64\n",
      "wp_bnd3         1030 non-null float64\n",
      "wp_bnd7         1030 non-null float64\n",
      "wp_evi          1030 non-null float64\n",
      "wp_lswi2        1030 non-null float64\n",
      "wp_ndvi         1030 non-null float64\n",
      "wp_LST.day      1030 non-null float64\n",
      "wp_LST.night    1030 non-null float64\n",
      "LW_IN.wp        1030 non-null float64\n",
      "LW_IN.si        1030 non-null float64\n",
      "LW_IN           1030 non-null float64\n",
      "p-pet           1030 non-null float64\n",
      "p-et            1030 non-null float64\n",
      "dtypes: float64(28), int64(2)\n",
      "memory usage: 249.5 KB\n"
     ]
    }
   ],
   "source": [
    "df.info()"
   ]
  },
  {
   "cell_type": "code",
   "execution_count": 4,
   "metadata": {
    "collapsed": false
   },
   "outputs": [
    {
     "data": {
      "text/plain": [
       "(1030, 16)"
      ]
     },
     "execution_count": 4,
     "metadata": {},
     "output_type": "execute_result"
    }
   ],
   "source": [
    "train_cols = [\"precip\", \"sw_in\", \"LW_IN.wp\", \"VPD\", \"air_temp\", \"PET\", \"wind_speed\", \"wp_LST.day\",\n",
    "             \"wp_LST.night\", \"wp_evi\", \"wp_ndvi\", \"wp_lswi2\", \"wp_RNET\", \"wp_gpp\", \"p-pet\", \"p-et\"]\n",
    "X, Y = exp.featurize(df, train_cols, [\"wp_ch4_gf\"])\n",
    "X, Y, scaler = r.preprocess(X, Y)\n",
    "X.shape"
   ]
  },
  {
   "cell_type": "code",
   "execution_count": 5,
   "metadata": {
    "collapsed": false
   },
   "outputs": [
    {
     "name": "stdout",
     "output_type": "stream",
     "text": [
      "Running Random Forests Cross Validation...\n",
      "10-fold CV Acc Mean:  0.912403436125\n",
      "CV Scores:  0.900804147618, 0.910942498597, 0.900552542421, 0.934174460093, 0.933460872783, 0.919591724698, 0.903588103569, 0.906948065467, 0.893855619911, 0.92011632609\n",
      "OOB score: 0.92009354719\n",
      "Feature Importances:\n",
      "('wp_evi', 0.19260149695000217)\n",
      "('wp_lswi2', 0.17331400073983796)\n",
      "('wp_ndvi', 0.13250351008033617)\n",
      "('wp_LST.night', 0.10922386654544622)\n",
      "('wp_gpp', 0.087022760422156509)\n",
      "('air_temp', 0.054757976452367213)\n",
      "('wp_LST.day', 0.045155730168932706)\n",
      "('p-et', 0.043047756403666836)\n",
      "('wp_RNET', 0.032453476837591963)\n",
      "('wind_speed', 0.0293745034195491)\n",
      "('p-pet', 0.028504575517176337)\n",
      "('sw_in', 0.024775120561778538)\n",
      "('PET', 0.019003048205215353)\n",
      "('VPD', 0.015980313436074669)\n",
      "('LW_IN.wp', 0.01137324462385636)\n",
      "('precip', 0.00090861963601216757)\n"
     ]
    },
    {
     "data": {
      "text/plain": [
       "RandomForestRegressor(bootstrap=True, criterion='mse', max_depth=None,\n",
       "           max_features='sqrt', max_leaf_nodes=None, min_samples_leaf=1,\n",
       "           min_samples_split=2, min_weight_fraction_leaf=0.0,\n",
       "           n_estimators=200, n_jobs=1, oob_score=True, random_state=None,\n",
       "           verbose=0, warm_start=False)"
      ]
     },
     "execution_count": 5,
     "metadata": {},
     "output_type": "execute_result"
    }
   ],
   "source": [
    "r.random_forests_cross_val(X, Y, feature_names=train_cols)"
   ]
  },
  {
   "cell_type": "code",
   "execution_count": 6,
   "metadata": {
    "collapsed": false
   },
   "outputs": [
    {
     "name": "stdout",
     "output_type": "stream",
     "text": [
      "Running Gradient Boosted Trees Cross Validation...\n",
      "10-fold CV Acc Mean:  0.903639143828\n",
      "CV Scores:  0.89912600702, 0.902062120996, 0.913623065874, 0.922881655011, 0.911402497044, 0.905406354634, 0.880720922689, 0.895411715567, 0.900345117402, 0.905411982047\n",
      "Feature Importances:\n",
      "('wp_lswi2', 0.1196434827065867)\n",
      "('wp_LST.night', 0.11269983631198179)\n",
      "('wp_gpp', 0.10352795782210351)\n",
      "('wp_evi', 0.089494024506626815)\n",
      "('wp_ndvi', 0.087498204712193425)\n",
      "('wp_LST.day', 0.069295274413217728)\n",
      "('VPD', 0.064872004218676699)\n",
      "('wind_speed', 0.057034837248252916)\n",
      "('p-et', 0.055834987437763814)\n",
      "('sw_in', 0.045929250827028659)\n",
      "('air_temp', 0.042453678296073799)\n",
      "('wp_RNET', 0.040512598191107058)\n",
      "('LW_IN.wp', 0.038305262440076218)\n",
      "('PET', 0.035527001859900278)\n",
      "('p-pet', 0.033294880738045166)\n",
      "('precip', 0.0040767182703654072)\n"
     ]
    },
    {
     "data": {
      "text/plain": [
       "GradientBoostingRegressor(alpha=0.9, init=None, learning_rate=0.1, loss='ls',\n",
       "             max_depth=3, max_features='sqrt', max_leaf_nodes=None,\n",
       "             min_samples_leaf=1, min_samples_split=2,\n",
       "             min_weight_fraction_leaf=0.0, n_estimators=200,\n",
       "             presort='auto', random_state=None, subsample=1.0, verbose=0,\n",
       "             warm_start=False)"
      ]
     },
     "execution_count": 6,
     "metadata": {},
     "output_type": "execute_result"
    }
   ],
   "source": [
    "r.xgb_trees_cross_val(X, Y, feature_names=train_cols)"
   ]
  },
  {
   "cell_type": "code",
   "execution_count": 7,
   "metadata": {
    "collapsed": false
   },
   "outputs": [
    {
     "name": "stdout",
     "output_type": "stream",
     "text": [
      "Running SVC Cross Validation...\n",
      "10-fold CV Acc Mean:  0.119894544778\n",
      "CV Scores:  0.118900035978, 0.175663506056, 0.135286279469, 0.0638738232421, 0.14358958002, 0.0949091591104, 0.193898877611, 0.126149845873, 0.137464080958, 0.00921025946685\n"
     ]
    },
    {
     "data": {
      "text/plain": [
       "SVR(C=1.0, cache_size=200, coef0=0.0, degree=3, epsilon=0.1, gamma='auto',\n",
       "  kernel='rbf', max_iter=-1, shrinking=True, tol=0.001, verbose=False)"
      ]
     },
     "execution_count": 7,
     "metadata": {},
     "output_type": "execute_result"
    }
   ],
   "source": [
    "r.svc_cross_val(X, Y)"
   ]
  },
  {
   "cell_type": "code",
   "execution_count": 8,
   "metadata": {
    "collapsed": false
   },
   "outputs": [
    {
     "name": "stdout",
     "output_type": "stream",
     "text": [
      "Running Neural Network Cross Validation...\n",
      "Step #1, avg. loss: 1578644.50000\n",
      "Step #1001, epoch #100, avg. loss: 304176.90625\n",
      "Step #2001, epoch #200, avg. loss: 85640.81250\n",
      "Step #3001, epoch #300, avg. loss: 46115.69531\n",
      "Step #4001, epoch #400, avg. loss: 27882.35352\n",
      "Step #5001, epoch #500, avg. loss: 18918.15430\n",
      "Step #6001, epoch #600, avg. loss: 13901.17090\n",
      "Step #7001, epoch #700, avg. loss: 11007.00293\n",
      "Step #8001, epoch #800, avg. loss: 9121.14648\n",
      "Step #9001, epoch #900, avg. loss: 7309.74463\n",
      "Step #1, avg. loss: 1418241.50000\n",
      "Step #1001, epoch #100, avg. loss: 289625.81250\n",
      "Step #2001, epoch #200, avg. loss: 83488.54688\n",
      "Step #3001, epoch #300, avg. loss: 46471.83203\n",
      "Step #4001, epoch #400, avg. loss: 29278.96484\n",
      "Step #5001, epoch #500, avg. loss: 19886.13281\n",
      "Step #6001, epoch #600, avg. loss: 14146.14844\n",
      "Step #7001, epoch #700, avg. loss: 11041.96094\n",
      "Step #8001, epoch #800, avg. loss: 8713.40918\n",
      "Step #9001, epoch #900, avg. loss: 7493.98389\n",
      "Step #1, avg. loss: 1165988.75000\n",
      "Step #1001, epoch #100, avg. loss: 292164.37500\n",
      "Step #2001, epoch #200, avg. loss: 82085.84375\n",
      "Step #3001, epoch #300, avg. loss: 44865.48047\n",
      "Step #4001, epoch #400, avg. loss: 28987.82031\n",
      "Step #5001, epoch #500, avg. loss: 19753.57617\n",
      "Step #6001, epoch #600, avg. loss: 13609.96680\n",
      "Step #7001, epoch #700, avg. loss: 10358.86914\n",
      "Step #8001, epoch #800, avg. loss: 7854.09961\n",
      "Step #9001, epoch #900, avg. loss: 6070.50879\n",
      "Step #1, avg. loss: 1657161.25000\n",
      "Step #1001, epoch #100, avg. loss: 282885.50000\n",
      "Step #2001, epoch #200, avg. loss: 75172.27344\n",
      "Step #3001, epoch #300, avg. loss: 41933.41016\n",
      "Step #4001, epoch #400, avg. loss: 27282.86328\n",
      "Step #5001, epoch #500, avg. loss: 18687.22656\n",
      "Step #6001, epoch #600, avg. loss: 13259.77734\n",
      "Step #7001, epoch #700, avg. loss: 9992.57422\n",
      "Step #8001, epoch #800, avg. loss: 7993.02832\n",
      "Step #9001, epoch #900, avg. loss: 6557.17676\n",
      "Step #1, avg. loss: 1159457.50000\n",
      "Step #1001, epoch #100, avg. loss: 289243.84375\n",
      "Step #2001, epoch #200, avg. loss: 80423.17188\n",
      "Step #3001, epoch #300, avg. loss: 45207.96484\n",
      "Step #4001, epoch #400, avg. loss: 29278.78320\n",
      "Step #5001, epoch #500, avg. loss: 20788.04883\n",
      "Step #6001, epoch #600, avg. loss: 15428.19922\n",
      "Step #7001, epoch #700, avg. loss: 11641.79785\n",
      "Step #8001, epoch #800, avg. loss: 8509.04883\n",
      "Step #9001, epoch #900, avg. loss: 6759.81055\n",
      "Step #1, avg. loss: 1534936.37500\n",
      "Step #1001, epoch #100, avg. loss: 294469.12500\n",
      "Step #2001, epoch #200, avg. loss: 78709.26562\n",
      "Step #3001, epoch #300, avg. loss: 41790.35938\n",
      "Step #4001, epoch #400, avg. loss: 25509.81641\n",
      "Step #5001, epoch #500, avg. loss: 16915.08008\n",
      "Step #6001, epoch #600, avg. loss: 12408.87598\n",
      "Step #7001, epoch #700, avg. loss: 9693.30762\n",
      "Step #8001, epoch #800, avg. loss: 7938.46094\n",
      "Step #9001, epoch #900, avg. loss: 6828.24609\n",
      "Step #1, avg. loss: 1312306.25000\n",
      "Step #1001, epoch #100, avg. loss: 294282.25000\n",
      "Step #2001, epoch #200, avg. loss: 82628.80469\n",
      "Step #3001, epoch #300, avg. loss: 43065.43359\n",
      "Step #4001, epoch #400, avg. loss: 25773.53125\n",
      "Step #5001, epoch #500, avg. loss: 17731.49609\n",
      "Step #6001, epoch #600, avg. loss: 13011.47656\n",
      "Step #7001, epoch #700, avg. loss: 9769.79004\n",
      "Step #8001, epoch #800, avg. loss: 7579.43701\n",
      "Step #9001, epoch #900, avg. loss: 6129.43799\n",
      "Step #1, avg. loss: 1279630.12500\n",
      "Step #1001, epoch #100, avg. loss: 292878.25000\n",
      "Step #2001, epoch #200, avg. loss: 82792.10938\n",
      "Step #3001, epoch #300, avg. loss: 41860.44141\n",
      "Step #4001, epoch #400, avg. loss: 25007.28320\n",
      "Step #5001, epoch #500, avg. loss: 16518.03906\n",
      "Step #6001, epoch #600, avg. loss: 11807.72363\n",
      "Step #7001, epoch #700, avg. loss: 9262.80957\n",
      "Step #8001, epoch #800, avg. loss: 7135.95312\n",
      "Step #9001, epoch #900, avg. loss: 5961.56104\n",
      "Step #1, avg. loss: 1352823.25000\n",
      "Step #1001, epoch #100, avg. loss: 298718.65625\n",
      "Step #2001, epoch #200, avg. loss: 80785.55469\n",
      "Step #3001, epoch #300, avg. loss: 43822.94531\n",
      "Step #4001, epoch #400, avg. loss: 27933.81641\n",
      "Step #5001, epoch #500, avg. loss: 18587.47266\n",
      "Step #6001, epoch #600, avg. loss: 13296.21875\n",
      "Step #7001, epoch #700, avg. loss: 10061.52734\n",
      "Step #8001, epoch #800, avg. loss: 7885.15723\n",
      "Step #9001, epoch #900, avg. loss: 6355.99609\n",
      "Step #1, avg. loss: 1124995.87500\n",
      "Step #1001, epoch #100, avg. loss: 297626.34375\n",
      "Step #2001, epoch #200, avg. loss: 85795.27344\n",
      "Step #3001, epoch #300, avg. loss: 46108.51562\n",
      "Step #4001, epoch #400, avg. loss: 28450.58789\n",
      "Step #5001, epoch #500, avg. loss: 18626.89453\n",
      "Step #6001, epoch #600, avg. loss: 13365.04590\n",
      "Step #7001, epoch #700, avg. loss: 10080.19336\n",
      "Step #8001, epoch #800, avg. loss: 7779.30664\n",
      "Step #9001, epoch #900, avg. loss: 6211.16260\n",
      "10-fold CV Acc Mean:  0.860273321262\n",
      "CV Scores:  0.821026812184, 0.944812391232, 0.850921710085, 0.84371293007, 0.882742489896, 0.855818189143, 0.790680337872, 0.820077362847, 0.918791354993, 0.874149634299\n"
     ]
    },
    {
     "data": {
      "text/plain": [
       "TensorFlowEstimator(batch_size=100, class_weight=None,\n",
       "          continue_training=False, early_stopping_rounds=None,\n",
       "          keep_checkpoint_every_n_hours=10000, learning_rate=0.2,\n",
       "          max_to_keep=5, model_fn=<function tanh_dnn at 0x10b319f50>,\n",
       "          n_classes=0, num_cores=4, optimizer='SGD', steps=10000,\n",
       "          tf_master='', tf_random_seed=42, verbose=1)"
      ]
     },
     "execution_count": 8,
     "metadata": {},
     "output_type": "execute_result"
    }
   ],
   "source": [
    "r.dnn_cross_val(X, Y, regr=r.dnn(nn_steps=10000, nn_lr=0.2, hidden_units=[50, 50]), k=10)"
   ]
  },
  {
   "cell_type": "code",
   "execution_count": null,
   "metadata": {
    "collapsed": true
   },
   "outputs": [],
   "source": []
  }
 ],
 "metadata": {
  "kernelspec": {
   "display_name": "Python 2",
   "language": "python",
   "name": "python2"
  },
  "language_info": {
   "codemirror_mode": {
    "name": "ipython",
    "version": 2
   },
   "file_extension": ".py",
   "mimetype": "text/x-python",
   "name": "python",
   "nbconvert_exporter": "python",
   "pygments_lexer": "ipython2",
   "version": "2.7.11"
  }
 },
 "nbformat": 4,
 "nbformat_minor": 0
}
