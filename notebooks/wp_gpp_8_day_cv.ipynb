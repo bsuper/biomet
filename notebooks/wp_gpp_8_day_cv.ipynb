{
 "cells": [
  {
   "cell_type": "code",
   "execution_count": 1,
   "metadata": {
    "collapsed": false
   },
   "outputs": [],
   "source": [
    "import sys\n",
    "sys.path.append('../')\n",
    "import exp\n",
    "import regression as r"
   ]
  },
  {
   "cell_type": "code",
   "execution_count": 2,
   "metadata": {
    "collapsed": false
   },
   "outputs": [
    {
     "data": {
      "text/html": [
       "<div>\n",
       "<table border=\"1\" class=\"dataframe\">\n",
       "  <thead>\n",
       "    <tr style=\"text-align: right;\">\n",
       "      <th></th>\n",
       "      <th>PET</th>\n",
       "      <th>VPD</th>\n",
       "      <th>air_temp</th>\n",
       "      <th>doy</th>\n",
       "      <th>precip</th>\n",
       "      <th>soil_temp</th>\n",
       "      <th>sw_in</th>\n",
       "      <th>wind_speed</th>\n",
       "      <th>year</th>\n",
       "      <th>wp_RNET</th>\n",
       "      <th>...</th>\n",
       "      <th>wp_bnd3</th>\n",
       "      <th>wp_bnd7</th>\n",
       "      <th>wp_evi</th>\n",
       "      <th>wp_lswi2</th>\n",
       "      <th>wp_ndvi</th>\n",
       "      <th>wp_LST.day</th>\n",
       "      <th>wp_LST.night</th>\n",
       "      <th>LW_IN.wp</th>\n",
       "      <th>LW_IN.si</th>\n",
       "      <th>LW_IN</th>\n",
       "    </tr>\n",
       "  </thead>\n",
       "  <tbody>\n",
       "    <tr>\n",
       "      <th>0</th>\n",
       "      <td>7.33</td>\n",
       "      <td>0.808731</td>\n",
       "      <td>19.179167</td>\n",
       "      <td>195</td>\n",
       "      <td>0.0</td>\n",
       "      <td>22.320833</td>\n",
       "      <td>30.3156</td>\n",
       "      <td>4.958333</td>\n",
       "      <td>2012</td>\n",
       "      <td>20.798342</td>\n",
       "      <td>...</td>\n",
       "      <td>0.032962</td>\n",
       "      <td>0.136763</td>\n",
       "      <td>0.396594</td>\n",
       "      <td>0.353988</td>\n",
       "      <td>0.641934</td>\n",
       "      <td>31.567899</td>\n",
       "      <td>17.204530</td>\n",
       "      <td>29.105844</td>\n",
       "      <td>24.562860</td>\n",
       "      <td>29.105844</td>\n",
       "    </tr>\n",
       "    <tr>\n",
       "      <th>1</th>\n",
       "      <td>6.52</td>\n",
       "      <td>0.755945</td>\n",
       "      <td>19.325000</td>\n",
       "      <td>196</td>\n",
       "      <td>0.0</td>\n",
       "      <td>21.770833</td>\n",
       "      <td>29.6316</td>\n",
       "      <td>3.791667</td>\n",
       "      <td>2012</td>\n",
       "      <td>20.573593</td>\n",
       "      <td>...</td>\n",
       "      <td>0.032200</td>\n",
       "      <td>0.131800</td>\n",
       "      <td>0.407211</td>\n",
       "      <td>0.376832</td>\n",
       "      <td>0.654545</td>\n",
       "      <td>29.570000</td>\n",
       "      <td>17.390000</td>\n",
       "      <td>29.760736</td>\n",
       "      <td>26.096551</td>\n",
       "      <td>29.760736</td>\n",
       "    </tr>\n",
       "    <tr>\n",
       "      <th>2</th>\n",
       "      <td>6.92</td>\n",
       "      <td>0.858993</td>\n",
       "      <td>20.262500</td>\n",
       "      <td>197</td>\n",
       "      <td>0.0</td>\n",
       "      <td>21.908333</td>\n",
       "      <td>29.3472</td>\n",
       "      <td>4.137500</td>\n",
       "      <td>2012</td>\n",
       "      <td>20.475931</td>\n",
       "      <td>...</td>\n",
       "      <td>0.031425</td>\n",
       "      <td>0.128250</td>\n",
       "      <td>0.416158</td>\n",
       "      <td>0.394189</td>\n",
       "      <td>0.664269</td>\n",
       "      <td>31.097908</td>\n",
       "      <td>17.235624</td>\n",
       "      <td>30.299442</td>\n",
       "      <td>25.986418</td>\n",
       "      <td>30.299442</td>\n",
       "    </tr>\n",
       "    <tr>\n",
       "      <th>3</th>\n",
       "      <td>6.35</td>\n",
       "      <td>0.477617</td>\n",
       "      <td>16.791667</td>\n",
       "      <td>198</td>\n",
       "      <td>0.0</td>\n",
       "      <td>22.420833</td>\n",
       "      <td>28.8180</td>\n",
       "      <td>6.033333</td>\n",
       "      <td>2012</td>\n",
       "      <td>20.571045</td>\n",
       "      <td>...</td>\n",
       "      <td>0.030650</td>\n",
       "      <td>0.124700</td>\n",
       "      <td>0.425106</td>\n",
       "      <td>0.411547</td>\n",
       "      <td>0.673993</td>\n",
       "      <td>30.868718</td>\n",
       "      <td>17.248525</td>\n",
       "      <td>28.978868</td>\n",
       "      <td>25.122209</td>\n",
       "      <td>28.978868</td>\n",
       "    </tr>\n",
       "    <tr>\n",
       "      <th>4</th>\n",
       "      <td>5.13</td>\n",
       "      <td>0.556820</td>\n",
       "      <td>17.016667</td>\n",
       "      <td>199</td>\n",
       "      <td>0.0</td>\n",
       "      <td>21.529167</td>\n",
       "      <td>23.1732</td>\n",
       "      <td>4.350000</td>\n",
       "      <td>2012</td>\n",
       "      <td>16.757401</td>\n",
       "      <td>...</td>\n",
       "      <td>0.029875</td>\n",
       "      <td>0.121150</td>\n",
       "      <td>0.434053</td>\n",
       "      <td>0.428904</td>\n",
       "      <td>0.683716</td>\n",
       "      <td>30.657792</td>\n",
       "      <td>17.259663</td>\n",
       "      <td>30.653667</td>\n",
       "      <td>27.830367</td>\n",
       "      <td>30.653667</td>\n",
       "    </tr>\n",
       "  </tbody>\n",
       "</table>\n",
       "<p>5 rows × 28 columns</p>\n",
       "</div>"
      ],
      "text/plain": [
       "    PET       VPD   air_temp  doy  precip  soil_temp    sw_in  wind_speed  \\\n",
       "0  7.33  0.808731  19.179167  195     0.0  22.320833  30.3156    4.958333   \n",
       "1  6.52  0.755945  19.325000  196     0.0  21.770833  29.6316    3.791667   \n",
       "2  6.92  0.858993  20.262500  197     0.0  21.908333  29.3472    4.137500   \n",
       "3  6.35  0.477617  16.791667  198     0.0  22.420833  28.8180    6.033333   \n",
       "4  5.13  0.556820  17.016667  199     0.0  21.529167  23.1732    4.350000   \n",
       "\n",
       "   year    wp_RNET    ...       wp_bnd3   wp_bnd7    wp_evi  wp_lswi2  \\\n",
       "0  2012  20.798342    ...      0.032962  0.136763  0.396594  0.353988   \n",
       "1  2012  20.573593    ...      0.032200  0.131800  0.407211  0.376832   \n",
       "2  2012  20.475931    ...      0.031425  0.128250  0.416158  0.394189   \n",
       "3  2012  20.571045    ...      0.030650  0.124700  0.425106  0.411547   \n",
       "4  2012  16.757401    ...      0.029875  0.121150  0.434053  0.428904   \n",
       "\n",
       "    wp_ndvi  wp_LST.day  wp_LST.night   LW_IN.wp   LW_IN.si      LW_IN  \n",
       "0  0.641934   31.567899     17.204530  29.105844  24.562860  29.105844  \n",
       "1  0.654545   29.570000     17.390000  29.760736  26.096551  29.760736  \n",
       "2  0.664269   31.097908     17.235624  30.299442  25.986418  30.299442  \n",
       "3  0.673993   30.868718     17.248525  28.978868  25.122209  28.978868  \n",
       "4  0.683716   30.657792     17.259663  30.653667  27.830367  30.653667  \n",
       "\n",
       "[5 rows x 28 columns]"
      ]
     },
     "execution_count": 2,
     "metadata": {},
     "output_type": "execute_result"
    }
   ],
   "source": [
    "df = exp.get_wp_energy_data_8_day()\n",
    "df.head()"
   ]
  },
  {
   "cell_type": "code",
   "execution_count": 3,
   "metadata": {
    "collapsed": false
   },
   "outputs": [
    {
     "name": "stdout",
     "output_type": "stream",
     "text": [
      "<class 'pandas.core.frame.DataFrame'>\n",
      "Int64Index: 1030 entries, 0 to 1029\n",
      "Data columns (total 28 columns):\n",
      "PET             1030 non-null float64\n",
      "VPD             1030 non-null float64\n",
      "air_temp        1030 non-null float64\n",
      "doy             1030 non-null int64\n",
      "precip          1030 non-null float64\n",
      "soil_temp       1030 non-null float64\n",
      "sw_in           1030 non-null float64\n",
      "wind_speed      1030 non-null float64\n",
      "year            1030 non-null int64\n",
      "wp_RNET         1030 non-null float64\n",
      "wp_ch4_gf       1030 non-null float64\n",
      "wp_co2_gf       1030 non-null float64\n",
      "wp_er           1030 non-null float64\n",
      "wp_gpp          1030 non-null float64\n",
      "wp_h            1030 non-null float64\n",
      "wp_le           1030 non-null float64\n",
      "wp_bnd1         1030 non-null float64\n",
      "wp_bnd2         1030 non-null float64\n",
      "wp_bnd3         1030 non-null float64\n",
      "wp_bnd7         1030 non-null float64\n",
      "wp_evi          1030 non-null float64\n",
      "wp_lswi2        1030 non-null float64\n",
      "wp_ndvi         1030 non-null float64\n",
      "wp_LST.day      1030 non-null float64\n",
      "wp_LST.night    1030 non-null float64\n",
      "LW_IN.wp        1030 non-null float64\n",
      "LW_IN.si        1030 non-null float64\n",
      "LW_IN           1030 non-null float64\n",
      "dtypes: float64(26), int64(2)\n",
      "memory usage: 233.4 KB\n"
     ]
    }
   ],
   "source": [
    "df.info()"
   ]
  },
  {
   "cell_type": "code",
   "execution_count": 4,
   "metadata": {
    "collapsed": false
   },
   "outputs": [
    {
     "data": {
      "text/plain": [
       "(1030, 12)"
      ]
     },
     "execution_count": 4,
     "metadata": {},
     "output_type": "execute_result"
    }
   ],
   "source": [
    "train_cols = [\"precip\", \"sw_in\", \"LW_IN.wp\", \"VPD\", \"air_temp\", \"PET\", \"wind_speed\", \"wp_LST.day\",\n",
    "             \"wp_LST.night\", \"wp_evi\", \"wp_ndvi\", \"wp_lswi2\"]\n",
    "X, Y = exp.featurize(df, train_cols, [\"wp_gpp\"])\n",
    "X, Y, scaler = r.preprocess(X, Y)\n",
    "X.shape"
   ]
  },
  {
   "cell_type": "code",
   "execution_count": 5,
   "metadata": {
    "collapsed": false
   },
   "outputs": [
    {
     "name": "stdout",
     "output_type": "stream",
     "text": [
      "Running Random Forests Cross Validation...\n",
      "10-fold CV Acc Mean:  0.976298573805\n",
      "CV Scores:  0.983980569247, 0.976848228394, 0.975041902955, 0.976051526692, 0.979015228842, 0.979439658373, 0.966017997086, 0.976139234758, 0.980050563388, 0.970400828317\n",
      "OOB score: 0.977155575437\n",
      "Feature Importances:\n",
      "('wp_LST.night', 0.30423218672623376)\n",
      "('air_temp', 0.19060939719765163)\n",
      "('wp_LST.day', 0.14650224559044994)\n",
      "('PET', 0.094189026420581107)\n",
      "('sw_in', 0.05664226226575713)\n",
      "('VPD', 0.053707174788686453)\n",
      "('LW_IN.wp', 0.04511500403994613)\n",
      "('wp_evi', 0.044516321763418139)\n",
      "('wp_ndvi', 0.028261988806870475)\n",
      "('wp_lswi2', 0.024612223684124995)\n",
      "('wind_speed', 0.010097111706209656)\n",
      "('precip', 0.0015150570100705457)\n"
     ]
    },
    {
     "data": {
      "text/plain": [
       "RandomForestRegressor(bootstrap=True, criterion='mse', max_depth=None,\n",
       "           max_features='sqrt', max_leaf_nodes=None, min_samples_leaf=1,\n",
       "           min_samples_split=2, min_weight_fraction_leaf=0.0,\n",
       "           n_estimators=200, n_jobs=1, oob_score=True, random_state=None,\n",
       "           verbose=0, warm_start=False)"
      ]
     },
     "execution_count": 5,
     "metadata": {},
     "output_type": "execute_result"
    }
   ],
   "source": [
    "r.random_forests_cross_val(X, Y, feature_names=train_cols)"
   ]
  },
  {
   "cell_type": "code",
   "execution_count": 6,
   "metadata": {
    "collapsed": false
   },
   "outputs": [
    {
     "name": "stdout",
     "output_type": "stream",
     "text": [
      "Running Gradient Boosted Trees Cross Validation...\n",
      "10-fold CV Acc Mean:  0.974484577702\n",
      "CV Scores:  0.987250822283, 0.974524172317, 0.975500426108, 0.982190450787, 0.972524441373, 0.969287235221, 0.961229878077, 0.971599235073, 0.980149133477, 0.970589982303\n",
      "Feature Importances:\n",
      "('wp_LST.night', 0.17368933851044893)\n",
      "('wp_evi', 0.16092089795902528)\n",
      "('wp_LST.day', 0.11855407906282255)\n",
      "('wp_lswi2', 0.10646571755631942)\n",
      "('wp_ndvi', 0.07721132441622866)\n",
      "('air_temp', 0.066428552485865253)\n",
      "('LW_IN.wp', 0.063669743892705868)\n",
      "('VPD', 0.062389477880498444)\n",
      "('sw_in', 0.060129902855892627)\n",
      "('wind_speed', 0.053827836534783839)\n",
      "('PET', 0.049797498110022681)\n",
      "('precip', 0.0069156307353865432)\n"
     ]
    },
    {
     "data": {
      "text/plain": [
       "GradientBoostingRegressor(alpha=0.9, init=None, learning_rate=0.1, loss='ls',\n",
       "             max_depth=3, max_features='sqrt', max_leaf_nodes=None,\n",
       "             min_samples_leaf=1, min_samples_split=2,\n",
       "             min_weight_fraction_leaf=0.0, n_estimators=200,\n",
       "             presort='auto', random_state=None, subsample=1.0, verbose=0,\n",
       "             warm_start=False)"
      ]
     },
     "execution_count": 6,
     "metadata": {},
     "output_type": "execute_result"
    }
   ],
   "source": [
    "r.xgb_trees_cross_val(X, Y, feature_names=train_cols)"
   ]
  },
  {
   "cell_type": "code",
   "execution_count": 7,
   "metadata": {
    "collapsed": false
   },
   "outputs": [
    {
     "name": "stdout",
     "output_type": "stream",
     "text": [
      "Running SVC Cross Validation...\n",
      "10-fold CV Acc Mean:  0.836637092578\n",
      "CV Scores:  0.877525613692, 0.858870701148, 0.803344667378, 0.813846820106, 0.848901487975, 0.844427546556, 0.804636358155, 0.808175702082, 0.866880185926, 0.839761842763\n"
     ]
    },
    {
     "data": {
      "text/plain": [
       "SVR(C=1.0, cache_size=200, coef0=0.0, degree=3, epsilon=0.1, gamma='auto',\n",
       "  kernel='rbf', max_iter=-1, shrinking=True, tol=0.001, verbose=False)"
      ]
     },
     "execution_count": 7,
     "metadata": {},
     "output_type": "execute_result"
    }
   ],
   "source": [
    "r.svc_cross_val(X, Y)"
   ]
  },
  {
   "cell_type": "code",
   "execution_count": 8,
   "metadata": {
    "collapsed": false
   },
   "outputs": [
    {
     "name": "stdout",
     "output_type": "stream",
     "text": [
      "Running Neural Network Cross Validation...\n",
      "Step #1, avg. loss: 2634.96875\n",
      "Step #501, epoch #50, avg. loss: 128.37437\n",
      "Step #1001, epoch #100, avg. loss: 17.23398\n",
      "Step #1501, epoch #150, avg. loss: 10.85658\n",
      "Step #2001, epoch #200, avg. loss: 8.14879\n",
      "Step #2501, epoch #250, avg. loss: 6.65521\n",
      "Step #3001, epoch #300, avg. loss: 5.55305\n",
      "Step #3501, epoch #350, avg. loss: 4.76765\n",
      "Step #4001, epoch #400, avg. loss: 4.16136\n",
      "Step #4501, epoch #450, avg. loss: 3.68826\n",
      "Step #1, avg. loss: 2708.00903\n",
      "Step #501, epoch #50, avg. loss: 129.72310\n",
      "Step #1001, epoch #100, avg. loss: 16.97992\n",
      "Step #1501, epoch #150, avg. loss: 10.57328\n",
      "Step #2001, epoch #200, avg. loss: 7.79752\n",
      "Step #2501, epoch #250, avg. loss: 6.20455\n",
      "Step #3001, epoch #300, avg. loss: 5.19628\n",
      "Step #3501, epoch #350, avg. loss: 4.38987\n",
      "Step #4001, epoch #400, avg. loss: 3.95249\n",
      "Step #4501, epoch #450, avg. loss: 3.56524\n",
      "Step #1, avg. loss: 2595.48438\n",
      "Step #501, epoch #50, avg. loss: 127.43584\n",
      "Step #1001, epoch #100, avg. loss: 15.89498\n",
      "Step #1501, epoch #150, avg. loss: 10.34413\n",
      "Step #2001, epoch #200, avg. loss: 8.19358\n",
      "Step #2501, epoch #250, avg. loss: 6.55957\n",
      "Step #3001, epoch #300, avg. loss: 5.38732\n",
      "Step #3501, epoch #350, avg. loss: 4.70081\n",
      "Step #4001, epoch #400, avg. loss: 4.08310\n",
      "Step #4501, epoch #450, avg. loss: 3.63301\n",
      "Step #1, avg. loss: 2459.11816\n",
      "Step #501, epoch #50, avg. loss: 126.64695\n",
      "Step #1001, epoch #100, avg. loss: 17.06011\n",
      "Step #1501, epoch #150, avg. loss: 10.85536\n",
      "Step #2001, epoch #200, avg. loss: 8.14379\n",
      "Step #2501, epoch #250, avg. loss: 6.35587\n",
      "Step #3001, epoch #300, avg. loss: 5.30372\n",
      "Step #3501, epoch #350, avg. loss: 4.53308\n",
      "Step #4001, epoch #400, avg. loss: 4.03424\n",
      "Step #4501, epoch #450, avg. loss: 3.72996\n",
      "Step #1, avg. loss: 2415.89600\n",
      "Step #501, epoch #50, avg. loss: 128.11130\n",
      "Step #1001, epoch #100, avg. loss: 16.86976\n",
      "Step #1501, epoch #150, avg. loss: 10.60431\n",
      "Step #2001, epoch #200, avg. loss: 7.92334\n",
      "Step #2501, epoch #250, avg. loss: 6.21126\n",
      "Step #3001, epoch #300, avg. loss: 5.06823\n",
      "Step #3501, epoch #350, avg. loss: 4.35837\n",
      "Step #4001, epoch #400, avg. loss: 3.92076\n",
      "Step #4501, epoch #450, avg. loss: 3.56104\n",
      "Step #1, avg. loss: 2873.99365\n",
      "Step #501, epoch #50, avg. loss: 129.46533\n",
      "Step #1001, epoch #100, avg. loss: 16.95850\n",
      "Step #1501, epoch #150, avg. loss: 10.68678\n",
      "Step #2001, epoch #200, avg. loss: 7.82280\n",
      "Step #2501, epoch #250, avg. loss: 6.05622\n",
      "Step #3001, epoch #300, avg. loss: 5.10910\n",
      "Step #3501, epoch #350, avg. loss: 4.39390\n",
      "Step #4001, epoch #400, avg. loss: 3.82816\n",
      "Step #4501, epoch #450, avg. loss: 3.49010\n",
      "Step #1, avg. loss: 2317.93042\n",
      "Step #501, epoch #50, avg. loss: 127.77422\n",
      "Step #1001, epoch #100, avg. loss: 17.02396\n",
      "Step #1501, epoch #150, avg. loss: 10.56637\n",
      "Step #2001, epoch #200, avg. loss: 7.56516\n",
      "Step #2501, epoch #250, avg. loss: 6.06288\n",
      "Step #3001, epoch #300, avg. loss: 5.07902\n",
      "Step #3501, epoch #350, avg. loss: 4.43215\n",
      "Step #4001, epoch #400, avg. loss: 3.92740\n",
      "Step #4501, epoch #450, avg. loss: 3.49821\n",
      "Step #1, avg. loss: 2470.80811\n",
      "Step #501, epoch #50, avg. loss: 127.93530\n",
      "Step #1001, epoch #100, avg. loss: 17.00880\n",
      "Step #1501, epoch #150, avg. loss: 10.64544\n",
      "Step #2001, epoch #200, avg. loss: 7.85658\n",
      "Step #2501, epoch #250, avg. loss: 6.34158\n",
      "Step #3001, epoch #300, avg. loss: 5.44145\n",
      "Step #3501, epoch #350, avg. loss: 4.79661\n",
      "Step #4001, epoch #400, avg. loss: 4.20855\n",
      "Step #4501, epoch #450, avg. loss: 3.93792\n",
      "Step #1, avg. loss: 2497.61182\n",
      "Step #501, epoch #50, avg. loss: 129.66028\n",
      "Step #1001, epoch #100, avg. loss: 16.50212\n",
      "Step #1501, epoch #150, avg. loss: 10.10762\n",
      "Step #2001, epoch #200, avg. loss: 7.02895\n",
      "Step #2501, epoch #250, avg. loss: 5.41640\n",
      "Step #3001, epoch #300, avg. loss: 4.44009\n",
      "Step #3501, epoch #350, avg. loss: 3.73321\n",
      "Step #4001, epoch #400, avg. loss: 3.29469\n",
      "Step #4501, epoch #450, avg. loss: 2.98699\n",
      "Step #1, avg. loss: 2180.10474\n",
      "Step #501, epoch #50, avg. loss: 128.00807\n",
      "Step #1001, epoch #100, avg. loss: 17.09566\n",
      "Step #1501, epoch #150, avg. loss: 10.77177\n",
      "Step #2001, epoch #200, avg. loss: 8.08255\n",
      "Step #2501, epoch #250, avg. loss: 6.35122\n",
      "Step #3001, epoch #300, avg. loss: 5.20563\n",
      "Step #3501, epoch #350, avg. loss: 4.43532\n",
      "Step #4001, epoch #400, avg. loss: 3.95867\n",
      "Step #4501, epoch #450, avg. loss: 3.55134\n",
      "10-fold CV Acc Mean:  0.98037585664\n",
      "CV Scores:  0.976781316001, 0.985765594185, 0.977546605953, 0.980087225523, 0.987407084513, 0.96923590567, 0.977885454468, 0.980264150853, 0.982462344989, 0.986322884249\n"
     ]
    },
    {
     "data": {
      "text/plain": [
       "TensorFlowEstimator(batch_size=100, class_weight=None,\n",
       "          continue_training=False, early_stopping_rounds=None,\n",
       "          keep_checkpoint_every_n_hours=10000, learning_rate=0.1,\n",
       "          max_to_keep=5, model_fn=<function tanh_dnn at 0x11873fb18>,\n",
       "          n_classes=0, num_cores=4, optimizer='SGD', steps=5000,\n",
       "          tf_master='', tf_random_seed=42, verbose=1)"
      ]
     },
     "execution_count": 8,
     "metadata": {},
     "output_type": "execute_result"
    }
   ],
   "source": [
    "r.dnn_cross_val(X, Y)"
   ]
  },
  {
   "cell_type": "code",
   "execution_count": null,
   "metadata": {
    "collapsed": true
   },
   "outputs": [],
   "source": []
  }
 ],
 "metadata": {
  "kernelspec": {
   "display_name": "Python 2",
   "language": "python",
   "name": "python2"
  },
  "language_info": {
   "codemirror_mode": {
    "name": "ipython",
    "version": 2
   },
   "file_extension": ".py",
   "mimetype": "text/x-python",
   "name": "python",
   "nbconvert_exporter": "python",
   "pygments_lexer": "ipython2",
   "version": "2.7.11"
  }
 },
 "nbformat": 4,
 "nbformat_minor": 0
}
